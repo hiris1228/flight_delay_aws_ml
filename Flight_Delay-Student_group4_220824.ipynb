{
 "cells": [
  {
   "cell_type": "markdown",
   "metadata": {},
   "source": [
    "# Problem: Predicting Airplane Delays\n",
    "\n",
    "The multi-fold goals of this notebook are:\n",
    "- Process and create a dataset from downloaded ZIP files\n",
    "- Exploratory data analysis (EDA)\n",
    "- Establish a baseline model\n",
    "- Move from a simple model to an ensemble model\n",
    "- Hyperparameter optimization\n",
    "- Check feature importance\n",
    "\n",
    "## Introduction to business scenario\n",
    "You work for a travel booking website that is working to improve the customer experience for flights that were delayed. The company wants to create a feature to let customers know if the flight will be delayed due to weather when the customers are booking the flight to or from the busiest airports for domestic travel in the US. \n",
    "\n",
    "You are tasked with solving part of this problem by leveraging machine learning to identify whether the flight will be delayed due to weather. You have been given access to the a dataset of on-time performance of domestic flights operated by large air carriers. You can use this data to train a machine learning model to predict if the flight is going to be delayed for the busiest airports.\n",
    "\n",
    "## About this dataset\n",
    "This dataset contains scheduled and actual departure and arrival times reported by certified US air carriers that account for at least 1% of domestic scheduled passenger revenues. The data was collected by the Office of Airline Information, Bureau of Transportation Statistics (BTS). The dataset contains date, time, origin, destination, airline, distance, and delay status of flights for flights between 2013 and 2018.\n",
    "\n",
    "### Features\n",
    "For more information about features in the dataset, see [On-time delay dataset features](https://www.transtats.bts.gov/Fields.asp?gnoyr_VQ=FGJ).\n",
    "\n",
    "### Dataset attributions  \n",
    "\n",
    "Website: https://www.transtats.bts.gov/\n"
   ]
  },
  {
   "cell_type": "markdown",
   "metadata": {},
   "source": [
    "# Step 1: Problem formulation and data collection\n",
    "\n",
    "Start this project off by writing a few sentences below that summarize the business problem and the business goal you're trying to achieve in this scenario. Include a business metric you would like your team to aspire toward. With that information defined, clearly write out the machine learning problem statement. Finally, add a comment or two about the type of machine learning this represents. \n",
    "\n",
    "#### <span style=\"color: blue;\">Project presentation: Include a summary of these details in your project presentations.</span>\n",
    "\n",
    "### 1. Determine if and why ML is an appropriate solution to deploy."
   ]
  },
  {
   "cell_type": "code",
   "execution_count": null,
   "metadata": {},
   "outputs": [],
   "source": [
    "# Write your answer here"
   ]
  },
  {
   "cell_type": "markdown",
   "metadata": {},
   "source": [
    "### 2. Formulate the business problem, success metrics, and desired ML output."
   ]
  },
  {
   "cell_type": "code",
   "execution_count": null,
   "metadata": {},
   "outputs": [],
   "source": [
    "# Write your answer here"
   ]
  },
  {
   "cell_type": "markdown",
   "metadata": {},
   "source": [
    "### 3. Identify the type of ML problem you’re dealing with."
   ]
  },
  {
   "cell_type": "code",
   "execution_count": null,
   "metadata": {},
   "outputs": [],
   "source": [
    "# Write your answer here"
   ]
  },
  {
   "cell_type": "markdown",
   "metadata": {},
   "source": [
    "### 4. Analyze the appropriateness of the data you’re working with."
   ]
  },
  {
   "cell_type": "code",
   "execution_count": null,
   "metadata": {},
   "outputs": [],
   "source": [
    "# Write your answer here"
   ]
  },
  {
   "cell_type": "markdown",
   "metadata": {},
   "source": [
    "### Setup\n",
    "\n",
    "Now that we have decided where to focus our energy, let's set things up so you can start working on solving the problem.\n",
    "\n",
    "**Note:** This notebook was created and tested on an `ml.m4.xlarge` notebook instance. \n",
    "\n",
    "Replace **`<LabBucketName>`** with the resource name that was provided with your lab account."
   ]
  },
  {
   "cell_type": "code",
   "execution_count": 1,
   "metadata": {
    "tags": []
   },
   "outputs": [],
   "source": [
    "# Change the bucket according to your information\n",
    "bucket = 'labstack-697a742e-bfe8-41c8-a9e7-860a69f-labbucket-p0cqzjiaooux'"
   ]
  },
  {
   "cell_type": "code",
   "execution_count": 2,
   "metadata": {
    "tags": []
   },
   "outputs": [],
   "source": [
    "%%capture \n",
    "\n",
    "%matplotlib inline\n",
    "%pip install --upgrade boto3 botocore===1.33.2 -q\n",
    "%pip install xgboost=='0.90' -q"
   ]
  },
  {
   "cell_type": "code",
   "execution_count": 3,
   "metadata": {
    "tags": []
   },
   "outputs": [],
   "source": [
    "import os\n",
    "from pathlib2 import Path\n",
    "from zipfile import ZipFile\n",
    "import time\n",
    "\n",
    "import pandas as pd\n",
    "import numpy as np\n",
    "import subprocess\n",
    "\n",
    "import matplotlib.pyplot as plt\n",
    "import seaborn as sns\n",
    "\n",
    "sns.set()\n",
    "\n",
    "import warnings\n",
    "warnings.filterwarnings('ignore')"
   ]
  },
  {
   "cell_type": "markdown",
   "metadata": {},
   "source": [
    "# Step 2: Data preprocessing and visualization  \n",
    "In this data preprocessing phase, you should take the opportunity to explore and visualize your data to better understand it. First, import the necessary libraries and read the data into a Pandas dataframe. After that, explore your data. Look for the shape of the dataset and explore your columns and the types of columns you're working with (numerical, categorical). Consider performing basic statistics on the features to get a sense of feature means and ranges. Take a close look at your target column and determine its distribution.\n",
    "\n",
    "### Specific questions to consider\n",
    "1. What can you deduce from the basic statistics you ran on the features? \n",
    "\n",
    "2. What can you deduce from the distributions of the target classes?\n",
    "\n",
    "3. Is there anything else you deduced from exploring the data?\n",
    "\n",
    "#### <span style=\"color: blue;\">Project presentation: Include a summary of your answers to these and other similar questions in your project presentations.</span>"
   ]
  },
  {
   "cell_type": "markdown",
   "metadata": {},
   "source": [
    "Start by bringing in the dataset from an Amazon S3 public bucket to this notebook environment."
   ]
  },
  {
   "cell_type": "code",
   "execution_count": 4,
   "metadata": {
    "tags": []
   },
   "outputs": [
    {
     "name": "stdout",
     "output_type": "stream",
     "text": [
      "download: s3://aws-tc-largeobjects/ILT-TF-200-MLDWTS/flight_delay_project/csvFlightData-5/On_Time_Reporting_Carrier_On_Time_Performance_1987_present_2014_1.zip to project/data/FlightDelays/On_Time_Reporting_Carrier_On_Time_Performance_1987_present_2014_1.zip\n",
      "download: s3://aws-tc-largeobjects/ILT-TF-200-MLDWTS/flight_delay_project/csvFlightData-5/On_Time_Reporting_Carrier_On_Time_Performance_1987_present_2014_12.zip to project/data/FlightDelays/On_Time_Reporting_Carrier_On_Time_Performance_1987_present_2014_12.zip\n",
      "download: s3://aws-tc-largeobjects/ILT-TF-200-MLDWTS/flight_delay_project/csvFlightData-5/On_Time_Reporting_Carrier_On_Time_Performance_1987_present_2014_10.zip to project/data/FlightDelays/On_Time_Reporting_Carrier_On_Time_Performance_1987_present_2014_10.zip\n",
      "download: s3://aws-tc-largeobjects/ILT-TF-200-MLDWTS/flight_delay_project/csvFlightData-5/On_Time_Reporting_Carrier_On_Time_Performance_1987_present_2014_2.zip to project/data/FlightDelays/On_Time_Reporting_Carrier_On_Time_Performance_1987_present_2014_2.zip\n",
      "download: s3://aws-tc-largeobjects/ILT-TF-200-MLDWTS/flight_delay_project/csvFlightData-5/On_Time_Reporting_Carrier_On_Time_Performance_1987_present_2014_3.zip to project/data/FlightDelays/On_Time_Reporting_Carrier_On_Time_Performance_1987_present_2014_3.zip\n",
      "download: s3://aws-tc-largeobjects/ILT-TF-200-MLDWTS/flight_delay_project/csvFlightData-5/On_Time_Reporting_Carrier_On_Time_Performance_1987_present_2014_4.zip to project/data/FlightDelays/On_Time_Reporting_Carrier_On_Time_Performance_1987_present_2014_4.zip\n",
      "download: s3://aws-tc-largeobjects/ILT-TF-200-MLDWTS/flight_delay_project/csvFlightData-5/On_Time_Reporting_Carrier_On_Time_Performance_1987_present_2014_5.zip to project/data/FlightDelays/On_Time_Reporting_Carrier_On_Time_Performance_1987_present_2014_5.zip\n",
      "download: s3://aws-tc-largeobjects/ILT-TF-200-MLDWTS/flight_delay_project/csvFlightData-5/On_Time_Reporting_Carrier_On_Time_Performance_1987_present_2014_6.zip to project/data/FlightDelays/On_Time_Reporting_Carrier_On_Time_Performance_1987_present_2014_6.zip\n",
      "download: s3://aws-tc-largeobjects/ILT-TF-200-MLDWTS/flight_delay_project/csvFlightData-5/On_Time_Reporting_Carrier_On_Time_Performance_1987_present_2014_8.zip to project/data/FlightDelays/On_Time_Reporting_Carrier_On_Time_Performance_1987_present_2014_8.zip\n",
      "download: s3://aws-tc-largeobjects/ILT-TF-200-MLDWTS/flight_delay_project/csvFlightData-5/On_Time_Reporting_Carrier_On_Time_Performance_1987_present_2014_9.zip to project/data/FlightDelays/On_Time_Reporting_Carrier_On_Time_Performance_1987_present_2014_9.zip\n",
      "download: s3://aws-tc-largeobjects/ILT-TF-200-MLDWTS/flight_delay_project/csvFlightData-5/On_Time_Reporting_Carrier_On_Time_Performance_1987_present_2014_11.zip to project/data/FlightDelays/On_Time_Reporting_Carrier_On_Time_Performance_1987_present_2014_11.zip\n",
      "download: s3://aws-tc-largeobjects/ILT-TF-200-MLDWTS/flight_delay_project/csvFlightData-5/On_Time_Reporting_Carrier_On_Time_Performance_1987_present_2015_1.zip to project/data/FlightDelays/On_Time_Reporting_Carrier_On_Time_Performance_1987_present_2015_1.zip\n",
      "download: s3://aws-tc-largeobjects/ILT-TF-200-MLDWTS/flight_delay_project/csvFlightData-5/On_Time_Reporting_Carrier_On_Time_Performance_1987_present_2015_10.zip to project/data/FlightDelays/On_Time_Reporting_Carrier_On_Time_Performance_1987_present_2015_10.zip\n",
      "download: s3://aws-tc-largeobjects/ILT-TF-200-MLDWTS/flight_delay_project/csvFlightData-5/On_Time_Reporting_Carrier_On_Time_Performance_1987_present_2014_7.zip to project/data/FlightDelays/On_Time_Reporting_Carrier_On_Time_Performance_1987_present_2014_7.zip\n",
      "download: s3://aws-tc-largeobjects/ILT-TF-200-MLDWTS/flight_delay_project/csvFlightData-5/On_Time_Reporting_Carrier_On_Time_Performance_1987_present_2015_11.zip to project/data/FlightDelays/On_Time_Reporting_Carrier_On_Time_Performance_1987_present_2015_11.zip\n",
      "download: s3://aws-tc-largeobjects/ILT-TF-200-MLDWTS/flight_delay_project/csvFlightData-5/On_Time_Reporting_Carrier_On_Time_Performance_1987_present_2015_2.zip to project/data/FlightDelays/On_Time_Reporting_Carrier_On_Time_Performance_1987_present_2015_2.zip\n",
      "download: s3://aws-tc-largeobjects/ILT-TF-200-MLDWTS/flight_delay_project/csvFlightData-5/On_Time_Reporting_Carrier_On_Time_Performance_1987_present_2015_12.zip to project/data/FlightDelays/On_Time_Reporting_Carrier_On_Time_Performance_1987_present_2015_12.zip\n",
      "download: s3://aws-tc-largeobjects/ILT-TF-200-MLDWTS/flight_delay_project/csvFlightData-5/On_Time_Reporting_Carrier_On_Time_Performance_1987_present_2015_3.zip to project/data/FlightDelays/On_Time_Reporting_Carrier_On_Time_Performance_1987_present_2015_3.zip\n",
      "download: s3://aws-tc-largeobjects/ILT-TF-200-MLDWTS/flight_delay_project/csvFlightData-5/On_Time_Reporting_Carrier_On_Time_Performance_1987_present_2015_5.zip to project/data/FlightDelays/On_Time_Reporting_Carrier_On_Time_Performance_1987_present_2015_5.zip\n",
      "download: s3://aws-tc-largeobjects/ILT-TF-200-MLDWTS/flight_delay_project/csvFlightData-5/On_Time_Reporting_Carrier_On_Time_Performance_1987_present_2015_6.zip to project/data/FlightDelays/On_Time_Reporting_Carrier_On_Time_Performance_1987_present_2015_6.zip\n",
      "download: s3://aws-tc-largeobjects/ILT-TF-200-MLDWTS/flight_delay_project/csvFlightData-5/On_Time_Reporting_Carrier_On_Time_Performance_1987_present_2015_4.zip to project/data/FlightDelays/On_Time_Reporting_Carrier_On_Time_Performance_1987_present_2015_4.zip\n",
      "download: s3://aws-tc-largeobjects/ILT-TF-200-MLDWTS/flight_delay_project/csvFlightData-5/On_Time_Reporting_Carrier_On_Time_Performance_1987_present_2015_8.zip to project/data/FlightDelays/On_Time_Reporting_Carrier_On_Time_Performance_1987_present_2015_8.zip\n",
      "download: s3://aws-tc-largeobjects/ILT-TF-200-MLDWTS/flight_delay_project/csvFlightData-5/On_Time_Reporting_Carrier_On_Time_Performance_1987_present_2015_7.zip to project/data/FlightDelays/On_Time_Reporting_Carrier_On_Time_Performance_1987_present_2015_7.zip\n",
      "download: s3://aws-tc-largeobjects/ILT-TF-200-MLDWTS/flight_delay_project/csvFlightData-5/On_Time_Reporting_Carrier_On_Time_Performance_1987_present_2015_9.zip to project/data/FlightDelays/On_Time_Reporting_Carrier_On_Time_Performance_1987_present_2015_9.zip\n",
      "download: s3://aws-tc-largeobjects/ILT-TF-200-MLDWTS/flight_delay_project/csvFlightData-5/On_Time_Reporting_Carrier_On_Time_Performance_1987_present_2016_11.zip to project/data/FlightDelays/On_Time_Reporting_Carrier_On_Time_Performance_1987_present_2016_11.zip\n",
      "download: s3://aws-tc-largeobjects/ILT-TF-200-MLDWTS/flight_delay_project/csvFlightData-5/On_Time_Reporting_Carrier_On_Time_Performance_1987_present_2016_10.zip to project/data/FlightDelays/On_Time_Reporting_Carrier_On_Time_Performance_1987_present_2016_10.zip\n",
      "download: s3://aws-tc-largeobjects/ILT-TF-200-MLDWTS/flight_delay_project/csvFlightData-5/On_Time_Reporting_Carrier_On_Time_Performance_1987_present_2016_1.zip to project/data/FlightDelays/On_Time_Reporting_Carrier_On_Time_Performance_1987_present_2016_1.zip\n",
      "download: s3://aws-tc-largeobjects/ILT-TF-200-MLDWTS/flight_delay_project/csvFlightData-5/On_Time_Reporting_Carrier_On_Time_Performance_1987_present_2016_12.zip to project/data/FlightDelays/On_Time_Reporting_Carrier_On_Time_Performance_1987_present_2016_12.zip\n",
      "download: s3://aws-tc-largeobjects/ILT-TF-200-MLDWTS/flight_delay_project/csvFlightData-5/On_Time_Reporting_Carrier_On_Time_Performance_1987_present_2016_2.zip to project/data/FlightDelays/On_Time_Reporting_Carrier_On_Time_Performance_1987_present_2016_2.zip\n",
      "download: s3://aws-tc-largeobjects/ILT-TF-200-MLDWTS/flight_delay_project/csvFlightData-5/On_Time_Reporting_Carrier_On_Time_Performance_1987_present_2016_5.zip to project/data/FlightDelays/On_Time_Reporting_Carrier_On_Time_Performance_1987_present_2016_5.zip\n",
      "download: s3://aws-tc-largeobjects/ILT-TF-200-MLDWTS/flight_delay_project/csvFlightData-5/On_Time_Reporting_Carrier_On_Time_Performance_1987_present_2016_3.zip to project/data/FlightDelays/On_Time_Reporting_Carrier_On_Time_Performance_1987_present_2016_3.zip\n",
      "download: s3://aws-tc-largeobjects/ILT-TF-200-MLDWTS/flight_delay_project/csvFlightData-5/On_Time_Reporting_Carrier_On_Time_Performance_1987_present_2016_4.zip to project/data/FlightDelays/On_Time_Reporting_Carrier_On_Time_Performance_1987_present_2016_4.zip\n",
      "download: s3://aws-tc-largeobjects/ILT-TF-200-MLDWTS/flight_delay_project/csvFlightData-5/On_Time_Reporting_Carrier_On_Time_Performance_1987_present_2016_7.zip to project/data/FlightDelays/On_Time_Reporting_Carrier_On_Time_Performance_1987_present_2016_7.zip\n",
      "download: s3://aws-tc-largeobjects/ILT-TF-200-MLDWTS/flight_delay_project/csvFlightData-5/On_Time_Reporting_Carrier_On_Time_Performance_1987_present_2016_8.zip to project/data/FlightDelays/On_Time_Reporting_Carrier_On_Time_Performance_1987_present_2016_8.zip\n",
      "download: s3://aws-tc-largeobjects/ILT-TF-200-MLDWTS/flight_delay_project/csvFlightData-5/On_Time_Reporting_Carrier_On_Time_Performance_1987_present_2016_9.zip to project/data/FlightDelays/On_Time_Reporting_Carrier_On_Time_Performance_1987_present_2016_9.zip\n",
      "download: s3://aws-tc-largeobjects/ILT-TF-200-MLDWTS/flight_delay_project/csvFlightData-5/On_Time_Reporting_Carrier_On_Time_Performance_1987_present_2016_6.zip to project/data/FlightDelays/On_Time_Reporting_Carrier_On_Time_Performance_1987_present_2016_6.zip\n",
      "download: s3://aws-tc-largeobjects/ILT-TF-200-MLDWTS/flight_delay_project/csvFlightData-5/On_Time_Reporting_Carrier_On_Time_Performance_1987_present_2017_1.zip to project/data/FlightDelays/On_Time_Reporting_Carrier_On_Time_Performance_1987_present_2017_1.zip\n",
      "download: s3://aws-tc-largeobjects/ILT-TF-200-MLDWTS/flight_delay_project/csvFlightData-5/On_Time_Reporting_Carrier_On_Time_Performance_1987_present_2017_10.zip to project/data/FlightDelays/On_Time_Reporting_Carrier_On_Time_Performance_1987_present_2017_10.zip\n",
      "download: s3://aws-tc-largeobjects/ILT-TF-200-MLDWTS/flight_delay_project/csvFlightData-5/On_Time_Reporting_Carrier_On_Time_Performance_1987_present_2017_11.zip to project/data/FlightDelays/On_Time_Reporting_Carrier_On_Time_Performance_1987_present_2017_11.zip\n",
      "download: s3://aws-tc-largeobjects/ILT-TF-200-MLDWTS/flight_delay_project/csvFlightData-5/On_Time_Reporting_Carrier_On_Time_Performance_1987_present_2017_2.zip to project/data/FlightDelays/On_Time_Reporting_Carrier_On_Time_Performance_1987_present_2017_2.zip\n",
      "download: s3://aws-tc-largeobjects/ILT-TF-200-MLDWTS/flight_delay_project/csvFlightData-5/On_Time_Reporting_Carrier_On_Time_Performance_1987_present_2017_3.zip to project/data/FlightDelays/On_Time_Reporting_Carrier_On_Time_Performance_1987_present_2017_3.zip\n",
      "download: s3://aws-tc-largeobjects/ILT-TF-200-MLDWTS/flight_delay_project/csvFlightData-5/On_Time_Reporting_Carrier_On_Time_Performance_1987_present_2017_12.zip to project/data/FlightDelays/On_Time_Reporting_Carrier_On_Time_Performance_1987_present_2017_12.zip\n",
      "download: s3://aws-tc-largeobjects/ILT-TF-200-MLDWTS/flight_delay_project/csvFlightData-5/On_Time_Reporting_Carrier_On_Time_Performance_1987_present_2017_4.zip to project/data/FlightDelays/On_Time_Reporting_Carrier_On_Time_Performance_1987_present_2017_4.zip\n",
      "download: s3://aws-tc-largeobjects/ILT-TF-200-MLDWTS/flight_delay_project/csvFlightData-5/On_Time_Reporting_Carrier_On_Time_Performance_1987_present_2017_5.zip to project/data/FlightDelays/On_Time_Reporting_Carrier_On_Time_Performance_1987_present_2017_5.zip\n",
      "download: s3://aws-tc-largeobjects/ILT-TF-200-MLDWTS/flight_delay_project/csvFlightData-5/On_Time_Reporting_Carrier_On_Time_Performance_1987_present_2018_10.zip to project/data/FlightDelays/On_Time_Reporting_Carrier_On_Time_Performance_1987_present_2018_10.zip\n",
      "download: s3://aws-tc-largeobjects/ILT-TF-200-MLDWTS/flight_delay_project/csvFlightData-5/On_Time_Reporting_Carrier_On_Time_Performance_1987_present_2017_8.zip to project/data/FlightDelays/On_Time_Reporting_Carrier_On_Time_Performance_1987_present_2017_8.zip\n",
      "download: s3://aws-tc-largeobjects/ILT-TF-200-MLDWTS/flight_delay_project/csvFlightData-5/On_Time_Reporting_Carrier_On_Time_Performance_1987_present_2017_9.zip to project/data/FlightDelays/On_Time_Reporting_Carrier_On_Time_Performance_1987_present_2017_9.zip\n",
      "download: s3://aws-tc-largeobjects/ILT-TF-200-MLDWTS/flight_delay_project/csvFlightData-5/On_Time_Reporting_Carrier_On_Time_Performance_1987_present_2018_12.zip to project/data/FlightDelays/On_Time_Reporting_Carrier_On_Time_Performance_1987_present_2018_12.zip\n",
      "download: s3://aws-tc-largeobjects/ILT-TF-200-MLDWTS/flight_delay_project/csvFlightData-5/On_Time_Reporting_Carrier_On_Time_Performance_1987_present_2017_6.zip to project/data/FlightDelays/On_Time_Reporting_Carrier_On_Time_Performance_1987_present_2017_6.zip\n",
      "download: s3://aws-tc-largeobjects/ILT-TF-200-MLDWTS/flight_delay_project/csvFlightData-5/On_Time_Reporting_Carrier_On_Time_Performance_1987_present_2018_11.zip to project/data/FlightDelays/On_Time_Reporting_Carrier_On_Time_Performance_1987_present_2018_11.zip\n",
      "download: s3://aws-tc-largeobjects/ILT-TF-200-MLDWTS/flight_delay_project/csvFlightData-5/On_Time_Reporting_Carrier_On_Time_Performance_1987_present_2018_1.zip to project/data/FlightDelays/On_Time_Reporting_Carrier_On_Time_Performance_1987_present_2018_1.zip\n",
      "download: s3://aws-tc-largeobjects/ILT-TF-200-MLDWTS/flight_delay_project/csvFlightData-5/On_Time_Reporting_Carrier_On_Time_Performance_1987_present_2018_2.zip to project/data/FlightDelays/On_Time_Reporting_Carrier_On_Time_Performance_1987_present_2018_2.zip\n",
      "download: s3://aws-tc-largeobjects/ILT-TF-200-MLDWTS/flight_delay_project/csvFlightData-5/On_Time_Reporting_Carrier_On_Time_Performance_1987_present_2018_3.zip to project/data/FlightDelays/On_Time_Reporting_Carrier_On_Time_Performance_1987_present_2018_3.zip\n",
      "download: s3://aws-tc-largeobjects/ILT-TF-200-MLDWTS/flight_delay_project/csvFlightData-5/On_Time_Reporting_Carrier_On_Time_Performance_1987_present_2018_8.zip to project/data/FlightDelays/On_Time_Reporting_Carrier_On_Time_Performance_1987_present_2018_8.zip\n",
      "download: s3://aws-tc-largeobjects/ILT-TF-200-MLDWTS/flight_delay_project/csvFlightData-5/On_Time_Reporting_Carrier_On_Time_Performance_1987_present_2018_4.zip to project/data/FlightDelays/On_Time_Reporting_Carrier_On_Time_Performance_1987_present_2018_4.zip\n",
      "download: s3://aws-tc-largeobjects/ILT-TF-200-MLDWTS/flight_delay_project/csvFlightData-5/On_Time_Reporting_Carrier_On_Time_Performance_1987_present_2018_5.zip to project/data/FlightDelays/On_Time_Reporting_Carrier_On_Time_Performance_1987_present_2018_5.zip\n",
      "download: s3://aws-tc-largeobjects/ILT-TF-200-MLDWTS/flight_delay_project/csvFlightData-5/On_Time_Reporting_Carrier_On_Time_Performance_1987_present_2017_7.zip to project/data/FlightDelays/On_Time_Reporting_Carrier_On_Time_Performance_1987_present_2017_7.zip\n",
      "download: s3://aws-tc-largeobjects/ILT-TF-200-MLDWTS/flight_delay_project/csvFlightData-5/On_Time_Reporting_Carrier_On_Time_Performance_1987_present_2018_9.zip to project/data/FlightDelays/On_Time_Reporting_Carrier_On_Time_Performance_1987_present_2018_9.zip\n",
      "download: s3://aws-tc-largeobjects/ILT-TF-200-MLDWTS/flight_delay_project/csvFlightData-5/On_Time_Reporting_Carrier_On_Time_Performance_1987_present_2018_7.zip to project/data/FlightDelays/On_Time_Reporting_Carrier_On_Time_Performance_1987_present_2018_7.zip\n",
      "download: s3://aws-tc-largeobjects/ILT-TF-200-MLDWTS/flight_delay_project/csvFlightData-5/On_Time_Reporting_Carrier_On_Time_Performance_1987_present_2018_6.zip to project/data/FlightDelays/On_Time_Reporting_Carrier_On_Time_Performance_1987_present_2018_6.zip\n"
     ]
    }
   ],
   "source": [
    "# Check whether the file is already in the desired path or if it needs to be downloaded\n",
    "\n",
    "base_path = '/home/ec2-user/SageMaker/project/data/FlightDelays/'\n",
    "csv_base_path = '/home/ec2-user/SageMaker/project/data/csvFlightDelays/'\n",
    "file_path = 'On_Time_Reporting_Carrier_On_Time_Performance_1987_present_2014_1.zip'\n",
    "\n",
    "if not os.path.isfile(base_path + file_path):\n",
    "    subprocess.run(['mkdir', '-p', base_path])\n",
    "    subprocess.run(['mkdir', '-p', csv_base_path])\n",
    "    subprocess.run(['aws', 's3', 'cp', \n",
    "                    's3://aws-tc-largeobjects/ILT-TF-200-MLDWTS/flight_delay_project/csvFlightData-5/', \n",
    "                    base_path,'--recursive'])\n",
    "else:\n",
    "    print('File already downloaded!')"
   ]
  },
  {
   "cell_type": "code",
   "execution_count": 5,
   "metadata": {
    "tags": []
   },
   "outputs": [
    {
     "data": {
      "text/plain": [
       "60"
      ]
     },
     "execution_count": 5,
     "metadata": {},
     "output_type": "execute_result"
    }
   ],
   "source": [
    "zip_files = [str(file) for file in list(Path(base_path).iterdir()) if '.zip' in str(file)]\n",
    "len(zip_files)"
   ]
  },
  {
   "cell_type": "markdown",
   "metadata": {},
   "source": [
    "#### Extract CSV files from ZIP files"
   ]
  },
  {
   "cell_type": "code",
   "execution_count": 6,
   "metadata": {
    "scrolled": true,
    "tags": []
   },
   "outputs": [
    {
     "name": "stdout",
     "output_type": "stream",
     "text": [
      "Extracting /home/ec2-user/SageMaker/project/data/FlightDelays/On_Time_Reporting_Carrier_On_Time_Performance_1987_present_2018_1.zip \n",
      "Extracting /home/ec2-user/SageMaker/project/data/FlightDelays/On_Time_Reporting_Carrier_On_Time_Performance_1987_present_2018_2.zip \n",
      "Extracting /home/ec2-user/SageMaker/project/data/FlightDelays/On_Time_Reporting_Carrier_On_Time_Performance_1987_present_2014_6.zip \n",
      "Extracting /home/ec2-user/SageMaker/project/data/FlightDelays/On_Time_Reporting_Carrier_On_Time_Performance_1987_present_2018_12.zip \n",
      "Extracting /home/ec2-user/SageMaker/project/data/FlightDelays/On_Time_Reporting_Carrier_On_Time_Performance_1987_present_2014_2.zip \n",
      "Extracting /home/ec2-user/SageMaker/project/data/FlightDelays/On_Time_Reporting_Carrier_On_Time_Performance_1987_present_2018_9.zip \n",
      "Extracting /home/ec2-user/SageMaker/project/data/FlightDelays/On_Time_Reporting_Carrier_On_Time_Performance_1987_present_2018_3.zip \n",
      "Extracting /home/ec2-user/SageMaker/project/data/FlightDelays/On_Time_Reporting_Carrier_On_Time_Performance_1987_present_2015_12.zip \n",
      "Extracting /home/ec2-user/SageMaker/project/data/FlightDelays/On_Time_Reporting_Carrier_On_Time_Performance_1987_present_2017_11.zip \n",
      "Extracting /home/ec2-user/SageMaker/project/data/FlightDelays/On_Time_Reporting_Carrier_On_Time_Performance_1987_present_2014_7.zip \n",
      "Extracting /home/ec2-user/SageMaker/project/data/FlightDelays/On_Time_Reporting_Carrier_On_Time_Performance_1987_present_2016_8.zip \n",
      "Extracting /home/ec2-user/SageMaker/project/data/FlightDelays/On_Time_Reporting_Carrier_On_Time_Performance_1987_present_2015_6.zip \n",
      "Extracting /home/ec2-user/SageMaker/project/data/FlightDelays/On_Time_Reporting_Carrier_On_Time_Performance_1987_present_2015_7.zip \n",
      "Extracting /home/ec2-user/SageMaker/project/data/FlightDelays/On_Time_Reporting_Carrier_On_Time_Performance_1987_present_2014_3.zip \n",
      "Extracting /home/ec2-user/SageMaker/project/data/FlightDelays/On_Time_Reporting_Carrier_On_Time_Performance_1987_present_2016_11.zip \n",
      "Extracting /home/ec2-user/SageMaker/project/data/FlightDelays/On_Time_Reporting_Carrier_On_Time_Performance_1987_present_2018_7.zip \n",
      "Extracting /home/ec2-user/SageMaker/project/data/FlightDelays/On_Time_Reporting_Carrier_On_Time_Performance_1987_present_2017_6.zip \n",
      "Extracting /home/ec2-user/SageMaker/project/data/FlightDelays/On_Time_Reporting_Carrier_On_Time_Performance_1987_present_2016_4.zip \n",
      "Extracting /home/ec2-user/SageMaker/project/data/FlightDelays/On_Time_Reporting_Carrier_On_Time_Performance_1987_present_2014_8.zip \n",
      "Extracting /home/ec2-user/SageMaker/project/data/FlightDelays/On_Time_Reporting_Carrier_On_Time_Performance_1987_present_2014_5.zip \n",
      "Extracting /home/ec2-user/SageMaker/project/data/FlightDelays/On_Time_Reporting_Carrier_On_Time_Performance_1987_present_2017_1.zip \n",
      "Extracting /home/ec2-user/SageMaker/project/data/FlightDelays/On_Time_Reporting_Carrier_On_Time_Performance_1987_present_2016_6.zip \n",
      "Extracting /home/ec2-user/SageMaker/project/data/FlightDelays/On_Time_Reporting_Carrier_On_Time_Performance_1987_present_2015_8.zip \n",
      "Extracting /home/ec2-user/SageMaker/project/data/FlightDelays/On_Time_Reporting_Carrier_On_Time_Performance_1987_present_2017_9.zip \n",
      "Extracting /home/ec2-user/SageMaker/project/data/FlightDelays/On_Time_Reporting_Carrier_On_Time_Performance_1987_present_2015_3.zip \n",
      "Extracting /home/ec2-user/SageMaker/project/data/FlightDelays/On_Time_Reporting_Carrier_On_Time_Performance_1987_present_2017_12.zip \n",
      "Extracting /home/ec2-user/SageMaker/project/data/FlightDelays/On_Time_Reporting_Carrier_On_Time_Performance_1987_present_2017_2.zip \n",
      "Extracting /home/ec2-user/SageMaker/project/data/FlightDelays/On_Time_Reporting_Carrier_On_Time_Performance_1987_present_2016_7.zip \n",
      "Extracting /home/ec2-user/SageMaker/project/data/FlightDelays/On_Time_Reporting_Carrier_On_Time_Performance_1987_present_2017_4.zip \n",
      "Extracting /home/ec2-user/SageMaker/project/data/FlightDelays/On_Time_Reporting_Carrier_On_Time_Performance_1987_present_2014_11.zip \n",
      "Extracting /home/ec2-user/SageMaker/project/data/FlightDelays/On_Time_Reporting_Carrier_On_Time_Performance_1987_present_2015_5.zip \n",
      "Extracting /home/ec2-user/SageMaker/project/data/FlightDelays/On_Time_Reporting_Carrier_On_Time_Performance_1987_present_2015_1.zip \n",
      "Extracting /home/ec2-user/SageMaker/project/data/FlightDelays/On_Time_Reporting_Carrier_On_Time_Performance_1987_present_2017_7.zip \n",
      "Extracting /home/ec2-user/SageMaker/project/data/FlightDelays/On_Time_Reporting_Carrier_On_Time_Performance_1987_present_2014_10.zip \n",
      "Extracting /home/ec2-user/SageMaker/project/data/FlightDelays/On_Time_Reporting_Carrier_On_Time_Performance_1987_present_2014_9.zip \n",
      "Extracting /home/ec2-user/SageMaker/project/data/FlightDelays/On_Time_Reporting_Carrier_On_Time_Performance_1987_present_2017_5.zip \n",
      "Extracting /home/ec2-user/SageMaker/project/data/FlightDelays/On_Time_Reporting_Carrier_On_Time_Performance_1987_present_2018_8.zip \n",
      "Extracting /home/ec2-user/SageMaker/project/data/FlightDelays/On_Time_Reporting_Carrier_On_Time_Performance_1987_present_2014_1.zip \n",
      "Extracting /home/ec2-user/SageMaker/project/data/FlightDelays/On_Time_Reporting_Carrier_On_Time_Performance_1987_present_2018_11.zip \n",
      "Extracting /home/ec2-user/SageMaker/project/data/FlightDelays/On_Time_Reporting_Carrier_On_Time_Performance_1987_present_2016_10.zip \n",
      "Extracting /home/ec2-user/SageMaker/project/data/FlightDelays/On_Time_Reporting_Carrier_On_Time_Performance_1987_present_2015_4.zip \n",
      "Extracting /home/ec2-user/SageMaker/project/data/FlightDelays/On_Time_Reporting_Carrier_On_Time_Performance_1987_present_2017_8.zip \n",
      "Extracting /home/ec2-user/SageMaker/project/data/FlightDelays/On_Time_Reporting_Carrier_On_Time_Performance_1987_present_2016_9.zip \n",
      "Extracting /home/ec2-user/SageMaker/project/data/FlightDelays/On_Time_Reporting_Carrier_On_Time_Performance_1987_present_2015_11.zip \n",
      "Extracting /home/ec2-user/SageMaker/project/data/FlightDelays/On_Time_Reporting_Carrier_On_Time_Performance_1987_present_2016_5.zip \n",
      "Extracting /home/ec2-user/SageMaker/project/data/FlightDelays/On_Time_Reporting_Carrier_On_Time_Performance_1987_present_2018_6.zip \n",
      "Extracting /home/ec2-user/SageMaker/project/data/FlightDelays/On_Time_Reporting_Carrier_On_Time_Performance_1987_present_2017_10.zip \n",
      "Extracting /home/ec2-user/SageMaker/project/data/FlightDelays/On_Time_Reporting_Carrier_On_Time_Performance_1987_present_2015_10.zip \n",
      "Extracting /home/ec2-user/SageMaker/project/data/FlightDelays/On_Time_Reporting_Carrier_On_Time_Performance_1987_present_2016_12.zip \n",
      "Extracting /home/ec2-user/SageMaker/project/data/FlightDelays/On_Time_Reporting_Carrier_On_Time_Performance_1987_present_2015_2.zip \n",
      "Extracting /home/ec2-user/SageMaker/project/data/FlightDelays/On_Time_Reporting_Carrier_On_Time_Performance_1987_present_2014_4.zip \n",
      "Extracting /home/ec2-user/SageMaker/project/data/FlightDelays/On_Time_Reporting_Carrier_On_Time_Performance_1987_present_2016_2.zip \n",
      "Extracting /home/ec2-user/SageMaker/project/data/FlightDelays/On_Time_Reporting_Carrier_On_Time_Performance_1987_present_2017_3.zip \n",
      "Extracting /home/ec2-user/SageMaker/project/data/FlightDelays/On_Time_Reporting_Carrier_On_Time_Performance_1987_present_2014_12.zip \n",
      "Extracting /home/ec2-user/SageMaker/project/data/FlightDelays/On_Time_Reporting_Carrier_On_Time_Performance_1987_present_2015_9.zip \n",
      "Extracting /home/ec2-user/SageMaker/project/data/FlightDelays/On_Time_Reporting_Carrier_On_Time_Performance_1987_present_2018_4.zip \n",
      "Extracting /home/ec2-user/SageMaker/project/data/FlightDelays/On_Time_Reporting_Carrier_On_Time_Performance_1987_present_2018_10.zip \n",
      "Extracting /home/ec2-user/SageMaker/project/data/FlightDelays/On_Time_Reporting_Carrier_On_Time_Performance_1987_present_2016_3.zip \n",
      "Extracting /home/ec2-user/SageMaker/project/data/FlightDelays/On_Time_Reporting_Carrier_On_Time_Performance_1987_present_2018_5.zip \n",
      "Extracting /home/ec2-user/SageMaker/project/data/FlightDelays/On_Time_Reporting_Carrier_On_Time_Performance_1987_present_2016_1.zip \n",
      "Files Extracted\n"
     ]
    }
   ],
   "source": [
    "def zip2csv(zipFile_name , file_path = '/home/ec2-user/SageMaker/project/data/csvFlightDelays'):\n",
    "    \"\"\"\n",
    "    Extract csv from zip files\n",
    "    zipFile_name: name of the zip file\n",
    "    file_path : name of the folder to store csv\n",
    "    \"\"\"\n",
    "    try:\n",
    "        with ZipFile(zipFile_name, 'r') as z: \n",
    "            print(f'Extracting {zipFile_name} ') \n",
    "            z.extractall(path=file_path) \n",
    "    except:\n",
    "        print(f'zip2csv failed for {zipFile_name}')\n",
    "\n",
    "for file in zip_files:\n",
    "    zip2csv(file)\n",
    "\n",
    "print(\"Files Extracted\")"
   ]
  },
  {
   "cell_type": "code",
   "execution_count": 7,
   "metadata": {
    "tags": []
   },
   "outputs": [
    {
     "data": {
      "text/plain": [
       "60"
      ]
     },
     "execution_count": 7,
     "metadata": {},
     "output_type": "execute_result"
    }
   ],
   "source": [
    "csv_files = [str(file) for file in list(Path(csv_base_path).iterdir()) if '.csv' in str(file)]\n",
    "len(csv_files)"
   ]
  },
  {
   "cell_type": "markdown",
   "metadata": {},
   "source": [
    "Before loading the CSV file, read the HTML file from the extracted folder. This HTML file includes the background and more information on the features included in the dataset."
   ]
  },
  {
   "cell_type": "code",
   "execution_count": 8,
   "metadata": {
    "tags": []
   },
   "outputs": [
    {
     "data": {
      "text/html": [
       "\n",
       "        <iframe\n",
       "            width=\"1000\"\n",
       "            height=\"600\"\n",
       "            src=\"./data/csvFlightDelays/readme.html\"\n",
       "            frameborder=\"0\"\n",
       "            allowfullscreen\n",
       "            \n",
       "        ></iframe>\n",
       "        "
      ],
      "text/plain": [
       "<IPython.lib.display.IFrame at 0x7fed167fb0a0>"
      ]
     },
     "execution_count": 8,
     "metadata": {},
     "output_type": "execute_result"
    }
   ],
   "source": [
    "from IPython.display import IFrame\n",
    "\n",
    "IFrame(src=\"./data/csvFlightDelays/readme.html\", width=1000, height=600)"
   ]
  },
  {
   "cell_type": "markdown",
   "metadata": {},
   "source": [
    "#### Load sample CSV\n",
    "\n",
    "Before combining all the CSV files, get a sense of the data from a single CSV file. Using Pandas, read the `On_Time_Reporting_Carrier_On_Time_Performance_(1987_present)_2018_9.csv` file first. You can use the Python built-in `read_csv` function ([documentation](https://pandas.pydata.org/pandas-docs/stable/reference/api/pandas.read_csv.html))."
   ]
  },
  {
   "cell_type": "code",
   "execution_count": 9,
   "metadata": {
    "tags": []
   },
   "outputs": [],
   "source": [
    "df_temp = pd.read_csv(f\"{csv_base_path}On_Time_Reporting_Carrier_On_Time_Performance_(1987_present)_2018_9.csv\") # **ENTER YOUR CODE HERE**"
   ]
  },
  {
   "cell_type": "markdown",
   "metadata": {},
   "source": [
    "**Question**: Print the row and column length in the dataset, and print the column names.\n",
    "\n",
    "**Hint**: Use the `<dataframe>.shape` function to view the rows and columns of a dataframe and `<dataframe>.columns` to view the column names."
   ]
  },
  {
   "cell_type": "code",
   "execution_count": 10,
   "metadata": {
    "tags": []
   },
   "outputs": [
    {
     "name": "stdout",
     "output_type": "stream",
     "text": [
      "Rows and columns in one CSV file is (585749, 110)\n"
     ]
    }
   ],
   "source": [
    "df_shape = df_temp.shape\n",
    "print(f'Rows and columns in one CSV file is {df_shape}')"
   ]
  },
  {
   "cell_type": "markdown",
   "metadata": {},
   "source": [
    "**Question**: Print the first 10 rows of the dataset.  \n",
    "\n",
    "**Hint**: Use the built-in Pandas function `head(x)` to print `x` number of rows."
   ]
  },
  {
   "cell_type": "code",
   "execution_count": 11,
   "metadata": {
    "tags": []
   },
   "outputs": [
    {
     "data": {
      "text/html": [
       "<div>\n",
       "<style scoped>\n",
       "    .dataframe tbody tr th:only-of-type {\n",
       "        vertical-align: middle;\n",
       "    }\n",
       "\n",
       "    .dataframe tbody tr th {\n",
       "        vertical-align: top;\n",
       "    }\n",
       "\n",
       "    .dataframe thead th {\n",
       "        text-align: right;\n",
       "    }\n",
       "</style>\n",
       "<table border=\"1\" class=\"dataframe\">\n",
       "  <thead>\n",
       "    <tr style=\"text-align: right;\">\n",
       "      <th></th>\n",
       "      <th>Year</th>\n",
       "      <th>Quarter</th>\n",
       "      <th>Month</th>\n",
       "      <th>DayofMonth</th>\n",
       "      <th>DayOfWeek</th>\n",
       "      <th>FlightDate</th>\n",
       "      <th>Reporting_Airline</th>\n",
       "      <th>DOT_ID_Reporting_Airline</th>\n",
       "      <th>IATA_CODE_Reporting_Airline</th>\n",
       "      <th>Tail_Number</th>\n",
       "      <th>...</th>\n",
       "      <th>Div4TailNum</th>\n",
       "      <th>Div5Airport</th>\n",
       "      <th>Div5AirportID</th>\n",
       "      <th>Div5AirportSeqID</th>\n",
       "      <th>Div5WheelsOn</th>\n",
       "      <th>Div5TotalGTime</th>\n",
       "      <th>Div5LongestGTime</th>\n",
       "      <th>Div5WheelsOff</th>\n",
       "      <th>Div5TailNum</th>\n",
       "      <th>Unnamed: 109</th>\n",
       "    </tr>\n",
       "  </thead>\n",
       "  <tbody>\n",
       "    <tr>\n",
       "      <th>0</th>\n",
       "      <td>2018</td>\n",
       "      <td>3</td>\n",
       "      <td>9</td>\n",
       "      <td>3</td>\n",
       "      <td>1</td>\n",
       "      <td>2018-09-03</td>\n",
       "      <td>9E</td>\n",
       "      <td>20363</td>\n",
       "      <td>9E</td>\n",
       "      <td>N908XJ</td>\n",
       "      <td>...</td>\n",
       "      <td>NaN</td>\n",
       "      <td>NaN</td>\n",
       "      <td>NaN</td>\n",
       "      <td>NaN</td>\n",
       "      <td>NaN</td>\n",
       "      <td>NaN</td>\n",
       "      <td>NaN</td>\n",
       "      <td>NaN</td>\n",
       "      <td>NaN</td>\n",
       "      <td>NaN</td>\n",
       "    </tr>\n",
       "    <tr>\n",
       "      <th>1</th>\n",
       "      <td>2018</td>\n",
       "      <td>3</td>\n",
       "      <td>9</td>\n",
       "      <td>9</td>\n",
       "      <td>7</td>\n",
       "      <td>2018-09-09</td>\n",
       "      <td>9E</td>\n",
       "      <td>20363</td>\n",
       "      <td>9E</td>\n",
       "      <td>N315PQ</td>\n",
       "      <td>...</td>\n",
       "      <td>NaN</td>\n",
       "      <td>NaN</td>\n",
       "      <td>NaN</td>\n",
       "      <td>NaN</td>\n",
       "      <td>NaN</td>\n",
       "      <td>NaN</td>\n",
       "      <td>NaN</td>\n",
       "      <td>NaN</td>\n",
       "      <td>NaN</td>\n",
       "      <td>NaN</td>\n",
       "    </tr>\n",
       "    <tr>\n",
       "      <th>2</th>\n",
       "      <td>2018</td>\n",
       "      <td>3</td>\n",
       "      <td>9</td>\n",
       "      <td>10</td>\n",
       "      <td>1</td>\n",
       "      <td>2018-09-10</td>\n",
       "      <td>9E</td>\n",
       "      <td>20363</td>\n",
       "      <td>9E</td>\n",
       "      <td>N582CA</td>\n",
       "      <td>...</td>\n",
       "      <td>NaN</td>\n",
       "      <td>NaN</td>\n",
       "      <td>NaN</td>\n",
       "      <td>NaN</td>\n",
       "      <td>NaN</td>\n",
       "      <td>NaN</td>\n",
       "      <td>NaN</td>\n",
       "      <td>NaN</td>\n",
       "      <td>NaN</td>\n",
       "      <td>NaN</td>\n",
       "    </tr>\n",
       "    <tr>\n",
       "      <th>3</th>\n",
       "      <td>2018</td>\n",
       "      <td>3</td>\n",
       "      <td>9</td>\n",
       "      <td>13</td>\n",
       "      <td>4</td>\n",
       "      <td>2018-09-13</td>\n",
       "      <td>9E</td>\n",
       "      <td>20363</td>\n",
       "      <td>9E</td>\n",
       "      <td>N292PQ</td>\n",
       "      <td>...</td>\n",
       "      <td>NaN</td>\n",
       "      <td>NaN</td>\n",
       "      <td>NaN</td>\n",
       "      <td>NaN</td>\n",
       "      <td>NaN</td>\n",
       "      <td>NaN</td>\n",
       "      <td>NaN</td>\n",
       "      <td>NaN</td>\n",
       "      <td>NaN</td>\n",
       "      <td>NaN</td>\n",
       "    </tr>\n",
       "    <tr>\n",
       "      <th>4</th>\n",
       "      <td>2018</td>\n",
       "      <td>3</td>\n",
       "      <td>9</td>\n",
       "      <td>14</td>\n",
       "      <td>5</td>\n",
       "      <td>2018-09-14</td>\n",
       "      <td>9E</td>\n",
       "      <td>20363</td>\n",
       "      <td>9E</td>\n",
       "      <td>N600LR</td>\n",
       "      <td>...</td>\n",
       "      <td>NaN</td>\n",
       "      <td>NaN</td>\n",
       "      <td>NaN</td>\n",
       "      <td>NaN</td>\n",
       "      <td>NaN</td>\n",
       "      <td>NaN</td>\n",
       "      <td>NaN</td>\n",
       "      <td>NaN</td>\n",
       "      <td>NaN</td>\n",
       "      <td>NaN</td>\n",
       "    </tr>\n",
       "    <tr>\n",
       "      <th>5</th>\n",
       "      <td>2018</td>\n",
       "      <td>3</td>\n",
       "      <td>9</td>\n",
       "      <td>16</td>\n",
       "      <td>7</td>\n",
       "      <td>2018-09-16</td>\n",
       "      <td>9E</td>\n",
       "      <td>20363</td>\n",
       "      <td>9E</td>\n",
       "      <td>N316PQ</td>\n",
       "      <td>...</td>\n",
       "      <td>NaN</td>\n",
       "      <td>NaN</td>\n",
       "      <td>NaN</td>\n",
       "      <td>NaN</td>\n",
       "      <td>NaN</td>\n",
       "      <td>NaN</td>\n",
       "      <td>NaN</td>\n",
       "      <td>NaN</td>\n",
       "      <td>NaN</td>\n",
       "      <td>NaN</td>\n",
       "    </tr>\n",
       "    <tr>\n",
       "      <th>6</th>\n",
       "      <td>2018</td>\n",
       "      <td>3</td>\n",
       "      <td>9</td>\n",
       "      <td>17</td>\n",
       "      <td>1</td>\n",
       "      <td>2018-09-17</td>\n",
       "      <td>9E</td>\n",
       "      <td>20363</td>\n",
       "      <td>9E</td>\n",
       "      <td>N916XJ</td>\n",
       "      <td>...</td>\n",
       "      <td>NaN</td>\n",
       "      <td>NaN</td>\n",
       "      <td>NaN</td>\n",
       "      <td>NaN</td>\n",
       "      <td>NaN</td>\n",
       "      <td>NaN</td>\n",
       "      <td>NaN</td>\n",
       "      <td>NaN</td>\n",
       "      <td>NaN</td>\n",
       "      <td>NaN</td>\n",
       "    </tr>\n",
       "    <tr>\n",
       "      <th>7</th>\n",
       "      <td>2018</td>\n",
       "      <td>3</td>\n",
       "      <td>9</td>\n",
       "      <td>20</td>\n",
       "      <td>4</td>\n",
       "      <td>2018-09-20</td>\n",
       "      <td>9E</td>\n",
       "      <td>20363</td>\n",
       "      <td>9E</td>\n",
       "      <td>N371CA</td>\n",
       "      <td>...</td>\n",
       "      <td>NaN</td>\n",
       "      <td>NaN</td>\n",
       "      <td>NaN</td>\n",
       "      <td>NaN</td>\n",
       "      <td>NaN</td>\n",
       "      <td>NaN</td>\n",
       "      <td>NaN</td>\n",
       "      <td>NaN</td>\n",
       "      <td>NaN</td>\n",
       "      <td>NaN</td>\n",
       "    </tr>\n",
       "    <tr>\n",
       "      <th>8</th>\n",
       "      <td>2018</td>\n",
       "      <td>3</td>\n",
       "      <td>9</td>\n",
       "      <td>21</td>\n",
       "      <td>5</td>\n",
       "      <td>2018-09-21</td>\n",
       "      <td>9E</td>\n",
       "      <td>20363</td>\n",
       "      <td>9E</td>\n",
       "      <td>N601LR</td>\n",
       "      <td>...</td>\n",
       "      <td>NaN</td>\n",
       "      <td>NaN</td>\n",
       "      <td>NaN</td>\n",
       "      <td>NaN</td>\n",
       "      <td>NaN</td>\n",
       "      <td>NaN</td>\n",
       "      <td>NaN</td>\n",
       "      <td>NaN</td>\n",
       "      <td>NaN</td>\n",
       "      <td>NaN</td>\n",
       "    </tr>\n",
       "    <tr>\n",
       "      <th>9</th>\n",
       "      <td>2018</td>\n",
       "      <td>3</td>\n",
       "      <td>9</td>\n",
       "      <td>23</td>\n",
       "      <td>7</td>\n",
       "      <td>2018-09-23</td>\n",
       "      <td>9E</td>\n",
       "      <td>20363</td>\n",
       "      <td>9E</td>\n",
       "      <td>N906XJ</td>\n",
       "      <td>...</td>\n",
       "      <td>NaN</td>\n",
       "      <td>NaN</td>\n",
       "      <td>NaN</td>\n",
       "      <td>NaN</td>\n",
       "      <td>NaN</td>\n",
       "      <td>NaN</td>\n",
       "      <td>NaN</td>\n",
       "      <td>NaN</td>\n",
       "      <td>NaN</td>\n",
       "      <td>NaN</td>\n",
       "    </tr>\n",
       "  </tbody>\n",
       "</table>\n",
       "<p>10 rows × 110 columns</p>\n",
       "</div>"
      ],
      "text/plain": [
       "   Year  Quarter  Month  DayofMonth  DayOfWeek  FlightDate Reporting_Airline  \\\n",
       "0  2018        3      9           3          1  2018-09-03                9E   \n",
       "1  2018        3      9           9          7  2018-09-09                9E   \n",
       "2  2018        3      9          10          1  2018-09-10                9E   \n",
       "3  2018        3      9          13          4  2018-09-13                9E   \n",
       "4  2018        3      9          14          5  2018-09-14                9E   \n",
       "5  2018        3      9          16          7  2018-09-16                9E   \n",
       "6  2018        3      9          17          1  2018-09-17                9E   \n",
       "7  2018        3      9          20          4  2018-09-20                9E   \n",
       "8  2018        3      9          21          5  2018-09-21                9E   \n",
       "9  2018        3      9          23          7  2018-09-23                9E   \n",
       "\n",
       "   DOT_ID_Reporting_Airline IATA_CODE_Reporting_Airline Tail_Number  ...  \\\n",
       "0                     20363                          9E      N908XJ  ...   \n",
       "1                     20363                          9E      N315PQ  ...   \n",
       "2                     20363                          9E      N582CA  ...   \n",
       "3                     20363                          9E      N292PQ  ...   \n",
       "4                     20363                          9E      N600LR  ...   \n",
       "5                     20363                          9E      N316PQ  ...   \n",
       "6                     20363                          9E      N916XJ  ...   \n",
       "7                     20363                          9E      N371CA  ...   \n",
       "8                     20363                          9E      N601LR  ...   \n",
       "9                     20363                          9E      N906XJ  ...   \n",
       "\n",
       "   Div4TailNum  Div5Airport  Div5AirportID  Div5AirportSeqID Div5WheelsOn  \\\n",
       "0          NaN          NaN            NaN               NaN          NaN   \n",
       "1          NaN          NaN            NaN               NaN          NaN   \n",
       "2          NaN          NaN            NaN               NaN          NaN   \n",
       "3          NaN          NaN            NaN               NaN          NaN   \n",
       "4          NaN          NaN            NaN               NaN          NaN   \n",
       "5          NaN          NaN            NaN               NaN          NaN   \n",
       "6          NaN          NaN            NaN               NaN          NaN   \n",
       "7          NaN          NaN            NaN               NaN          NaN   \n",
       "8          NaN          NaN            NaN               NaN          NaN   \n",
       "9          NaN          NaN            NaN               NaN          NaN   \n",
       "\n",
       "  Div5TotalGTime Div5LongestGTime  Div5WheelsOff Div5TailNum  Unnamed: 109  \n",
       "0            NaN              NaN            NaN         NaN           NaN  \n",
       "1            NaN              NaN            NaN         NaN           NaN  \n",
       "2            NaN              NaN            NaN         NaN           NaN  \n",
       "3            NaN              NaN            NaN         NaN           NaN  \n",
       "4            NaN              NaN            NaN         NaN           NaN  \n",
       "5            NaN              NaN            NaN         NaN           NaN  \n",
       "6            NaN              NaN            NaN         NaN           NaN  \n",
       "7            NaN              NaN            NaN         NaN           NaN  \n",
       "8            NaN              NaN            NaN         NaN           NaN  \n",
       "9            NaN              NaN            NaN         NaN           NaN  \n",
       "\n",
       "[10 rows x 110 columns]"
      ]
     },
     "execution_count": 11,
     "metadata": {},
     "output_type": "execute_result"
    }
   ],
   "source": [
    "df_temp.head(10)"
   ]
  },
  {
   "cell_type": "markdown",
   "metadata": {},
   "source": [
    "**Question**: Print all the columns in the dataset. Use `<dataframe>.columns` to view the column names."
   ]
  },
  {
   "cell_type": "code",
   "execution_count": 12,
   "metadata": {
    "tags": []
   },
   "outputs": [
    {
     "name": "stdout",
     "output_type": "stream",
     "text": [
      "The column names are :\n",
      "#########\n",
      "Year\n",
      "Quarter\n",
      "Month\n",
      "DayofMonth\n",
      "DayOfWeek\n",
      "FlightDate\n",
      "Reporting_Airline\n",
      "DOT_ID_Reporting_Airline\n",
      "IATA_CODE_Reporting_Airline\n",
      "Tail_Number\n",
      "Flight_Number_Reporting_Airline\n",
      "OriginAirportID\n",
      "OriginAirportSeqID\n",
      "OriginCityMarketID\n",
      "Origin\n",
      "OriginCityName\n",
      "OriginState\n",
      "OriginStateFips\n",
      "OriginStateName\n",
      "OriginWac\n",
      "DestAirportID\n",
      "DestAirportSeqID\n",
      "DestCityMarketID\n",
      "Dest\n",
      "DestCityName\n",
      "DestState\n",
      "DestStateFips\n",
      "DestStateName\n",
      "DestWac\n",
      "CRSDepTime\n",
      "DepTime\n",
      "DepDelay\n",
      "DepDelayMinutes\n",
      "DepDel15\n",
      "DepartureDelayGroups\n",
      "DepTimeBlk\n",
      "TaxiOut\n",
      "WheelsOff\n",
      "WheelsOn\n",
      "TaxiIn\n",
      "CRSArrTime\n",
      "ArrTime\n",
      "ArrDelay\n",
      "ArrDelayMinutes\n",
      "ArrDel15\n",
      "ArrivalDelayGroups\n",
      "ArrTimeBlk\n",
      "Cancelled\n",
      "CancellationCode\n",
      "Diverted\n",
      "CRSElapsedTime\n",
      "ActualElapsedTime\n",
      "AirTime\n",
      "Flights\n",
      "Distance\n",
      "DistanceGroup\n",
      "CarrierDelay\n",
      "WeatherDelay\n",
      "NASDelay\n",
      "SecurityDelay\n",
      "LateAircraftDelay\n",
      "FirstDepTime\n",
      "TotalAddGTime\n",
      "LongestAddGTime\n",
      "DivAirportLandings\n",
      "DivReachedDest\n",
      "DivActualElapsedTime\n",
      "DivArrDelay\n",
      "DivDistance\n",
      "Div1Airport\n",
      "Div1AirportID\n",
      "Div1AirportSeqID\n",
      "Div1WheelsOn\n",
      "Div1TotalGTime\n",
      "Div1LongestGTime\n",
      "Div1WheelsOff\n",
      "Div1TailNum\n",
      "Div2Airport\n",
      "Div2AirportID\n",
      "Div2AirportSeqID\n",
      "Div2WheelsOn\n",
      "Div2TotalGTime\n",
      "Div2LongestGTime\n",
      "Div2WheelsOff\n",
      "Div2TailNum\n",
      "Div3Airport\n",
      "Div3AirportID\n",
      "Div3AirportSeqID\n",
      "Div3WheelsOn\n",
      "Div3TotalGTime\n",
      "Div3LongestGTime\n",
      "Div3WheelsOff\n",
      "Div3TailNum\n",
      "Div4Airport\n",
      "Div4AirportID\n",
      "Div4AirportSeqID\n",
      "Div4WheelsOn\n",
      "Div4TotalGTime\n",
      "Div4LongestGTime\n",
      "Div4WheelsOff\n",
      "Div4TailNum\n",
      "Div5Airport\n",
      "Div5AirportID\n",
      "Div5AirportSeqID\n",
      "Div5WheelsOn\n",
      "Div5TotalGTime\n",
      "Div5LongestGTime\n",
      "Div5WheelsOff\n",
      "Div5TailNum\n",
      "Unnamed: 109\n"
     ]
    }
   ],
   "source": [
    "print(f'The column names are :')\n",
    "print('#########')\n",
    "for col in df_temp.columns:\n",
    "    print(col)"
   ]
  },
  {
   "cell_type": "markdown",
   "metadata": {},
   "source": [
    "**Question**: Print all the columns in the dataset that contain the word 'Del'. This will help you see how many columns have delay data in them.\n",
    "\n",
    "**Hint**: You can use a Python list comprehension to include values that pass certain `if` statement criteria.\n",
    "\n",
    "For example: `[x for x in [1,2,3,4,5] if x > 2]`  \n",
    "\n",
    "**Hint**: You can use the `in` keyword ([documentation](https://www.w3schools.com/python/ref_keyword_in.asp)) to check if the value is in a list or not. \n",
    "\n",
    "For example: `5 in [1,2,3,4,5]`"
   ]
  },
  {
   "cell_type": "code",
   "execution_count": 13,
   "metadata": {
    "tags": []
   },
   "outputs": [
    {
     "name": "stdout",
     "output_type": "stream",
     "text": [
      "The columns are:\n"
     ]
    },
    {
     "data": {
      "text/plain": [
       "['DepDelay',\n",
       " 'DepDelayMinutes',\n",
       " 'DepDel15',\n",
       " 'DepartureDelayGroups',\n",
       " 'ArrDelay',\n",
       " 'ArrDelayMinutes',\n",
       " 'ArrDel15',\n",
       " 'ArrivalDelayGroups',\n",
       " 'CarrierDelay',\n",
       " 'WeatherDelay',\n",
       " 'NASDelay',\n",
       " 'SecurityDelay',\n",
       " 'LateAircraftDelay',\n",
       " 'DivArrDelay']"
      ]
     },
     "execution_count": 13,
     "metadata": {},
     "output_type": "execute_result"
    }
   ],
   "source": [
    "print(\"The columns are:\")\n",
    "[col for col in df_temp.columns if 'del' in col.lower()]"
   ]
  },
  {
   "cell_type": "markdown",
   "metadata": {},
   "source": [
    "Here are some more questions to help you find out more about your dataset.\n",
    "\n",
    "**Questions**   \n",
    "1. How many rows and columns does the dataset have?   \n",
    "2. How many years are included in the dataset?   \n",
    "3. What is the date range for the dataset?   \n",
    "4. Which airlines are included in the dataset?   \n",
    "5. Which origin and destination airports are covered?"
   ]
  },
  {
   "cell_type": "code",
   "execution_count": 14,
   "metadata": {
    "tags": []
   },
   "outputs": [
    {
     "name": "stdout",
     "output_type": "stream",
     "text": [
      "The #rows and #columns are  585749  and  110\n",
      "The years in this dataset are:  2018\n",
      "The months covered in this dataset are:  9\n",
      "The date range for data is : 2018-09-01  to  2018-09-30\n",
      "The airlines covered in this dataset are:  ['9E', 'B6', 'WN', 'YV', 'YX', 'EV', 'AA', 'AS', 'DL', 'HA', 'UA', 'F9', 'G4', 'MQ', 'NK', 'OH', 'OO']\n",
      "The Origin airports covered are:  ['DFW', 'LGA', 'MSN', 'MSP', 'ATL', 'BDL', 'VLD', 'JFK', 'RDU', 'CHS', 'DTW', 'GRB', 'PVD', 'SHV', 'FNT', 'PIT', 'RIC', 'RST', 'RSW', 'CVG', 'LIT', 'ORD', 'JAX', 'TRI', 'BOS', 'CWA', 'DCA', 'CHO', 'AVP', 'IND', 'GRR', 'BTR', 'MEM', 'TUL', 'CLE', 'STL', 'BTV', 'OMA', 'MGM', 'TVC', 'SAV', 'GSP', 'EWR', 'OAJ', 'BNA', 'MCI', 'TLH', 'ROC', 'LEX', 'PWM', 'BUF', 'AGS', 'CLT', 'GSO', 'BWI', 'SAT', 'PHL', 'TYS', 'ACK', 'DSM', 'GNV', 'AVL', 'BGR', 'MHT', 'ILM', 'MOT', 'IAH', 'SBN', 'SYR', 'ORF', 'MKE', 'XNA', 'MSY', 'PBI', 'ABE', 'HPN', 'EVV', 'ALB', 'LNK', 'AUS', 'PHF', 'CHA', 'GTR', 'BMI', 'BQK', 'CID', 'CAK', 'ATW', 'ABY', 'CAE', 'SRQ', 'MLI', 'BHM', 'IAD', 'CSG', 'CMH', 'MCO', 'MBS', 'FLL', 'SDF', 'TPA', 'MVY', 'LAS', 'LGB', 'SFO', 'SAN', 'LAX', 'RNO', 'PDX', 'ANC', 'ABQ', 'SLC', 'DEN', 'PHX', 'OAK', 'SMF', 'SJU', 'SEA', 'HOU', 'STX', 'BUR', 'SWF', 'SJC', 'DAB', 'BQN', 'PSE', 'ORH', 'HYA', 'STT', 'ONT', 'HRL', 'ICT', 'ISP', 'LBB', 'MAF', 'MDW', 'OKC', 'PNS', 'SNA', 'TUS', 'AMA', 'BOI', 'CRP', 'DAL', 'ECP', 'ELP', 'GEG', 'LFT', 'MFE', 'MDT', 'JAN', 'COS', 'MOB', 'VPS', 'MTJ', 'DRO', 'GPT', 'BFL', 'MRY', 'SBA', 'PSP', 'FSD', 'BRO', 'RAP', 'COU', 'STS', 'PIA', 'FAT', 'SBP', 'FSM', 'HSV', 'BIS', 'DAY', 'BZN', 'MIA', 'EYW', 'MYR', 'HHH', 'GJT', 'FAR', 'SGF', 'HOB', 'CLL', 'LRD', 'AEX', 'ERI', 'MLU', 'LCH', 'ROA', 'LAW', 'MHK', 'GRK', 'SAF', 'GRI', 'JLN', 'ROW', 'FWA', 'CRW', 'LAN', 'OGG', 'HNL', 'KOA', 'EGE', 'LIH', 'MLB', 'JAC', 'FAI', 'RDM', 'ADQ', 'BET', 'BRW', 'SCC', 'KTN', 'YAK', 'CDV', 'JNU', 'SIT', 'PSG', 'WRG', 'OME', 'OTZ', 'ADK', 'FCA', 'FAY', 'PSC', 'BIL', 'MSO', 'ITO', 'PPG', 'MFR', 'EUG', 'GUM', 'SPN', 'DLH', 'TTN', 'BKG', 'SFB', 'PIE', 'PGD', 'AZA', 'SMX', 'RFD', 'SCK', 'OWB', 'HTS', 'BLV', 'IAG', 'USA', 'GFK', 'BLI', 'ELM', 'PBG', 'LCK', 'GTF', 'OGD', 'IDA', 'PVU', 'TOL', 'PSM', 'CKB', 'HGR', 'SPI', 'STC', 'ACT', 'TYR', 'ABI', 'AZO', 'CMI', 'BPT', 'GCK', 'MQT', 'ALO', 'TXK', 'SPS', 'SWO', 'DBQ', 'SUX', 'SJT', 'GGG', 'LSE', 'LBE', 'ACY', 'LYH', 'PGV', 'HVN', 'EWN', 'DHN', 'PIH', 'IMT', 'WYS', 'CPR', 'SCE', 'HLN', 'SUN', 'ISN', 'CMX', 'EAU', 'LWB', 'SHD', 'LBF', 'HYS', 'SLN', 'EAR', 'VEL', 'CNY', 'GCC', 'RKS', 'PUB', 'LBL', 'MKG', 'PAH', 'CGI', 'UIN', 'BFF', 'DVL', 'JMS', 'LAR', 'SGU', 'PRC', 'ASE', 'RDD', 'ACV', 'OTH', 'COD', 'LWS', 'ABR', 'APN', 'ESC', 'PLN', 'BJI', 'BRD', 'BTM', 'CDC', 'CIU', 'EKO', 'TWF', 'HIB', 'BGM', 'RHI', 'ITH', 'INL', 'FLG', 'YUM', 'MEI', 'PIB', 'HDN']\n",
      "The Destination airports covered are:  ['CVG', 'PWM', 'RDU', 'MSP', 'MSN', 'SHV', 'CLT', 'PIT', 'RIC', 'IAH', 'ATL', 'JFK', 'DCA', 'DTW', 'LGA', 'TYS', 'PVD', 'FNT', 'LIT', 'BUF', 'ORD', 'TRI', 'IND', 'BGR', 'AVP', 'BWI', 'LEX', 'BDL', 'GRR', 'CWA', 'TUL', 'MEM', 'AGS', 'EWR', 'MGM', 'PHL', 'SYR', 'OMA', 'STL', 'TVC', 'ORF', 'CLE', 'ABY', 'BOS', 'OAJ', 'TLH', 'BTR', 'SAT', 'JAX', 'BNA', 'CHO', 'VLD', 'ROC', 'DFW', 'GNV', 'ACK', 'PBI', 'CHS', 'GRB', 'MOT', 'MKE', 'DSM', 'ILM', 'GSO', 'MCI', 'SBN', 'BTV', 'MVY', 'XNA', 'RST', 'EVV', 'HPN', 'RSW', 'MDT', 'ROA', 'GSP', 'MCO', 'CSG', 'SAV', 'PHF', 'ALB', 'CHA', 'ABE', 'BMI', 'MSY', 'IAD', 'GTR', 'CID', 'CAK', 'ATW', 'AUS', 'BQK', 'MLI', 'CAE', 'CMH', 'AVL', 'MBS', 'FLL', 'SDF', 'TPA', 'LNK', 'SRQ', 'MHT', 'BHM', 'LAS', 'SFO', 'SAN', 'RNO', 'LGB', 'ANC', 'PDX', 'SJU', 'ABQ', 'SLC', 'DEN', 'LAX', 'PHX', 'OAK', 'SMF', 'SEA', 'STX', 'BUR', 'DAB', 'SJC', 'SWF', 'HOU', 'BQN', 'PSE', 'ORH', 'HYA', 'STT', 'ONT', 'DAL', 'ECP', 'ELP', 'HRL', 'MAF', 'MDW', 'OKC', 'PNS', 'SNA', 'AMA', 'BOI', 'GEG', 'ICT', 'LBB', 'TUS', 'ISP', 'CRP', 'MFE', 'LFT', 'VPS', 'JAN', 'COS', 'MOB', 'DRO', 'GPT', 'BFL', 'COU', 'SBP', 'MTJ', 'SBA', 'PSP', 'FSD', 'FSM', 'BRO', 'PIA', 'STS', 'FAT', 'RAP', 'MRY', 'HSV', 'BIS', 'DAY', 'BZN', 'MIA', 'EYW', 'MYR', 'HHH', 'GJT', 'FAR', 'MLU', 'LRD', 'CLL', 'LCH', 'FWA', 'GRK', 'SGF', 'HOB', 'LAW', 'MHK', 'SAF', 'JLN', 'ROW', 'GRI', 'AEX', 'CRW', 'LAN', 'ERI', 'HNL', 'KOA', 'OGG', 'EGE', 'LIH', 'JAC', 'MLB', 'RDM', 'BET', 'ADQ', 'BRW', 'SCC', 'FAI', 'JNU', 'CDV', 'YAK', 'SIT', 'KTN', 'WRG', 'PSG', 'OME', 'OTZ', 'ADK', 'FCA', 'BIL', 'PSC', 'FAY', 'MSO', 'ITO', 'PPG', 'MFR', 'DLH', 'EUG', 'GUM', 'SPN', 'TTN', 'BKG', 'AZA', 'SFB', 'LCK', 'BLI', 'SCK', 'PIE', 'RFD', 'PVU', 'PBG', 'BLV', 'PGD', 'SPI', 'USA', 'TOL', 'IDA', 'ELM', 'HTS', 'HGR', 'SMX', 'OGD', 'GFK', 'STC', 'GTF', 'IAG', 'CKB', 'OWB', 'PSM', 'ABI', 'TYR', 'ALO', 'SUX', 'AZO', 'ACT', 'CMI', 'BPT', 'TXK', 'SWO', 'SPS', 'DBQ', 'SJT', 'GGG', 'LSE', 'MQT', 'GCK', 'LBE', 'ACY', 'LYH', 'PGV', 'HVN', 'EWN', 'DHN', 'PIH', 'WYS', 'SCE', 'IMT', 'HLN', 'ASE', 'SUN', 'ISN', 'EAR', 'SGU', 'VEL', 'SHD', 'LWB', 'MKG', 'SLN', 'HYS', 'BFF', 'PUB', 'LBL', 'CMX', 'EAU', 'PAH', 'UIN', 'RKS', 'CGI', 'CNY', 'JMS', 'DVL', 'LAR', 'GCC', 'LBF', 'PRC', 'RDD', 'ACV', 'OTH', 'COD', 'LWS', 'ABR', 'APN', 'PLN', 'BJI', 'CPR', 'BRD', 'BTM', 'CDC', 'CIU', 'ESC', 'EKO', 'ITH', 'HIB', 'BGM', 'TWF', 'RHI', 'INL', 'FLG', 'YUM', 'MEI', 'PIB', 'HDN']\n"
     ]
    }
   ],
   "source": [
    "print(\"The #rows and #columns are \", df_shape[0] , \" and \", df_shape[1])\n",
    "print(\"The years in this dataset are: \", df_temp.Year.unique()[0])\n",
    "print(\"The months covered in this dataset are: \", df_temp.Month.unique()[0])\n",
    "print(\"The date range for data is :\" , min(df_temp.FlightDate), \" to \", max(df_temp.FlightDate))\n",
    "print(\"The airlines covered in this dataset are: \", list(df_temp.Reporting_Airline.unique()))\n",
    "print(\"The Origin airports covered are: \", list(df_temp.Origin.unique()))\n",
    "print(\"The Destination airports covered are: \", list(df_temp.Dest.unique()))"
   ]
  },
  {
   "cell_type": "markdown",
   "metadata": {},
   "source": [
    "**Question**: What is the count of all the origin and destination airports?\n",
    "\n",
    "**Hint**: You can use the Pandas `values_count` function ([documentation](https://pandas.pydata.org/pandas-docs/stable/reference/api/pandas.Series.value_counts.html)) to find out the values for each airport using the columns `Origin` and `Dest`."
   ]
  },
  {
   "cell_type": "code",
   "execution_count": 15,
   "metadata": {
    "tags": []
   },
   "outputs": [
    {
     "data": {
      "text/html": [
       "<div>\n",
       "<style scoped>\n",
       "    .dataframe tbody tr th:only-of-type {\n",
       "        vertical-align: middle;\n",
       "    }\n",
       "\n",
       "    .dataframe tbody tr th {\n",
       "        vertical-align: top;\n",
       "    }\n",
       "\n",
       "    .dataframe thead th {\n",
       "        text-align: right;\n",
       "    }\n",
       "</style>\n",
       "<table border=\"1\" class=\"dataframe\">\n",
       "  <thead>\n",
       "    <tr style=\"text-align: right;\">\n",
       "      <th></th>\n",
       "      <th>Origin</th>\n",
       "      <th>Destination</th>\n",
       "    </tr>\n",
       "  </thead>\n",
       "  <tbody>\n",
       "    <tr>\n",
       "      <th>ABE</th>\n",
       "      <td>303</td>\n",
       "      <td>303</td>\n",
       "    </tr>\n",
       "    <tr>\n",
       "      <th>ABI</th>\n",
       "      <td>169</td>\n",
       "      <td>169</td>\n",
       "    </tr>\n",
       "    <tr>\n",
       "      <th>ABQ</th>\n",
       "      <td>2077</td>\n",
       "      <td>2076</td>\n",
       "    </tr>\n",
       "    <tr>\n",
       "      <th>ABR</th>\n",
       "      <td>60</td>\n",
       "      <td>60</td>\n",
       "    </tr>\n",
       "    <tr>\n",
       "      <th>ABY</th>\n",
       "      <td>79</td>\n",
       "      <td>79</td>\n",
       "    </tr>\n",
       "    <tr>\n",
       "      <th>...</th>\n",
       "      <td>...</td>\n",
       "      <td>...</td>\n",
       "    </tr>\n",
       "    <tr>\n",
       "      <th>WRG</th>\n",
       "      <td>60</td>\n",
       "      <td>60</td>\n",
       "    </tr>\n",
       "    <tr>\n",
       "      <th>WYS</th>\n",
       "      <td>52</td>\n",
       "      <td>52</td>\n",
       "    </tr>\n",
       "    <tr>\n",
       "      <th>XNA</th>\n",
       "      <td>1004</td>\n",
       "      <td>1004</td>\n",
       "    </tr>\n",
       "    <tr>\n",
       "      <th>YAK</th>\n",
       "      <td>60</td>\n",
       "      <td>60</td>\n",
       "    </tr>\n",
       "    <tr>\n",
       "      <th>YUM</th>\n",
       "      <td>96</td>\n",
       "      <td>96</td>\n",
       "    </tr>\n",
       "  </tbody>\n",
       "</table>\n",
       "<p>346 rows × 2 columns</p>\n",
       "</div>"
      ],
      "text/plain": [
       "     Origin  Destination\n",
       "ABE     303          303\n",
       "ABI     169          169\n",
       "ABQ    2077         2076\n",
       "ABR      60           60\n",
       "ABY      79           79\n",
       "..      ...          ...\n",
       "WRG      60           60\n",
       "WYS      52           52\n",
       "XNA    1004         1004\n",
       "YAK      60           60\n",
       "YUM      96           96\n",
       "\n",
       "[346 rows x 2 columns]"
      ]
     },
     "execution_count": 15,
     "metadata": {},
     "output_type": "execute_result"
    }
   ],
   "source": [
    "counts = pd.DataFrame({'Origin':df_temp.Origin.value_counts(), 'Destination':df_temp.Dest.value_counts()})\n",
    "counts"
   ]
  },
  {
   "cell_type": "markdown",
   "metadata": {},
   "source": [
    "**Question**: Print the top 15 origin and destination airports based on number of flights in the dataset.\n",
    "\n",
    "**Hint**: You can use the Pandas `sort_values` function ([documentation](https://pandas.pydata.org/pandas-docs/stable/reference/api/pandas.DataFrame.sort_values.html))."
   ]
  },
  {
   "cell_type": "code",
   "execution_count": 16,
   "metadata": {
    "tags": []
   },
   "outputs": [
    {
     "data": {
      "text/html": [
       "<div>\n",
       "<style scoped>\n",
       "    .dataframe tbody tr th:only-of-type {\n",
       "        vertical-align: middle;\n",
       "    }\n",
       "\n",
       "    .dataframe tbody tr th {\n",
       "        vertical-align: top;\n",
       "    }\n",
       "\n",
       "    .dataframe thead th {\n",
       "        text-align: right;\n",
       "    }\n",
       "</style>\n",
       "<table border=\"1\" class=\"dataframe\">\n",
       "  <thead>\n",
       "    <tr style=\"text-align: right;\">\n",
       "      <th></th>\n",
       "      <th>Origin</th>\n",
       "      <th>Destination</th>\n",
       "    </tr>\n",
       "  </thead>\n",
       "  <tbody>\n",
       "    <tr>\n",
       "      <th>ATL</th>\n",
       "      <td>31525</td>\n",
       "      <td>31521</td>\n",
       "    </tr>\n",
       "    <tr>\n",
       "      <th>ORD</th>\n",
       "      <td>28257</td>\n",
       "      <td>28250</td>\n",
       "    </tr>\n",
       "    <tr>\n",
       "      <th>DFW</th>\n",
       "      <td>22802</td>\n",
       "      <td>22795</td>\n",
       "    </tr>\n",
       "    <tr>\n",
       "      <th>DEN</th>\n",
       "      <td>19807</td>\n",
       "      <td>19807</td>\n",
       "    </tr>\n",
       "    <tr>\n",
       "      <th>CLT</th>\n",
       "      <td>19655</td>\n",
       "      <td>19654</td>\n",
       "    </tr>\n",
       "    <tr>\n",
       "      <th>LAX</th>\n",
       "      <td>17875</td>\n",
       "      <td>17873</td>\n",
       "    </tr>\n",
       "    <tr>\n",
       "      <th>SFO</th>\n",
       "      <td>14332</td>\n",
       "      <td>14348</td>\n",
       "    </tr>\n",
       "    <tr>\n",
       "      <th>IAH</th>\n",
       "      <td>14210</td>\n",
       "      <td>14203</td>\n",
       "    </tr>\n",
       "    <tr>\n",
       "      <th>LGA</th>\n",
       "      <td>13850</td>\n",
       "      <td>13850</td>\n",
       "    </tr>\n",
       "    <tr>\n",
       "      <th>MSP</th>\n",
       "      <td>13349</td>\n",
       "      <td>13347</td>\n",
       "    </tr>\n",
       "    <tr>\n",
       "      <th>LAS</th>\n",
       "      <td>13318</td>\n",
       "      <td>13322</td>\n",
       "    </tr>\n",
       "    <tr>\n",
       "      <th>PHX</th>\n",
       "      <td>13126</td>\n",
       "      <td>13128</td>\n",
       "    </tr>\n",
       "    <tr>\n",
       "      <th>DTW</th>\n",
       "      <td>12725</td>\n",
       "      <td>12724</td>\n",
       "    </tr>\n",
       "    <tr>\n",
       "      <th>BOS</th>\n",
       "      <td>12223</td>\n",
       "      <td>12227</td>\n",
       "    </tr>\n",
       "    <tr>\n",
       "      <th>SEA</th>\n",
       "      <td>11872</td>\n",
       "      <td>11877</td>\n",
       "    </tr>\n",
       "  </tbody>\n",
       "</table>\n",
       "</div>"
      ],
      "text/plain": [
       "     Origin  Destination\n",
       "ATL   31525        31521\n",
       "ORD   28257        28250\n",
       "DFW   22802        22795\n",
       "DEN   19807        19807\n",
       "CLT   19655        19654\n",
       "LAX   17875        17873\n",
       "SFO   14332        14348\n",
       "IAH   14210        14203\n",
       "LGA   13850        13850\n",
       "MSP   13349        13347\n",
       "LAS   13318        13322\n",
       "PHX   13126        13128\n",
       "DTW   12725        12724\n",
       "BOS   12223        12227\n",
       "SEA   11872        11877"
      ]
     },
     "execution_count": 16,
     "metadata": {},
     "output_type": "execute_result"
    }
   ],
   "source": [
    "counts.sort_values(by=['Origin'],ascending=False).head(15 )# Enter your code here"
   ]
  },
  {
   "cell_type": "markdown",
   "metadata": {},
   "source": [
    "**Question**: Given all the information about a flight trip, can you predict if it would be delayed?"
   ]
  },
  {
   "cell_type": "code",
   "execution_count": 17,
   "metadata": {
    "tags": []
   },
   "outputs": [],
   "source": [
    "# Enter your answer here"
   ]
  },
  {
   "cell_type": "markdown",
   "metadata": {},
   "source": [
    "Now, assume you are traveling from San Francisco to Los Angeles on a work trip. You want to have an ideas if your flight will be delayed, given a set of features, so that you can manage your reservations in Los Angeles better. How many features from this dataset would you know before your flight?\n",
    "\n",
    "Columns such as `CarrierDelay`, `WeatherDelay`, `NASDelay`, `SecurityDelay`, `LateAircraftDelay`, and `DivArrDelay` contain information about a delay. But this delay could have occurred at the origin or destination. If there were a sudden weather delay 10 minutes before landing, this data would not be helpful in managing your Los Angeles reservations.\n",
    "\n",
    "So to simplify the problem statement, consider the following columns to predict an arrival delay:\n",
    "\n",
    "`Year`, `Quarter`, `Month`, `DayofMonth`, `DayOfWeek`, `FlightDate`, `Reporting_Airline`, `Origin`, `OriginState`, `Dest`, `DestState`, `CRSDepTime`, `DepDelayMinutes`, `DepartureDelayGroups`, `Cancelled`, `Diverted`, `Distance`, `DistanceGroup`, `ArrDelay`, `ArrDelayMinutes`, `ArrDel15`, `AirTime`\n",
    "\n",
    "You will also filter the source and destination airports to be:\n",
    "- Top airports: ATL, ORD, DFW, DEN, CLT, LAX, IAH, PHX, SFO\n",
    "- Top 5 airlines: UA, OO, WN, AA, DL\n",
    "\n",
    "This should help in reducing the size of data across the CSV files to be combined."
   ]
  },
  {
   "cell_type": "markdown",
   "metadata": {},
   "source": [
    "#### Combine all CSV files\n",
    "\n",
    "**Hint**:  \n",
    "First, create an empy dataframe that you will use to copy your individual dataframes from each file. Then, for each file in the `csv_files` list:\n",
    "\n",
    "1. Read the CSV file into a dataframe  \n",
    "2. Filter the columns based on the `filter_cols` variable\n",
    "\n",
    "```\n",
    "        columns = ['col1', 'col2']\n",
    "        df_filter = df[columns]\n",
    "```\n",
    "\n",
    "3. Keep only the subset_vals in each of the subset_cols. Use the `isin` Pandas function ([documentation](https://pandas.pydata.org/pandas-docs/stable/reference/api/pandas.DataFrame.isin.html)) to check if the `val` is in the dataframe column and then choose the rows that include it.\n",
    "\n",
    "```\n",
    "        df_eg[df_eg['col1'].isin('5')]\n",
    "```\n",
    "\n",
    "4. Concatenate the dataframe with the empty dataframe "
   ]
  },
  {
   "cell_type": "code",
   "execution_count": 18,
   "metadata": {
    "tags": []
   },
   "outputs": [],
   "source": [
    "def combine_csv(csv_files, filter_cols, subset_cols, subset_vals, file_name = '/home/ec2-user/SageMaker/project/data/FlightDelays/combined_files.csv'):\n",
    "    \"\"\"\n",
    "    Combine csv files into one Data Frame\n",
    "    csv_files: list of csv file paths\n",
    "    filter_cols: list of columns to filter\n",
    "    subset_cols: list of columns to subset rows\n",
    "    subset_vals: list of list of values to subset rows\n",
    "    \"\"\"\n",
    "    # Create an empty dataframe\n",
    "    df = pd.DataFrame()\n",
    "    \n",
    "    for file in csv_files:\n",
    "        # Read the CSV file into a dataframe\n",
    "        df_temp = pd.read_csv(file)# Enter your code here\n",
    "        \n",
    "        # Filter the columns based on the filter_cols variable\n",
    "        # e.g. columns = ['col1', 'col2']\n",
    "        # df_filter = df[columns]\n",
    "        df_temp = df_temp[filter_cols]\n",
    "        \n",
    "        # Keep only the subset_vals in each of the subset_cols\n",
    "        # HINT: Use the `isin` function to check if the val is in dataframe column\n",
    "        # and then choose the rows that include it\n",
    "        # e.g. df[df['col1'].isin('5')]\n",
    "        for col, val in zip(subset_cols,subset_vals):\n",
    "            df_temp = df_temp[df_temp[col].isin(val)]     \n",
    "        \n",
    "        # Use Pandas concatenate `pd.concat` to concatenate the main dataframe with the dataframe for each file\n",
    "        df = pd.concat([df, df_temp], axis=0)\n",
    "    \n",
    "        \n",
    "    df.to_csv(file_name, index=False)\n",
    "    print(f'Combined csv stored at {file_name}')"
   ]
  },
  {
   "cell_type": "code",
   "execution_count": 19,
   "metadata": {
    "tags": []
   },
   "outputs": [],
   "source": [
    "#cols is the list of columns to predict Arrival Delay \n",
    "cols = ['Year','Quarter','Month','DayofMonth','DayOfWeek','FlightDate',\n",
    "        'Reporting_Airline','Origin','OriginState','Dest','DestState',\n",
    "        'CRSDepTime','Cancelled','Diverted','Distance','DistanceGroup',\n",
    "        'ArrDelay','ArrDelayMinutes','ArrDel15','AirTime']\n",
    "\n",
    "subset_cols = ['Origin', 'Dest', 'Reporting_Airline']\n",
    "\n",
    "# subset_vals is a list collection of the top origin and destination airports and top 5 airlines\n",
    "subset_vals = [['ATL', 'ORD', 'DFW', 'DEN', 'CLT', 'LAX', 'IAH', 'PHX', 'SFO'], \n",
    "               ['ATL', 'ORD', 'DFW', 'DEN', 'CLT', 'LAX', 'IAH', 'PHX', 'SFO'], \n",
    "               ['UA', 'OO', 'WN', 'AA', 'DL']]"
   ]
  },
  {
   "cell_type": "markdown",
   "metadata": {},
   "source": [
    "Use the function above to merge all the different files into a single file that you can read easily. \n",
    "\n",
    "**Note**: This will take 5-7 minutes to complete."
   ]
  },
  {
   "cell_type": "code",
   "execution_count": 20,
   "metadata": {
    "tags": []
   },
   "outputs": [
    {
     "name": "stdout",
     "output_type": "stream",
     "text": [
      "Combined csv stored at /home/ec2-user/SageMaker/project/data/FlightDelays/combined_files.csv\n",
      "csv's merged in 4.41 minutes\n"
     ]
    }
   ],
   "source": [
    "start = time.time()\n",
    "combine_csv(csv_files, cols, subset_cols, subset_vals)\n",
    "print(f'csv\\'s merged in {round((time.time() - start)/60,2)} minutes')"
   ]
  },
  {
   "cell_type": "markdown",
   "metadata": {},
   "source": [
    "#### Load dataset\n",
    "\n",
    "Load the combined dataset."
   ]
  },
  {
   "cell_type": "code",
   "execution_count": 21,
   "metadata": {
    "tags": []
   },
   "outputs": [],
   "source": [
    "data = pd.read_csv('/home/ec2-user/SageMaker/project/data/FlightDelays/combined_files.csv')# Enter your code here to read the combined csv file."
   ]
  },
  {
   "cell_type": "markdown",
   "metadata": {},
   "source": [
    "Print the first 5 records."
   ]
  },
  {
   "cell_type": "code",
   "execution_count": 22,
   "metadata": {
    "tags": []
   },
   "outputs": [
    {
     "data": {
      "text/html": [
       "<div>\n",
       "<style scoped>\n",
       "    .dataframe tbody tr th:only-of-type {\n",
       "        vertical-align: middle;\n",
       "    }\n",
       "\n",
       "    .dataframe tbody tr th {\n",
       "        vertical-align: top;\n",
       "    }\n",
       "\n",
       "    .dataframe thead th {\n",
       "        text-align: right;\n",
       "    }\n",
       "</style>\n",
       "<table border=\"1\" class=\"dataframe\">\n",
       "  <thead>\n",
       "    <tr style=\"text-align: right;\">\n",
       "      <th></th>\n",
       "      <th>Year</th>\n",
       "      <th>Quarter</th>\n",
       "      <th>Month</th>\n",
       "      <th>DayofMonth</th>\n",
       "      <th>DayOfWeek</th>\n",
       "      <th>FlightDate</th>\n",
       "      <th>Reporting_Airline</th>\n",
       "      <th>Origin</th>\n",
       "      <th>OriginState</th>\n",
       "      <th>Dest</th>\n",
       "      <th>DestState</th>\n",
       "      <th>CRSDepTime</th>\n",
       "      <th>Cancelled</th>\n",
       "      <th>Diverted</th>\n",
       "      <th>Distance</th>\n",
       "      <th>DistanceGroup</th>\n",
       "      <th>ArrDelay</th>\n",
       "      <th>ArrDelayMinutes</th>\n",
       "      <th>ArrDel15</th>\n",
       "      <th>AirTime</th>\n",
       "    </tr>\n",
       "  </thead>\n",
       "  <tbody>\n",
       "    <tr>\n",
       "      <th>0</th>\n",
       "      <td>2014</td>\n",
       "      <td>4</td>\n",
       "      <td>10</td>\n",
       "      <td>1</td>\n",
       "      <td>3</td>\n",
       "      <td>2014-10-01</td>\n",
       "      <td>AA</td>\n",
       "      <td>DFW</td>\n",
       "      <td>TX</td>\n",
       "      <td>SFO</td>\n",
       "      <td>CA</td>\n",
       "      <td>755</td>\n",
       "      <td>0.0</td>\n",
       "      <td>0.0</td>\n",
       "      <td>1464.0</td>\n",
       "      <td>6</td>\n",
       "      <td>-9.0</td>\n",
       "      <td>0.0</td>\n",
       "      <td>0.0</td>\n",
       "      <td>195.0</td>\n",
       "    </tr>\n",
       "    <tr>\n",
       "      <th>1</th>\n",
       "      <td>2014</td>\n",
       "      <td>4</td>\n",
       "      <td>10</td>\n",
       "      <td>2</td>\n",
       "      <td>4</td>\n",
       "      <td>2014-10-02</td>\n",
       "      <td>AA</td>\n",
       "      <td>DFW</td>\n",
       "      <td>TX</td>\n",
       "      <td>SFO</td>\n",
       "      <td>CA</td>\n",
       "      <td>755</td>\n",
       "      <td>0.0</td>\n",
       "      <td>0.0</td>\n",
       "      <td>1464.0</td>\n",
       "      <td>6</td>\n",
       "      <td>40.0</td>\n",
       "      <td>40.0</td>\n",
       "      <td>1.0</td>\n",
       "      <td>199.0</td>\n",
       "    </tr>\n",
       "    <tr>\n",
       "      <th>2</th>\n",
       "      <td>2014</td>\n",
       "      <td>4</td>\n",
       "      <td>10</td>\n",
       "      <td>3</td>\n",
       "      <td>5</td>\n",
       "      <td>2014-10-03</td>\n",
       "      <td>AA</td>\n",
       "      <td>DFW</td>\n",
       "      <td>TX</td>\n",
       "      <td>SFO</td>\n",
       "      <td>CA</td>\n",
       "      <td>755</td>\n",
       "      <td>0.0</td>\n",
       "      <td>0.0</td>\n",
       "      <td>1464.0</td>\n",
       "      <td>6</td>\n",
       "      <td>9.0</td>\n",
       "      <td>9.0</td>\n",
       "      <td>0.0</td>\n",
       "      <td>196.0</td>\n",
       "    </tr>\n",
       "    <tr>\n",
       "      <th>3</th>\n",
       "      <td>2014</td>\n",
       "      <td>4</td>\n",
       "      <td>10</td>\n",
       "      <td>4</td>\n",
       "      <td>6</td>\n",
       "      <td>2014-10-04</td>\n",
       "      <td>AA</td>\n",
       "      <td>DFW</td>\n",
       "      <td>TX</td>\n",
       "      <td>SFO</td>\n",
       "      <td>CA</td>\n",
       "      <td>755</td>\n",
       "      <td>0.0</td>\n",
       "      <td>0.0</td>\n",
       "      <td>1464.0</td>\n",
       "      <td>6</td>\n",
       "      <td>-16.0</td>\n",
       "      <td>0.0</td>\n",
       "      <td>0.0</td>\n",
       "      <td>195.0</td>\n",
       "    </tr>\n",
       "    <tr>\n",
       "      <th>4</th>\n",
       "      <td>2014</td>\n",
       "      <td>4</td>\n",
       "      <td>10</td>\n",
       "      <td>5</td>\n",
       "      <td>7</td>\n",
       "      <td>2014-10-05</td>\n",
       "      <td>AA</td>\n",
       "      <td>DFW</td>\n",
       "      <td>TX</td>\n",
       "      <td>SFO</td>\n",
       "      <td>CA</td>\n",
       "      <td>755</td>\n",
       "      <td>0.0</td>\n",
       "      <td>0.0</td>\n",
       "      <td>1464.0</td>\n",
       "      <td>6</td>\n",
       "      <td>-8.0</td>\n",
       "      <td>0.0</td>\n",
       "      <td>0.0</td>\n",
       "      <td>192.0</td>\n",
       "    </tr>\n",
       "  </tbody>\n",
       "</table>\n",
       "</div>"
      ],
      "text/plain": [
       "   Year  Quarter  Month  DayofMonth  DayOfWeek  FlightDate Reporting_Airline  \\\n",
       "0  2014        4     10           1          3  2014-10-01                AA   \n",
       "1  2014        4     10           2          4  2014-10-02                AA   \n",
       "2  2014        4     10           3          5  2014-10-03                AA   \n",
       "3  2014        4     10           4          6  2014-10-04                AA   \n",
       "4  2014        4     10           5          7  2014-10-05                AA   \n",
       "\n",
       "  Origin OriginState Dest DestState  CRSDepTime  Cancelled  Diverted  \\\n",
       "0    DFW          TX  SFO        CA         755        0.0       0.0   \n",
       "1    DFW          TX  SFO        CA         755        0.0       0.0   \n",
       "2    DFW          TX  SFO        CA         755        0.0       0.0   \n",
       "3    DFW          TX  SFO        CA         755        0.0       0.0   \n",
       "4    DFW          TX  SFO        CA         755        0.0       0.0   \n",
       "\n",
       "   Distance  DistanceGroup  ArrDelay  ArrDelayMinutes  ArrDel15  AirTime  \n",
       "0    1464.0              6      -9.0              0.0       0.0    195.0  \n",
       "1    1464.0              6      40.0             40.0       1.0    199.0  \n",
       "2    1464.0              6       9.0              9.0       0.0    196.0  \n",
       "3    1464.0              6     -16.0              0.0       0.0    195.0  \n",
       "4    1464.0              6      -8.0              0.0       0.0    192.0  "
      ]
     },
     "execution_count": 22,
     "metadata": {},
     "output_type": "execute_result"
    }
   ],
   "source": [
    "data.head()"
   ]
  },
  {
   "cell_type": "markdown",
   "metadata": {},
   "source": [
    "Here are some more questions to help you find out more about your dataset.\n",
    "\n",
    "**Questions**   \n",
    "1. How many rows and columns does the dataset have?   \n",
    "2. How many years are included in the dataset?   \n",
    "3. What is the date range for the dataset?   \n",
    "4. Which airlines are included in the dataset?   \n",
    "5. Which origin and destination airports are covered?"
   ]
  },
  {
   "cell_type": "code",
   "execution_count": 23,
   "metadata": {
    "tags": []
   },
   "outputs": [
    {
     "name": "stdout",
     "output_type": "stream",
     "text": [
      "The #rows and #columns are  1658130  and  20\n",
      "The years in this dataset are:  [2014, 2016, 2018, 2017, 2015]\n",
      "The months covered in this dataset are:  [1, 2, 3, 4, 5, 6, 7, 8, 9, 10, 11, 12]\n",
      "The date range for data is : 2014-01-01  to  2018-12-31\n",
      "The airlines covered in this dataset are:  ['AA', 'DL', 'WN', 'UA', 'OO']\n",
      "The Origin airports covered are:  ['DFW', 'SFO', 'DEN', 'PHX', 'IAH', 'ATL', 'ORD', 'LAX', 'CLT']\n",
      "The Destination airports covered are:  ['SFO', 'DFW', 'DEN', 'PHX', 'ORD', 'IAH', 'ATL', 'LAX', 'CLT']\n"
     ]
    }
   ],
   "source": [
    "print(\"The #rows and #columns are \", data.shape[0] , \" and \", data.shape[1])\n",
    "print(\"The years in this dataset are: \", list(data.Year.unique()))\n",
    "print(\"The months covered in this dataset are: \", sorted(list(data.Month.unique())))\n",
    "print(\"The date range for data is :\" , min(data.FlightDate), \" to \", max(data.FlightDate))\n",
    "print(\"The airlines covered in this dataset are: \", list(data.Reporting_Airline.unique()))\n",
    "print(\"The Origin airports covered are: \", list(data.Origin.unique()))\n",
    "print(\"The Destination airports covered are: \", list(data.Dest.unique()))"
   ]
  },
  {
   "cell_type": "markdown",
   "metadata": {},
   "source": [
    "Let's define our **target column : is_delay** (1 - if arrival time delayed more than 15 minutes, 0 - otherwise). Use the `rename` method to rename the column from `ArrDel15` to `is_delay`.\n",
    "\n",
    "**Hint**: You can use the Pandas `rename` function ([documentation](https://pandas.pydata.org/pandas-docs/stable/reference/api/pandas.DataFrame.rename.html)).\n",
    "\n",
    "For example:\n",
    "```\n",
    "df.rename(columns={'col1':'column1'}, inplace=True)\n",
    "```"
   ]
  },
  {
   "cell_type": "code",
   "execution_count": 24,
   "metadata": {
    "tags": []
   },
   "outputs": [
    {
     "data": {
      "text/html": [
       "<div>\n",
       "<style scoped>\n",
       "    .dataframe tbody tr th:only-of-type {\n",
       "        vertical-align: middle;\n",
       "    }\n",
       "\n",
       "    .dataframe tbody tr th {\n",
       "        vertical-align: top;\n",
       "    }\n",
       "\n",
       "    .dataframe thead th {\n",
       "        text-align: right;\n",
       "    }\n",
       "</style>\n",
       "<table border=\"1\" class=\"dataframe\">\n",
       "  <thead>\n",
       "    <tr style=\"text-align: right;\">\n",
       "      <th></th>\n",
       "      <th>Year</th>\n",
       "      <th>Quarter</th>\n",
       "      <th>Month</th>\n",
       "      <th>DayofMonth</th>\n",
       "      <th>DayOfWeek</th>\n",
       "      <th>FlightDate</th>\n",
       "      <th>Reporting_Airline</th>\n",
       "      <th>Origin</th>\n",
       "      <th>OriginState</th>\n",
       "      <th>Dest</th>\n",
       "      <th>DestState</th>\n",
       "      <th>CRSDepTime</th>\n",
       "      <th>Cancelled</th>\n",
       "      <th>Diverted</th>\n",
       "      <th>Distance</th>\n",
       "      <th>DistanceGroup</th>\n",
       "      <th>ArrDelay</th>\n",
       "      <th>ArrDelayMinutes</th>\n",
       "      <th>is_delay</th>\n",
       "      <th>AirTime</th>\n",
       "    </tr>\n",
       "  </thead>\n",
       "  <tbody>\n",
       "    <tr>\n",
       "      <th>0</th>\n",
       "      <td>2014</td>\n",
       "      <td>4</td>\n",
       "      <td>10</td>\n",
       "      <td>1</td>\n",
       "      <td>3</td>\n",
       "      <td>2014-10-01</td>\n",
       "      <td>AA</td>\n",
       "      <td>DFW</td>\n",
       "      <td>TX</td>\n",
       "      <td>SFO</td>\n",
       "      <td>CA</td>\n",
       "      <td>755</td>\n",
       "      <td>0.0</td>\n",
       "      <td>0.0</td>\n",
       "      <td>1464.0</td>\n",
       "      <td>6</td>\n",
       "      <td>-9.0</td>\n",
       "      <td>0.0</td>\n",
       "      <td>0.0</td>\n",
       "      <td>195.0</td>\n",
       "    </tr>\n",
       "    <tr>\n",
       "      <th>1</th>\n",
       "      <td>2014</td>\n",
       "      <td>4</td>\n",
       "      <td>10</td>\n",
       "      <td>2</td>\n",
       "      <td>4</td>\n",
       "      <td>2014-10-02</td>\n",
       "      <td>AA</td>\n",
       "      <td>DFW</td>\n",
       "      <td>TX</td>\n",
       "      <td>SFO</td>\n",
       "      <td>CA</td>\n",
       "      <td>755</td>\n",
       "      <td>0.0</td>\n",
       "      <td>0.0</td>\n",
       "      <td>1464.0</td>\n",
       "      <td>6</td>\n",
       "      <td>40.0</td>\n",
       "      <td>40.0</td>\n",
       "      <td>1.0</td>\n",
       "      <td>199.0</td>\n",
       "    </tr>\n",
       "    <tr>\n",
       "      <th>2</th>\n",
       "      <td>2014</td>\n",
       "      <td>4</td>\n",
       "      <td>10</td>\n",
       "      <td>3</td>\n",
       "      <td>5</td>\n",
       "      <td>2014-10-03</td>\n",
       "      <td>AA</td>\n",
       "      <td>DFW</td>\n",
       "      <td>TX</td>\n",
       "      <td>SFO</td>\n",
       "      <td>CA</td>\n",
       "      <td>755</td>\n",
       "      <td>0.0</td>\n",
       "      <td>0.0</td>\n",
       "      <td>1464.0</td>\n",
       "      <td>6</td>\n",
       "      <td>9.0</td>\n",
       "      <td>9.0</td>\n",
       "      <td>0.0</td>\n",
       "      <td>196.0</td>\n",
       "    </tr>\n",
       "    <tr>\n",
       "      <th>3</th>\n",
       "      <td>2014</td>\n",
       "      <td>4</td>\n",
       "      <td>10</td>\n",
       "      <td>4</td>\n",
       "      <td>6</td>\n",
       "      <td>2014-10-04</td>\n",
       "      <td>AA</td>\n",
       "      <td>DFW</td>\n",
       "      <td>TX</td>\n",
       "      <td>SFO</td>\n",
       "      <td>CA</td>\n",
       "      <td>755</td>\n",
       "      <td>0.0</td>\n",
       "      <td>0.0</td>\n",
       "      <td>1464.0</td>\n",
       "      <td>6</td>\n",
       "      <td>-16.0</td>\n",
       "      <td>0.0</td>\n",
       "      <td>0.0</td>\n",
       "      <td>195.0</td>\n",
       "    </tr>\n",
       "    <tr>\n",
       "      <th>4</th>\n",
       "      <td>2014</td>\n",
       "      <td>4</td>\n",
       "      <td>10</td>\n",
       "      <td>5</td>\n",
       "      <td>7</td>\n",
       "      <td>2014-10-05</td>\n",
       "      <td>AA</td>\n",
       "      <td>DFW</td>\n",
       "      <td>TX</td>\n",
       "      <td>SFO</td>\n",
       "      <td>CA</td>\n",
       "      <td>755</td>\n",
       "      <td>0.0</td>\n",
       "      <td>0.0</td>\n",
       "      <td>1464.0</td>\n",
       "      <td>6</td>\n",
       "      <td>-8.0</td>\n",
       "      <td>0.0</td>\n",
       "      <td>0.0</td>\n",
       "      <td>192.0</td>\n",
       "    </tr>\n",
       "  </tbody>\n",
       "</table>\n",
       "</div>"
      ],
      "text/plain": [
       "   Year  Quarter  Month  DayofMonth  DayOfWeek  FlightDate Reporting_Airline  \\\n",
       "0  2014        4     10           1          3  2014-10-01                AA   \n",
       "1  2014        4     10           2          4  2014-10-02                AA   \n",
       "2  2014        4     10           3          5  2014-10-03                AA   \n",
       "3  2014        4     10           4          6  2014-10-04                AA   \n",
       "4  2014        4     10           5          7  2014-10-05                AA   \n",
       "\n",
       "  Origin OriginState Dest DestState  CRSDepTime  Cancelled  Diverted  \\\n",
       "0    DFW          TX  SFO        CA         755        0.0       0.0   \n",
       "1    DFW          TX  SFO        CA         755        0.0       0.0   \n",
       "2    DFW          TX  SFO        CA         755        0.0       0.0   \n",
       "3    DFW          TX  SFO        CA         755        0.0       0.0   \n",
       "4    DFW          TX  SFO        CA         755        0.0       0.0   \n",
       "\n",
       "   Distance  DistanceGroup  ArrDelay  ArrDelayMinutes  is_delay  AirTime  \n",
       "0    1464.0              6      -9.0              0.0       0.0    195.0  \n",
       "1    1464.0              6      40.0             40.0       1.0    199.0  \n",
       "2    1464.0              6       9.0              9.0       0.0    196.0  \n",
       "3    1464.0              6     -16.0              0.0       0.0    195.0  \n",
       "4    1464.0              6      -8.0              0.0       0.0    192.0  "
      ]
     },
     "execution_count": 24,
     "metadata": {},
     "output_type": "execute_result"
    }
   ],
   "source": [
    "data.rename(columns={'ArrDel15': 'is_delay' }, inplace=True) \n",
    "data.head()"
   ]
  },
  {
   "cell_type": "markdown",
   "metadata": {},
   "source": [
    "Look for nulls across columns. You can use the `isnull()` function ([documentation](https://pandas.pydata.org/pandas-docs/version/0.17.0/generated/pandas.isnull.html)).\n",
    "\n",
    "**Hint**: `isnull()` detects whether the particular value is null or not and gives you a boolean (True or False) in its place. Use the `sum(axis=0)` function to sum up the number of columns."
   ]
  },
  {
   "cell_type": "code",
   "execution_count": 25,
   "metadata": {
    "tags": []
   },
   "outputs": [
    {
     "data": {
      "text/plain": [
       "Year                     0\n",
       "Quarter                  0\n",
       "Month                    0\n",
       "DayofMonth               0\n",
       "DayOfWeek                0\n",
       "FlightDate               0\n",
       "Reporting_Airline        0\n",
       "Origin                   0\n",
       "OriginState              0\n",
       "Dest                     0\n",
       "DestState                0\n",
       "CRSDepTime               0\n",
       "Cancelled                0\n",
       "Diverted                 0\n",
       "Distance                 0\n",
       "DistanceGroup            0\n",
       "ArrDelay             22540\n",
       "ArrDelayMinutes      22540\n",
       "is_delay             22540\n",
       "AirTime              22540\n",
       "dtype: int64"
      ]
     },
     "execution_count": 25,
     "metadata": {},
     "output_type": "execute_result"
    }
   ],
   "source": [
    "data.isnull().sum(axis=0)"
   ]
  },
  {
   "cell_type": "markdown",
   "metadata": {},
   "source": [
    "The arrival delay details and airtime are missing for 22540 out of 1658130 rows, which is 1.3%. You can either remove or impute these rows. The documentation does not mention anything about missing rows.\n",
    "\n",
    "**Hint**: Use the `~` operator to choose the values that aren't null from the `isnull()` output.\n",
    "\n",
    "For example:\n",
    "```\n",
    "null_eg = df_eg[~df_eg['column_name'].isnull()]\n",
    "```"
   ]
  },
  {
   "cell_type": "code",
   "execution_count": 26,
   "metadata": {
    "tags": []
   },
   "outputs": [
    {
     "data": {
      "text/plain": [
       "Year                 0\n",
       "Quarter              0\n",
       "Month                0\n",
       "DayofMonth           0\n",
       "DayOfWeek            0\n",
       "FlightDate           0\n",
       "Reporting_Airline    0\n",
       "Origin               0\n",
       "OriginState          0\n",
       "Dest                 0\n",
       "DestState            0\n",
       "CRSDepTime           0\n",
       "Cancelled            0\n",
       "Diverted             0\n",
       "Distance             0\n",
       "DistanceGroup        0\n",
       "ArrDelay             0\n",
       "ArrDelayMinutes      0\n",
       "is_delay             0\n",
       "AirTime              0\n",
       "dtype: int64"
      ]
     },
     "execution_count": 26,
     "metadata": {},
     "output_type": "execute_result"
    }
   ],
   "source": [
    "### Remove null columns\n",
    "data = data[~data.is_delay.isnull()]\n",
    "data.isnull().sum(axis = 0)"
   ]
  },
  {
   "cell_type": "markdown",
   "metadata": {},
   "source": [
    "Get the hour of the day in 24-hour time format from CRSDepTime."
   ]
  },
  {
   "cell_type": "code",
   "execution_count": 27,
   "metadata": {
    "tags": []
   },
   "outputs": [],
   "source": [
    "data['DepHourofDay'] = (data['CRSDepTime']//100)"
   ]
  },
  {
   "cell_type": "markdown",
   "metadata": {},
   "source": [
    "## **The ML problem statement**\n",
    "- Given a set of features, can you predict if a flight is going to be delayed more than 15 minutes?\n",
    "- Because the target variable takes only 0/1 value, you could use a classification algorithm. \n",
    "\n",
    "Before jumping to modeling, it is always a good practice to look at feature distribution, correlations, etc.\n",
    "- This will give an idea of any non-linearity/patterns in the data.\n",
    "    - Linear models: Add power/exponential/interaction features\n",
    "    - Try a non-linear model\n",
    "- Data imbalance \n",
    "    - Choose metrics that will not give biased model performance (accuracy. vs AUC)\n",
    "    - Use weighted/custom loss functions\n",
    "- Missing data\n",
    "    - Do imputation based on simple statistics - mean, median, mode (numerical variables) frequent class (categorical variables)\n",
    "    - Clustering based imputation (KNNs to predict column value)\n",
    "    - Drop column"
   ]
  },
  {
   "cell_type": "markdown",
   "metadata": {},
   "source": [
    "### Data exploration\n",
    "\n",
    "#### Check class delay vs. no delay\n",
    "\n",
    "**Hint**: Use a `groupby` plot ([documentation](https://pandas.pydata.org/pandas-docs/stable/reference/api/pandas.DataFrame.groupby.html)) with a `bar` plot ([documentation](https://matplotlib.org/tutorials/introductory/pyplot.html)) to plot the frequency vs. distribution of the class."
   ]
  },
  {
   "cell_type": "code",
   "execution_count": 28,
   "metadata": {
    "tags": []
   },
   "outputs": [
    {
     "data": {
      "image/png": "[encoded data removed]",
      "text/plain": [
       "<Figure size 640x480 with 1 Axes>"
      ]
     },
     "metadata": {},
     "output_type": "display_data"
    }
   ],
   "source": [
    "(data.groupby('is_delay').size()/len(data) ).plot(kind='bar')# Enter your code here\n",
    "plt.ylabel('Frequency')\n",
    "plt.title('Distribution of classes')\n",
    "plt.show()"
   ]
  },
  {
   "cell_type": "markdown",
   "metadata": {},
   "source": [
    "**Question**: What can you deduce from the bar plot about the ratio of delay vs. no delay?"
   ]
  },
  {
   "cell_type": "code",
   "execution_count": 29,
   "metadata": {
    "tags": []
   },
   "outputs": [],
   "source": [
    "# Enter your answer here"
   ]
  },
  {
   "cell_type": "markdown",
   "metadata": {},
   "source": [
    "**Questions**: \n",
    "\n",
    "- Which months have the most delays?\n",
    "- What time of the day has the most delays?\n",
    "- What day of the week has the most delays?\n",
    "- Which airline has the most delays?\n",
    "- Which origin and destination airports have the most delays?\n",
    "- Is flight distance a factor in the delays?"
   ]
  },
  {
   "cell_type": "code",
   "execution_count": 30,
   "metadata": {
    "tags": []
   },
   "outputs": [
    {
     "data": {
      "image/png": "[encoded data removed]",
      "text/plain": [
       "<Figure size 2000x2000 with 6 Axes>"
      ]
     },
     "metadata": {},
     "output_type": "display_data"
    }
   ],
   "source": [
    "viz_columns = ['Month', 'DepHourofDay', 'DayOfWeek', 'Reporting_Airline', 'Origin', 'Dest']\n",
    "fig, axes = plt.subplots(3, 2, figsize=(20,20), squeeze=False)\n",
    "# fig.autofmt_xdate(rotation=90)\n",
    "\n",
    "for idx, column in enumerate(viz_columns):\n",
    "    ax = axes[idx//2, idx%2]\n",
    "    temp = data.groupby(column)['is_delay'].value_counts(normalize=True).rename('percentage').\\\n",
    "    mul(100).reset_index().sort_values(column)\n",
    "    sns.barplot(x=column, y=\"percentage\", hue=\"is_delay\", data=temp, ax=ax)\n",
    "    plt.ylabel('% delay/no-delay')\n",
    "    \n",
    "\n",
    "plt.show()"
   ]
  },
  {
   "cell_type": "code",
   "execution_count": 31,
   "metadata": {
    "tags": []
   },
   "outputs": [
    {
     "data": {
      "image/png": "[encoded data removed]",
      "text/plain": [
       "<Figure size 500x500 with 1 Axes>"
      ]
     },
     "metadata": {},
     "output_type": "display_data"
    }
   ],
   "source": [
    "sns.lmplot( x=\"is_delay\", y=\"Distance\", data=data, fit_reg=False, hue='is_delay', legend=False)\n",
    "plt.legend(loc='center')\n",
    "plt.xlabel('is_delay')\n",
    "plt.ylabel('Distance')\n",
    "plt.show()"
   ]
  },
  {
   "cell_type": "code",
   "execution_count": null,
   "metadata": {},
   "outputs": [],
   "source": [
    "# Enter your answers here"
   ]
  },
  {
   "cell_type": "markdown",
   "metadata": {},
   "source": [
    "### Features\n",
    "\n",
    "Look at all the columns and what their specific types are."
   ]
  },
  {
   "cell_type": "code",
   "execution_count": 32,
   "metadata": {
    "tags": []
   },
   "outputs": [
    {
     "data": {
      "text/plain": [
       "Index(['Year', 'Quarter', 'Month', 'DayofMonth', 'DayOfWeek', 'FlightDate',\n",
       "       'Reporting_Airline', 'Origin', 'OriginState', 'Dest', 'DestState',\n",
       "       'CRSDepTime', 'Cancelled', 'Diverted', 'Distance', 'DistanceGroup',\n",
       "       'ArrDelay', 'ArrDelayMinutes', 'is_delay', 'AirTime', 'DepHourofDay'],\n",
       "      dtype='object')"
      ]
     },
     "execution_count": 32,
     "metadata": {},
     "output_type": "execute_result"
    }
   ],
   "source": [
    "data.columns"
   ]
  },
  {
   "cell_type": "markdown",
   "metadata": {},
   "source": [
    "Filtering the required columns:\n",
    "- Date is redundant, because you have Year, Quarter, Month, DayofMonth, and DayOfWeek to describe the date.\n",
    "- Use Origin and Dest codes instead of OriginState and DestState.\n",
    "- Because you are just classifying whether the flight is delayed or not, you don't need TotalDelayMinutes, DepDelayMinutes, and ArrDelayMinutes.\n",
    "\n",
    "Treat DepHourofDay as a categorical variable because it doesn't have any quantitative relation with the target.\n",
    "- If you had to do a one-hot encoding of it, it would result in 23 more columns.\n",
    "- Other alternatives to handling categorical variables include hash encoding, regularized mean encoding, and bucketizing the values, among others.\n",
    "- Just split into buckets here.\n",
    "\n",
    "**Hint**: To change a column type to category, use the `astype` function ([documentation](https://pandas.pydata.org/pandas-docs/stable/reference/api/pandas.DataFrame.astype.html))."
   ]
  },
  {
   "cell_type": "code",
   "execution_count": 33,
   "metadata": {
    "tags": []
   },
   "outputs": [
    {
     "data": {
      "text/plain": [
       "Year                   int64\n",
       "Quarter                int64\n",
       "Month                  int64\n",
       "DayofMonth             int64\n",
       "DayOfWeek              int64\n",
       "FlightDate            object\n",
       "Reporting_Airline     object\n",
       "Origin                object\n",
       "OriginState           object\n",
       "Dest                  object\n",
       "DestState             object\n",
       "CRSDepTime             int64\n",
       "Cancelled            float64\n",
       "Diverted             float64\n",
       "Distance             float64\n",
       "DistanceGroup          int64\n",
       "ArrDelay             float64\n",
       "ArrDelayMinutes      float64\n",
       "is_delay             float64\n",
       "AirTime              float64\n",
       "DepHourofDay           int64\n",
       "dtype: object"
      ]
     },
     "execution_count": 33,
     "metadata": {},
     "output_type": "execute_result"
    }
   ],
   "source": [
    "data.dtypes"
   ]
  },
  {
   "cell_type": "code",
   "execution_count": 34,
   "metadata": {
    "tags": []
   },
   "outputs": [],
   "source": [
    "data_orig = data.copy()\n",
    "data = data[[ 'Quarter', 'Month', 'DayofMonth', 'DayOfWeek', \n",
    "       'Reporting_Airline', 'Origin', 'Dest','Distance','DepHourofDay', 'is_delay']]\n",
    "categorical_columns  = ['Quarter', 'Month', 'DayofMonth', 'DayOfWeek', \n",
    "       'Reporting_Airline', 'Origin', 'Dest', 'DepHourofDay', 'is_delay']\n",
    "for c in categorical_columns:\n",
    "    data[c] = data[c].astype('category')# Enter your code here"
   ]
  },
  {
   "cell_type": "markdown",
   "metadata": {},
   "source": [
    "To use one-hot encoding, use the Pandas `get_dummies` function for the categorical columns that you selected above. Then, you can concatenate those generated features to your original dataset using the Pandas `concat` function. For encoding categorical variables, you can also use *dummy encoding* by using a keyword `drop_first=True`. For more information on dummy encoding, see https://en.wikiversity.org/wiki/Dummy_variable_(statistics).\n",
    "\n",
    "For example:\n",
    "```\n",
    "pd.get_dummies(df[['column1','columns2']], drop_first=True)\n",
    "```"
   ]
  },
  {
   "cell_type": "code",
   "execution_count": 35,
   "metadata": {
    "tags": []
   },
   "outputs": [],
   "source": [
    "categorical_columns.remove('is_delay')\n",
    "data_dummies = pd.get_dummies(data[categorical_columns], drop_first=False, dtype='int64')\n",
    "data = pd.concat([data, data_dummies], axis = 1)\n",
    "data.drop(categorical_columns,axis=1, inplace=True)"
   ]
  },
  {
   "cell_type": "markdown",
   "metadata": {},
   "source": [
    "Check the length of the dataset and the new columnms."
   ]
  },
  {
   "cell_type": "code",
   "execution_count": 36,
   "metadata": {
    "tags": []
   },
   "outputs": [
    {
     "data": {
      "text/plain": [
       "(1635590, 102)"
      ]
     },
     "execution_count": 36,
     "metadata": {},
     "output_type": "execute_result"
    }
   ],
   "source": [
    "data.shape"
   ]
  },
  {
   "cell_type": "code",
   "execution_count": 47,
   "metadata": {
    "tags": []
   },
   "outputs": [
    {
     "data": {
      "text/plain": [
       "Index(['Distance', 'target', 'target'], dtype='object')"
      ]
     },
     "execution_count": 47,
     "metadata": {},
     "output_type": "execute_result"
    }
   ],
   "source": [
    "data.columns"
   ]
  },
  {
   "cell_type": "markdown",
   "metadata": {},
   "source": [
    "**Sample Answer:** \n",
    "```\n",
    "Index(['Distance', 'is_delay', 'Quarter_2', 'Quarter_3', 'Quarter_4',\n",
    "       'Month_2', 'Month_3', 'Month_4', 'Month_5', 'Month_6', 'Month_7',\n",
    "       'Month_8', 'Month_9', 'Month_10', 'Month_11', 'Month_12',\n",
    "       'DayofMonth_2', 'DayofMonth_3', 'DayofMonth_4', 'DayofMonth_5',\n",
    "       'DayofMonth_6', 'DayofMonth_7', 'DayofMonth_8', 'DayofMonth_9',\n",
    "       'DayofMonth_10', 'DayofMonth_11', 'DayofMonth_12', 'DayofMonth_13',\n",
    "       'DayofMonth_14', 'DayofMonth_15', 'DayofMonth_16', 'DayofMonth_17',\n",
    "       'DayofMonth_18', 'DayofMonth_19', 'DayofMonth_20', 'DayofMonth_21',\n",
    "       'DayofMonth_22', 'DayofMonth_23', 'DayofMonth_24', 'DayofMonth_25',\n",
    "       'DayofMonth_26', 'DayofMonth_27', 'DayofMonth_28', 'DayofMonth_29',\n",
    "       'DayofMonth_30', 'DayofMonth_31', 'DayOfWeek_2', 'DayOfWeek_3',\n",
    "       'DayOfWeek_4', 'DayOfWeek_5', 'DayOfWeek_6', 'DayOfWeek_7',\n",
    "       'Reporting_Airline_DL', 'Reporting_Airline_OO', 'Reporting_Airline_UA',\n",
    "       'Reporting_Airline_WN', 'Origin_CLT', 'Origin_DEN', 'Origin_DFW',\n",
    "       'Origin_IAH', 'Origin_LAX', 'Origin_ORD', 'Origin_PHX', 'Origin_SFO',\n",
    "       'Dest_CLT', 'Dest_DEN', 'Dest_DFW', 'Dest_IAH', 'Dest_LAX', 'Dest_ORD',\n",
    "       'Dest_PHX', 'Dest_SFO'],\n",
    "      dtype='object')\n",
    "```"
   ]
  },
  {
   "cell_type": "markdown",
   "metadata": {},
   "source": [
    "Now you are ready to do model training. Before splitting the data, rename the column `is_delay` to `target`.\n",
    "\n",
    "**Hint**: You can use the Pandas `rename` function ([documentation](https://pandas.pydata.org/pandas-docs/stable/reference/api/pandas.DataFrame.rename.html))."
   ]
  },
  {
   "cell_type": "code",
   "execution_count": 37,
   "metadata": {
    "tags": []
   },
   "outputs": [],
   "source": [
    "data.rename(columns = {'is_delay':'target'}, inplace=True)# Enter your code here"
   ]
  },
  {
   "cell_type": "code",
   "execution_count": 38,
   "metadata": {
    "tags": []
   },
   "outputs": [],
   "source": [
    "data.to_csv('processed_data.csv', index=False)"
   ]
  },
  {
   "cell_type": "markdown",
   "metadata": {},
   "source": [
    "## <span style=\"color:red\"> End of Lab 2 </span>\n",
    "\n",
    "Save the project file to your local computer. Follow these steps:\n",
    "\n",
    "1. At the top of the page, click the **File** menu. \n",
    "\n",
    "1. Select **Download as**, and click **Notebook(.ipynb)**.  \n",
    "\n",
    "This downloads the current notebook to the default download folder on your computer."
   ]
  },
  {
   "cell_type": "markdown",
   "metadata": {},
   "source": [
    "# Step 3: Model training and evaluation\n",
    "\n",
    "There are some preliminary steps that you must include when converting the dataset from a dataframe to a format that a machine learning algorithm can use. For Amazon SageMaker, here are the steps you need to take:\n",
    "\n",
    "1. Split the data into `train_data`, `validation_data`, and `test_data` using `sklearn.model_selection.train_test_split`.  \n",
    "2. Convert the dataset to an appropriate file format that the Amazon SageMaker training job can use. This can be either a CSV file or record protobuf. For more information, see [Common Data Formats for Training](https://docs.aws.amazon.com/sagemaker/latest/dg/cdf-training.html).  \n",
    "3. Upload the data to your Amazon S3 bucket. If you have not created one before, see [Create a Bucket](https://docs.aws.amazon.com/AmazonS3/latest/gsg/CreatingABucket.html).  \n",
    "\n",
    "Use the following cells to complete these steps. Insert and delete cells where needed.\n",
    "\n",
    "#### <span style=\"color: blue;\">Project presentation: Take note of the key decisions you've made in this phase in your project presentation.</span>"
   ]
  },
  {
   "cell_type": "markdown",
   "metadata": {},
   "source": [
    "### Train test split"
   ]
  },
  {
   "cell_type": "code",
   "execution_count": 39,
   "metadata": {
    "tags": []
   },
   "outputs": [],
   "source": [
    "from sklearn.model_selection import train_test_split\n",
    "\n",
    "def create_training_sets(data):\n",
    "    \"\"\"\n",
    "    Convert data frame to train, validation and test\n",
    "    params:\n",
    "        data: The dataframe with the dataset to be split\n",
    "    Returns:\n",
    "        train_features: Training feature dataset\n",
    "        test_features: Test feature dataset \n",
    "        train_labels: Labels for the training dataset\n",
    "        test_labels: Labels for the test dataset\n",
    "        val_features: Validation feature dataset\n",
    "        val_labels: Labels for the validation dataset\n",
    "    \"\"\"\n",
    "    # Extract the target variable from the dataframe and convert the type to float32\n",
    "    ys = np.array(data[\"target\"]).astype(\"float32\")\n",
    "    \n",
    "    # Drop all the unwanted columns including the target column\n",
    "    drop_list = [\"target\"]\n",
    "    \n",
    "    # Drop the columns from the drop_list and convert the data into a NumPy array of type float32\n",
    "    xs = np.array(data.drop(drop_list, axis=1)).astype(\"float32\")\n",
    "    \n",
    "    np.random.seed(0)\n",
    "    \n",
    "    # Use the sklearn function train_test_split to split the dataset in the ratio train 80% and test 20%\n",
    "    train_features, test_features, train_labels, test_labels = train_test_split(\n",
    "    xs, ys, test_size=0.2, stratify=ys)\n",
    "    \n",
    "    # Use the sklearn function again to split the temp dataset into 50% validation and 50% test\n",
    "    val_features, test_features, val_labels, test_labels = train_test_split(\n",
    "    test_features, test_labels, test_size=0.5, stratify=test_labels)\n",
    "    \n",
    "    return train_features, test_features, train_labels, test_labels, val_features, val_labels"
   ]
  },
  {
   "cell_type": "code",
   "execution_count": 40,
   "metadata": {
    "tags": []
   },
   "outputs": [
    {
     "name": "stdout",
     "output_type": "stream",
     "text": [
      "Length of train_features is: (1308472, 101)\n",
      "Length of train_labels is: (1308472,)\n",
      "Length of val_features is: (163559, 101)\n",
      "Length of val_labels is: (163559,)\n",
      "Length of test_features is: (163559, 101)\n",
      "Length of test_labels is: (163559,)\n"
     ]
    }
   ],
   "source": [
    "# Use the function to create your datasets\n",
    "train_features, test_features, train_labels, test_labels, val_features, val_labels = create_training_sets(data)\n",
    "\n",
    "print(f\"Length of train_features is: {train_features.shape}\")\n",
    "print(f\"Length of train_labels is: {train_labels.shape}\")\n",
    "print(f\"Length of val_features is: {val_features.shape}\")\n",
    "print(f\"Length of val_labels is: {val_labels.shape}\")\n",
    "print(f\"Length of test_features is: {test_features.shape}\")\n",
    "print(f\"Length of test_labels is: {test_labels.shape}\")"
   ]
  },
  {
   "cell_type": "markdown",
   "metadata": {},
   "source": [
    "**Sample answer**\n",
    "```\n",
    "Length of train_features is: (1308472, 71)\n",
    "Length of train_labels is: (1308472,)\n",
    "Length of val_features is: (163559, 71)\n",
    "Length of val_labels is: (163559,)\n",
    "Length of test_features is: (163559, 71)\n",
    "Length of test_labels is: (163559,)\n",
    "```"
   ]
  },
  {
   "cell_type": "code",
   "execution_count": 41,
   "metadata": {
    "tags": []
   },
   "outputs": [
    {
     "name": "stdout",
     "output_type": "stream",
     "text": [
      "Train class split\n",
      "[1033806  274666]\n",
      "0.20991354801631215\n",
      "\n",
      "Validation class split\n",
      "[129226  34333]\n",
      "0.20991201951589336\n",
      "\n",
      "Test class split\n",
      "[129226  34333]\n",
      "0.20991201951589336\n"
     ]
    }
   ],
   "source": [
    "# Print the class proportion for the train, validation, and test sets\n",
    "print('Train class split')\n",
    "tr_hist = np.histogram(train_labels, bins=2)[0]\n",
    "print(tr_hist)\n",
    "print(tr_hist[1]*1. / (tr_hist[0] + tr_hist[1]))\n",
    "\n",
    "print('\\nValidation class split')\n",
    "val_hist = np.histogram(val_labels, bins=2)[0]\n",
    "print(val_hist)\n",
    "print(val_hist[1]*1. / (val_hist[0] + val_hist[1]))\n",
    "\n",
    "print('\\nTest class split')\n",
    "test_hist = np.histogram(test_labels, bins=2)[0]\n",
    "print(test_hist)\n",
    "print(test_hist[1]*1. / (test_hist[0] + test_hist[1]))"
   ]
  },
  {
   "cell_type": "markdown",
   "metadata": {},
   "source": [
    "### Baseline classification model"
   ]
  },
  {
   "cell_type": "code",
   "execution_count": 42,
   "metadata": {
    "tags": []
   },
   "outputs": [
    {
     "name": "stdout",
     "output_type": "stream",
     "text": [
      "sagemaker.config INFO - Not applying SDK defaults from location: /etc/xdg/sagemaker/config.yaml\n",
      "sagemaker.config INFO - Not applying SDK defaults from location: /home/ec2-user/.config/sagemaker/config.yaml\n"
     ]
    }
   ],
   "source": [
    "import sagemaker\n",
    "from sagemaker.serializers import CSVSerializer\n",
    "from sagemaker.amazon.amazon_estimator import RecordSet\n",
    "import boto3\n",
    "\n",
    "# Instantiate the LinearLearner estimator object\n",
    "num_classes = len(pd.unique(train_labels)) \n",
    "\n",
    "classifier_estimator = sagemaker.LinearLearner(role=sagemaker.get_execution_role(),\n",
    "                                               instance_count=1,\n",
    "                                               instance_type='ml.m4.xlarge',\n",
    "                                               predictor_type='binary_classifier',\n",
    "                                              binary_classifier_model_selection_criteria = 'cross_entropy_loss')"
   ]
  },
  {
   "cell_type": "markdown",
   "metadata": {},
   "source": [
    "### Sample Code\n",
    "```\n",
    "num_classes = len(pd.unique(train_labels))\n",
    "classifier_estimator = sagemaker.LinearLearner(role=sagemaker.get_execution_role(),\n",
    "                                              instance_count=1,\n",
    "                                              instance_type='ml.m4.xlarge',\n",
    "                                              predictor_type='binary_classifier',\n",
    "                                             binary_classifier_model_selection_criteria = 'cross_entropy_loss')\n",
    "                                              \n",
    "```"
   ]
  },
  {
   "cell_type": "markdown",
   "metadata": {},
   "source": [
    "Linear learner accepts training data in protobuf or CSV content types, and accepts inference requests in protobuf, CSV, or JSON content types. Training data has features and ground-truth labels, while the data in an inference request has only features.\n",
    "\n",
    "In a production pipeline, it is recommended to convert the data to the Amazon SageMaker protobuf format and store it in Amazon S3. However, to get up and running quickly, AWS provides the convenient method `record_set` for converting and uploading when the dataset is small enough to fit in local memory. It accepts NumPy arrays like the ones you already have, so let's use it here. The `RecordSet` object will keep track of the temporary Amazon S3 location of your data. Use the `estimator.record_set` function to create train, validation, and test records. Then, use the `estimator.fit` function to start your training job."
   ]
  },
  {
   "cell_type": "code",
   "execution_count": 43,
   "metadata": {
    "tags": []
   },
   "outputs": [],
   "source": [
    "### Create train, val, test record\n",
    "train_records = classifier_estimator.record_set(train_features, train_labels, channel='train')\n",
    "val_records = classifier_estimator.record_set(val_features, val_labels, channel='validation')\n",
    "test_records = classifier_estimator.record_set(test_features, test_labels, channel='test')"
   ]
  },
  {
   "cell_type": "markdown",
   "metadata": {},
   "source": [
    "Now, train your model on the dataset that you just uplaoded.\n",
    "\n",
    "### Sample code\n",
    "```\n",
    "linear.fit([train_records,val_records])\n",
    "```"
   ]
  },
  {
   "cell_type": "code",
   "execution_count": 44,
   "metadata": {
    "tags": []
   },
   "outputs": [
    {
     "name": "stderr",
     "output_type": "stream",
     "text": [
      "INFO:sagemaker.image_uris:Same images used for training and inference. Defaulting to image scope: inference.\n",
      "INFO:sagemaker.image_uris:Ignoring unnecessary instance type: None.\n",
      "INFO:sagemaker:Creating training-job with name: linear-learner-2024-08-22-09-54-11-478\n"
     ]
    },
    {
     "name": "stdout",
     "output_type": "stream",
     "text": [
      "2024-08-22 09:54:11 Starting - Starting the training job...\n",
      "2024-08-22 09:54:28 Starting - Preparing the instances for training...\n",
      "2024-08-22 09:54:51 Downloading - Downloading input data...\n",
      "2024-08-22 09:55:36 Downloading - Downloading the training image......\n",
      "2024-08-22 09:56:42 Training - Training image download completed. Training in progress....\u001b[34mDocker entrypoint called with argument(s): train\u001b[0m\n",
      "\u001b[34mRunning default environment configuration script\u001b[0m\n",
      "\u001b[34m[08/22/2024 09:57:03 INFO 140237033666368] Reading default configuration from /opt/amazon/lib/python3.8/site-packages/algorithm/resources/default-input.json: {'mini_batch_size': '1000', 'epochs': '15', 'feature_dim': 'auto', 'use_bias': 'true', 'binary_classifier_model_selection_criteria': 'accuracy', 'f_beta': '1.0', 'target_recall': '0.8', 'target_precision': '0.8', 'num_models': 'auto', 'num_calibration_samples': '10000000', 'init_method': 'uniform', 'init_scale': '0.07', 'init_sigma': '0.01', 'init_bias': '0.0', 'optimizer': 'auto', 'loss': 'auto', 'margin': '1.0', 'quantile': '0.5', 'loss_insensitivity': '0.01', 'huber_delta': '1.0', 'num_classes': '1', 'accuracy_top_k': '3', 'wd': 'auto', 'l1': 'auto', 'momentum': 'auto', 'learning_rate': 'auto', 'beta_1': 'auto', 'beta_2': 'auto', 'bias_lr_mult': 'auto', 'bias_wd_mult': 'auto', 'use_lr_scheduler': 'true', 'lr_scheduler_step': 'auto', 'lr_scheduler_factor': 'auto', 'lr_scheduler_minimum_lr': 'auto', 'positive_example_weight_mult': '1.0', 'balance_multiclass_weights': 'false', 'normalize_data': 'true', 'normalize_label': 'auto', 'unbias_data': 'auto', 'unbias_label': 'auto', 'num_point_for_scaler': '10000', '_kvstore': 'auto', '_num_gpus': 'auto', '_num_kv_servers': 'auto', '_log_level': 'info', '_tuning_objective_metric': '', 'early_stopping_patience': '3', 'early_stopping_tolerance': '0.001', '_enable_profiler': 'false'}\u001b[0m\n",
      "\u001b[34m[08/22/2024 09:57:03 INFO 140237033666368] Merging with provided configuration from /opt/ml/input/config/hyperparameters.json: {'binary_classifier_model_selection_criteria': 'cross_entropy_loss', 'feature_dim': '101', 'mini_batch_size': '1000', 'predictor_type': 'binary_classifier'}\u001b[0m\n",
      "\u001b[34m[08/22/2024 09:57:03 INFO 140237033666368] Final configuration: {'mini_batch_size': '1000', 'epochs': '15', 'feature_dim': '101', 'use_bias': 'true', 'binary_classifier_model_selection_criteria': 'cross_entropy_loss', 'f_beta': '1.0', 'target_recall': '0.8', 'target_precision': '0.8', 'num_models': 'auto', 'num_calibration_samples': '10000000', 'init_method': 'uniform', 'init_scale': '0.07', 'init_sigma': '0.01', 'init_bias': '0.0', 'optimizer': 'auto', 'loss': 'auto', 'margin': '1.0', 'quantile': '0.5', 'loss_insensitivity': '0.01', 'huber_delta': '1.0', 'num_classes': '1', 'accuracy_top_k': '3', 'wd': 'auto', 'l1': 'auto', 'momentum': 'auto', 'learning_rate': 'auto', 'beta_1': 'auto', 'beta_2': 'auto', 'bias_lr_mult': 'auto', 'bias_wd_mult': 'auto', 'use_lr_scheduler': 'true', 'lr_scheduler_step': 'auto', 'lr_scheduler_factor': 'auto', 'lr_scheduler_minimum_lr': 'auto', 'positive_example_weight_mult': '1.0', 'balance_multiclass_weights': 'false', 'normalize_data': 'true', 'normalize_label': 'auto', 'unbias_data': 'auto', 'unbias_label': 'auto', 'num_point_for_scaler': '10000', '_kvstore': 'auto', '_num_gpus': 'auto', '_num_kv_servers': 'auto', '_log_level': 'info', '_tuning_objective_metric': '', 'early_stopping_patience': '3', 'early_stopping_tolerance': '0.001', '_enable_profiler': 'false', 'predictor_type': 'binary_classifier'}\u001b[0m\n",
      "\u001b[34m/opt/amazon/lib/python3.8/site-packages/mxnet/model.py:97: SyntaxWarning: \"is\" with a literal. Did you mean \"==\"?\n",
      "  if num_device is 1 and 'dist' not in kvstore:\u001b[0m\n",
      "\u001b[34m/opt/amazon/lib/python3.8/site-packages/scipy/optimize/_shgo.py:495: SyntaxWarning: \"is\" with a literal. Did you mean \"==\"?\n",
      "  if cons['type'] is 'ineq':\u001b[0m\n",
      "\u001b[34m/opt/amazon/lib/python3.8/site-packages/scipy/optimize/_shgo.py:743: SyntaxWarning: \"is not\" with a literal. Did you mean \"!=\"?\n",
      "  if len(self.X_min) is not 0:\u001b[0m\n",
      "\u001b[34m[08/22/2024 09:57:05 WARNING 140237033666368] Loggers have already been setup.\u001b[0m\n",
      "\u001b[34m[08/22/2024 09:57:05 INFO 140237033666368] Final configuration: {'mini_batch_size': '1000', 'epochs': '15', 'feature_dim': '101', 'use_bias': 'true', 'binary_classifier_model_selection_criteria': 'cross_entropy_loss', 'f_beta': '1.0', 'target_recall': '0.8', 'target_precision': '0.8', 'num_models': 'auto', 'num_calibration_samples': '10000000', 'init_method': 'uniform', 'init_scale': '0.07', 'init_sigma': '0.01', 'init_bias': '0.0', 'optimizer': 'auto', 'loss': 'auto', 'margin': '1.0', 'quantile': '0.5', 'loss_insensitivity': '0.01', 'huber_delta': '1.0', 'num_classes': '1', 'accuracy_top_k': '3', 'wd': 'auto', 'l1': 'auto', 'momentum': 'auto', 'learning_rate': 'auto', 'beta_1': 'auto', 'beta_2': 'auto', 'bias_lr_mult': 'auto', 'bias_wd_mult': 'auto', 'use_lr_scheduler': 'true', 'lr_scheduler_step': 'auto', 'lr_scheduler_factor': 'auto', 'lr_scheduler_minimum_lr': 'auto', 'positive_example_weight_mult': '1.0', 'balance_multiclass_weights': 'false', 'normalize_data': 'true', 'normalize_label': 'auto', 'unbias_data': 'auto', 'unbias_label': 'auto', 'num_point_for_scaler': '10000', '_kvstore': 'auto', '_num_gpus': 'auto', '_num_kv_servers': 'auto', '_log_level': 'info', '_tuning_objective_metric': '', 'early_stopping_patience': '3', 'early_stopping_tolerance': '0.001', '_enable_profiler': 'false', 'predictor_type': 'binary_classifier'}\u001b[0m\n",
      "\u001b[34m[08/22/2024 09:57:05 WARNING 140237033666368] Loggers have already been setup.\u001b[0m\n",
      "\u001b[34mProcess 7 is a worker.\u001b[0m\n",
      "\u001b[34m[08/22/2024 09:57:05 INFO 140237033666368] Using default worker.\u001b[0m\n",
      "\u001b[34m[08/22/2024 09:57:05 INFO 140237033666368] Checkpoint loading and saving are disabled.\u001b[0m\n",
      "\u001b[34m[2024-08-22 09:57:05.993] [tensorio] [warning] TensorIO is already initialized; ignoring the initialization routine.\u001b[0m\n",
      "\u001b[34m[2024-08-22 09:57:06.036] [tensorio] [info] epoch_stats={\"data_pipeline\": \"/opt/ml/input/data/train\", \"epoch\": 0, \"duration\": 45, \"num_examples\": 1, \"num_bytes\": 452000}\u001b[0m\n",
      "\u001b[34m[08/22/2024 09:57:06 INFO 140237033666368] Create Store: local\u001b[0m\n",
      "\u001b[34m[2024-08-22 09:57:06.144] [tensorio] [info] epoch_stats={\"data_pipeline\": \"/opt/ml/input/data/train\", \"epoch\": 1, \"duration\": 107, \"num_examples\": 11, \"num_bytes\": 4972000}\u001b[0m\n",
      "\u001b[34m[08/22/2024 09:57:06 INFO 140237033666368] Scaler algorithm parameters\n",
      " <algorithm.scaler.ScalerAlgorithmStable object at 0x7f8aea97dcd0>\u001b[0m\n",
      "\u001b[34m[08/22/2024 09:57:06 INFO 140237033666368] Scaling model computed with parameters:\n",
      " {'stdev_label': None, 'stdev_weight': \u001b[0m\n",
      "\u001b[34m[5.3545807e+02 4.2291433e-01 4.2965516e-01 4.4016454e-01 4.3843511e-01\n",
      " 2.7016395e-01 2.5908911e-01 2.7380988e-01 2.7656808e-01 2.7087051e-01\n",
      " 2.7297473e-01 2.7793238e-01 2.8992218e-01 2.8009537e-01 2.8223431e-01\n",
      " 2.7615684e-01 2.8500602e-01 1.7551577e-01 1.8052632e-01 1.7158581e-01\n",
      " 1.6958199e-01 1.8029134e-01 1.7405386e-01 1.7816044e-01 1.7208262e-01\n",
      " 1.7527309e-01 1.7672352e-01 1.8469717e-01 1.8354957e-01 1.8400961e-01\n",
      " 1.7648271e-01 1.7575808e-01 1.7672351e-01 1.8262547e-01 1.7233042e-01\n",
      " 1.8538180e-01 1.7982030e-01 1.7839867e-01 1.7887402e-01 1.8099521e-01\n",
      " 1.7527308e-01 1.8005599e-01 1.8239361e-01 1.7744364e-01 1.8377976e-01\n",
      " 1.8377978e-01 1.6340378e-01 1.2756060e-01 3.5301507e-01 3.5972446e-01\n",
      " 3.5500982e-01 3.5572970e-01 3.5446805e-01 3.2217702e-01 3.4679833e-01\n",
      " 4.7951972e-01 3.7068751e-01 2.3460098e-01 4.6017605e-01 3.1814224e-01\n",
      " 3.1747973e-01 2.3882937e-01 3.2346731e-01 3.3287108e-01 2.6888555e-01\n",
      " 3.5724959e-01 3.3700228e-01 3.0300662e-01 3.2303819e-01 3.2442924e-01\n",
      " 2.3731834e-01 3.1614777e-01 3.3030614e-01 2.7072939e-01 3.5680389e-01\n",
      " 3.4162647e-01 2.9682234e-01 3.2654941e-01 9.3490228e-02 6.3829251e-02\n",
      " 1.3482772e-02 1.0000000e+00 1.5019229e-01 2.2921814e-01 2.4828210e-01\n",
      " 2.5096428e-01 2.4115556e-01 2.5484031e-01 2.4016222e-01 2.4181485e-01\n",
      " 2.4572206e-01 2.3849468e-01 2.3596470e-01 2.3545447e-01 2.4475291e-01\n",
      " 2.2257647e-01 2.3044764e-01 1.8492572e-01 1.6048275e-01 1.7478657e-01\n",
      " 9.8599114e-02]\u001b[0m\n",
      "\u001b[34m<NDArray 101 @cpu(0)>, 'mean_label': None, 'mean_weight': \u001b[0m\n",
      "\u001b[34m[1.01012543e+03 2.33272761e-01 2.44272739e-01 2.62818217e-01\n",
      " 2.59636372e-01 7.92727396e-02 7.23636448e-02 8.16363841e-02\n",
      " 8.34545493e-02 7.97272772e-02 8.10909197e-02 8.43636468e-02\n",
      " 9.26363617e-02 8.58181939e-02 8.72727260e-02 8.31818208e-02\n",
      " 8.91818255e-02 3.18181813e-02 3.37272733e-02 3.03636417e-02\n",
      " 2.96363663e-02 3.36363651e-02 3.12727317e-02 3.28181833e-02\n",
      " 3.05454563e-02 3.17272767e-02 3.22727300e-02 3.53636369e-02\n",
      " 3.49090956e-02 3.50909084e-02 3.21818218e-02 3.19090970e-02\n",
      " 3.22727263e-02 3.45454551e-02 3.06363627e-02 3.56363654e-02\n",
      " 3.34545411e-02 3.29090953e-02 3.30909081e-02 3.39090899e-02\n",
      " 3.17272730e-02 3.35454531e-02 3.44545469e-02 3.25454548e-02\n",
      " 3.50000039e-02 3.50000039e-02 2.74545494e-02 1.65454559e-02\n",
      " 1.45909071e-01 1.52727306e-01 1.47909105e-01 1.48636386e-01\n",
      " 1.47363633e-01 1.17636360e-01 1.39818177e-01 3.58363658e-01\n",
      " 1.64454550e-01 5.84545508e-02 3.04454595e-01 1.14272729e-01\n",
      " 1.13727272e-01 6.07272759e-02 1.18727282e-01 1.26909107e-01\n",
      " 7.84545541e-02 1.50181830e-01 1.30636364e-01 1.02272727e-01\n",
      " 1.18363656e-01 1.19545467e-01 5.99091053e-02 1.12636372e-01\n",
      " 1.24636389e-01 7.96363577e-02 1.49727270e-01 1.34909093e-01\n",
      " 9.76363644e-02 1.21363655e-01 8.81818216e-03 4.09090985e-03\n",
      " 1.81818192e-04 0.00000000e+00 2.30909064e-02 5.56363724e-02\n",
      " 6.59999996e-02 6.75454661e-02 6.20000027e-02 6.98181912e-02\n",
      " 6.14545494e-02 6.23636469e-02 6.45454600e-02 6.05454668e-02\n",
      " 5.91818206e-02 5.89090921e-02 6.40000105e-02 5.22727296e-02\n",
      " 5.62727302e-02 3.54545526e-02 2.64545456e-02 3.15454602e-02\n",
      " 9.81818140e-03]\u001b[0m\n",
      "\u001b[34m<NDArray 101 @cpu(0)>}\u001b[0m\n",
      "\u001b[34m/opt/amazon/python3.8/lib/python3.8/subprocess.py:848: RuntimeWarning: line buffering (buffering=1) isn't supported in binary mode, the default buffer size will be used\n",
      "  self.stdout = io.open(c2pread, 'rb', bufsize)\u001b[0m\n",
      "\u001b[34m[08/22/2024 09:57:06 INFO 140237033666368] nvidia-smi: took 0.035 seconds to run.\u001b[0m\n",
      "\u001b[34m[08/22/2024 09:57:06 INFO 140237033666368] nvidia-smi identified 0 GPUs.\u001b[0m\n",
      "\u001b[34m[08/22/2024 09:57:06 INFO 140237033666368] Number of GPUs being used: 0\u001b[0m\n",
      "\u001b[34m#metrics {\"StartTime\": 1724320626.2431242, \"EndTime\": 1724320626.243177, \"Dimensions\": {\"Algorithm\": \"Linear Learner\", \"Host\": \"algo-1\", \"Operation\": \"training\", \"Meta\": \"init_train_data_iter\"}, \"Metrics\": {\"Total Records Seen\": {\"sum\": 12000.0, \"count\": 1, \"min\": 12000, \"max\": 12000}, \"Total Batches Seen\": {\"sum\": 12.0, \"count\": 1, \"min\": 12, \"max\": 12}, \"Max Records Seen Between Resets\": {\"sum\": 11000.0, \"count\": 1, \"min\": 11000, \"max\": 11000}, \"Max Batches Seen Between Resets\": {\"sum\": 11.0, \"count\": 1, \"min\": 11, \"max\": 11}, \"Reset Count\": {\"sum\": 2.0, \"count\": 1, \"min\": 2, \"max\": 2}, \"Number of Records Since Last Reset\": {\"sum\": 0.0, \"count\": 1, \"min\": 0, \"max\": 0}, \"Number of Batches Since Last Reset\": {\"sum\": 0.0, \"count\": 1, \"min\": 0, \"max\": 0}}}\u001b[0m\n",
      "\u001b[34m[2024-08-22 09:57:33.661] [tensorio] [info] epoch_stats={\"data_pipeline\": \"/opt/ml/input/data/train\", \"epoch\": 3, \"duration\": 27417, \"num_examples\": 1309, \"num_bytes\": 591429344}\u001b[0m\n",
      "\u001b[34m#metrics {\"StartTime\": 1724320653.66142, \"EndTime\": 1724320653.6614943, \"Dimensions\": {\"Algorithm\": \"Linear Learner\", \"Host\": \"algo-1\", \"Operation\": \"training\", \"epoch\": 0, \"model\": 0}, \"Metrics\": {\"train_binary_classification_cross_entropy_objective\": {\"sum\": 0.4945796018827946, \"count\": 1, \"min\": 0.4945796018827946, \"max\": 0.4945796018827946}}}\u001b[0m\n",
      "\u001b[34m#metrics {\"StartTime\": 1724320653.6615815, \"EndTime\": 1724320653.6615987, \"Dimensions\": {\"Algorithm\": \"Linear Learner\", \"Host\": \"algo-1\", \"Operation\": \"training\", \"epoch\": 0, \"model\": 1}, \"Metrics\": {\"train_binary_classification_cross_entropy_objective\": {\"sum\": 0.49516050409906137, \"count\": 1, \"min\": 0.49516050409906137, \"max\": 0.49516050409906137}}}\u001b[0m\n",
      "\u001b[34m#metrics {\"StartTime\": 1724320653.6616473, \"EndTime\": 1724320653.6616602, \"Dimensions\": {\"Algorithm\": \"Linear Learner\", \"Host\": \"algo-1\", \"Operation\": \"training\", \"epoch\": 0, \"model\": 2}, \"Metrics\": {\"train_binary_classification_cross_entropy_objective\": {\"sum\": 0.494625454380607, \"count\": 1, \"min\": 0.494625454380607, \"max\": 0.494625454380607}}}\u001b[0m\n",
      "\u001b[34m#metrics {\"StartTime\": 1724320653.661701, \"EndTime\": 1724320653.661712, \"Dimensions\": {\"Algorithm\": \"Linear Learner\", \"Host\": \"algo-1\", \"Operation\": \"training\", \"epoch\": 0, \"model\": 3}, \"Metrics\": {\"train_binary_classification_cross_entropy_objective\": {\"sum\": 0.49521999415126416, \"count\": 1, \"min\": 0.49521999415126416, \"max\": 0.49521999415126416}}}\u001b[0m\n",
      "\u001b[34m#metrics {\"StartTime\": 1724320653.66175, \"EndTime\": 1724320653.6617627, \"Dimensions\": {\"Algorithm\": \"Linear Learner\", \"Host\": \"algo-1\", \"Operation\": \"training\", \"epoch\": 0, \"model\": 4}, \"Metrics\": {\"train_binary_classification_cross_entropy_objective\": {\"sum\": 0.5091998476967534, \"count\": 1, \"min\": 0.5091998476967534, \"max\": 0.5091998476967534}}}\u001b[0m\n",
      "\u001b[34m#metrics {\"StartTime\": 1724320653.6618, \"EndTime\": 1724320653.6618202, \"Dimensions\": {\"Algorithm\": \"Linear Learner\", \"Host\": \"algo-1\", \"Operation\": \"training\", \"epoch\": 0, \"model\": 5}, \"Metrics\": {\"train_binary_classification_cross_entropy_objective\": {\"sum\": 0.520365037013996, \"count\": 1, \"min\": 0.520365037013996, \"max\": 0.520365037013996}}}\u001b[0m\n",
      "\u001b[34m#metrics {\"StartTime\": 1724320653.6618536, \"EndTime\": 1724320653.6618636, \"Dimensions\": {\"Algorithm\": \"Linear Learner\", \"Host\": \"algo-1\", \"Operation\": \"training\", \"epoch\": 0, \"model\": 6}, \"Metrics\": {\"train_binary_classification_cross_entropy_objective\": {\"sum\": 0.5091854188084967, \"count\": 1, \"min\": 0.5091854188084967, \"max\": 0.5091854188084967}}}\u001b[0m\n",
      "\u001b[34m#metrics {\"StartTime\": 1724320653.6618903, \"EndTime\": 1724320653.6618993, \"Dimensions\": {\"Algorithm\": \"Linear Learner\", \"Host\": \"algo-1\", \"Operation\": \"training\", \"epoch\": 0, \"model\": 7}, \"Metrics\": {\"train_binary_classification_cross_entropy_objective\": {\"sum\": 0.5203498543088954, \"count\": 1, \"min\": 0.5203498543088954, \"max\": 0.5203498543088954}}}\u001b[0m\n",
      "\u001b[34m#metrics {\"StartTime\": 1724320653.66193, \"EndTime\": 1724320653.6619391, \"Dimensions\": {\"Algorithm\": \"Linear Learner\", \"Host\": \"algo-1\", \"Operation\": \"training\", \"epoch\": 0, \"model\": 8}, \"Metrics\": {\"train_binary_classification_cross_entropy_objective\": {\"sum\": 0.4946772367611573, \"count\": 1, \"min\": 0.4946772367611573, \"max\": 0.4946772367611573}}}\u001b[0m\n",
      "\u001b[34m#metrics {\"StartTime\": 1724320653.6619687, \"EndTime\": 1724320653.6619775, \"Dimensions\": {\"Algorithm\": \"Linear Learner\", \"Host\": \"algo-1\", \"Operation\": \"training\", \"epoch\": 0, \"model\": 9}, \"Metrics\": {\"train_binary_classification_cross_entropy_objective\": {\"sum\": 0.495195224353662, \"count\": 1, \"min\": 0.495195224353662, \"max\": 0.495195224353662}}}\u001b[0m\n",
      "\u001b[34m#metrics {\"StartTime\": 1724320653.6620078, \"EndTime\": 1724320653.6620176, \"Dimensions\": {\"Algorithm\": \"Linear Learner\", \"Host\": \"algo-1\", \"Operation\": \"training\", \"epoch\": 0, \"model\": 10}, \"Metrics\": {\"train_binary_classification_cross_entropy_objective\": {\"sum\": 0.4946519583605845, \"count\": 1, \"min\": 0.4946519583605845, \"max\": 0.4946519583605845}}}\u001b[0m\n",
      "\u001b[34m#metrics {\"StartTime\": 1724320653.6620514, \"EndTime\": 1724320653.6620612, \"Dimensions\": {\"Algorithm\": \"Linear Learner\", \"Host\": \"algo-1\", \"Operation\": \"training\", \"epoch\": 0, \"model\": 11}, \"Metrics\": {\"train_binary_classification_cross_entropy_objective\": {\"sum\": 0.49516085358132644, \"count\": 1, \"min\": 0.49516085358132644, \"max\": 0.49516085358132644}}}\u001b[0m\n",
      "\u001b[34m#metrics {\"StartTime\": 1724320653.6620882, \"EndTime\": 1724320653.6620975, \"Dimensions\": {\"Algorithm\": \"Linear Learner\", \"Host\": \"algo-1\", \"Operation\": \"training\", \"epoch\": 0, \"model\": 12}, \"Metrics\": {\"train_binary_classification_cross_entropy_objective\": {\"sum\": 0.5081615733808699, \"count\": 1, \"min\": 0.5081615733808699, \"max\": 0.5081615733808699}}}\u001b[0m\n",
      "\u001b[34m#metrics {\"StartTime\": 1724320653.6621284, \"EndTime\": 1724320653.6621385, \"Dimensions\": {\"Algorithm\": \"Linear Learner\", \"Host\": \"algo-1\", \"Operation\": \"training\", \"epoch\": 0, \"model\": 13}, \"Metrics\": {\"train_binary_classification_cross_entropy_objective\": {\"sum\": 0.5185022981042892, \"count\": 1, \"min\": 0.5185022981042892, \"max\": 0.5185022981042892}}}\u001b[0m\n",
      "\u001b[34m#metrics {\"StartTime\": 1724320653.662171, \"EndTime\": 1724320653.6621807, \"Dimensions\": {\"Algorithm\": \"Linear Learner\", \"Host\": \"algo-1\", \"Operation\": \"training\", \"epoch\": 0, \"model\": 14}, \"Metrics\": {\"train_binary_classification_cross_entropy_objective\": {\"sum\": 0.5081792392322412, \"count\": 1, \"min\": 0.5081792392322412, \"max\": 0.5081792392322412}}}\u001b[0m\n",
      "\u001b[34m#metrics {\"StartTime\": 1724320653.6622136, \"EndTime\": 1724320653.6622229, \"Dimensions\": {\"Algorithm\": \"Linear Learner\", \"Host\": \"algo-1\", \"Operation\": \"training\", \"epoch\": 0, \"model\": 15}, \"Metrics\": {\"train_binary_classification_cross_entropy_objective\": {\"sum\": 0.5184317072130489, \"count\": 1, \"min\": 0.5184317072130489, \"max\": 0.5184317072130489}}}\u001b[0m\n",
      "\u001b[34m#metrics {\"StartTime\": 1724320653.662257, \"EndTime\": 1724320653.6622672, \"Dimensions\": {\"Algorithm\": \"Linear Learner\", \"Host\": \"algo-1\", \"Operation\": \"training\", \"epoch\": 0, \"model\": 16}, \"Metrics\": {\"train_binary_classification_cross_entropy_objective\": {\"sum\": 0.5089563839413704, \"count\": 1, \"min\": 0.5089563839413704, \"max\": 0.5089563839413704}}}\u001b[0m\n",
      "\u001b[34m#metrics {\"StartTime\": 1724320653.6622987, \"EndTime\": 1724320653.6623077, \"Dimensions\": {\"Algorithm\": \"Linear Learner\", \"Host\": \"algo-1\", \"Operation\": \"training\", \"epoch\": 0, \"model\": 17}, \"Metrics\": {\"train_binary_classification_cross_entropy_objective\": {\"sum\": 0.5091164849424217, \"count\": 1, \"min\": 0.5091164849424217, \"max\": 0.5091164849424217}}}\u001b[0m\n",
      "\u001b[34m#metrics {\"StartTime\": 1724320653.6623387, \"EndTime\": 1724320653.662348, \"Dimensions\": {\"Algorithm\": \"Linear Learner\", \"Host\": \"algo-1\", \"Operation\": \"training\", \"epoch\": 0, \"model\": 18}, \"Metrics\": {\"train_binary_classification_cross_entropy_objective\": {\"sum\": 0.5090084814369131, \"count\": 1, \"min\": 0.5090084814369131, \"max\": 0.5090084814369131}}}\u001b[0m\n",
      "\u001b[34m#metrics {\"StartTime\": 1724320653.6623764, \"EndTime\": 1724320653.6623857, \"Dimensions\": {\"Algorithm\": \"Linear Learner\", \"Host\": \"algo-1\", \"Operation\": \"training\", \"epoch\": 0, \"model\": 19}, \"Metrics\": {\"train_binary_classification_cross_entropy_objective\": {\"sum\": 0.5091065376351732, \"count\": 1, \"min\": 0.5091065376351732, \"max\": 0.5091065376351732}}}\u001b[0m\n",
      "\u001b[34m#metrics {\"StartTime\": 1724320653.6624162, \"EndTime\": 1724320653.6624317, \"Dimensions\": {\"Algorithm\": \"Linear Learner\", \"Host\": \"algo-1\", \"Operation\": \"training\", \"epoch\": 0, \"model\": 20}, \"Metrics\": {\"train_binary_classification_cross_entropy_objective\": {\"sum\": 0.5106843611457661, \"count\": 1, \"min\": 0.5106843611457661, \"max\": 0.5106843611457661}}}\u001b[0m\n",
      "\u001b[34m#metrics {\"StartTime\": 1724320653.6624646, \"EndTime\": 1724320653.6624744, \"Dimensions\": {\"Algorithm\": \"Linear Learner\", \"Host\": \"algo-1\", \"Operation\": \"training\", \"epoch\": 0, \"model\": 21}, \"Metrics\": {\"train_binary_classification_cross_entropy_objective\": {\"sum\": 0.5122989304335475, \"count\": 1, \"min\": 0.5122989304335475, \"max\": 0.5122989304335475}}}\u001b[0m\n",
      "\u001b[34m#metrics {\"StartTime\": 1724320653.6625044, \"EndTime\": 1724320653.6625133, \"Dimensions\": {\"Algorithm\": \"Linear Learner\", \"Host\": \"algo-1\", \"Operation\": \"training\", \"epoch\": 0, \"model\": 22}, \"Metrics\": {\"train_binary_classification_cross_entropy_objective\": {\"sum\": 0.5106722507301821, \"count\": 1, \"min\": 0.5106722507301821, \"max\": 0.5106722507301821}}}\u001b[0m\n",
      "\u001b[34m#metrics {\"StartTime\": 1724320653.6625416, \"EndTime\": 1724320653.662553, \"Dimensions\": {\"Algorithm\": \"Linear Learner\", \"Host\": \"algo-1\", \"Operation\": \"training\", \"epoch\": 0, \"model\": 23}, \"Metrics\": {\"train_binary_classification_cross_entropy_objective\": {\"sum\": 0.5123042693531842, \"count\": 1, \"min\": 0.5123042693531842, \"max\": 0.5123042693531842}}}\u001b[0m\n",
      "\u001b[34m#metrics {\"StartTime\": 1724320653.662582, \"EndTime\": 1724320653.6625905, \"Dimensions\": {\"Algorithm\": \"Linear Learner\", \"Host\": \"algo-1\", \"Operation\": \"training\", \"epoch\": 0, \"model\": 24}, \"Metrics\": {\"train_binary_classification_cross_entropy_objective\": {\"sum\": 0.5151955133373949, \"count\": 1, \"min\": 0.5151955133373949, \"max\": 0.5151955133373949}}}\u001b[0m\n",
      "\u001b[34m#metrics {\"StartTime\": 1724320653.66262, \"EndTime\": 1724320653.662629, \"Dimensions\": {\"Algorithm\": \"Linear Learner\", \"Host\": \"algo-1\", \"Operation\": \"training\", \"epoch\": 0, \"model\": 25}, \"Metrics\": {\"train_binary_classification_cross_entropy_objective\": {\"sum\": 0.5151830901866294, \"count\": 1, \"min\": 0.5151830901866294, \"max\": 0.5151830901866294}}}\u001b[0m\n",
      "\u001b[34m#metrics {\"StartTime\": 1724320653.66266, \"EndTime\": 1724320653.6626704, \"Dimensions\": {\"Algorithm\": \"Linear Learner\", \"Host\": \"algo-1\", \"Operation\": \"training\", \"epoch\": 0, \"model\": 26}, \"Metrics\": {\"train_binary_classification_cross_entropy_objective\": {\"sum\": 0.5151566041718929, \"count\": 1, \"min\": 0.5151566041718929, \"max\": 0.5151566041718929}}}\u001b[0m\n",
      "\u001b[34m#metrics {\"StartTime\": 1724320653.6627018, \"EndTime\": 1724320653.6627123, \"Dimensions\": {\"Algorithm\": \"Linear Learner\", \"Host\": \"algo-1\", \"Operation\": \"training\", \"epoch\": 0, \"model\": 27}, \"Metrics\": {\"train_binary_classification_cross_entropy_objective\": {\"sum\": 0.5151828886492901, \"count\": 1, \"min\": 0.5151828886492901, \"max\": 0.5151828886492901}}}\u001b[0m\n",
      "\u001b[34m#metrics {\"StartTime\": 1724320653.6627445, \"EndTime\": 1724320653.6627548, \"Dimensions\": {\"Algorithm\": \"Linear Learner\", \"Host\": \"algo-1\", \"Operation\": \"training\", \"epoch\": 0, \"model\": 28}, \"Metrics\": {\"train_binary_classification_cross_entropy_objective\": {\"sum\": 0.5153029288429004, \"count\": 1, \"min\": 0.5153029288429004, \"max\": 0.5153029288429004}}}\u001b[0m\n",
      "\u001b[34m#metrics {\"StartTime\": 1724320653.6627853, \"EndTime\": 1724320653.6627948, \"Dimensions\": {\"Algorithm\": \"Linear Learner\", \"Host\": \"algo-1\", \"Operation\": \"training\", \"epoch\": 0, \"model\": 29}, \"Metrics\": {\"train_binary_classification_cross_entropy_objective\": {\"sum\": 0.5157209755900438, \"count\": 1, \"min\": 0.5157209755900438, \"max\": 0.5157209755900438}}}\u001b[0m\n",
      "\u001b[34m#metrics {\"StartTime\": 1724320653.6628244, \"EndTime\": 1724320653.6628342, \"Dimensions\": {\"Algorithm\": \"Linear Learner\", \"Host\": \"algo-1\", \"Operation\": \"training\", \"epoch\": 0, \"model\": 30}, \"Metrics\": {\"train_binary_classification_cross_entropy_objective\": {\"sum\": 0.5152464686635801, \"count\": 1, \"min\": 0.5152464686635801, \"max\": 0.5152464686635801}}}\u001b[0m\n",
      "\u001b[34m#metrics {\"StartTime\": 1724320653.6628652, \"EndTime\": 1724320653.6628735, \"Dimensions\": {\"Algorithm\": \"Linear Learner\", \"Host\": \"algo-1\", \"Operation\": \"training\", \"epoch\": 0, \"model\": 31}, \"Metrics\": {\"train_binary_classification_cross_entropy_objective\": {\"sum\": 0.5156972992689967, \"count\": 1, \"min\": 0.5156972992689967, \"max\": 0.5156972992689967}}}\u001b[0m\n",
      "\u001b[34m[08/22/2024 09:57:33 INFO 140237033666368] #quality_metric: host=algo-1, epoch=0, train binary_classification_cross_entropy_objective <loss>=0.4945796018827946\u001b[0m\n",
      "\u001b[34m[2024-08-22 09:57:33.681] [tensorio] [info] epoch_stats={\"data_pipeline\": \"/opt/ml/input/data/validation\", \"epoch\": 0, \"duration\": 27687, \"num_examples\": 1, \"num_bytes\": 452000}\u001b[0m\n",
      "\u001b[34m[2024-08-22 09:57:36.325] [tensorio] [info] epoch_stats={\"data_pipeline\": \"/opt/ml/input/data/validation\", \"epoch\": 2, \"duration\": 2643, \"num_examples\": 164, \"num_bytes\": 73928668}\u001b[0m\n",
      "\u001b[34m#metrics {\"StartTime\": 1724320656.3307953, \"EndTime\": 1724320656.330847, \"Dimensions\": {\"Algorithm\": \"Linear Learner\", \"Host\": \"algo-1\", \"Operation\": \"training\", \"epoch\": 0, \"model\": 0}, \"Metrics\": {\"validation_binary_classification_cross_entropy_objective\": {\"sum\": 0.49232697752906157, \"count\": 1, \"min\": 0.49232697752906157, \"max\": 0.49232697752906157}}}\u001b[0m\n",
      "\u001b[34m#metrics {\"StartTime\": 1724320656.3309135, \"EndTime\": 1724320656.330924, \"Dimensions\": {\"Algorithm\": \"Linear Learner\", \"Host\": \"algo-1\", \"Operation\": \"training\", \"epoch\": 0, \"model\": 1}, \"Metrics\": {\"validation_binary_classification_cross_entropy_objective\": {\"sum\": 0.4931611215547362, \"count\": 1, \"min\": 0.4931611215547362, \"max\": 0.4931611215547362}}}\u001b[0m\n",
      "\u001b[34m#metrics {\"StartTime\": 1724320656.3309612, \"EndTime\": 1724320656.3309703, \"Dimensions\": {\"Algorithm\": \"Linear Learner\", \"Host\": \"algo-1\", \"Operation\": \"training\", \"epoch\": 0, \"model\": 2}, \"Metrics\": {\"validation_binary_classification_cross_entropy_objective\": {\"sum\": 0.49232718053302343, \"count\": 1, \"min\": 0.49232718053302343, \"max\": 0.49232718053302343}}}\u001b[0m\n",
      "\u001b[34m#metrics {\"StartTime\": 1724320656.331009, \"EndTime\": 1724320656.3310177, \"Dimensions\": {\"Algorithm\": \"Linear Learner\", \"Host\": \"algo-1\", \"Operation\": \"training\", \"epoch\": 0, \"model\": 3}, \"Metrics\": {\"validation_binary_classification_cross_entropy_objective\": {\"sum\": 0.4931602892011756, \"count\": 1, \"min\": 0.4931602892011756, \"max\": 0.4931602892011756}}}\u001b[0m\n",
      "\u001b[34m#metrics {\"StartTime\": 1724320656.3310492, \"EndTime\": 1724320656.331058, \"Dimensions\": {\"Algorithm\": \"Linear Learner\", \"Host\": \"algo-1\", \"Operation\": \"training\", \"epoch\": 0, \"model\": 4}, \"Metrics\": {\"validation_binary_classification_cross_entropy_objective\": {\"sum\": 0.49841496503023897, \"count\": 1, \"min\": 0.49841496503023897, \"max\": 0.49841496503023897}}}\u001b[0m\n",
      "\u001b[34m#metrics {\"StartTime\": 1724320656.3310983, \"EndTime\": 1724320656.3311086, \"Dimensions\": {\"Algorithm\": \"Linear Learner\", \"Host\": \"algo-1\", \"Operation\": \"training\", \"epoch\": 0, \"model\": 5}, \"Metrics\": {\"validation_binary_classification_cross_entropy_objective\": {\"sum\": 0.5207821115279168, \"count\": 1, \"min\": 0.5207821115279168, \"max\": 0.5207821115279168}}}\u001b[0m\n",
      "\u001b[34m#metrics {\"StartTime\": 1724320656.3311465, \"EndTime\": 1724320656.3311572, \"Dimensions\": {\"Algorithm\": \"Linear Learner\", \"Host\": \"algo-1\", \"Operation\": \"training\", \"epoch\": 0, \"model\": 6}, \"Metrics\": {\"validation_binary_classification_cross_entropy_objective\": {\"sum\": 0.498415667147802, \"count\": 1, \"min\": 0.498415667147802, \"max\": 0.498415667147802}}}\u001b[0m\n",
      "\u001b[34m#metrics {\"StartTime\": 1724320656.3311899, \"EndTime\": 1724320656.3311975, \"Dimensions\": {\"Algorithm\": \"Linear Learner\", \"Host\": \"algo-1\", \"Operation\": \"training\", \"epoch\": 0, \"model\": 7}, \"Metrics\": {\"validation_binary_classification_cross_entropy_objective\": {\"sum\": 0.5200219553561329, \"count\": 1, \"min\": 0.5200219553561329, \"max\": 0.5200219553561329}}}\u001b[0m\n",
      "\u001b[34m#metrics {\"StartTime\": 1724320656.3312318, \"EndTime\": 1724320656.331238, \"Dimensions\": {\"Algorithm\": \"Linear Learner\", \"Host\": \"algo-1\", \"Operation\": \"training\", \"epoch\": 0, \"model\": 8}, \"Metrics\": {\"validation_binary_classification_cross_entropy_objective\": {\"sum\": 0.4924576990195912, \"count\": 1, \"min\": 0.4924576990195912, \"max\": 0.4924576990195912}}}\u001b[0m\n",
      "\u001b[34m#metrics {\"StartTime\": 1724320656.3312743, \"EndTime\": 1724320656.3312814, \"Dimensions\": {\"Algorithm\": \"Linear Learner\", \"Host\": \"algo-1\", \"Operation\": \"training\", \"epoch\": 0, \"model\": 9}, \"Metrics\": {\"validation_binary_classification_cross_entropy_objective\": {\"sum\": 0.4933807134405269, \"count\": 1, \"min\": 0.4933807134405269, \"max\": 0.4933807134405269}}}\u001b[0m\n",
      "\u001b[34m#metrics {\"StartTime\": 1724320656.3313177, \"EndTime\": 1724320656.3313265, \"Dimensions\": {\"Algorithm\": \"Linear Learner\", \"Host\": \"algo-1\", \"Operation\": \"training\", \"epoch\": 0, \"model\": 10}, \"Metrics\": {\"validation_binary_classification_cross_entropy_objective\": {\"sum\": 0.4924577062963876, \"count\": 1, \"min\": 0.4924577062963876, \"max\": 0.4924577062963876}}}\u001b[0m\n",
      "\u001b[34m#metrics {\"StartTime\": 1724320656.3313663, \"EndTime\": 1724320656.3313727, \"Dimensions\": {\"Algorithm\": \"Linear Learner\", \"Host\": \"algo-1\", \"Operation\": \"training\", \"epoch\": 0, \"model\": 11}, \"Metrics\": {\"validation_binary_classification_cross_entropy_objective\": {\"sum\": 0.493380498308571, \"count\": 1, \"min\": 0.493380498308571, \"max\": 0.493380498308571}}}\u001b[0m\n",
      "\u001b[34m#metrics {\"StartTime\": 1724320656.3314092, \"EndTime\": 1724320656.3314183, \"Dimensions\": {\"Algorithm\": \"Linear Learner\", \"Host\": \"algo-1\", \"Operation\": \"training\", \"epoch\": 0, \"model\": 12}, \"Metrics\": {\"validation_binary_classification_cross_entropy_objective\": {\"sum\": 0.49829467492068036, \"count\": 1, \"min\": 0.49829467492068036, \"max\": 0.49829467492068036}}}\u001b[0m\n",
      "\u001b[34m#metrics {\"StartTime\": 1724320656.3314555, \"EndTime\": 1724320656.331465, \"Dimensions\": {\"Algorithm\": \"Linear Learner\", \"Host\": \"algo-1\", \"Operation\": \"training\", \"epoch\": 0, \"model\": 13}, \"Metrics\": {\"validation_binary_classification_cross_entropy_objective\": {\"sum\": 0.5176565397583021, \"count\": 1, \"min\": 0.5176565397583021, \"max\": 0.5176565397583021}}}\u001b[0m\n",
      "\u001b[34m#metrics {\"StartTime\": 1724320656.3315022, \"EndTime\": 1724320656.3315122, \"Dimensions\": {\"Algorithm\": \"Linear Learner\", \"Host\": \"algo-1\", \"Operation\": \"training\", \"epoch\": 0, \"model\": 14}, \"Metrics\": {\"validation_binary_classification_cross_entropy_objective\": {\"sum\": 0.49829534065426123, \"count\": 1, \"min\": 0.49829534065426123, \"max\": 0.49829534065426123}}}\u001b[0m\n",
      "\u001b[34m#metrics {\"StartTime\": 1724320656.3315465, \"EndTime\": 1724320656.3315527, \"Dimensions\": {\"Algorithm\": \"Linear Learner\", \"Host\": \"algo-1\", \"Operation\": \"training\", \"epoch\": 0, \"model\": 15}, \"Metrics\": {\"validation_binary_classification_cross_entropy_objective\": {\"sum\": 0.517674762162648, \"count\": 1, \"min\": 0.517674762162648, \"max\": 0.517674762162648}}}\u001b[0m\n",
      "\u001b[34m#metrics {\"StartTime\": 1724320656.331583, \"EndTime\": 1724320656.3315892, \"Dimensions\": {\"Algorithm\": \"Linear Learner\", \"Host\": \"algo-1\", \"Operation\": \"training\", \"epoch\": 0, \"model\": 16}, \"Metrics\": {\"validation_binary_classification_cross_entropy_objective\": {\"sum\": 0.5081655658712152, \"count\": 1, \"min\": 0.5081655658712152, \"max\": 0.5081655658712152}}}\u001b[0m\n",
      "\u001b[34m#metrics {\"StartTime\": 1724320656.3316493, \"EndTime\": 1724320656.3316588, \"Dimensions\": {\"Algorithm\": \"Linear Learner\", \"Host\": \"algo-1\", \"Operation\": \"training\", \"epoch\": 0, \"model\": 17}, \"Metrics\": {\"validation_binary_classification_cross_entropy_objective\": {\"sum\": 0.5080883864890451, \"count\": 1, \"min\": 0.5080883864890451, \"max\": 0.5080883864890451}}}\u001b[0m\n",
      "\u001b[34m#metrics {\"StartTime\": 1724320656.331692, \"EndTime\": 1724320656.331701, \"Dimensions\": {\"Algorithm\": \"Linear Learner\", \"Host\": \"algo-1\", \"Operation\": \"training\", \"epoch\": 0, \"model\": 18}, \"Metrics\": {\"validation_binary_classification_cross_entropy_objective\": {\"sum\": 0.5081675884474529, \"count\": 1, \"min\": 0.5081675884474529, \"max\": 0.5081675884474529}}}\u001b[0m\n",
      "\u001b[34m#metrics {\"StartTime\": 1724320656.33173, \"EndTime\": 1724320656.331739, \"Dimensions\": {\"Algorithm\": \"Linear Learner\", \"Host\": \"algo-1\", \"Operation\": \"training\", \"epoch\": 0, \"model\": 19}, \"Metrics\": {\"validation_binary_classification_cross_entropy_objective\": {\"sum\": 0.5080940381342703, \"count\": 1, \"min\": 0.5080940381342703, \"max\": 0.5080940381342703}}}\u001b[0m\n",
      "\u001b[34m#metrics {\"StartTime\": 1724320656.3317716, \"EndTime\": 1724320656.3317792, \"Dimensions\": {\"Algorithm\": \"Linear Learner\", \"Host\": \"algo-1\", \"Operation\": \"training\", \"epoch\": 0, \"model\": 20}, \"Metrics\": {\"validation_binary_classification_cross_entropy_objective\": {\"sum\": 0.5091877736627747, \"count\": 1, \"min\": 0.5091877736627747, \"max\": 0.5091877736627747}}}\u001b[0m\n",
      "\u001b[34m#metrics {\"StartTime\": 1724320656.3318143, \"EndTime\": 1724320656.3318233, \"Dimensions\": {\"Algorithm\": \"Linear Learner\", \"Host\": \"algo-1\", \"Operation\": \"training\", \"epoch\": 0, \"model\": 21}, \"Metrics\": {\"validation_binary_classification_cross_entropy_objective\": {\"sum\": 0.5116527190431258, \"count\": 1, \"min\": 0.5116527190431258, \"max\": 0.5116527190431258}}}\u001b[0m\n",
      "\u001b[34m#metrics {\"StartTime\": 1724320656.3318467, \"EndTime\": 1724320656.3318522, \"Dimensions\": {\"Algorithm\": \"Linear Learner\", \"Host\": \"algo-1\", \"Operation\": \"training\", \"epoch\": 0, \"model\": 22}, \"Metrics\": {\"validation_binary_classification_cross_entropy_objective\": {\"sum\": 0.5091576193647175, \"count\": 1, \"min\": 0.5091576193647175, \"max\": 0.5091576193647175}}}\u001b[0m\n",
      "\u001b[34m#metrics {\"StartTime\": 1724320656.3318694, \"EndTime\": 1724320656.3318746, \"Dimensions\": {\"Algorithm\": \"Linear Learner\", \"Host\": \"algo-1\", \"Operation\": \"training\", \"epoch\": 0, \"model\": 23}, \"Metrics\": {\"validation_binary_classification_cross_entropy_objective\": {\"sum\": 0.5116593842154843, \"count\": 1, \"min\": 0.5116593842154843, \"max\": 0.5116593842154843}}}\u001b[0m\n",
      "\u001b[34m#metrics {\"StartTime\": 1724320656.331893, \"EndTime\": 1724320656.3319008, \"Dimensions\": {\"Algorithm\": \"Linear Learner\", \"Host\": \"algo-1\", \"Operation\": \"training\", \"epoch\": 0, \"model\": 24}, \"Metrics\": {\"validation_binary_classification_cross_entropy_objective\": {\"sum\": 0.5138858415489833, \"count\": 1, \"min\": 0.5138858415489833, \"max\": 0.5138858415489833}}}\u001b[0m\n",
      "\u001b[34m#metrics {\"StartTime\": 1724320656.331936, \"EndTime\": 1724320656.3319442, \"Dimensions\": {\"Algorithm\": \"Linear Learner\", \"Host\": \"algo-1\", \"Operation\": \"training\", \"epoch\": 0, \"model\": 25}, \"Metrics\": {\"validation_binary_classification_cross_entropy_objective\": {\"sum\": 0.5138262677227236, \"count\": 1, \"min\": 0.5138262677227236, \"max\": 0.5138262677227236}}}\u001b[0m\n",
      "\u001b[34m#metrics {\"StartTime\": 1724320656.331974, \"EndTime\": 1724320656.3319826, \"Dimensions\": {\"Algorithm\": \"Linear Learner\", \"Host\": \"algo-1\", \"Operation\": \"training\", \"epoch\": 0, \"model\": 26}, \"Metrics\": {\"validation_binary_classification_cross_entropy_objective\": {\"sum\": 0.5139058978926134, \"count\": 1, \"min\": 0.5139058978926134, \"max\": 0.5139058978926134}}}\u001b[0m\n",
      "\u001b[34m#metrics {\"StartTime\": 1724320656.3320205, \"EndTime\": 1724320656.3320305, \"Dimensions\": {\"Algorithm\": \"Linear Learner\", \"Host\": \"algo-1\", \"Operation\": \"training\", \"epoch\": 0, \"model\": 27}, \"Metrics\": {\"validation_binary_classification_cross_entropy_objective\": {\"sum\": 0.5138293821915945, \"count\": 1, \"min\": 0.5138293821915945, \"max\": 0.5138293821915945}}}\u001b[0m\n",
      "\u001b[34m#metrics {\"StartTime\": 1724320656.3320687, \"EndTime\": 1724320656.3320782, \"Dimensions\": {\"Algorithm\": \"Linear Learner\", \"Host\": \"algo-1\", \"Operation\": \"training\", \"epoch\": 0, \"model\": 28}, \"Metrics\": {\"validation_binary_classification_cross_entropy_objective\": {\"sum\": 0.513864533409783, \"count\": 1, \"min\": 0.513864533409783, \"max\": 0.513864533409783}}}\u001b[0m\n",
      "\u001b[34m#metrics {\"StartTime\": 1724320656.3321157, \"EndTime\": 1724320656.3321254, \"Dimensions\": {\"Algorithm\": \"Linear Learner\", \"Host\": \"algo-1\", \"Operation\": \"training\", \"epoch\": 0, \"model\": 29}, \"Metrics\": {\"validation_binary_classification_cross_entropy_objective\": {\"sum\": 0.5137919923322896, \"count\": 1, \"min\": 0.5137919923322896, \"max\": 0.5137919923322896}}}\u001b[0m\n",
      "\u001b[34m#metrics {\"StartTime\": 1724320656.3321629, \"EndTime\": 1724320656.3321733, \"Dimensions\": {\"Algorithm\": \"Linear Learner\", \"Host\": \"algo-1\", \"Operation\": \"training\", \"epoch\": 0, \"model\": 30}, \"Metrics\": {\"validation_binary_classification_cross_entropy_objective\": {\"sum\": 0.5138700434373548, \"count\": 1, \"min\": 0.5138700434373548, \"max\": 0.5138700434373548}}}\u001b[0m\n",
      "\u001b[34m#metrics {\"StartTime\": 1724320656.3322093, \"EndTime\": 1724320656.3322191, \"Dimensions\": {\"Algorithm\": \"Linear Learner\", \"Host\": \"algo-1\", \"Operation\": \"training\", \"epoch\": 0, \"model\": 31}, \"Metrics\": {\"validation_binary_classification_cross_entropy_objective\": {\"sum\": 0.5137858219820882, \"count\": 1, \"min\": 0.5137858219820882, \"max\": 0.5137858219820882}}}\u001b[0m\n",
      "\u001b[34m[08/22/2024 09:57:36 INFO 140237033666368] #quality_metric: host=algo-1, epoch=0, validation binary_classification_cross_entropy_objective <loss>=0.49232697752906157\u001b[0m\n",
      "\u001b[34m[08/22/2024 09:57:36 INFO 140237033666368] #early_stopping_criteria_metric: host=algo-1, epoch=0, criteria=binary_classification_cross_entropy_objective, value=0.49232697752906157\u001b[0m\n",
      "\u001b[34m[08/22/2024 09:57:36 INFO 140237033666368] Epoch 0: Loss improved. Updating best model\u001b[0m\n",
      "\u001b[34m[08/22/2024 09:57:36 INFO 140237033666368] Saving model for epoch: 0\u001b[0m\n",
      "\u001b[34m[08/22/2024 09:57:36 INFO 140237033666368] Saved checkpoint to \"/tmp/tmp91gr9npp/mx-mod-0000.params\"\u001b[0m\n",
      "\u001b[34m[08/22/2024 09:57:36 INFO 140237033666368] #progress_metric: host=algo-1, completed 6.666666666666667 % of epochs\u001b[0m\n",
      "\u001b[34m#metrics {\"StartTime\": 1724320626.2435062, \"EndTime\": 1724320656.338141, \"Dimensions\": {\"Algorithm\": \"Linear Learner\", \"Host\": \"algo-1\", \"Operation\": \"training\", \"epoch\": 0, \"Meta\": \"training_data_iter\"}, \"Metrics\": {\"Total Records Seen\": {\"sum\": 1320472.0, \"count\": 1, \"min\": 1320472, \"max\": 1320472}, \"Total Batches Seen\": {\"sum\": 1321.0, \"count\": 1, \"min\": 1321, \"max\": 1321}, \"Max Records Seen Between Resets\": {\"sum\": 1308472.0, \"count\": 1, \"min\": 1308472, \"max\": 1308472}, \"Max Batches Seen Between Resets\": {\"sum\": 1309.0, \"count\": 1, \"min\": 1309, \"max\": 1309}, \"Reset Count\": {\"sum\": 3.0, \"count\": 1, \"min\": 3, \"max\": 3}, \"Number of Records Since Last Reset\": {\"sum\": 1308472.0, \"count\": 1, \"min\": 1308472, \"max\": 1308472}, \"Number of Batches Since Last Reset\": {\"sum\": 1309.0, \"count\": 1, \"min\": 1309, \"max\": 1309}}}\u001b[0m\n",
      "\u001b[34m[08/22/2024 09:57:36 INFO 140237033666368] #throughput_metric: host=algo-1, train throughput=43478.41790272296 records/second\u001b[0m\n",
      "\u001b[34m[2024-08-22 09:58:03.725] [tensorio] [info] epoch_stats={\"data_pipeline\": \"/opt/ml/input/data/train\", \"epoch\": 5, \"duration\": 27382, \"num_examples\": 1309, \"num_bytes\": 591429344}\u001b[0m\n",
      "\u001b[34m#metrics {\"StartTime\": 1724320683.7255352, \"EndTime\": 1724320683.7256086, \"Dimensions\": {\"Algorithm\": \"Linear Learner\", \"Host\": \"algo-1\", \"Operation\": \"training\", \"epoch\": 1, \"model\": 0}, \"Metrics\": {\"train_binary_classification_cross_entropy_objective\": {\"sum\": 0.49228091908959437, \"count\": 1, \"min\": 0.49228091908959437, \"max\": 0.49228091908959437}}}\u001b[0m\n",
      "\u001b[34m#metrics {\"StartTime\": 1724320683.725681, \"EndTime\": 1724320683.7256968, \"Dimensions\": {\"Algorithm\": \"Linear Learner\", \"Host\": \"algo-1\", \"Operation\": \"training\", \"epoch\": 1, \"model\": 1}, \"Metrics\": {\"train_binary_classification_cross_entropy_objective\": {\"sum\": 0.493380518758698, \"count\": 1, \"min\": 0.493380518758698, \"max\": 0.493380518758698}}}\u001b[0m\n",
      "\u001b[34m#metrics {\"StartTime\": 1724320683.7257347, \"EndTime\": 1724320683.7257438, \"Dimensions\": {\"Algorithm\": \"Linear Learner\", \"Host\": \"algo-1\", \"Operation\": \"training\", \"epoch\": 1, \"model\": 2}, \"Metrics\": {\"train_binary_classification_cross_entropy_objective\": {\"sum\": 0.49228083439631565, \"count\": 1, \"min\": 0.49228083439631565, \"max\": 0.49228083439631565}}}\u001b[0m\n",
      "\u001b[34m#metrics {\"StartTime\": 1724320683.7257743, \"EndTime\": 1724320683.7257838, \"Dimensions\": {\"Algorithm\": \"Linear Learner\", \"Host\": \"algo-1\", \"Operation\": \"training\", \"epoch\": 1, \"model\": 3}, \"Metrics\": {\"train_binary_classification_cross_entropy_objective\": {\"sum\": 0.4933801120209767, \"count\": 1, \"min\": 0.4933801120209767, \"max\": 0.4933801120209767}}}\u001b[0m\n",
      "\u001b[34m#metrics {\"StartTime\": 1724320683.7258224, \"EndTime\": 1724320683.7258327, \"Dimensions\": {\"Algorithm\": \"Linear Learner\", \"Host\": \"algo-1\", \"Operation\": \"training\", \"epoch\": 1, \"model\": 4}, \"Metrics\": {\"train_binary_classification_cross_entropy_objective\": {\"sum\": 0.4965527213093702, \"count\": 1, \"min\": 0.4965527213093702, \"max\": 0.4965527213093702}}}\u001b[0m\n",
      "\u001b[34m#metrics {\"StartTime\": 1724320683.7258687, \"EndTime\": 1724320683.7258785, \"Dimensions\": {\"Algorithm\": \"Linear Learner\", \"Host\": \"algo-1\", \"Operation\": \"training\", \"epoch\": 1, \"model\": 5}, \"Metrics\": {\"train_binary_classification_cross_entropy_objective\": {\"sum\": 0.5162357728357344, \"count\": 1, \"min\": 0.5162357728357344, \"max\": 0.5162357728357344}}}\u001b[0m\n",
      "\u001b[34m#metrics {\"StartTime\": 1724320683.72591, \"EndTime\": 1724320683.7259197, \"Dimensions\": {\"Algorithm\": \"Linear Learner\", \"Host\": \"algo-1\", \"Operation\": \"training\", \"epoch\": 1, \"model\": 6}, \"Metrics\": {\"train_binary_classification_cross_entropy_objective\": {\"sum\": 0.4965528019896341, \"count\": 1, \"min\": 0.4965528019896341, \"max\": 0.4965528019896341}}}\u001b[0m\n",
      "\u001b[34m#metrics {\"StartTime\": 1724320683.7259533, \"EndTime\": 1724320683.725963, \"Dimensions\": {\"Algorithm\": \"Linear Learner\", \"Host\": \"algo-1\", \"Operation\": \"training\", \"epoch\": 1, \"model\": 7}, \"Metrics\": {\"train_binary_classification_cross_entropy_objective\": {\"sum\": 0.5161992549137967, \"count\": 1, \"min\": 0.5161992549137967, \"max\": 0.5161992549137967}}}\u001b[0m\n",
      "\u001b[34m#metrics {\"StartTime\": 1724320683.726, \"EndTime\": 1724320683.7260096, \"Dimensions\": {\"Algorithm\": \"Linear Learner\", \"Host\": \"algo-1\", \"Operation\": \"training\", \"epoch\": 1, \"model\": 8}, \"Metrics\": {\"train_binary_classification_cross_entropy_objective\": {\"sum\": 0.49235894446416734, \"count\": 1, \"min\": 0.49235894446416734, \"max\": 0.49235894446416734}}}\u001b[0m\n",
      "\u001b[34m#metrics {\"StartTime\": 1724320683.726043, \"EndTime\": 1724320683.7260523, \"Dimensions\": {\"Algorithm\": \"Linear Learner\", \"Host\": \"algo-1\", \"Operation\": \"training\", \"epoch\": 1, \"model\": 9}, \"Metrics\": {\"train_binary_classification_cross_entropy_objective\": {\"sum\": 0.493396640369287, \"count\": 1, \"min\": 0.493396640369287, \"max\": 0.493396640369287}}}\u001b[0m\n",
      "\u001b[34m#metrics {\"StartTime\": 1724320683.7260852, \"EndTime\": 1724320683.726095, \"Dimensions\": {\"Algorithm\": \"Linear Learner\", \"Host\": \"algo-1\", \"Operation\": \"training\", \"epoch\": 1, \"model\": 10}, \"Metrics\": {\"train_binary_classification_cross_entropy_objective\": {\"sum\": 0.4923589966800235, \"count\": 1, \"min\": 0.4923589966800235, \"max\": 0.4923589966800235}}}\u001b[0m\n",
      "\u001b[34m#metrics {\"StartTime\": 1724320683.7261252, \"EndTime\": 1724320683.7261348, \"Dimensions\": {\"Algorithm\": \"Linear Learner\", \"Host\": \"algo-1\", \"Operation\": \"training\", \"epoch\": 1, \"model\": 11}, \"Metrics\": {\"train_binary_classification_cross_entropy_objective\": {\"sum\": 0.4933968029897147, \"count\": 1, \"min\": 0.4933968029897147, \"max\": 0.4933968029897147}}}\u001b[0m\n",
      "\u001b[34m#metrics {\"StartTime\": 1724320683.726169, \"EndTime\": 1724320683.7261794, \"Dimensions\": {\"Algorithm\": \"Linear Learner\", \"Host\": \"algo-1\", \"Operation\": \"training\", \"epoch\": 1, \"model\": 12}, \"Metrics\": {\"train_binary_classification_cross_entropy_objective\": {\"sum\": 0.4963776769608897, \"count\": 1, \"min\": 0.4963776769608897, \"max\": 0.4963776769608897}}}\u001b[0m\n",
      "\u001b[34m#metrics {\"StartTime\": 1724320683.72621, \"EndTime\": 1724320683.7262201, \"Dimensions\": {\"Algorithm\": \"Linear Learner\", \"Host\": \"algo-1\", \"Operation\": \"training\", \"epoch\": 1, \"model\": 13}, \"Metrics\": {\"train_binary_classification_cross_entropy_objective\": {\"sum\": 0.5146997656865951, \"count\": 1, \"min\": 0.5146997656865951, \"max\": 0.5146997656865951}}}\u001b[0m\n",
      "\u001b[34m#metrics {\"StartTime\": 1724320683.7262511, \"EndTime\": 1724320683.7262602, \"Dimensions\": {\"Algorithm\": \"Linear Learner\", \"Host\": \"algo-1\", \"Operation\": \"training\", \"epoch\": 1, \"model\": 14}, \"Metrics\": {\"train_binary_classification_cross_entropy_objective\": {\"sum\": 0.49637752208651387, \"count\": 1, \"min\": 0.49637752208651387, \"max\": 0.49637752208651387}}}\u001b[0m\n",
      "\u001b[34m#metrics {\"StartTime\": 1724320683.7262912, \"EndTime\": 1724320683.7263012, \"Dimensions\": {\"Algorithm\": \"Linear Learner\", \"Host\": \"algo-1\", \"Operation\": \"training\", \"epoch\": 1, \"model\": 15}, \"Metrics\": {\"train_binary_classification_cross_entropy_objective\": {\"sum\": 0.5147015903251251, \"count\": 1, \"min\": 0.5147015903251251, \"max\": 0.5147015903251251}}}\u001b[0m\n",
      "\u001b[34m#metrics {\"StartTime\": 1724320683.7263398, \"EndTime\": 1724320683.7263503, \"Dimensions\": {\"Algorithm\": \"Linear Learner\", \"Host\": \"algo-1\", \"Operation\": \"training\", \"epoch\": 1, \"model\": 16}, \"Metrics\": {\"train_binary_classification_cross_entropy_objective\": {\"sum\": 0.5074683500517398, \"count\": 1, \"min\": 0.5074683500517398, \"max\": 0.5074683500517398}}}\u001b[0m\n",
      "\u001b[34m#metrics {\"StartTime\": 1724320683.7263842, \"EndTime\": 1724320683.7263942, \"Dimensions\": {\"Algorithm\": \"Linear Learner\", \"Host\": \"algo-1\", \"Operation\": \"training\", \"epoch\": 1, \"model\": 17}, \"Metrics\": {\"train_binary_classification_cross_entropy_objective\": {\"sum\": 0.5077176543069541, \"count\": 1, \"min\": 0.5077176543069541, \"max\": 0.5077176543069541}}}\u001b[0m\n",
      "\u001b[34m#metrics {\"StartTime\": 1724320683.7264342, \"EndTime\": 1724320683.7264447, \"Dimensions\": {\"Algorithm\": \"Linear Learner\", \"Host\": \"algo-1\", \"Operation\": \"training\", \"epoch\": 1, \"model\": 18}, \"Metrics\": {\"train_binary_classification_cross_entropy_objective\": {\"sum\": 0.507468273827789, \"count\": 1, \"min\": 0.507468273827789, \"max\": 0.507468273827789}}}\u001b[0m\n",
      "\u001b[34m#metrics {\"StartTime\": 1724320683.726483, \"EndTime\": 1724320683.7264926, \"Dimensions\": {\"Algorithm\": \"Linear Learner\", \"Host\": \"algo-1\", \"Operation\": \"training\", \"epoch\": 1, \"model\": 19}, \"Metrics\": {\"train_binary_classification_cross_entropy_objective\": {\"sum\": 0.507717429578122, \"count\": 1, \"min\": 0.507717429578122, \"max\": 0.507717429578122}}}\u001b[0m\n",
      "\u001b[34m#metrics {\"StartTime\": 1724320683.7265244, \"EndTime\": 1724320683.7265346, \"Dimensions\": {\"Algorithm\": \"Linear Learner\", \"Host\": \"algo-1\", \"Operation\": \"training\", \"epoch\": 1, \"model\": 20}, \"Metrics\": {\"train_binary_classification_cross_entropy_objective\": {\"sum\": 0.5083020383035736, \"count\": 1, \"min\": 0.5083020383035736, \"max\": 0.5083020383035736}}}\u001b[0m\n",
      "\u001b[34m#metrics {\"StartTime\": 1724320683.7265642, \"EndTime\": 1724320683.7265735, \"Dimensions\": {\"Algorithm\": \"Linear Learner\", \"Host\": \"algo-1\", \"Operation\": \"training\", \"epoch\": 1, \"model\": 21}, \"Metrics\": {\"train_binary_classification_cross_entropy_objective\": {\"sum\": 0.5115063624950724, \"count\": 1, \"min\": 0.5115063624950724, \"max\": 0.5115063624950724}}}\u001b[0m\n",
      "\u001b[34m#metrics {\"StartTime\": 1724320683.7266116, \"EndTime\": 1724320683.7266214, \"Dimensions\": {\"Algorithm\": \"Linear Learner\", \"Host\": \"algo-1\", \"Operation\": \"training\", \"epoch\": 1, \"model\": 22}, \"Metrics\": {\"train_binary_classification_cross_entropy_objective\": {\"sum\": 0.5083019842211989, \"count\": 1, \"min\": 0.5083019842211989, \"max\": 0.5083019842211989}}}\u001b[0m\n",
      "\u001b[34m#metrics {\"StartTime\": 1724320683.726661, \"EndTime\": 1724320683.7266712, \"Dimensions\": {\"Algorithm\": \"Linear Learner\", \"Host\": \"algo-1\", \"Operation\": \"training\", \"epoch\": 1, \"model\": 23}, \"Metrics\": {\"train_binary_classification_cross_entropy_objective\": {\"sum\": 0.5115073279751186, \"count\": 1, \"min\": 0.5115073279751186, \"max\": 0.5115073279751186}}}\u001b[0m\n",
      "\u001b[34m#metrics {\"StartTime\": 1724320683.7267072, \"EndTime\": 1724320683.7267175, \"Dimensions\": {\"Algorithm\": \"Linear Learner\", \"Host\": \"algo-1\", \"Operation\": \"training\", \"epoch\": 1, \"model\": 24}, \"Metrics\": {\"train_binary_classification_cross_entropy_objective\": {\"sum\": 0.513762237058867, \"count\": 1, \"min\": 0.513762237058867, \"max\": 0.513762237058867}}}\u001b[0m\n",
      "\u001b[34m#metrics {\"StartTime\": 1724320683.726757, \"EndTime\": 1724320683.7267675, \"Dimensions\": {\"Algorithm\": \"Linear Learner\", \"Host\": \"algo-1\", \"Operation\": \"training\", \"epoch\": 1, \"model\": 25}, \"Metrics\": {\"train_binary_classification_cross_entropy_objective\": {\"sum\": 0.5138278537248617, \"count\": 1, \"min\": 0.5138278537248617, \"max\": 0.5138278537248617}}}\u001b[0m\n",
      "\u001b[34m#metrics {\"StartTime\": 1724320683.7268047, \"EndTime\": 1724320683.726815, \"Dimensions\": {\"Algorithm\": \"Linear Learner\", \"Host\": \"algo-1\", \"Operation\": \"training\", \"epoch\": 1, \"model\": 26}, \"Metrics\": {\"train_binary_classification_cross_entropy_objective\": {\"sum\": 0.5137622774923248, \"count\": 1, \"min\": 0.5137622774923248, \"max\": 0.5137622774923248}}}\u001b[0m\n",
      "\u001b[34m#metrics {\"StartTime\": 1724320683.7268486, \"EndTime\": 1724320683.7268589, \"Dimensions\": {\"Algorithm\": \"Linear Learner\", \"Host\": \"algo-1\", \"Operation\": \"training\", \"epoch\": 1, \"model\": 27}, \"Metrics\": {\"train_binary_classification_cross_entropy_objective\": {\"sum\": 0.5138269067466806, \"count\": 1, \"min\": 0.5138269067466806, \"max\": 0.5138269067466806}}}\u001b[0m\n",
      "\u001b[34m#metrics {\"StartTime\": 1724320683.726894, \"EndTime\": 1724320683.7269042, \"Dimensions\": {\"Algorithm\": \"Linear Learner\", \"Host\": \"algo-1\", \"Operation\": \"training\", \"epoch\": 1, \"model\": 28}, \"Metrics\": {\"train_binary_classification_cross_entropy_objective\": {\"sum\": 0.5140252147289591, \"count\": 1, \"min\": 0.5140252147289591, \"max\": 0.5140252147289591}}}\u001b[0m\n",
      "\u001b[34m#metrics {\"StartTime\": 1724320683.7269359, \"EndTime\": 1724320683.7269444, \"Dimensions\": {\"Algorithm\": \"Linear Learner\", \"Host\": \"algo-1\", \"Operation\": \"training\", \"epoch\": 1, \"model\": 29}, \"Metrics\": {\"train_binary_classification_cross_entropy_objective\": {\"sum\": 0.5151384370669677, \"count\": 1, \"min\": 0.5151384370669677, \"max\": 0.5151384370669677}}}\u001b[0m\n",
      "\u001b[34m#metrics {\"StartTime\": 1724320683.726975, \"EndTime\": 1724320683.726984, \"Dimensions\": {\"Algorithm\": \"Linear Learner\", \"Host\": \"algo-1\", \"Operation\": \"training\", \"epoch\": 1, \"model\": 30}, \"Metrics\": {\"train_binary_classification_cross_entropy_objective\": {\"sum\": 0.5140254659623545, \"count\": 1, \"min\": 0.5140254659623545, \"max\": 0.5140254659623545}}}\u001b[0m\n",
      "\u001b[34m#metrics {\"StartTime\": 1724320683.7270207, \"EndTime\": 1724320683.727031, \"Dimensions\": {\"Algorithm\": \"Linear Learner\", \"Host\": \"algo-1\", \"Operation\": \"training\", \"epoch\": 1, \"model\": 31}, \"Metrics\": {\"train_binary_classification_cross_entropy_objective\": {\"sum\": 0.5151419830088951, \"count\": 1, \"min\": 0.5151419830088951, \"max\": 0.5151419830088951}}}\u001b[0m\n",
      "\u001b[34m[08/22/2024 09:58:03 INFO 140237033666368] #quality_metric: host=algo-1, epoch=1, train binary_classification_cross_entropy_objective <loss>=0.49228091908959437\u001b[0m\n",
      "\u001b[34m[2024-08-22 09:58:06.275] [tensorio] [info] epoch_stats={\"data_pipeline\": \"/opt/ml/input/data/validation\", \"epoch\": 5, \"duration\": 2534, \"num_examples\": 164, \"num_bytes\": 73928668}\u001b[0m\n",
      "\u001b[34m#metrics {\"StartTime\": 1724320686.2798681, \"EndTime\": 1724320686.279916, \"Dimensions\": {\"Algorithm\": \"Linear Learner\", \"Host\": \"algo-1\", \"Operation\": \"training\", \"epoch\": 1, \"model\": 0}, \"Metrics\": {\"validation_binary_classification_cross_entropy_objective\": {\"sum\": 0.4920411638104288, \"count\": 1, \"min\": 0.4920411638104288, \"max\": 0.4920411638104288}}}\u001b[0m\n",
      "\u001b[34m#metrics {\"StartTime\": 1724320686.2799795, \"EndTime\": 1724320686.2799892, \"Dimensions\": {\"Algorithm\": \"Linear Learner\", \"Host\": \"algo-1\", \"Operation\": \"training\", \"epoch\": 1, \"model\": 1}, \"Metrics\": {\"validation_binary_classification_cross_entropy_objective\": {\"sum\": 0.49301123988604406, \"count\": 1, \"min\": 0.49301123988604406, \"max\": 0.49301123988604406}}}\u001b[0m\n",
      "\u001b[34m#metrics {\"StartTime\": 1724320686.2800255, \"EndTime\": 1724320686.2800362, \"Dimensions\": {\"Algorithm\": \"Linear Learner\", \"Host\": \"algo-1\", \"Operation\": \"training\", \"epoch\": 1, \"model\": 2}, \"Metrics\": {\"validation_binary_classification_cross_entropy_objective\": {\"sum\": 0.49204110018510616, \"count\": 1, \"min\": 0.49204110018510616, \"max\": 0.49204110018510616}}}\u001b[0m\n",
      "\u001b[34m#metrics {\"StartTime\": 1724320686.2800753, \"EndTime\": 1724320686.2800853, \"Dimensions\": {\"Algorithm\": \"Linear Learner\", \"Host\": \"algo-1\", \"Operation\": \"training\", \"epoch\": 1, \"model\": 3}, \"Metrics\": {\"validation_binary_classification_cross_entropy_objective\": {\"sum\": 0.493011113754906, \"count\": 1, \"min\": 0.493011113754906, \"max\": 0.493011113754906}}}\u001b[0m\n",
      "\u001b[34m#metrics {\"StartTime\": 1724320686.2801218, \"EndTime\": 1724320686.280132, \"Dimensions\": {\"Algorithm\": \"Linear Learner\", \"Host\": \"algo-1\", \"Operation\": \"training\", \"epoch\": 1, \"model\": 4}, \"Metrics\": {\"validation_binary_classification_cross_entropy_objective\": {\"sum\": 0.49439927593024535, \"count\": 1, \"min\": 0.49439927593024535, \"max\": 0.49439927593024535}}}\u001b[0m\n",
      "\u001b[34m#metrics {\"StartTime\": 1724320686.2801642, \"EndTime\": 1724320686.2801738, \"Dimensions\": {\"Algorithm\": \"Linear Learner\", \"Host\": \"algo-1\", \"Operation\": \"training\", \"epoch\": 1, \"model\": 5}, \"Metrics\": {\"validation_binary_classification_cross_entropy_objective\": {\"sum\": 0.5179042176527039, \"count\": 1, \"min\": 0.5179042176527039, \"max\": 0.5179042176527039}}}\u001b[0m\n",
      "\u001b[34m#metrics {\"StartTime\": 1724320686.2802052, \"EndTime\": 1724320686.280214, \"Dimensions\": {\"Algorithm\": \"Linear Learner\", \"Host\": \"algo-1\", \"Operation\": \"training\", \"epoch\": 1, \"model\": 6}, \"Metrics\": {\"validation_binary_classification_cross_entropy_objective\": {\"sum\": 0.49439949031586317, \"count\": 1, \"min\": 0.49439949031586317, \"max\": 0.49439949031586317}}}\u001b[0m\n",
      "\u001b[34m#metrics {\"StartTime\": 1724320686.280242, \"EndTime\": 1724320686.2802498, \"Dimensions\": {\"Algorithm\": \"Linear Learner\", \"Host\": \"algo-1\", \"Operation\": \"training\", \"epoch\": 1, \"model\": 7}, \"Metrics\": {\"validation_binary_classification_cross_entropy_objective\": {\"sum\": 0.5178899853583989, \"count\": 1, \"min\": 0.5178899853583989, \"max\": 0.5178899853583989}}}\u001b[0m\n",
      "\u001b[34m#metrics {\"StartTime\": 1724320686.280277, \"EndTime\": 1724320686.2802854, \"Dimensions\": {\"Algorithm\": \"Linear Learner\", \"Host\": \"algo-1\", \"Operation\": \"training\", \"epoch\": 1, \"model\": 8}, \"Metrics\": {\"validation_binary_classification_cross_entropy_objective\": {\"sum\": 0.4921374406783614, \"count\": 1, \"min\": 0.4921374406783614, \"max\": 0.4921374406783614}}}\u001b[0m\n",
      "\u001b[34m#metrics {\"StartTime\": 1724320686.2803218, \"EndTime\": 1724320686.280331, \"Dimensions\": {\"Algorithm\": \"Linear Learner\", \"Host\": \"algo-1\", \"Operation\": \"training\", \"epoch\": 1, \"model\": 9}, \"Metrics\": {\"validation_binary_classification_cross_entropy_objective\": {\"sum\": 0.49322523778122734, \"count\": 1, \"min\": 0.49322523778122734, \"max\": 0.49322523778122734}}}\u001b[0m\n",
      "\u001b[34m#metrics {\"StartTime\": 1724320686.2803829, \"EndTime\": 1724320686.2803946, \"Dimensions\": {\"Algorithm\": \"Linear Learner\", \"Host\": \"algo-1\", \"Operation\": \"training\", \"epoch\": 1, \"model\": 10}, \"Metrics\": {\"validation_binary_classification_cross_entropy_objective\": {\"sum\": 0.49213745467220066, \"count\": 1, \"min\": 0.49213745467220066, \"max\": 0.49213745467220066}}}\u001b[0m\n",
      "\u001b[34m#metrics {\"StartTime\": 1724320686.2804363, \"EndTime\": 1724320686.280447, \"Dimensions\": {\"Algorithm\": \"Linear Learner\", \"Host\": \"algo-1\", \"Operation\": \"training\", \"epoch\": 1, \"model\": 11}, \"Metrics\": {\"validation_binary_classification_cross_entropy_objective\": {\"sum\": 0.4932251900155893, \"count\": 1, \"min\": 0.4932251900155893, \"max\": 0.4932251900155893}}}\u001b[0m\n",
      "\u001b[34m#metrics {\"StartTime\": 1724320686.2804852, \"EndTime\": 1724320686.2804952, \"Dimensions\": {\"Algorithm\": \"Linear Learner\", \"Host\": \"algo-1\", \"Operation\": \"training\", \"epoch\": 1, \"model\": 12}, \"Metrics\": {\"validation_binary_classification_cross_entropy_objective\": {\"sum\": 0.49461486893652246, \"count\": 1, \"min\": 0.49461486893652246, \"max\": 0.49461486893652246}}}\u001b[0m\n",
      "\u001b[34m#metrics {\"StartTime\": 1724320686.2805352, \"EndTime\": 1724320686.2805455, \"Dimensions\": {\"Algorithm\": \"Linear Learner\", \"Host\": \"algo-1\", \"Operation\": \"training\", \"epoch\": 1, \"model\": 13}, \"Metrics\": {\"validation_binary_classification_cross_entropy_objective\": {\"sum\": 0.5159546319745355, \"count\": 1, \"min\": 0.5159546319745355, \"max\": 0.5159546319745355}}}\u001b[0m\n",
      "\u001b[34m#metrics {\"StartTime\": 1724320686.2805839, \"EndTime\": 1724320686.280594, \"Dimensions\": {\"Algorithm\": \"Linear Learner\", \"Host\": \"algo-1\", \"Operation\": \"training\", \"epoch\": 1, \"model\": 14}, \"Metrics\": {\"validation_binary_classification_cross_entropy_objective\": {\"sum\": 0.49461540219509137, \"count\": 1, \"min\": 0.49461540219509137, \"max\": 0.49461540219509137}}}\u001b[0m\n",
      "\u001b[34m#metrics {\"StartTime\": 1724320686.2806334, \"EndTime\": 1724320686.2806444, \"Dimensions\": {\"Algorithm\": \"Linear Learner\", \"Host\": \"algo-1\", \"Operation\": \"training\", \"epoch\": 1, \"model\": 15}, \"Metrics\": {\"validation_binary_classification_cross_entropy_objective\": {\"sum\": 0.5159565392415375, \"count\": 1, \"min\": 0.5159565392415375, \"max\": 0.5159565392415375}}}\u001b[0m\n",
      "\u001b[34m#metrics {\"StartTime\": 1724320686.280682, \"EndTime\": 1724320686.2806916, \"Dimensions\": {\"Algorithm\": \"Linear Learner\", \"Host\": \"algo-1\", \"Operation\": \"training\", \"epoch\": 1, \"model\": 16}, \"Metrics\": {\"validation_binary_classification_cross_entropy_objective\": {\"sum\": 0.5076824207334012, \"count\": 1, \"min\": 0.5076824207334012, \"max\": 0.5076824207334012}}}\u001b[0m\n",
      "\u001b[34m#metrics {\"StartTime\": 1724320686.2807326, \"EndTime\": 1724320686.2807422, \"Dimensions\": {\"Algorithm\": \"Linear Learner\", \"Host\": \"algo-1\", \"Operation\": \"training\", \"epoch\": 1, \"model\": 17}, \"Metrics\": {\"validation_binary_classification_cross_entropy_objective\": {\"sum\": 0.508097213056527, \"count\": 1, \"min\": 0.508097213056527, \"max\": 0.508097213056527}}}\u001b[0m\n",
      "\u001b[34m#metrics {\"StartTime\": 1724320686.2807763, \"EndTime\": 1724320686.2807865, \"Dimensions\": {\"Algorithm\": \"Linear Learner\", \"Host\": \"algo-1\", \"Operation\": \"training\", \"epoch\": 1, \"model\": 18}, \"Metrics\": {\"validation_binary_classification_cross_entropy_objective\": {\"sum\": 0.5076820121132942, \"count\": 1, \"min\": 0.5076820121132942, \"max\": 0.5076820121132942}}}\u001b[0m\n",
      "\u001b[34m#metrics {\"StartTime\": 1724320686.2808201, \"EndTime\": 1724320686.2808301, \"Dimensions\": {\"Algorithm\": \"Linear Learner\", \"Host\": \"algo-1\", \"Operation\": \"training\", \"epoch\": 1, \"model\": 19}, \"Metrics\": {\"validation_binary_classification_cross_entropy_objective\": {\"sum\": 0.5080986240086959, \"count\": 1, \"min\": 0.5080986240086959, \"max\": 0.5080986240086959}}}\u001b[0m\n",
      "\u001b[34m#metrics {\"StartTime\": 1724320686.2808635, \"EndTime\": 1724320686.280873, \"Dimensions\": {\"Algorithm\": \"Linear Learner\", \"Host\": \"algo-1\", \"Operation\": \"training\", \"epoch\": 1, \"model\": 20}, \"Metrics\": {\"validation_binary_classification_cross_entropy_objective\": {\"sum\": 0.5087885480864679, \"count\": 1, \"min\": 0.5087885480864679, \"max\": 0.5087885480864679}}}\u001b[0m\n",
      "\u001b[34m#metrics {\"StartTime\": 1724320686.2809117, \"EndTime\": 1724320686.2809224, \"Dimensions\": {\"Algorithm\": \"Linear Learner\", \"Host\": \"algo-1\", \"Operation\": \"training\", \"epoch\": 1, \"model\": 21}, \"Metrics\": {\"validation_binary_classification_cross_entropy_objective\": {\"sum\": 0.5103258021182102, \"count\": 1, \"min\": 0.5103258021182102, \"max\": 0.5103258021182102}}}\u001b[0m\n",
      "\u001b[34m#metrics {\"StartTime\": 1724320686.2809584, \"EndTime\": 1724320686.2809677, \"Dimensions\": {\"Algorithm\": \"Linear Learner\", \"Host\": \"algo-1\", \"Operation\": \"training\", \"epoch\": 1, \"model\": 22}, \"Metrics\": {\"validation_binary_classification_cross_entropy_objective\": {\"sum\": 0.5087885357718893, \"count\": 1, \"min\": 0.5087885357718893, \"max\": 0.5087885357718893}}}\u001b[0m\n",
      "\u001b[34m#metrics {\"StartTime\": 1724320686.2810154, \"EndTime\": 1724320686.281025, \"Dimensions\": {\"Algorithm\": \"Linear Learner\", \"Host\": \"algo-1\", \"Operation\": \"training\", \"epoch\": 1, \"model\": 23}, \"Metrics\": {\"validation_binary_classification_cross_entropy_objective\": {\"sum\": 0.5103263766119589, \"count\": 1, \"min\": 0.5103263766119589, \"max\": 0.5103263766119589}}}\u001b[0m\n",
      "\u001b[34m#metrics {\"StartTime\": 1724320686.2810633, \"EndTime\": 1724320686.2810726, \"Dimensions\": {\"Algorithm\": \"Linear Learner\", \"Host\": \"algo-1\", \"Operation\": \"training\", \"epoch\": 1, \"model\": 24}, \"Metrics\": {\"validation_binary_classification_cross_entropy_objective\": {\"sum\": 0.5137815452782186, \"count\": 1, \"min\": 0.5137815452782186, \"max\": 0.5137815452782186}}}\u001b[0m\n",
      "\u001b[34m#metrics {\"StartTime\": 1724320686.2811115, \"EndTime\": 1724320686.2811208, \"Dimensions\": {\"Algorithm\": \"Linear Learner\", \"Host\": \"algo-1\", \"Operation\": \"training\", \"epoch\": 1, \"model\": 25}, \"Metrics\": {\"validation_binary_classification_cross_entropy_objective\": {\"sum\": 0.5138517840892731, \"count\": 1, \"min\": 0.5138517840892731, \"max\": 0.5138517840892731}}}\u001b[0m\n",
      "\u001b[34m#metrics {\"StartTime\": 1724320686.281158, \"EndTime\": 1724320686.281168, \"Dimensions\": {\"Algorithm\": \"Linear Learner\", \"Host\": \"algo-1\", \"Operation\": \"training\", \"epoch\": 1, \"model\": 26}, \"Metrics\": {\"validation_binary_classification_cross_entropy_objective\": {\"sum\": 0.5137904977902541, \"count\": 1, \"min\": 0.5137904977902541, \"max\": 0.5137904977902541}}}\u001b[0m\n",
      "\u001b[34m#metrics {\"StartTime\": 1724320686.281202, \"EndTime\": 1724320686.281211, \"Dimensions\": {\"Algorithm\": \"Linear Learner\", \"Host\": \"algo-1\", \"Operation\": \"training\", \"epoch\": 1, \"model\": 27}, \"Metrics\": {\"validation_binary_classification_cross_entropy_objective\": {\"sum\": 0.5138552691150083, \"count\": 1, \"min\": 0.5138552691150083, \"max\": 0.5138552691150083}}}\u001b[0m\n",
      "\u001b[34m#metrics {\"StartTime\": 1724320686.2812412, \"EndTime\": 1724320686.28125, \"Dimensions\": {\"Algorithm\": \"Linear Learner\", \"Host\": \"algo-1\", \"Operation\": \"training\", \"epoch\": 1, \"model\": 28}, \"Metrics\": {\"validation_binary_classification_cross_entropy_objective\": {\"sum\": 0.5141579795549456, \"count\": 1, \"min\": 0.5141579795549456, \"max\": 0.5141579795549456}}}\u001b[0m\n",
      "\u001b[34m#metrics {\"StartTime\": 1724320686.2812862, \"EndTime\": 1724320686.2812958, \"Dimensions\": {\"Algorithm\": \"Linear Learner\", \"Host\": \"algo-1\", \"Operation\": \"training\", \"epoch\": 1, \"model\": 29}, \"Metrics\": {\"validation_binary_classification_cross_entropy_objective\": {\"sum\": 0.5138916275350657, \"count\": 1, \"min\": 0.5138916275350657, \"max\": 0.5138916275350657}}}\u001b[0m\n",
      "\u001b[34m#metrics {\"StartTime\": 1724320686.2813354, \"EndTime\": 1724320686.2813456, \"Dimensions\": {\"Algorithm\": \"Linear Learner\", \"Host\": \"algo-1\", \"Operation\": \"training\", \"epoch\": 1, \"model\": 30}, \"Metrics\": {\"validation_binary_classification_cross_entropy_objective\": {\"sum\": 0.5141347938156825, \"count\": 1, \"min\": 0.5141347938156825, \"max\": 0.5141347938156825}}}\u001b[0m\n",
      "\u001b[34m#metrics {\"StartTime\": 1724320686.2813816, \"EndTime\": 1724320686.281391, \"Dimensions\": {\"Algorithm\": \"Linear Learner\", \"Host\": \"algo-1\", \"Operation\": \"training\", \"epoch\": 1, \"model\": 31}, \"Metrics\": {\"validation_binary_classification_cross_entropy_objective\": {\"sum\": 0.5138742378574493, \"count\": 1, \"min\": 0.5138742378574493, \"max\": 0.5138742378574493}}}\u001b[0m\n",
      "\u001b[34m[08/22/2024 09:58:06 INFO 140237033666368] #quality_metric: host=algo-1, epoch=1, validation binary_classification_cross_entropy_objective <loss>=0.4920411638104288\u001b[0m\n",
      "\u001b[34m[08/22/2024 09:58:06 INFO 140237033666368] #early_stopping_criteria_metric: host=algo-1, epoch=1, criteria=binary_classification_cross_entropy_objective, value=0.49204110018510616\u001b[0m\n",
      "\u001b[34m[08/22/2024 09:58:06 INFO 140237033666368] Saving model for epoch: 1\u001b[0m\n",
      "\u001b[34m[08/22/2024 09:58:06 INFO 140237033666368] Saved checkpoint to \"/tmp/tmpoqyilrea/mx-mod-0000.params\"\u001b[0m\n",
      "\u001b[34m[08/22/2024 09:58:06 INFO 140237033666368] #progress_metric: host=algo-1, completed 13.333333333333334 % of epochs\u001b[0m\n",
      "\u001b[34m#metrics {\"StartTime\": 1724320656.3432288, \"EndTime\": 1724320686.286018, \"Dimensions\": {\"Algorithm\": \"Linear Learner\", \"Host\": \"algo-1\", \"Operation\": \"training\", \"epoch\": 1, \"Meta\": \"training_data_iter\"}, \"Metrics\": {\"Total Records Seen\": {\"sum\": 2628944.0, \"count\": 1, \"min\": 2628944, \"max\": 2628944}, \"Total Batches Seen\": {\"sum\": 2630.0, \"count\": 1, \"min\": 2630, \"max\": 2630}, \"Max Records Seen Between Resets\": {\"sum\": 1308472.0, \"count\": 1, \"min\": 1308472, \"max\": 1308472}, \"Max Batches Seen Between Resets\": {\"sum\": 1309.0, \"count\": 1, \"min\": 1309, \"max\": 1309}, \"Reset Count\": {\"sum\": 4.0, \"count\": 1, \"min\": 4, \"max\": 4}, \"Number of Records Since Last Reset\": {\"sum\": 1308472.0, \"count\": 1, \"min\": 1308472, \"max\": 1308472}, \"Number of Batches Since Last Reset\": {\"sum\": 1309.0, \"count\": 1, \"min\": 1309, \"max\": 1309}}}\u001b[0m\n",
      "\u001b[34m[08/22/2024 09:58:06 INFO 140237033666368] #throughput_metric: host=algo-1, train throughput=43698.89169377459 records/second\u001b[0m\n",
      "\u001b[34m[2024-08-22 09:58:33.393] [tensorio] [info] epoch_stats={\"data_pipeline\": \"/opt/ml/input/data/train\", \"epoch\": 7, \"duration\": 27106, \"num_examples\": 1309, \"num_bytes\": 591429344}\u001b[0m\n",
      "\u001b[34m#metrics {\"StartTime\": 1724320713.3930533, \"EndTime\": 1724320713.393128, \"Dimensions\": {\"Algorithm\": \"Linear Learner\", \"Host\": \"algo-1\", \"Operation\": \"training\", \"epoch\": 2, \"model\": 0}, \"Metrics\": {\"train_binary_classification_cross_entropy_objective\": {\"sum\": 0.4920961695213201, \"count\": 1, \"min\": 0.4920961695213201, \"max\": 0.4920961695213201}}}\u001b[0m\n",
      "\u001b[34m#metrics {\"StartTime\": 1724320713.3932078, \"EndTime\": 1724320713.393225, \"Dimensions\": {\"Algorithm\": \"Linear Learner\", \"Host\": \"algo-1\", \"Operation\": \"training\", \"epoch\": 2, \"model\": 1}, \"Metrics\": {\"train_binary_classification_cross_entropy_objective\": {\"sum\": 0.4932315179434027, \"count\": 1, \"min\": 0.4932315179434027, \"max\": 0.4932315179434027}}}\u001b[0m\n",
      "\u001b[34m#metrics {\"StartTime\": 1724320713.393262, \"EndTime\": 1724320713.3932724, \"Dimensions\": {\"Algorithm\": \"Linear Learner\", \"Host\": \"algo-1\", \"Operation\": \"training\", \"epoch\": 2, \"model\": 2}, \"Metrics\": {\"train_binary_classification_cross_entropy_objective\": {\"sum\": 0.49209612241505846, \"count\": 1, \"min\": 0.49209612241505846, \"max\": 0.49209612241505846}}}\u001b[0m\n",
      "\u001b[34m#metrics {\"StartTime\": 1724320713.3933153, \"EndTime\": 1724320713.393326, \"Dimensions\": {\"Algorithm\": \"Linear Learner\", \"Host\": \"algo-1\", \"Operation\": \"training\", \"epoch\": 2, \"model\": 3}, \"Metrics\": {\"train_binary_classification_cross_entropy_objective\": {\"sum\": 0.49323138812703826, \"count\": 1, \"min\": 0.49323138812703826, \"max\": 0.49323138812703826}}}\u001b[0m\n",
      "\u001b[34m#metrics {\"StartTime\": 1724320713.393361, \"EndTime\": 1724320713.3933713, \"Dimensions\": {\"Algorithm\": \"Linear Learner\", \"Host\": \"algo-1\", \"Operation\": \"training\", \"epoch\": 2, \"model\": 4}, \"Metrics\": {\"train_binary_classification_cross_entropy_objective\": {\"sum\": 0.49333673851643134, \"count\": 1, \"min\": 0.49333673851643134, \"max\": 0.49333673851643134}}}\u001b[0m\n",
      "\u001b[34m#metrics {\"StartTime\": 1724320713.393411, \"EndTime\": 1724320713.3934212, \"Dimensions\": {\"Algorithm\": \"Linear Learner\", \"Host\": \"algo-1\", \"Operation\": \"training\", \"epoch\": 2, \"model\": 5}, \"Metrics\": {\"train_binary_classification_cross_entropy_objective\": {\"sum\": 0.5133780846785333, \"count\": 1, \"min\": 0.5133780846785333, \"max\": 0.5133780846785333}}}\u001b[0m\n",
      "\u001b[34m#metrics {\"StartTime\": 1724320713.393458, \"EndTime\": 1724320713.3934677, \"Dimensions\": {\"Algorithm\": \"Linear Learner\", \"Host\": \"algo-1\", \"Operation\": \"training\", \"epoch\": 2, \"model\": 6}, \"Metrics\": {\"train_binary_classification_cross_entropy_objective\": {\"sum\": 0.49333676282783534, \"count\": 1, \"min\": 0.49333676282783534, \"max\": 0.49333676282783534}}}\u001b[0m\n",
      "\u001b[34m#metrics {\"StartTime\": 1724320713.3934963, \"EndTime\": 1724320713.393505, \"Dimensions\": {\"Algorithm\": \"Linear Learner\", \"Host\": \"algo-1\", \"Operation\": \"training\", \"epoch\": 2, \"model\": 7}, \"Metrics\": {\"train_binary_classification_cross_entropy_objective\": {\"sum\": 0.5133755226251911, \"count\": 1, \"min\": 0.5133755226251911, \"max\": 0.5133755226251911}}}\u001b[0m\n",
      "\u001b[34m#metrics {\"StartTime\": 1724320713.393538, \"EndTime\": 1724320713.3935473, \"Dimensions\": {\"Algorithm\": \"Linear Learner\", \"Host\": \"algo-1\", \"Operation\": \"training\", \"epoch\": 2, \"model\": 8}, \"Metrics\": {\"train_binary_classification_cross_entropy_objective\": {\"sum\": 0.49218381101275804, \"count\": 1, \"min\": 0.49218381101275804, \"max\": 0.49218381101275804}}}\u001b[0m\n",
      "\u001b[34m#metrics {\"StartTime\": 1724320713.3935814, \"EndTime\": 1724320713.3935921, \"Dimensions\": {\"Algorithm\": \"Linear Learner\", \"Host\": \"algo-1\", \"Operation\": \"training\", \"epoch\": 2, \"model\": 9}, \"Metrics\": {\"train_binary_classification_cross_entropy_objective\": {\"sum\": 0.4932572425585639, \"count\": 1, \"min\": 0.4932572425585639, \"max\": 0.4932572425585639}}}\u001b[0m\n",
      "\u001b[34m#metrics {\"StartTime\": 1724320713.3936245, \"EndTime\": 1724320713.393634, \"Dimensions\": {\"Algorithm\": \"Linear Learner\", \"Host\": \"algo-1\", \"Operation\": \"training\", \"epoch\": 2, \"model\": 10}, \"Metrics\": {\"train_binary_classification_cross_entropy_objective\": {\"sum\": 0.49218383065786564, \"count\": 1, \"min\": 0.49218383065786564, \"max\": 0.49218383065786564}}}\u001b[0m\n",
      "\u001b[34m#metrics {\"StartTime\": 1724320713.3936753, \"EndTime\": 1724320713.3936856, \"Dimensions\": {\"Algorithm\": \"Linear Learner\", \"Host\": \"algo-1\", \"Operation\": \"training\", \"epoch\": 2, \"model\": 11}, \"Metrics\": {\"train_binary_classification_cross_entropy_objective\": {\"sum\": 0.4932572789556754, \"count\": 1, \"min\": 0.4932572789556754, \"max\": 0.4932572789556754}}}\u001b[0m\n",
      "\u001b[34m#metrics {\"StartTime\": 1724320713.3937206, \"EndTime\": 1724320713.3937304, \"Dimensions\": {\"Algorithm\": \"Linear Learner\", \"Host\": \"algo-1\", \"Operation\": \"training\", \"epoch\": 2, \"model\": 12}, \"Metrics\": {\"train_binary_classification_cross_entropy_objective\": {\"sum\": 0.49335192418463003, \"count\": 1, \"min\": 0.49335192418463003, \"max\": 0.49335192418463003}}}\u001b[0m\n",
      "\u001b[34m#metrics {\"StartTime\": 1724320713.3937676, \"EndTime\": 1724320713.393778, \"Dimensions\": {\"Algorithm\": \"Linear Learner\", \"Host\": \"algo-1\", \"Operation\": \"training\", \"epoch\": 2, \"model\": 13}, \"Metrics\": {\"train_binary_classification_cross_entropy_objective\": {\"sum\": 0.5120562998220461, \"count\": 1, \"min\": 0.5120562998220461, \"max\": 0.5120562998220461}}}\u001b[0m\n",
      "\u001b[34m#metrics {\"StartTime\": 1724320713.3938174, \"EndTime\": 1724320713.3938286, \"Dimensions\": {\"Algorithm\": \"Linear Learner\", \"Host\": \"algo-1\", \"Operation\": \"training\", \"epoch\": 2, \"model\": 14}, \"Metrics\": {\"train_binary_classification_cross_entropy_objective\": {\"sum\": 0.4933519348704487, \"count\": 1, \"min\": 0.4933519348704487, \"max\": 0.4933519348704487}}}\u001b[0m\n",
      "\u001b[34m#metrics {\"StartTime\": 1724320713.3938642, \"EndTime\": 1724320713.3938746, \"Dimensions\": {\"Algorithm\": \"Linear Learner\", \"Host\": \"algo-1\", \"Operation\": \"training\", \"epoch\": 2, \"model\": 15}, \"Metrics\": {\"train_binary_classification_cross_entropy_objective\": {\"sum\": 0.5120566034112866, \"count\": 1, \"min\": 0.5120566034112866, \"max\": 0.5120566034112866}}}\u001b[0m\n",
      "\u001b[34m#metrics {\"StartTime\": 1724320713.3939142, \"EndTime\": 1724320713.3939252, \"Dimensions\": {\"Algorithm\": \"Linear Learner\", \"Host\": \"algo-1\", \"Operation\": \"training\", \"epoch\": 2, \"model\": 16}, \"Metrics\": {\"train_binary_classification_cross_entropy_objective\": {\"sum\": 0.5074285549665445, \"count\": 1, \"min\": 0.5074285549665445, \"max\": 0.5074285549665445}}}\u001b[0m\n",
      "\u001b[34m#metrics {\"StartTime\": 1724320713.3939633, \"EndTime\": 1724320713.3939736, \"Dimensions\": {\"Algorithm\": \"Linear Learner\", \"Host\": \"algo-1\", \"Operation\": \"training\", \"epoch\": 2, \"model\": 17}, \"Metrics\": {\"train_binary_classification_cross_entropy_objective\": {\"sum\": 0.5076948718383042, \"count\": 1, \"min\": 0.5076948718383042, \"max\": 0.5076948718383042}}}\u001b[0m\n",
      "\u001b[34m#metrics {\"StartTime\": 1724320713.3940122, \"EndTime\": 1724320713.394023, \"Dimensions\": {\"Algorithm\": \"Linear Learner\", \"Host\": \"algo-1\", \"Operation\": \"training\", \"epoch\": 2, \"model\": 18}, \"Metrics\": {\"train_binary_classification_cross_entropy_objective\": {\"sum\": 0.5074285709486095, \"count\": 1, \"min\": 0.5074285709486095, \"max\": 0.5074285709486095}}}\u001b[0m\n",
      "\u001b[34m#metrics {\"StartTime\": 1724320713.394062, \"EndTime\": 1724320713.3940725, \"Dimensions\": {\"Algorithm\": \"Linear Learner\", \"Host\": \"algo-1\", \"Operation\": \"training\", \"epoch\": 2, \"model\": 19}, \"Metrics\": {\"train_binary_classification_cross_entropy_objective\": {\"sum\": 0.5076948320347964, \"count\": 1, \"min\": 0.5076948320347964, \"max\": 0.5076948320347964}}}\u001b[0m\n",
      "\u001b[34m#metrics {\"StartTime\": 1724320713.3941069, \"EndTime\": 1724320713.3941162, \"Dimensions\": {\"Algorithm\": \"Linear Learner\", \"Host\": \"algo-1\", \"Operation\": \"training\", \"epoch\": 2, \"model\": 20}, \"Metrics\": {\"train_binary_classification_cross_entropy_objective\": {\"sum\": 0.5076912038260644, \"count\": 1, \"min\": 0.5076912038260644, \"max\": 0.5076912038260644}}}\u001b[0m\n",
      "\u001b[34m#metrics {\"StartTime\": 1724320713.394149, \"EndTime\": 1724320713.3941567, \"Dimensions\": {\"Algorithm\": \"Linear Learner\", \"Host\": \"algo-1\", \"Operation\": \"training\", \"epoch\": 2, \"model\": 21}, \"Metrics\": {\"train_binary_classification_cross_entropy_objective\": {\"sum\": 0.5111359276261169, \"count\": 1, \"min\": 0.5111359276261169, \"max\": 0.5111359276261169}}}\u001b[0m\n",
      "\u001b[34m#metrics {\"StartTime\": 1724320713.3941853, \"EndTime\": 1724320713.3941927, \"Dimensions\": {\"Algorithm\": \"Linear Learner\", \"Host\": \"algo-1\", \"Operation\": \"training\", \"epoch\": 2, \"model\": 22}, \"Metrics\": {\"train_binary_classification_cross_entropy_objective\": {\"sum\": 0.5076912076290959, \"count\": 1, \"min\": 0.5076912076290959, \"max\": 0.5076912076290959}}}\u001b[0m\n",
      "\u001b[34m#metrics {\"StartTime\": 1724320713.3942268, \"EndTime\": 1724320713.3942351, \"Dimensions\": {\"Algorithm\": \"Linear Learner\", \"Host\": \"algo-1\", \"Operation\": \"training\", \"epoch\": 2, \"model\": 23}, \"Metrics\": {\"train_binary_classification_cross_entropy_objective\": {\"sum\": 0.5111359236131021, \"count\": 1, \"min\": 0.5111359236131021, \"max\": 0.5111359236131021}}}\u001b[0m\n",
      "\u001b[34m#metrics {\"StartTime\": 1724320713.3942685, \"EndTime\": 1724320713.394277, \"Dimensions\": {\"Algorithm\": \"Linear Learner\", \"Host\": \"algo-1\", \"Operation\": \"training\", \"epoch\": 2, \"model\": 24}, \"Metrics\": {\"train_binary_classification_cross_entropy_objective\": {\"sum\": 0.5137493178807997, \"count\": 1, \"min\": 0.5137493178807997, \"max\": 0.5137493178807997}}}\u001b[0m\n",
      "\u001b[34m#metrics {\"StartTime\": 1724320713.3943102, \"EndTime\": 1724320713.3943193, \"Dimensions\": {\"Algorithm\": \"Linear Learner\", \"Host\": \"algo-1\", \"Operation\": \"training\", \"epoch\": 2, \"model\": 25}, \"Metrics\": {\"train_binary_classification_cross_entropy_objective\": {\"sum\": 0.5138325964318139, \"count\": 1, \"min\": 0.5138325964318139, \"max\": 0.5138325964318139}}}\u001b[0m\n",
      "\u001b[34m#metrics {\"StartTime\": 1724320713.3943646, \"EndTime\": 1724320713.3943748, \"Dimensions\": {\"Algorithm\": \"Linear Learner\", \"Host\": \"algo-1\", \"Operation\": \"training\", \"epoch\": 2, \"model\": 26}, \"Metrics\": {\"train_binary_classification_cross_entropy_objective\": {\"sum\": 0.5137496364021884, \"count\": 1, \"min\": 0.5137496364021884, \"max\": 0.5137496364021884}}}\u001b[0m\n",
      "\u001b[34m#metrics {\"StartTime\": 1724320713.3944113, \"EndTime\": 1724320713.394421, \"Dimensions\": {\"Algorithm\": \"Linear Learner\", \"Host\": \"algo-1\", \"Operation\": \"training\", \"epoch\": 2, \"model\": 27}, \"Metrics\": {\"train_binary_classification_cross_entropy_objective\": {\"sum\": 0.513831941073823, \"count\": 1, \"min\": 0.513831941073823, \"max\": 0.513831941073823}}}\u001b[0m\n",
      "\u001b[34m#metrics {\"StartTime\": 1724320713.3944573, \"EndTime\": 1724320713.3944674, \"Dimensions\": {\"Algorithm\": \"Linear Learner\", \"Host\": \"algo-1\", \"Operation\": \"training\", \"epoch\": 2, \"model\": 28}, \"Metrics\": {\"train_binary_classification_cross_entropy_objective\": {\"sum\": 0.5138368074142969, \"count\": 1, \"min\": 0.5138368074142969, \"max\": 0.5138368074142969}}}\u001b[0m\n",
      "\u001b[34m#metrics {\"StartTime\": 1724320713.3944998, \"EndTime\": 1724320713.3945093, \"Dimensions\": {\"Algorithm\": \"Linear Learner\", \"Host\": \"algo-1\", \"Operation\": \"training\", \"epoch\": 2, \"model\": 29}, \"Metrics\": {\"train_binary_classification_cross_entropy_objective\": {\"sum\": 0.5150510691604847, \"count\": 1, \"min\": 0.5150510691604847, \"max\": 0.5150510691604847}}}\u001b[0m\n",
      "\u001b[34m#metrics {\"StartTime\": 1724320713.3945456, \"EndTime\": 1724320713.3945544, \"Dimensions\": {\"Algorithm\": \"Linear Learner\", \"Host\": \"algo-1\", \"Operation\": \"training\", \"epoch\": 2, \"model\": 30}, \"Metrics\": {\"train_binary_classification_cross_entropy_objective\": {\"sum\": 0.5138363119469506, \"count\": 1, \"min\": 0.5138363119469506, \"max\": 0.5138363119469506}}}\u001b[0m\n",
      "\u001b[34m#metrics {\"StartTime\": 1724320713.3945873, \"EndTime\": 1724320713.3945956, \"Dimensions\": {\"Algorithm\": \"Linear Learner\", \"Host\": \"algo-1\", \"Operation\": \"training\", \"epoch\": 2, \"model\": 31}, \"Metrics\": {\"train_binary_classification_cross_entropy_objective\": {\"sum\": 0.5150507971154076, \"count\": 1, \"min\": 0.5150507971154076, \"max\": 0.5150507971154076}}}\u001b[0m\n",
      "\u001b[34m[08/22/2024 09:58:33 INFO 140237033666368] #quality_metric: host=algo-1, epoch=2, train binary_classification_cross_entropy_objective <loss>=0.4920961695213201\u001b[0m\n",
      "\u001b[34m[2024-08-22 09:58:35.809] [tensorio] [info] epoch_stats={\"data_pipeline\": \"/opt/ml/input/data/validation\", \"epoch\": 8, \"duration\": 2400, \"num_examples\": 164, \"num_bytes\": 73928668}\u001b[0m\n",
      "\u001b[34m#metrics {\"StartTime\": 1724320715.813574, \"EndTime\": 1724320715.8136213, \"Dimensions\": {\"Algorithm\": \"Linear Learner\", \"Host\": \"algo-1\", \"Operation\": \"training\", \"epoch\": 2, \"model\": 0}, \"Metrics\": {\"validation_binary_classification_cross_entropy_objective\": {\"sum\": 0.4919657679897215, \"count\": 1, \"min\": 0.4919657679897215, \"max\": 0.4919657679897215}}}\u001b[0m\n",
      "\u001b[34m#metrics {\"StartTime\": 1724320715.813684, \"EndTime\": 1724320715.8136947, \"Dimensions\": {\"Algorithm\": \"Linear Learner\", \"Host\": \"algo-1\", \"Operation\": \"training\", \"epoch\": 2, \"model\": 1}, \"Metrics\": {\"validation_binary_classification_cross_entropy_objective\": {\"sum\": 0.4928467745843888, \"count\": 1, \"min\": 0.4928467745843888, \"max\": 0.4928467745843888}}}\u001b[0m\n",
      "\u001b[34m#metrics {\"StartTime\": 1724320715.8137343, \"EndTime\": 1724320715.8137434, \"Dimensions\": {\"Algorithm\": \"Linear Learner\", \"Host\": \"algo-1\", \"Operation\": \"training\", \"epoch\": 2, \"model\": 2}, \"Metrics\": {\"validation_binary_classification_cross_entropy_objective\": {\"sum\": 0.49196580810539414, \"count\": 1, \"min\": 0.49196580810539414, \"max\": 0.49196580810539414}}}\u001b[0m\n",
      "\u001b[34m#metrics {\"StartTime\": 1724320715.8137698, \"EndTime\": 1724320715.8137758, \"Dimensions\": {\"Algorithm\": \"Linear Learner\", \"Host\": \"algo-1\", \"Operation\": \"training\", \"epoch\": 2, \"model\": 3}, \"Metrics\": {\"validation_binary_classification_cross_entropy_objective\": {\"sum\": 0.49284661094976145, \"count\": 1, \"min\": 0.49284661094976145, \"max\": 0.49284661094976145}}}\u001b[0m\n",
      "\u001b[34m#metrics {\"StartTime\": 1724320715.8138018, \"EndTime\": 1724320715.81381, \"Dimensions\": {\"Algorithm\": \"Linear Learner\", \"Host\": \"algo-1\", \"Operation\": \"training\", \"epoch\": 2, \"model\": 4}, \"Metrics\": {\"validation_binary_classification_cross_entropy_objective\": {\"sum\": 0.4924854165237678, \"count\": 1, \"min\": 0.4924854165237678, \"max\": 0.4924854165237678}}}\u001b[0m\n",
      "\u001b[34m#metrics {\"StartTime\": 1724320715.8138397, \"EndTime\": 1724320715.813849, \"Dimensions\": {\"Algorithm\": \"Linear Learner\", \"Host\": \"algo-1\", \"Operation\": \"training\", \"epoch\": 2, \"model\": 5}, \"Metrics\": {\"validation_binary_classification_cross_entropy_objective\": {\"sum\": 0.5139442915766563, \"count\": 1, \"min\": 0.5139442915766563, \"max\": 0.5139442915766563}}}\u001b[0m\n",
      "\u001b[34m#metrics {\"StartTime\": 1724320715.81388, \"EndTime\": 1724320715.8138885, \"Dimensions\": {\"Algorithm\": \"Linear Learner\", \"Host\": \"algo-1\", \"Operation\": \"training\", \"epoch\": 2, \"model\": 6}, \"Metrics\": {\"validation_binary_classification_cross_entropy_objective\": {\"sum\": 0.49248545925162374, \"count\": 1, \"min\": 0.49248545925162374, \"max\": 0.49248545925162374}}}\u001b[0m\n",
      "\u001b[34m#metrics {\"StartTime\": 1724320715.8139231, \"EndTime\": 1724320715.8139327, \"Dimensions\": {\"Algorithm\": \"Linear Learner\", \"Host\": \"algo-1\", \"Operation\": \"training\", \"epoch\": 2, \"model\": 7}, \"Metrics\": {\"validation_binary_classification_cross_entropy_objective\": {\"sum\": 0.5139447149369407, \"count\": 1, \"min\": 0.5139447149369407, \"max\": 0.5139447149369407}}}\u001b[0m\n",
      "\u001b[34m#metrics {\"StartTime\": 1724320715.8139696, \"EndTime\": 1724320715.8139791, \"Dimensions\": {\"Algorithm\": \"Linear Learner\", \"Host\": \"algo-1\", \"Operation\": \"training\", \"epoch\": 2, \"model\": 8}, \"Metrics\": {\"validation_binary_classification_cross_entropy_objective\": {\"sum\": 0.4920666449125034, \"count\": 1, \"min\": 0.4920666449125034, \"max\": 0.4920666449125034}}}\u001b[0m\n",
      "\u001b[34m#metrics {\"StartTime\": 1724320715.8140137, \"EndTime\": 1724320715.8140223, \"Dimensions\": {\"Algorithm\": \"Linear Learner\", \"Host\": \"algo-1\", \"Operation\": \"training\", \"epoch\": 2, \"model\": 9}, \"Metrics\": {\"validation_binary_classification_cross_entropy_objective\": {\"sum\": 0.4930489689560132, \"count\": 1, \"min\": 0.4930489689560132, \"max\": 0.4930489689560132}}}\u001b[0m\n",
      "\u001b[34m#metrics {\"StartTime\": 1724320715.8140488, \"EndTime\": 1724320715.8140569, \"Dimensions\": {\"Algorithm\": \"Linear Learner\", \"Host\": \"algo-1\", \"Operation\": \"training\", \"epoch\": 2, \"model\": 10}, \"Metrics\": {\"validation_binary_classification_cross_entropy_objective\": {\"sum\": 0.49206688523337, \"count\": 1, \"min\": 0.49206688523337, \"max\": 0.49206688523337}}}\u001b[0m\n",
      "\u001b[34m#metrics {\"StartTime\": 1724320715.814086, \"EndTime\": 1724320715.814095, \"Dimensions\": {\"Algorithm\": \"Linear Learner\", \"Host\": \"algo-1\", \"Operation\": \"training\", \"epoch\": 2, \"model\": 11}, \"Metrics\": {\"validation_binary_classification_cross_entropy_objective\": {\"sum\": 0.4930489519768215, \"count\": 1, \"min\": 0.4930489519768215, \"max\": 0.4930489519768215}}}\u001b[0m\n",
      "\u001b[34m#metrics {\"StartTime\": 1724320715.814124, \"EndTime\": 1724320715.8141327, \"Dimensions\": {\"Algorithm\": \"Linear Learner\", \"Host\": \"algo-1\", \"Operation\": \"training\", \"epoch\": 2, \"model\": 12}, \"Metrics\": {\"validation_binary_classification_cross_entropy_objective\": {\"sum\": 0.49263686326344536, \"count\": 1, \"min\": 0.49263686326344536, \"max\": 0.49263686326344536}}}\u001b[0m\n",
      "\u001b[34m#metrics {\"StartTime\": 1724320715.8141701, \"EndTime\": 1724320715.8141792, \"Dimensions\": {\"Algorithm\": \"Linear Learner\", \"Host\": \"algo-1\", \"Operation\": \"training\", \"epoch\": 2, \"model\": 13}, \"Metrics\": {\"validation_binary_classification_cross_entropy_objective\": {\"sum\": 0.5134125766214571, \"count\": 1, \"min\": 0.5134125766214571, \"max\": 0.5134125766214571}}}\u001b[0m\n",
      "\u001b[34m#metrics {\"StartTime\": 1724320715.814218, \"EndTime\": 1724320715.814228, \"Dimensions\": {\"Algorithm\": \"Linear Learner\", \"Host\": \"algo-1\", \"Operation\": \"training\", \"epoch\": 2, \"model\": 14}, \"Metrics\": {\"validation_binary_classification_cross_entropy_objective\": {\"sum\": 0.4926368145648847, \"count\": 1, \"min\": 0.4926368145648847, \"max\": 0.4926368145648847}}}\u001b[0m\n",
      "\u001b[34m#metrics {\"StartTime\": 1724320715.814263, \"EndTime\": 1724320715.8142722, \"Dimensions\": {\"Algorithm\": \"Linear Learner\", \"Host\": \"algo-1\", \"Operation\": \"training\", \"epoch\": 2, \"model\": 15}, \"Metrics\": {\"validation_binary_classification_cross_entropy_objective\": {\"sum\": 0.5134127072306238, \"count\": 1, \"min\": 0.5134127072306238, \"max\": 0.5134127072306238}}}\u001b[0m\n",
      "\u001b[34m#metrics {\"StartTime\": 1724320715.8143098, \"EndTime\": 1724320715.8143203, \"Dimensions\": {\"Algorithm\": \"Linear Learner\", \"Host\": \"algo-1\", \"Operation\": \"training\", \"epoch\": 2, \"model\": 16}, \"Metrics\": {\"validation_binary_classification_cross_entropy_objective\": {\"sum\": 0.5074752206721729, \"count\": 1, \"min\": 0.5074752206721729, \"max\": 0.5074752206721729}}}\u001b[0m\n",
      "\u001b[34m#metrics {\"StartTime\": 1724320715.8143647, \"EndTime\": 1724320715.8143754, \"Dimensions\": {\"Algorithm\": \"Linear Learner\", \"Host\": \"algo-1\", \"Operation\": \"training\", \"epoch\": 2, \"model\": 17}, \"Metrics\": {\"validation_binary_classification_cross_entropy_objective\": {\"sum\": 0.5080894561781198, \"count\": 1, \"min\": 0.5080894561781198, \"max\": 0.5080894561781198}}}\u001b[0m\n",
      "\u001b[34m#metrics {\"StartTime\": 1724320715.8144104, \"EndTime\": 1724320715.8144205, \"Dimensions\": {\"Algorithm\": \"Linear Learner\", \"Host\": \"algo-1\", \"Operation\": \"training\", \"epoch\": 2, \"model\": 18}, \"Metrics\": {\"validation_binary_classification_cross_entropy_objective\": {\"sum\": 0.5074764338447465, \"count\": 1, \"min\": 0.5074764338447465, \"max\": 0.5074764338447465}}}\u001b[0m\n",
      "\u001b[34m#metrics {\"StartTime\": 1724320715.8144486, \"EndTime\": 1724320715.8144577, \"Dimensions\": {\"Algorithm\": \"Linear Learner\", \"Host\": \"algo-1\", \"Operation\": \"training\", \"epoch\": 2, \"model\": 19}, \"Metrics\": {\"validation_binary_classification_cross_entropy_objective\": {\"sum\": 0.5080898321459353, \"count\": 1, \"min\": 0.5080898321459353, \"max\": 0.5080898321459353}}}\u001b[0m\n",
      "\u001b[34m#metrics {\"StartTime\": 1724320715.81449, \"EndTime\": 1724320715.8144987, \"Dimensions\": {\"Algorithm\": \"Linear Learner\", \"Host\": \"algo-1\", \"Operation\": \"training\", \"epoch\": 2, \"model\": 20}, \"Metrics\": {\"validation_binary_classification_cross_entropy_objective\": {\"sum\": 0.5082012492284655, \"count\": 1, \"min\": 0.5082012492284655, \"max\": 0.5082012492284655}}}\u001b[0m\n",
      "\u001b[34m#metrics {\"StartTime\": 1724320715.8145351, \"EndTime\": 1724320715.8145444, \"Dimensions\": {\"Algorithm\": \"Linear Learner\", \"Host\": \"algo-1\", \"Operation\": \"training\", \"epoch\": 2, \"model\": 21}, \"Metrics\": {\"validation_binary_classification_cross_entropy_objective\": {\"sum\": 0.5095080426393224, \"count\": 1, \"min\": 0.5095080426393224, \"max\": 0.5095080426393224}}}\u001b[0m\n",
      "\u001b[34m#metrics {\"StartTime\": 1724320715.8145776, \"EndTime\": 1724320715.814587, \"Dimensions\": {\"Algorithm\": \"Linear Learner\", \"Host\": \"algo-1\", \"Operation\": \"training\", \"epoch\": 2, \"model\": 22}, \"Metrics\": {\"validation_binary_classification_cross_entropy_objective\": {\"sum\": 0.5082014227520727, \"count\": 1, \"min\": 0.5082014227520727, \"max\": 0.5082014227520727}}}\u001b[0m\n",
      "\u001b[34m#metrics {\"StartTime\": 1724320715.814622, \"EndTime\": 1724320715.8146312, \"Dimensions\": {\"Algorithm\": \"Linear Learner\", \"Host\": \"algo-1\", \"Operation\": \"training\", \"epoch\": 2, \"model\": 23}, \"Metrics\": {\"validation_binary_classification_cross_entropy_objective\": {\"sum\": 0.5095078349707474, \"count\": 1, \"min\": 0.5095078349707474, \"max\": 0.5095078349707474}}}\u001b[0m\n",
      "\u001b[34m#metrics {\"StartTime\": 1724320715.8146641, \"EndTime\": 1724320715.8146741, \"Dimensions\": {\"Algorithm\": \"Linear Learner\", \"Host\": \"algo-1\", \"Operation\": \"training\", \"epoch\": 2, \"model\": 24}, \"Metrics\": {\"validation_binary_classification_cross_entropy_objective\": {\"sum\": 0.5137652191323878, \"count\": 1, \"min\": 0.5137652191323878, \"max\": 0.5137652191323878}}}\u001b[0m\n",
      "\u001b[34m#metrics {\"StartTime\": 1724320715.8146987, \"EndTime\": 1724320715.814706, \"Dimensions\": {\"Algorithm\": \"Linear Learner\", \"Host\": \"algo-1\", \"Operation\": \"training\", \"epoch\": 2, \"model\": 25}, \"Metrics\": {\"validation_binary_classification_cross_entropy_objective\": {\"sum\": 0.5138131838561625, \"count\": 1, \"min\": 0.5138131838561625, \"max\": 0.5138131838561625}}}\u001b[0m\n",
      "\u001b[34m#metrics {\"StartTime\": 1724320715.8147428, \"EndTime\": 1724320715.8147516, \"Dimensions\": {\"Algorithm\": \"Linear Learner\", \"Host\": \"algo-1\", \"Operation\": \"training\", \"epoch\": 2, \"model\": 26}, \"Metrics\": {\"validation_binary_classification_cross_entropy_objective\": {\"sum\": 0.5137600134241743, \"count\": 1, \"min\": 0.5137600134241743, \"max\": 0.5137600134241743}}}\u001b[0m\n",
      "\u001b[34m#metrics {\"StartTime\": 1724320715.814789, \"EndTime\": 1724320715.814798, \"Dimensions\": {\"Algorithm\": \"Linear Learner\", \"Host\": \"algo-1\", \"Operation\": \"training\", \"epoch\": 2, \"model\": 27}, \"Metrics\": {\"validation_binary_classification_cross_entropy_objective\": {\"sum\": 0.5138396657976226, \"count\": 1, \"min\": 0.5138396657976226, \"max\": 0.5138396657976226}}}\u001b[0m\n",
      "\u001b[34m#metrics {\"StartTime\": 1724320715.814833, \"EndTime\": 1724320715.814843, \"Dimensions\": {\"Algorithm\": \"Linear Learner\", \"Host\": \"algo-1\", \"Operation\": \"training\", \"epoch\": 2, \"model\": 28}, \"Metrics\": {\"validation_binary_classification_cross_entropy_objective\": {\"sum\": 0.5139157642956464, \"count\": 1, \"min\": 0.5139157642956464, \"max\": 0.5139157642956464}}}\u001b[0m\n",
      "\u001b[34m#metrics {\"StartTime\": 1724320715.814876, \"EndTime\": 1724320715.814885, \"Dimensions\": {\"Algorithm\": \"Linear Learner\", \"Host\": \"algo-1\", \"Operation\": \"training\", \"epoch\": 2, \"model\": 29}, \"Metrics\": {\"validation_binary_classification_cross_entropy_objective\": {\"sum\": 0.5134866032849289, \"count\": 1, \"min\": 0.5134866032849289, \"max\": 0.5134866032849289}}}\u001b[0m\n",
      "\u001b[34m#metrics {\"StartTime\": 1724320715.8149076, \"EndTime\": 1724320715.8149133, \"Dimensions\": {\"Algorithm\": \"Linear Learner\", \"Host\": \"algo-1\", \"Operation\": \"training\", \"epoch\": 2, \"model\": 30}, \"Metrics\": {\"validation_binary_classification_cross_entropy_objective\": {\"sum\": 0.513923206405962, \"count\": 1, \"min\": 0.513923206405962, \"max\": 0.513923206405962}}}\u001b[0m\n",
      "\u001b[34m#metrics {\"StartTime\": 1724320715.8149488, \"EndTime\": 1724320715.814958, \"Dimensions\": {\"Algorithm\": \"Linear Learner\", \"Host\": \"algo-1\", \"Operation\": \"training\", \"epoch\": 2, \"model\": 31}, \"Metrics\": {\"validation_binary_classification_cross_entropy_objective\": {\"sum\": 0.5134865939557027, \"count\": 1, \"min\": 0.5134865939557027, \"max\": 0.5134865939557027}}}\u001b[0m\n",
      "\u001b[34m[08/22/2024 09:58:35 INFO 140237033666368] #quality_metric: host=algo-1, epoch=2, validation binary_classification_cross_entropy_objective <loss>=0.4919657679897215\u001b[0m\n",
      "\u001b[34m[08/22/2024 09:58:35 INFO 140237033666368] #early_stopping_criteria_metric: host=algo-1, epoch=2, criteria=binary_classification_cross_entropy_objective, value=0.4919657679897215\u001b[0m\n",
      "\u001b[34m[08/22/2024 09:58:35 INFO 140237033666368] Saving model for epoch: 2\u001b[0m\n",
      "\u001b[34m[08/22/2024 09:58:35 INFO 140237033666368] Saved checkpoint to \"/tmp/tmpm7kl1ll4/mx-mod-0000.params\"\u001b[0m\n",
      "\u001b[34m[08/22/2024 09:58:35 INFO 140237033666368] #progress_metric: host=algo-1, completed 20.0 % of epochs\u001b[0m\n",
      "\u001b[34m#metrics {\"StartTime\": 1724320686.286266, \"EndTime\": 1724320715.819512, \"Dimensions\": {\"Algorithm\": \"Linear Learner\", \"Host\": \"algo-1\", \"Operation\": \"training\", \"epoch\": 2, \"Meta\": \"training_data_iter\"}, \"Metrics\": {\"Total Records Seen\": {\"sum\": 3937416.0, \"count\": 1, \"min\": 3937416, \"max\": 3937416}, \"Total Batches Seen\": {\"sum\": 3939.0, \"count\": 1, \"min\": 3939, \"max\": 3939}, \"Max Records Seen Between Resets\": {\"sum\": 1308472.0, \"count\": 1, \"min\": 1308472, \"max\": 1308472}, \"Max Batches Seen Between Resets\": {\"sum\": 1309.0, \"count\": 1, \"min\": 1309, \"max\": 1309}, \"Reset Count\": {\"sum\": 5.0, \"count\": 1, \"min\": 5, \"max\": 5}, \"Number of Records Since Last Reset\": {\"sum\": 1308472.0, \"count\": 1, \"min\": 1308472, \"max\": 1308472}, \"Number of Batches Since Last Reset\": {\"sum\": 1309.0, \"count\": 1, \"min\": 1309, \"max\": 1309}}}\u001b[0m\n",
      "\u001b[34m[08/22/2024 09:58:35 INFO 140237033666368] #throughput_metric: host=algo-1, train throughput=44304.874186511486 records/second\u001b[0m\n",
      "\u001b[34m[2024-08-22 09:59:04.153] [tensorio] [info] epoch_stats={\"data_pipeline\": \"/opt/ml/input/data/train\", \"epoch\": 9, \"duration\": 28330, \"num_examples\": 1309, \"num_bytes\": 591429344}\u001b[0m\n",
      "\u001b[34m#metrics {\"StartTime\": 1724320744.1540337, \"EndTime\": 1724320744.1540926, \"Dimensions\": {\"Algorithm\": \"Linear Learner\", \"Host\": \"algo-1\", \"Operation\": \"training\", \"epoch\": 3, \"model\": 0}, \"Metrics\": {\"train_binary_classification_cross_entropy_objective\": {\"sum\": 0.49202560861103395, \"count\": 1, \"min\": 0.49202560861103395, \"max\": 0.49202560861103395}}}\u001b[0m\n",
      "\u001b[34m#metrics {\"StartTime\": 1724320744.1541615, \"EndTime\": 1724320744.1541724, \"Dimensions\": {\"Algorithm\": \"Linear Learner\", \"Host\": \"algo-1\", \"Operation\": \"training\", \"epoch\": 3, \"model\": 1}, \"Metrics\": {\"train_binary_classification_cross_entropy_objective\": {\"sum\": 0.49308858270674305, \"count\": 1, \"min\": 0.49308858270674305, \"max\": 0.49308858270674305}}}\u001b[0m\n",
      "\u001b[34m#metrics {\"StartTime\": 1724320744.1542046, \"EndTime\": 1724320744.154212, \"Dimensions\": {\"Algorithm\": \"Linear Learner\", \"Host\": \"algo-1\", \"Operation\": \"training\", \"epoch\": 3, \"model\": 2}, \"Metrics\": {\"train_binary_classification_cross_entropy_objective\": {\"sum\": 0.49204320435130267, \"count\": 1, \"min\": 0.49204320435130267, \"max\": 0.49204320435130267}}}\u001b[0m\n",
      "\u001b[34m#metrics {\"StartTime\": 1724320744.1542363, \"EndTime\": 1724320744.154243, \"Dimensions\": {\"Algorithm\": \"Linear Learner\", \"Host\": \"algo-1\", \"Operation\": \"training\", \"epoch\": 3, \"model\": 3}, \"Metrics\": {\"train_binary_classification_cross_entropy_objective\": {\"sum\": 0.4930885007899106, \"count\": 1, \"min\": 0.4930885007899106, \"max\": 0.4930885007899106}}}\u001b[0m\n",
      "\u001b[34m#metrics {\"StartTime\": 1724320744.1542659, \"EndTime\": 1724320744.1542723, \"Dimensions\": {\"Algorithm\": \"Linear Learner\", \"Host\": \"algo-1\", \"Operation\": \"training\", \"epoch\": 3, \"model\": 4}, \"Metrics\": {\"train_binary_classification_cross_entropy_objective\": {\"sum\": 0.4923929919088288, \"count\": 1, \"min\": 0.4923929919088288, \"max\": 0.4923929919088288}}}\u001b[0m\n",
      "\u001b[34m#metrics {\"StartTime\": 1724320744.1542938, \"EndTime\": 1724320744.1543, \"Dimensions\": {\"Algorithm\": \"Linear Learner\", \"Host\": \"algo-1\", \"Operation\": \"training\", \"epoch\": 3, \"model\": 5}, \"Metrics\": {\"train_binary_classification_cross_entropy_objective\": {\"sum\": 0.5108860774608927, \"count\": 1, \"min\": 0.5108860774608927, \"max\": 0.5108860774608927}}}\u001b[0m\n",
      "\u001b[34m#metrics {\"StartTime\": 1724320744.1543217, \"EndTime\": 1724320744.1543279, \"Dimensions\": {\"Algorithm\": \"Linear Learner\", \"Host\": \"algo-1\", \"Operation\": \"training\", \"epoch\": 3, \"model\": 6}, \"Metrics\": {\"train_binary_classification_cross_entropy_objective\": {\"sum\": 0.4923930074709271, \"count\": 1, \"min\": 0.4923930074709271, \"max\": 0.4923930074709271}}}\u001b[0m\n",
      "\u001b[34m#metrics {\"StartTime\": 1724320744.1543553, \"EndTime\": 1724320744.1543615, \"Dimensions\": {\"Algorithm\": \"Linear Learner\", \"Host\": \"algo-1\", \"Operation\": \"training\", \"epoch\": 3, \"model\": 7}, \"Metrics\": {\"train_binary_classification_cross_entropy_objective\": {\"sum\": 0.5108854218229242, \"count\": 1, \"min\": 0.5108854218229242, \"max\": 0.5108854218229242}}}\u001b[0m\n",
      "\u001b[34m#metrics {\"StartTime\": 1724320744.1543884, \"EndTime\": 1724320744.1543949, \"Dimensions\": {\"Algorithm\": \"Linear Learner\", \"Host\": \"algo-1\", \"Operation\": \"training\", \"epoch\": 3, \"model\": 8}, \"Metrics\": {\"train_binary_classification_cross_entropy_objective\": {\"sum\": 0.4921147510400241, \"count\": 1, \"min\": 0.4921147510400241, \"max\": 0.4921147510400241}}}\u001b[0m\n",
      "\u001b[34m#metrics {\"StartTime\": 1724320744.1544192, \"EndTime\": 1724320744.1544256, \"Dimensions\": {\"Algorithm\": \"Linear Learner\", \"Host\": \"algo-1\", \"Operation\": \"training\", \"epoch\": 3, \"model\": 9}, \"Metrics\": {\"train_binary_classification_cross_entropy_objective\": {\"sum\": 0.4931225736892187, \"count\": 1, \"min\": 0.4931225736892187, \"max\": 0.4931225736892187}}}\u001b[0m\n",
      "\u001b[34m#metrics {\"StartTime\": 1724320744.1544468, \"EndTime\": 1724320744.154453, \"Dimensions\": {\"Algorithm\": \"Linear Learner\", \"Host\": \"algo-1\", \"Operation\": \"training\", \"epoch\": 3, \"model\": 10}, \"Metrics\": {\"train_binary_classification_cross_entropy_objective\": {\"sum\": 0.49213202956546703, \"count\": 1, \"min\": 0.49213202956546703, \"max\": 0.49213202956546703}}}\u001b[0m\n",
      "\u001b[34m#metrics {\"StartTime\": 1724320744.154487, \"EndTime\": 1724320744.1544933, \"Dimensions\": {\"Algorithm\": \"Linear Learner\", \"Host\": \"algo-1\", \"Operation\": \"training\", \"epoch\": 3, \"model\": 11}, \"Metrics\": {\"train_binary_classification_cross_entropy_objective\": {\"sum\": 0.4931225836284299, \"count\": 1, \"min\": 0.4931225836284299, \"max\": 0.4931225836284299}}}\u001b[0m\n",
      "\u001b[34m#metrics {\"StartTime\": 1724320744.1545181, \"EndTime\": 1724320744.154524, \"Dimensions\": {\"Algorithm\": \"Linear Learner\", \"Host\": \"algo-1\", \"Operation\": \"training\", \"epoch\": 3, \"model\": 12}, \"Metrics\": {\"train_binary_classification_cross_entropy_objective\": {\"sum\": 0.4924649504681975, \"count\": 1, \"min\": 0.4924649504681975, \"max\": 0.4924649504681975}}}\u001b[0m\n",
      "\u001b[34m#metrics {\"StartTime\": 1724320744.1545475, \"EndTime\": 1724320744.1545537, \"Dimensions\": {\"Algorithm\": \"Linear Learner\", \"Host\": \"algo-1\", \"Operation\": \"training\", \"epoch\": 3, \"model\": 13}, \"Metrics\": {\"train_binary_classification_cross_entropy_objective\": {\"sum\": 0.5097626668480922, \"count\": 1, \"min\": 0.5097626668480922, \"max\": 0.5097626668480922}}}\u001b[0m\n",
      "\u001b[34m#metrics {\"StartTime\": 1724320744.1545775, \"EndTime\": 1724320744.1545835, \"Dimensions\": {\"Algorithm\": \"Linear Learner\", \"Host\": \"algo-1\", \"Operation\": \"training\", \"epoch\": 3, \"model\": 14}, \"Metrics\": {\"train_binary_classification_cross_entropy_objective\": {\"sum\": 0.4924649500715623, \"count\": 1, \"min\": 0.4924649500715623, \"max\": 0.4924649500715623}}}\u001b[0m\n",
      "\u001b[34m#metrics {\"StartTime\": 1724320744.1546059, \"EndTime\": 1724320744.1546118, \"Dimensions\": {\"Algorithm\": \"Linear Learner\", \"Host\": \"algo-1\", \"Operation\": \"training\", \"epoch\": 3, \"model\": 15}, \"Metrics\": {\"train_binary_classification_cross_entropy_objective\": {\"sum\": 0.509762720837141, \"count\": 1, \"min\": 0.509762720837141, \"max\": 0.509762720837141}}}\u001b[0m\n",
      "\u001b[34m#metrics {\"StartTime\": 1724320744.154635, \"EndTime\": 1724320744.154641, \"Dimensions\": {\"Algorithm\": \"Linear Learner\", \"Host\": \"algo-1\", \"Operation\": \"training\", \"epoch\": 3, \"model\": 16}, \"Metrics\": {\"train_binary_classification_cross_entropy_objective\": {\"sum\": 0.5074182463946328, \"count\": 1, \"min\": 0.5074182463946328, \"max\": 0.5074182463946328}}}\u001b[0m\n",
      "\u001b[34m#metrics {\"StartTime\": 1724320744.1546621, \"EndTime\": 1724320744.154668, \"Dimensions\": {\"Algorithm\": \"Linear Learner\", \"Host\": \"algo-1\", \"Operation\": \"training\", \"epoch\": 3, \"model\": 17}, \"Metrics\": {\"train_binary_classification_cross_entropy_objective\": {\"sum\": 0.5076636060428911, \"count\": 1, \"min\": 0.5076636060428911, \"max\": 0.5076636060428911}}}\u001b[0m\n",
      "\u001b[34m#metrics {\"StartTime\": 1724320744.1546912, \"EndTime\": 1724320744.1546974, \"Dimensions\": {\"Algorithm\": \"Linear Learner\", \"Host\": \"algo-1\", \"Operation\": \"training\", \"epoch\": 3, \"model\": 18}, \"Metrics\": {\"train_binary_classification_cross_entropy_objective\": {\"sum\": 0.5074196429238043, \"count\": 1, \"min\": 0.5074196429238043, \"max\": 0.5074196429238043}}}\u001b[0m\n",
      "\u001b[34m#metrics {\"StartTime\": 1724320744.1547234, \"EndTime\": 1724320744.1547298, \"Dimensions\": {\"Algorithm\": \"Linear Learner\", \"Host\": \"algo-1\", \"Operation\": \"training\", \"epoch\": 3, \"model\": 19}, \"Metrics\": {\"train_binary_classification_cross_entropy_objective\": {\"sum\": 0.5076635978068781, \"count\": 1, \"min\": 0.5076635978068781, \"max\": 0.5076635978068781}}}\u001b[0m\n",
      "\u001b[34m#metrics {\"StartTime\": 1724320744.1547556, \"EndTime\": 1724320744.1547618, \"Dimensions\": {\"Algorithm\": \"Linear Learner\", \"Host\": \"algo-1\", \"Operation\": \"training\", \"epoch\": 3, \"model\": 20}, \"Metrics\": {\"train_binary_classification_cross_entropy_objective\": {\"sum\": 0.5074940644010492, \"count\": 1, \"min\": 0.5074940644010492, \"max\": 0.5074940644010492}}}\u001b[0m\n",
      "\u001b[34m#metrics {\"StartTime\": 1724320744.154787, \"EndTime\": 1724320744.154793, \"Dimensions\": {\"Algorithm\": \"Linear Learner\", \"Host\": \"algo-1\", \"Operation\": \"training\", \"epoch\": 3, \"model\": 21}, \"Metrics\": {\"train_binary_classification_cross_entropy_objective\": {\"sum\": 0.5107599232758222, \"count\": 1, \"min\": 0.5107599232758222, \"max\": 0.5107599232758222}}}\u001b[0m\n",
      "\u001b[34m#metrics {\"StartTime\": 1724320744.1548142, \"EndTime\": 1724320744.1548204, \"Dimensions\": {\"Algorithm\": \"Linear Learner\", \"Host\": \"algo-1\", \"Operation\": \"training\", \"epoch\": 3, \"model\": 22}, \"Metrics\": {\"train_binary_classification_cross_entropy_objective\": {\"sum\": 0.5074940615546084, \"count\": 1, \"min\": 0.5074940615546084, \"max\": 0.5074940615546084}}}\u001b[0m\n",
      "\u001b[34m#metrics {\"StartTime\": 1724320744.1548436, \"EndTime\": 1724320744.15485, \"Dimensions\": {\"Algorithm\": \"Linear Learner\", \"Host\": \"algo-1\", \"Operation\": \"training\", \"epoch\": 3, \"model\": 23}, \"Metrics\": {\"train_binary_classification_cross_entropy_objective\": {\"sum\": 0.5107599052639182, \"count\": 1, \"min\": 0.5107599052639182, \"max\": 0.5107599052639182}}}\u001b[0m\n",
      "\u001b[34m#metrics {\"StartTime\": 1724320744.1548734, \"EndTime\": 1724320744.1548796, \"Dimensions\": {\"Algorithm\": \"Linear Learner\", \"Host\": \"algo-1\", \"Operation\": \"training\", \"epoch\": 3, \"model\": 24}, \"Metrics\": {\"train_binary_classification_cross_entropy_objective\": {\"sum\": 0.5137447338279234, \"count\": 1, \"min\": 0.5137447338279234, \"max\": 0.5137447338279234}}}\u001b[0m\n",
      "\u001b[34m#metrics {\"StartTime\": 1724320744.154905, \"EndTime\": 1724320744.1549113, \"Dimensions\": {\"Algorithm\": \"Linear Learner\", \"Host\": \"algo-1\", \"Operation\": \"training\", \"epoch\": 3, \"model\": 25}, \"Metrics\": {\"train_binary_classification_cross_entropy_objective\": {\"sum\": 0.513827457089672, \"count\": 1, \"min\": 0.513827457089672, \"max\": 0.513827457089672}}}\u001b[0m\n",
      "\u001b[34m#metrics {\"StartTime\": 1724320744.1549325, \"EndTime\": 1724320744.1549385, \"Dimensions\": {\"Algorithm\": \"Linear Learner\", \"Host\": \"algo-1\", \"Operation\": \"training\", \"epoch\": 3, \"model\": 26}, \"Metrics\": {\"train_binary_classification_cross_entropy_objective\": {\"sum\": 0.5137468158593601, \"count\": 1, \"min\": 0.5137468158593601, \"max\": 0.5137468158593601}}}\u001b[0m\n",
      "\u001b[34m#metrics {\"StartTime\": 1724320744.1549644, \"EndTime\": 1724320744.1549706, \"Dimensions\": {\"Algorithm\": \"Linear Learner\", \"Host\": \"algo-1\", \"Operation\": \"training\", \"epoch\": 3, \"model\": 27}, \"Metrics\": {\"train_binary_classification_cross_entropy_objective\": {\"sum\": 0.5138268398086594, \"count\": 1, \"min\": 0.5138268398086594, \"max\": 0.5138268398086594}}}\u001b[0m\n",
      "\u001b[34m#metrics {\"StartTime\": 1724320744.154998, \"EndTime\": 1724320744.1550038, \"Dimensions\": {\"Algorithm\": \"Linear Learner\", \"Host\": \"algo-1\", \"Operation\": \"training\", \"epoch\": 3, \"model\": 28}, \"Metrics\": {\"train_binary_classification_cross_entropy_objective\": {\"sum\": 0.5137747396999908, \"count\": 1, \"min\": 0.5137747396999908, \"max\": 0.5137747396999908}}}\u001b[0m\n",
      "\u001b[34m#metrics {\"StartTime\": 1724320744.1550274, \"EndTime\": 1724320744.1550336, \"Dimensions\": {\"Algorithm\": \"Linear Learner\", \"Host\": \"algo-1\", \"Operation\": \"training\", \"epoch\": 3, \"model\": 29}, \"Metrics\": {\"train_binary_classification_cross_entropy_objective\": {\"sum\": 0.514948223009022, \"count\": 1, \"min\": 0.514948223009022, \"max\": 0.514948223009022}}}\u001b[0m\n",
      "\u001b[34m#metrics {\"StartTime\": 1724320744.1550546, \"EndTime\": 1724320744.1550605, \"Dimensions\": {\"Algorithm\": \"Linear Learner\", \"Host\": \"algo-1\", \"Operation\": \"training\", \"epoch\": 3, \"model\": 30}, \"Metrics\": {\"train_binary_classification_cross_entropy_objective\": {\"sum\": 0.5137748487513364, \"count\": 1, \"min\": 0.5137748487513364, \"max\": 0.5137748487513364}}}\u001b[0m\n",
      "\u001b[34m#metrics {\"StartTime\": 1724320744.155084, \"EndTime\": 1724320744.1550899, \"Dimensions\": {\"Algorithm\": \"Linear Learner\", \"Host\": \"algo-1\", \"Operation\": \"training\", \"epoch\": 3, \"model\": 31}, \"Metrics\": {\"train_binary_classification_cross_entropy_objective\": {\"sum\": 0.5149482182493997, \"count\": 1, \"min\": 0.5149482182493997, \"max\": 0.5149482182493997}}}\u001b[0m\n",
      "\u001b[34m[08/22/2024 09:59:04 INFO 140237033666368] #quality_metric: host=algo-1, epoch=3, train binary_classification_cross_entropy_objective <loss>=0.49202560861103395\u001b[0m\n",
      "\u001b[34m[2024-08-22 09:59:06.594] [tensorio] [info] epoch_stats={\"data_pipeline\": \"/opt/ml/input/data/validation\", \"epoch\": 11, \"duration\": 2426, \"num_examples\": 164, \"num_bytes\": 73928668}\u001b[0m\n",
      "\u001b[34m#metrics {\"StartTime\": 1724320746.599376, \"EndTime\": 1724320746.5994267, \"Dimensions\": {\"Algorithm\": \"Linear Learner\", \"Host\": \"algo-1\", \"Operation\": \"training\", \"epoch\": 3, \"model\": 0}, \"Metrics\": {\"validation_binary_classification_cross_entropy_objective\": {\"sum\": 0.4919660157739691, \"count\": 1, \"min\": 0.4919660157739691, \"max\": 0.4919660157739691}}}\u001b[0m\n",
      "\u001b[34m#metrics {\"StartTime\": 1724320746.5994911, \"EndTime\": 1724320746.5995014, \"Dimensions\": {\"Algorithm\": \"Linear Learner\", \"Host\": \"algo-1\", \"Operation\": \"training\", \"epoch\": 3, \"model\": 1}, \"Metrics\": {\"validation_binary_classification_cross_entropy_objective\": {\"sum\": 0.4926974300925407, \"count\": 1, \"min\": 0.4926974300925407, \"max\": 0.4926974300925407}}}\u001b[0m\n",
      "\u001b[34m#metrics {\"StartTime\": 1724320746.5995388, \"EndTime\": 1724320746.5995483, \"Dimensions\": {\"Algorithm\": \"Linear Learner\", \"Host\": \"algo-1\", \"Operation\": \"training\", \"epoch\": 3, \"model\": 2}, \"Metrics\": {\"validation_binary_classification_cross_entropy_objective\": {\"sum\": 0.4919676967139438, \"count\": 1, \"min\": 0.4919676967139438, \"max\": 0.4919676967139438}}}\u001b[0m\n",
      "\u001b[34m#metrics {\"StartTime\": 1724320746.5995862, \"EndTime\": 1724320746.5995948, \"Dimensions\": {\"Algorithm\": \"Linear Learner\", \"Host\": \"algo-1\", \"Operation\": \"training\", \"epoch\": 3, \"model\": 3}, \"Metrics\": {\"validation_binary_classification_cross_entropy_objective\": {\"sum\": 0.49269725395675024, \"count\": 1, \"min\": 0.49269725395675024, \"max\": 0.49269725395675024}}}\u001b[0m\n",
      "\u001b[34m#metrics {\"StartTime\": 1724320746.5996263, \"EndTime\": 1724320746.5996623, \"Dimensions\": {\"Algorithm\": \"Linear Learner\", \"Host\": \"algo-1\", \"Operation\": \"training\", \"epoch\": 3, \"model\": 4}, \"Metrics\": {\"validation_binary_classification_cross_entropy_objective\": {\"sum\": 0.4921044320102594, \"count\": 1, \"min\": 0.4921044320102594, \"max\": 0.4921044320102594}}}\u001b[0m\n",
      "\u001b[34m#metrics {\"StartTime\": 1724320746.5997097, \"EndTime\": 1724320746.5997212, \"Dimensions\": {\"Algorithm\": \"Linear Learner\", \"Host\": \"algo-1\", \"Operation\": \"training\", \"epoch\": 3, \"model\": 5}, \"Metrics\": {\"validation_binary_classification_cross_entropy_objective\": {\"sum\": 0.5104453346946023, \"count\": 1, \"min\": 0.5104453346946023, \"max\": 0.5104453346946023}}}\u001b[0m\n",
      "\u001b[34m#metrics {\"StartTime\": 1724320746.5997653, \"EndTime\": 1724320746.5997756, \"Dimensions\": {\"Algorithm\": \"Linear Learner\", \"Host\": \"algo-1\", \"Operation\": \"training\", \"epoch\": 3, \"model\": 6}, \"Metrics\": {\"validation_binary_classification_cross_entropy_objective\": {\"sum\": 0.492104468207657, \"count\": 1, \"min\": 0.492104468207657, \"max\": 0.492104468207657}}}\u001b[0m\n",
      "\u001b[34m#metrics {\"StartTime\": 1724320746.5998085, \"EndTime\": 1724320746.599815, \"Dimensions\": {\"Algorithm\": \"Linear Learner\", \"Host\": \"algo-1\", \"Operation\": \"training\", \"epoch\": 3, \"model\": 7}, \"Metrics\": {\"validation_binary_classification_cross_entropy_objective\": {\"sum\": 0.5104436761447704, \"count\": 1, \"min\": 0.5104436761447704, \"max\": 0.5104436761447704}}}\u001b[0m\n",
      "\u001b[34m#metrics {\"StartTime\": 1724320746.5998433, \"EndTime\": 1724320746.59985, \"Dimensions\": {\"Algorithm\": \"Linear Learner\", \"Host\": \"algo-1\", \"Operation\": \"training\", \"epoch\": 3, \"model\": 8}, \"Metrics\": {\"validation_binary_classification_cross_entropy_objective\": {\"sum\": 0.4920692106362899, \"count\": 1, \"min\": 0.4920692106362899, \"max\": 0.4920692106362899}}}\u001b[0m\n",
      "\u001b[34m#metrics {\"StartTime\": 1724320746.5998716, \"EndTime\": 1724320746.59988, \"Dimensions\": {\"Algorithm\": \"Linear Learner\", \"Host\": \"algo-1\", \"Operation\": \"training\", \"epoch\": 3, \"model\": 9}, \"Metrics\": {\"validation_binary_classification_cross_entropy_objective\": {\"sum\": 0.4928860116304791, \"count\": 1, \"min\": 0.4928860116304791, \"max\": 0.4928860116304791}}}\u001b[0m\n",
      "\u001b[34m#metrics {\"StartTime\": 1724320746.5999062, \"EndTime\": 1724320746.5999143, \"Dimensions\": {\"Algorithm\": \"Linear Learner\", \"Host\": \"algo-1\", \"Operation\": \"training\", \"epoch\": 3, \"model\": 10}, \"Metrics\": {\"validation_binary_classification_cross_entropy_objective\": {\"sum\": 0.4920689902799673, \"count\": 1, \"min\": 0.4920689902799673, \"max\": 0.4920689902799673}}}\u001b[0m\n",
      "\u001b[34m#metrics {\"StartTime\": 1724320746.5999508, \"EndTime\": 1724320746.5999603, \"Dimensions\": {\"Algorithm\": \"Linear Learner\", \"Host\": \"algo-1\", \"Operation\": \"training\", \"epoch\": 3, \"model\": 11}, \"Metrics\": {\"validation_binary_classification_cross_entropy_objective\": {\"sum\": 0.49288600491343626, \"count\": 1, \"min\": 0.49288600491343626, \"max\": 0.49288600491343626}}}\u001b[0m\n",
      "\u001b[34m#metrics {\"StartTime\": 1724320746.599998, \"EndTime\": 1724320746.600007, \"Dimensions\": {\"Algorithm\": \"Linear Learner\", \"Host\": \"algo-1\", \"Operation\": \"training\", \"epoch\": 3, \"model\": 12}, \"Metrics\": {\"validation_binary_classification_cross_entropy_objective\": {\"sum\": 0.49220367277335225, \"count\": 1, \"min\": 0.49220367277335225, \"max\": 0.49220367277335225}}}\u001b[0m\n",
      "\u001b[34m#metrics {\"StartTime\": 1724320746.600045, \"EndTime\": 1724320746.6000555, \"Dimensions\": {\"Algorithm\": \"Linear Learner\", \"Host\": \"algo-1\", \"Operation\": \"training\", \"epoch\": 3, \"model\": 13}, \"Metrics\": {\"validation_binary_classification_cross_entropy_objective\": {\"sum\": 0.5099449737759482, \"count\": 1, \"min\": 0.5099449737759482, \"max\": 0.5099449737759482}}}\u001b[0m\n",
      "\u001b[34m#metrics {\"StartTime\": 1724320746.6000948, \"EndTime\": 1724320746.6001053, \"Dimensions\": {\"Algorithm\": \"Linear Learner\", \"Host\": \"algo-1\", \"Operation\": \"training\", \"epoch\": 3, \"model\": 14}, \"Metrics\": {\"validation_binary_classification_cross_entropy_objective\": {\"sum\": 0.49220367687821176, \"count\": 1, \"min\": 0.49220367687821176, \"max\": 0.49220367687821176}}}\u001b[0m\n",
      "\u001b[34m#metrics {\"StartTime\": 1724320746.6001422, \"EndTime\": 1724320746.6001523, \"Dimensions\": {\"Algorithm\": \"Linear Learner\", \"Host\": \"algo-1\", \"Operation\": \"training\", \"epoch\": 3, \"model\": 15}, \"Metrics\": {\"validation_binary_classification_cross_entropy_objective\": {\"sum\": 0.5099449646333065, \"count\": 1, \"min\": 0.5099449646333065, \"max\": 0.5099449646333065}}}\u001b[0m\n",
      "\u001b[34m#metrics {\"StartTime\": 1724320746.6001928, \"EndTime\": 1724320746.600203, \"Dimensions\": {\"Algorithm\": \"Linear Learner\", \"Host\": \"algo-1\", \"Operation\": \"training\", \"epoch\": 3, \"model\": 16}, \"Metrics\": {\"validation_binary_classification_cross_entropy_objective\": {\"sum\": 0.5074365286394765, \"count\": 1, \"min\": 0.5074365286394765, \"max\": 0.5074365286394765}}}\u001b[0m\n",
      "\u001b[34m#metrics {\"StartTime\": 1724320746.6002421, \"EndTime\": 1724320746.6002529, \"Dimensions\": {\"Algorithm\": \"Linear Learner\", \"Host\": \"algo-1\", \"Operation\": \"training\", \"epoch\": 3, \"model\": 17}, \"Metrics\": {\"validation_binary_classification_cross_entropy_objective\": {\"sum\": 0.5080894899499186, \"count\": 1, \"min\": 0.5080894899499186, \"max\": 0.5080894899499186}}}\u001b[0m\n",
      "\u001b[34m#metrics {\"StartTime\": 1724320746.6002934, \"EndTime\": 1724320746.6003032, \"Dimensions\": {\"Algorithm\": \"Linear Learner\", \"Host\": \"algo-1\", \"Operation\": \"training\", \"epoch\": 3, \"model\": 18}, \"Metrics\": {\"validation_binary_classification_cross_entropy_objective\": {\"sum\": 0.5074777653119081, \"count\": 1, \"min\": 0.5074777653119081, \"max\": 0.5074777653119081}}}\u001b[0m\n",
      "\u001b[34m#metrics {\"StartTime\": 1724320746.6003437, \"EndTime\": 1724320746.6003702, \"Dimensions\": {\"Algorithm\": \"Linear Learner\", \"Host\": \"algo-1\", \"Operation\": \"training\", \"epoch\": 3, \"model\": 19}, \"Metrics\": {\"validation_binary_classification_cross_entropy_objective\": {\"sum\": 0.5080895737263699, \"count\": 1, \"min\": 0.5080895737263699, \"max\": 0.5080895737263699}}}\u001b[0m\n",
      "\u001b[34m#metrics {\"StartTime\": 1724320746.6004071, \"EndTime\": 1724320746.6004157, \"Dimensions\": {\"Algorithm\": \"Linear Learner\", \"Host\": \"algo-1\", \"Operation\": \"training\", \"epoch\": 3, \"model\": 20}, \"Metrics\": {\"validation_binary_classification_cross_entropy_objective\": {\"sum\": 0.5078158232569531, \"count\": 1, \"min\": 0.5078158232569531, \"max\": 0.5078158232569531}}}\u001b[0m\n",
      "\u001b[34m#metrics {\"StartTime\": 1724320746.6004488, \"EndTime\": 1724320746.6004553, \"Dimensions\": {\"Algorithm\": \"Linear Learner\", \"Host\": \"algo-1\", \"Operation\": \"training\", \"epoch\": 3, \"model\": 21}, \"Metrics\": {\"validation_binary_classification_cross_entropy_objective\": {\"sum\": 0.508858426229638, \"count\": 1, \"min\": 0.508858426229638, \"max\": 0.508858426229638}}}\u001b[0m\n",
      "\u001b[34m#metrics {\"StartTime\": 1724320746.6004868, \"EndTime\": 1724320746.6004956, \"Dimensions\": {\"Algorithm\": \"Linear Learner\", \"Host\": \"algo-1\", \"Operation\": \"training\", \"epoch\": 3, \"model\": 22}, \"Metrics\": {\"validation_binary_classification_cross_entropy_objective\": {\"sum\": 0.5078158200850161, \"count\": 1, \"min\": 0.5078158200850161, \"max\": 0.5078158200850161}}}\u001b[0m\n",
      "\u001b[34m#metrics {\"StartTime\": 1724320746.6005275, \"EndTime\": 1724320746.6005368, \"Dimensions\": {\"Algorithm\": \"Linear Learner\", \"Host\": \"algo-1\", \"Operation\": \"training\", \"epoch\": 3, \"model\": 23}, \"Metrics\": {\"validation_binary_classification_cross_entropy_objective\": {\"sum\": 0.5088583693213582, \"count\": 1, \"min\": 0.5088583693213582, \"max\": 0.5088583693213582}}}\u001b[0m\n",
      "\u001b[34m#metrics {\"StartTime\": 1724320746.6005638, \"EndTime\": 1724320746.600572, \"Dimensions\": {\"Algorithm\": \"Linear Learner\", \"Host\": \"algo-1\", \"Operation\": \"training\", \"epoch\": 3, \"model\": 24}, \"Metrics\": {\"validation_binary_classification_cross_entropy_objective\": {\"sum\": 0.5137634762463512, \"count\": 1, \"min\": 0.5137634762463512, \"max\": 0.5137634762463512}}}\u001b[0m\n",
      "\u001b[34m#metrics {\"StartTime\": 1724320746.6006014, \"EndTime\": 1724320746.6006112, \"Dimensions\": {\"Algorithm\": \"Linear Learner\", \"Host\": \"algo-1\", \"Operation\": \"training\", \"epoch\": 3, \"model\": 25}, \"Metrics\": {\"validation_binary_classification_cross_entropy_objective\": {\"sum\": 0.5137811249032865, \"count\": 1, \"min\": 0.5137811249032865, \"max\": 0.5137811249032865}}}\u001b[0m\n",
      "\u001b[34m#metrics {\"StartTime\": 1724320746.6006455, \"EndTime\": 1724320746.6006553, \"Dimensions\": {\"Algorithm\": \"Linear Learner\", \"Host\": \"algo-1\", \"Operation\": \"training\", \"epoch\": 3, \"model\": 26}, \"Metrics\": {\"validation_binary_classification_cross_entropy_objective\": {\"sum\": 0.5137653023490855, \"count\": 1, \"min\": 0.5137653023490855, \"max\": 0.5137653023490855}}}\u001b[0m\n",
      "\u001b[34m#metrics {\"StartTime\": 1724320746.600693, \"EndTime\": 1724320746.6007032, \"Dimensions\": {\"Algorithm\": \"Linear Learner\", \"Host\": \"algo-1\", \"Operation\": \"training\", \"epoch\": 3, \"model\": 27}, \"Metrics\": {\"validation_binary_classification_cross_entropy_objective\": {\"sum\": 0.5137875560986522, \"count\": 1, \"min\": 0.5137875560986522, \"max\": 0.5137875560986522}}}\u001b[0m\n",
      "\u001b[34m#metrics {\"StartTime\": 1724320746.600735, \"EndTime\": 1724320746.6007445, \"Dimensions\": {\"Algorithm\": \"Linear Learner\", \"Host\": \"algo-1\", \"Operation\": \"training\", \"epoch\": 3, \"model\": 28}, \"Metrics\": {\"validation_binary_classification_cross_entropy_objective\": {\"sum\": 0.5138147306418646, \"count\": 1, \"min\": 0.5138147306418646, \"max\": 0.5138147306418646}}}\u001b[0m\n",
      "\u001b[34m#metrics {\"StartTime\": 1724320746.6007807, \"EndTime\": 1724320746.60079, \"Dimensions\": {\"Algorithm\": \"Linear Learner\", \"Host\": \"algo-1\", \"Operation\": \"training\", \"epoch\": 3, \"model\": 29}, \"Metrics\": {\"validation_binary_classification_cross_entropy_objective\": {\"sum\": 0.5135236679274089, \"count\": 1, \"min\": 0.5135236679274089, \"max\": 0.5135236679274089}}}\u001b[0m\n",
      "\u001b[34m#metrics {\"StartTime\": 1724320746.6008275, \"EndTime\": 1724320746.6008377, \"Dimensions\": {\"Algorithm\": \"Linear Learner\", \"Host\": \"algo-1\", \"Operation\": \"training\", \"epoch\": 3, \"model\": 30}, \"Metrics\": {\"validation_binary_classification_cross_entropy_objective\": {\"sum\": 0.5138114144751235, \"count\": 1, \"min\": 0.5138114144751235, \"max\": 0.5138114144751235}}}\u001b[0m\n",
      "\u001b[34m#metrics {\"StartTime\": 1724320746.6008701, \"EndTime\": 1724320746.6008792, \"Dimensions\": {\"Algorithm\": \"Linear Learner\", \"Host\": \"algo-1\", \"Operation\": \"training\", \"epoch\": 3, \"model\": 31}, \"Metrics\": {\"validation_binary_classification_cross_entropy_objective\": {\"sum\": 0.513523669420085, \"count\": 1, \"min\": 0.513523669420085, \"max\": 0.513523669420085}}}\u001b[0m\n",
      "\u001b[34m[08/22/2024 09:59:06 INFO 140237033666368] #quality_metric: host=algo-1, epoch=3, validation binary_classification_cross_entropy_objective <loss>=0.4919660157739691\u001b[0m\n",
      "\u001b[34m[08/22/2024 09:59:06 INFO 140237033666368] #early_stopping_criteria_metric: host=algo-1, epoch=3, criteria=binary_classification_cross_entropy_objective, value=0.4919660157739691\u001b[0m\n",
      "\u001b[34m[08/22/2024 09:59:06 INFO 140237033666368] Saving model for epoch: 3\u001b[0m\n",
      "\u001b[34m[08/22/2024 09:59:06 INFO 140237033666368] Saved checkpoint to \"/tmp/tmpim1p5lm8/mx-mod-0000.params\"\u001b[0m\n",
      "\u001b[34m[08/22/2024 09:59:06 INFO 140237033666368] #progress_metric: host=algo-1, completed 26.666666666666668 % of epochs\u001b[0m\n",
      "\u001b[34m#metrics {\"StartTime\": 1724320715.8234303, \"EndTime\": 1724320746.605549, \"Dimensions\": {\"Algorithm\": \"Linear Learner\", \"Host\": \"algo-1\", \"Operation\": \"training\", \"epoch\": 3, \"Meta\": \"training_data_iter\"}, \"Metrics\": {\"Total Records Seen\": {\"sum\": 5245888.0, \"count\": 1, \"min\": 5245888, \"max\": 5245888}, \"Total Batches Seen\": {\"sum\": 5248.0, \"count\": 1, \"min\": 5248, \"max\": 5248}, \"Max Records Seen Between Resets\": {\"sum\": 1308472.0, \"count\": 1, \"min\": 1308472, \"max\": 1308472}, \"Max Batches Seen Between Resets\": {\"sum\": 1309.0, \"count\": 1, \"min\": 1309, \"max\": 1309}, \"Reset Count\": {\"sum\": 6.0, \"count\": 1, \"min\": 6, \"max\": 6}, \"Number of Records Since Last Reset\": {\"sum\": 1308472.0, \"count\": 1, \"min\": 1308472, \"max\": 1308472}, \"Number of Batches Since Last Reset\": {\"sum\": 1309.0, \"count\": 1, \"min\": 1309, \"max\": 1309}}}\u001b[0m\n",
      "\u001b[34m[08/22/2024 09:59:06 INFO 140237033666368] #throughput_metric: host=algo-1, train throughput=42507.369320632686 records/second\u001b[0m\n",
      "\n",
      "2024-08-22 09:59:43 Uploading - Uploading generated training model\u001b[34m[2024-08-22 09:59:34.394] [tensorio] [info] epoch_stats={\"data_pipeline\": \"/opt/ml/input/data/train\", \"epoch\": 11, \"duration\": 27782, \"num_examples\": 1309, \"num_bytes\": 591429344}\u001b[0m\n",
      "\u001b[34m#metrics {\"StartTime\": 1724320774.3950205, \"EndTime\": 1724320774.395094, \"Dimensions\": {\"Algorithm\": \"Linear Learner\", \"Host\": \"algo-1\", \"Operation\": \"training\", \"epoch\": 4, \"model\": 0}, \"Metrics\": {\"train_binary_classification_cross_entropy_objective\": {\"sum\": 0.49199940593381175, \"count\": 1, \"min\": 0.49199940593381175, \"max\": 0.49199940593381175}}}\u001b[0m\n",
      "\u001b[34m#metrics {\"StartTime\": 1724320774.3951726, \"EndTime\": 1724320774.3951912, \"Dimensions\": {\"Algorithm\": \"Linear Learner\", \"Host\": \"algo-1\", \"Operation\": \"training\", \"epoch\": 4, \"model\": 1}, \"Metrics\": {\"train_binary_classification_cross_entropy_objective\": {\"sum\": 0.4929596240075721, \"count\": 1, \"min\": 0.4929596240075721, \"max\": 0.4929596240075721}}}\u001b[0m\n",
      "\u001b[34m#metrics {\"StartTime\": 1724320774.395236, \"EndTime\": 1724320774.3952494, \"Dimensions\": {\"Algorithm\": \"Linear Learner\", \"Host\": \"algo-1\", \"Operation\": \"training\", \"epoch\": 4, \"model\": 2}, \"Metrics\": {\"train_binary_classification_cross_entropy_objective\": {\"sum\": 0.4920427296023121, \"count\": 1, \"min\": 0.4920427296023121, \"max\": 0.4920427296023121}}}\u001b[0m\n",
      "\u001b[34m#metrics {\"StartTime\": 1724320774.3952916, \"EndTime\": 1724320774.395304, \"Dimensions\": {\"Algorithm\": \"Linear Learner\", \"Host\": \"algo-1\", \"Operation\": \"training\", \"epoch\": 4, \"model\": 3}, \"Metrics\": {\"train_binary_classification_cross_entropy_objective\": {\"sum\": 0.49295955513303796, \"count\": 1, \"min\": 0.49295955513303796, \"max\": 0.49295955513303796}}}\u001b[0m\n",
      "\u001b[34m#metrics {\"StartTime\": 1724320774.395343, \"EndTime\": 1724320774.3953552, \"Dimensions\": {\"Algorithm\": \"Linear Learner\", \"Host\": \"algo-1\", \"Operation\": \"training\", \"epoch\": 4, \"model\": 4}, \"Metrics\": {\"train_binary_classification_cross_entropy_objective\": {\"sum\": 0.49213019172131833, \"count\": 1, \"min\": 0.49213019172131833, \"max\": 0.49213019172131833}}}\u001b[0m\n",
      "\u001b[34m#metrics {\"StartTime\": 1724320774.3953974, \"EndTime\": 1724320774.3954086, \"Dimensions\": {\"Algorithm\": \"Linear Learner\", \"Host\": \"algo-1\", \"Operation\": \"training\", \"epoch\": 4, \"model\": 5}, \"Metrics\": {\"train_binary_classification_cross_entropy_objective\": {\"sum\": 0.5086700588074664, \"count\": 1, \"min\": 0.5086700588074664, \"max\": 0.5086700588074664}}}\u001b[0m\n",
      "\u001b[34m#metrics {\"StartTime\": 1724320774.395449, \"EndTime\": 1724320774.3954597, \"Dimensions\": {\"Algorithm\": \"Linear Learner\", \"Host\": \"algo-1\", \"Operation\": \"training\", \"epoch\": 4, \"model\": 6}, \"Metrics\": {\"train_binary_classification_cross_entropy_objective\": {\"sum\": 0.49213020511358885, \"count\": 1, \"min\": 0.49213020511358885, \"max\": 0.49213020511358885}}}\u001b[0m\n",
      "\u001b[34m#metrics {\"StartTime\": 1724320774.3954985, \"EndTime\": 1724320774.3955085, \"Dimensions\": {\"Algorithm\": \"Linear Learner\", \"Host\": \"algo-1\", \"Operation\": \"training\", \"epoch\": 4, \"model\": 7}, \"Metrics\": {\"train_binary_classification_cross_entropy_objective\": {\"sum\": 0.5086699653415505, \"count\": 1, \"min\": 0.5086699653415505, \"max\": 0.5086699653415505}}}\u001b[0m\n",
      "\u001b[34m#metrics {\"StartTime\": 1724320774.3955424, \"EndTime\": 1724320774.395553, \"Dimensions\": {\"Algorithm\": \"Linear Learner\", \"Host\": \"algo-1\", \"Operation\": \"training\", \"epoch\": 4, \"model\": 8}, \"Metrics\": {\"train_binary_classification_cross_entropy_objective\": {\"sum\": 0.4920890910997303, \"count\": 1, \"min\": 0.4920890910997303, \"max\": 0.4920890910997303}}}\u001b[0m\n",
      "\u001b[34m#metrics {\"StartTime\": 1724320774.3955874, \"EndTime\": 1724320774.3955975, \"Dimensions\": {\"Algorithm\": \"Linear Learner\", \"Host\": \"algo-1\", \"Operation\": \"training\", \"epoch\": 4, \"model\": 9}, \"Metrics\": {\"train_binary_classification_cross_entropy_objective\": {\"sum\": 0.4930007165797989, \"count\": 1, \"min\": 0.4930007165797989, \"max\": 0.4930007165797989}}}\u001b[0m\n",
      "\u001b[34m#metrics {\"StartTime\": 1724320774.3956318, \"EndTime\": 1724320774.395642, \"Dimensions\": {\"Algorithm\": \"Linear Learner\", \"Host\": \"algo-1\", \"Operation\": \"training\", \"epoch\": 4, \"model\": 10}, \"Metrics\": {\"train_binary_classification_cross_entropy_objective\": {\"sum\": 0.49213172709613767, \"count\": 1, \"min\": 0.49213172709613767, \"max\": 0.49213172709613767}}}\u001b[0m\n",
      "\u001b[34m#metrics {\"StartTime\": 1724320774.3956733, \"EndTime\": 1724320774.3956835, \"Dimensions\": {\"Algorithm\": \"Linear Learner\", \"Host\": \"algo-1\", \"Operation\": \"training\", \"epoch\": 4, \"model\": 11}, \"Metrics\": {\"train_binary_classification_cross_entropy_objective\": {\"sum\": 0.4930007187262952, \"count\": 1, \"min\": 0.4930007187262952, \"max\": 0.4930007187262952}}}\u001b[0m\n",
      "\u001b[34m#metrics {\"StartTime\": 1724320774.3957198, \"EndTime\": 1724320774.3957293, \"Dimensions\": {\"Algorithm\": \"Linear Learner\", \"Host\": \"algo-1\", \"Operation\": \"training\", \"epoch\": 4, \"model\": 12}, \"Metrics\": {\"train_binary_classification_cross_entropy_objective\": {\"sum\": 0.49221667347479303, \"count\": 1, \"min\": 0.49221667347479303, \"max\": 0.49221667347479303}}}\u001b[0m\n",
      "\u001b[34m#metrics {\"StartTime\": 1724320774.3957691, \"EndTime\": 1724320774.395779, \"Dimensions\": {\"Algorithm\": \"Linear Learner\", \"Host\": \"algo-1\", \"Operation\": \"training\", \"epoch\": 4, \"model\": 13}, \"Metrics\": {\"train_binary_classification_cross_entropy_objective\": {\"sum\": 0.5076721073582268, \"count\": 1, \"min\": 0.5076721073582268, \"max\": 0.5076721073582268}}}\u001b[0m\n",
      "\u001b[34m#metrics {\"StartTime\": 1724320774.3958125, \"EndTime\": 1724320774.3958218, \"Dimensions\": {\"Algorithm\": \"Linear Learner\", \"Host\": \"algo-1\", \"Operation\": \"training\", \"epoch\": 4, \"model\": 14}, \"Metrics\": {\"train_binary_classification_cross_entropy_objective\": {\"sum\": 0.4922166732181467, \"count\": 1, \"min\": 0.4922166732181467, \"max\": 0.4922166732181467}}}\u001b[0m\n",
      "\u001b[34m#metrics {\"StartTime\": 1724320774.3958552, \"EndTime\": 1724320774.3958645, \"Dimensions\": {\"Algorithm\": \"Linear Learner\", \"Host\": \"algo-1\", \"Operation\": \"training\", \"epoch\": 4, \"model\": 15}, \"Metrics\": {\"train_binary_classification_cross_entropy_objective\": {\"sum\": 0.5076721176474102, \"count\": 1, \"min\": 0.5076721176474102, \"max\": 0.5076721176474102}}}\u001b[0m\n",
      "\u001b[34m#metrics {\"StartTime\": 1724320774.3959053, \"EndTime\": 1724320774.3959153, \"Dimensions\": {\"Algorithm\": \"Linear Learner\", \"Host\": \"algo-1\", \"Operation\": \"training\", \"epoch\": 4, \"model\": 16}, \"Metrics\": {\"train_binary_classification_cross_entropy_objective\": {\"sum\": 0.5074097080289042, \"count\": 1, \"min\": 0.5074097080289042, \"max\": 0.5074097080289042}}}\u001b[0m\n",
      "\u001b[34m#metrics {\"StartTime\": 1724320774.3959508, \"EndTime\": 1724320774.39596, \"Dimensions\": {\"Algorithm\": \"Linear Learner\", \"Host\": \"algo-1\", \"Operation\": \"training\", \"epoch\": 4, \"model\": 17}, \"Metrics\": {\"train_binary_classification_cross_entropy_objective\": {\"sum\": 0.5076330596503862, \"count\": 1, \"min\": 0.5076330596503862, \"max\": 0.5076330596503862}}}\u001b[0m\n",
      "\u001b[34m#metrics {\"StartTime\": 1724320774.395996, \"EndTime\": 1724320774.3960054, \"Dimensions\": {\"Algorithm\": \"Linear Learner\", \"Host\": \"algo-1\", \"Operation\": \"training\", \"epoch\": 4, \"model\": 18}, \"Metrics\": {\"train_binary_classification_cross_entropy_objective\": {\"sum\": 0.5074197814661429, \"count\": 1, \"min\": 0.5074197814661429, \"max\": 0.5074197814661429}}}\u001b[0m\n",
      "\u001b[34m#metrics {\"StartTime\": 1724320774.3960419, \"EndTime\": 1724320774.396051, \"Dimensions\": {\"Algorithm\": \"Linear Learner\", \"Host\": \"algo-1\", \"Operation\": \"training\", \"epoch\": 4, \"model\": 19}, \"Metrics\": {\"train_binary_classification_cross_entropy_objective\": {\"sum\": 0.5076330575972158, \"count\": 1, \"min\": 0.5076330575972158, \"max\": 0.5076330575972158}}}\u001b[0m\n",
      "\u001b[34m#metrics {\"StartTime\": 1724320774.396086, \"EndTime\": 1724320774.3960962, \"Dimensions\": {\"Algorithm\": \"Linear Learner\", \"Host\": \"algo-1\", \"Operation\": \"training\", \"epoch\": 4, \"model\": 20}, \"Metrics\": {\"train_binary_classification_cross_entropy_objective\": {\"sum\": 0.5074369011275265, \"count\": 1, \"min\": 0.5074369011275265, \"max\": 0.5074369011275265}}}\u001b[0m\n",
      "\u001b[34m#metrics {\"StartTime\": 1724320774.3961306, \"EndTime\": 1724320774.3961403, \"Dimensions\": {\"Algorithm\": \"Linear Learner\", \"Host\": \"algo-1\", \"Operation\": \"training\", \"epoch\": 4, \"model\": 21}, \"Metrics\": {\"train_binary_classification_cross_entropy_objective\": {\"sum\": 0.5103875284457425, \"count\": 1, \"min\": 0.5103875284457425, \"max\": 0.5103875284457425}}}\u001b[0m\n",
      "\u001b[34m#metrics {\"StartTime\": 1724320774.3961802, \"EndTime\": 1724320774.3961904, \"Dimensions\": {\"Algorithm\": \"Linear Learner\", \"Host\": \"algo-1\", \"Operation\": \"training\", \"epoch\": 4, \"model\": 22}, \"Metrics\": {\"train_binary_classification_cross_entropy_objective\": {\"sum\": 0.5074369011741895, \"count\": 1, \"min\": 0.5074369011741895, \"max\": 0.5074369011741895}}}\u001b[0m\n",
      "\u001b[34m#metrics {\"StartTime\": 1724320774.3962307, \"EndTime\": 1724320774.3962402, \"Dimensions\": {\"Algorithm\": \"Linear Learner\", \"Host\": \"algo-1\", \"Operation\": \"training\", \"epoch\": 4, \"model\": 23}, \"Metrics\": {\"train_binary_classification_cross_entropy_objective\": {\"sum\": 0.5103875231028332, \"count\": 1, \"min\": 0.5103875231028332, \"max\": 0.5103875231028332}}}\u001b[0m\n",
      "\u001b[34m#metrics {\"StartTime\": 1724320774.3962805, \"EndTime\": 1724320774.3962908, \"Dimensions\": {\"Algorithm\": \"Linear Learner\", \"Host\": \"algo-1\", \"Operation\": \"training\", \"epoch\": 4, \"model\": 24}, \"Metrics\": {\"train_binary_classification_cross_entropy_objective\": {\"sum\": 0.5137440254608061, \"count\": 1, \"min\": 0.5137440254608061, \"max\": 0.5137440254608061}}}\u001b[0m\n",
      "\u001b[34m#metrics {\"StartTime\": 1724320774.3963323, \"EndTime\": 1724320774.396342, \"Dimensions\": {\"Algorithm\": \"Linear Learner\", \"Host\": \"algo-1\", \"Operation\": \"training\", \"epoch\": 4, \"model\": 25}, \"Metrics\": {\"train_binary_classification_cross_entropy_objective\": {\"sum\": 0.513819011933213, \"count\": 1, \"min\": 0.513819011933213, \"max\": 0.513819011933213}}}\u001b[0m\n",
      "\u001b[34m#metrics {\"StartTime\": 1724320774.3964036, \"EndTime\": 1724320774.3964145, \"Dimensions\": {\"Algorithm\": \"Linear Learner\", \"Host\": \"algo-1\", \"Operation\": \"training\", \"epoch\": 4, \"model\": 26}, \"Metrics\": {\"train_binary_classification_cross_entropy_objective\": {\"sum\": 0.5137470555903351, \"count\": 1, \"min\": 0.5137470555903351, \"max\": 0.5137470555903351}}}\u001b[0m\n",
      "\u001b[34m#metrics {\"StartTime\": 1724320774.3964498, \"EndTime\": 1724320774.3964596, \"Dimensions\": {\"Algorithm\": \"Linear Learner\", \"Host\": \"algo-1\", \"Operation\": \"training\", \"epoch\": 4, \"model\": 27}, \"Metrics\": {\"train_binary_classification_cross_entropy_objective\": {\"sum\": 0.5138193652185096, \"count\": 1, \"min\": 0.5138193652185096, \"max\": 0.5138193652185096}}}\u001b[0m\n",
      "\u001b[34m#metrics {\"StartTime\": 1724320774.3964896, \"EndTime\": 1724320774.3964987, \"Dimensions\": {\"Algorithm\": \"Linear Learner\", \"Host\": \"algo-1\", \"Operation\": \"training\", \"epoch\": 4, \"model\": 28}, \"Metrics\": {\"train_binary_classification_cross_entropy_objective\": {\"sum\": 0.5137533990002553, \"count\": 1, \"min\": 0.5137533990002553, \"max\": 0.5137533990002553}}}\u001b[0m\n",
      "\u001b[34m#metrics {\"StartTime\": 1724320774.39653, \"EndTime\": 1724320774.3965392, \"Dimensions\": {\"Algorithm\": \"Linear Learner\", \"Host\": \"algo-1\", \"Operation\": \"training\", \"epoch\": 4, \"model\": 29}, \"Metrics\": {\"train_binary_classification_cross_entropy_objective\": {\"sum\": 0.514809539071646, \"count\": 1, \"min\": 0.514809539071646, \"max\": 0.514809539071646}}}\u001b[0m\n",
      "\u001b[34m#metrics {\"StartTime\": 1724320774.3965776, \"EndTime\": 1724320774.396588, \"Dimensions\": {\"Algorithm\": \"Linear Learner\", \"Host\": \"algo-1\", \"Operation\": \"training\", \"epoch\": 4, \"model\": 30}, \"Metrics\": {\"train_binary_classification_cross_entropy_objective\": {\"sum\": 0.513753426881376, \"count\": 1, \"min\": 0.513753426881376, \"max\": 0.513753426881376}}}\u001b[0m\n",
      "\u001b[34m#metrics {\"StartTime\": 1724320774.3966298, \"EndTime\": 1724320774.3966405, \"Dimensions\": {\"Algorithm\": \"Linear Learner\", \"Host\": \"algo-1\", \"Operation\": \"training\", \"epoch\": 4, \"model\": 31}, \"Metrics\": {\"train_binary_classification_cross_entropy_objective\": {\"sum\": 0.5148095380683922, \"count\": 1, \"min\": 0.5148095380683922, \"max\": 0.5148095380683922}}}\u001b[0m\n",
      "\u001b[34m[08/22/2024 09:59:34 INFO 140237033666368] #quality_metric: host=algo-1, epoch=4, train binary_classification_cross_entropy_objective <loss>=0.49199940593381175\u001b[0m\n",
      "\u001b[34m[2024-08-22 09:59:36.821] [tensorio] [info] epoch_stats={\"data_pipeline\": \"/opt/ml/input/data/validation\", \"epoch\": 14, \"duration\": 2411, \"num_examples\": 164, \"num_bytes\": 73928668}\u001b[0m\n",
      "\u001b[34m#metrics {\"StartTime\": 1724320776.8255892, \"EndTime\": 1724320776.825636, \"Dimensions\": {\"Algorithm\": \"Linear Learner\", \"Host\": \"algo-1\", \"Operation\": \"training\", \"epoch\": 4, \"model\": 0}, \"Metrics\": {\"validation_binary_classification_cross_entropy_objective\": {\"sum\": 0.491967384371451, \"count\": 1, \"min\": 0.491967384371451, \"max\": 0.491967384371451}}}\u001b[0m\n",
      "\u001b[34m#metrics {\"StartTime\": 1724320776.8256998, \"EndTime\": 1724320776.825711, \"Dimensions\": {\"Algorithm\": \"Linear Learner\", \"Host\": \"algo-1\", \"Operation\": \"training\", \"epoch\": 4, \"model\": 1}, \"Metrics\": {\"validation_binary_classification_cross_entropy_objective\": {\"sum\": 0.49258765831234114, \"count\": 1, \"min\": 0.49258765831234114, \"max\": 0.49258765831234114}}}\u001b[0m\n",
      "\u001b[34m#metrics {\"StartTime\": 1724320776.8257525, \"EndTime\": 1724320776.8257625, \"Dimensions\": {\"Algorithm\": \"Linear Learner\", \"Host\": \"algo-1\", \"Operation\": \"training\", \"epoch\": 4, \"model\": 2}, \"Metrics\": {\"validation_binary_classification_cross_entropy_objective\": {\"sum\": 0.4919680206246771, \"count\": 1, \"min\": 0.4919680206246771, \"max\": 0.4919680206246771}}}\u001b[0m\n",
      "\u001b[34m#metrics {\"StartTime\": 1724320776.825798, \"EndTime\": 1724320776.8258085, \"Dimensions\": {\"Algorithm\": \"Linear Learner\", \"Host\": \"algo-1\", \"Operation\": \"training\", \"epoch\": 4, \"model\": 3}, \"Metrics\": {\"validation_binary_classification_cross_entropy_objective\": {\"sum\": 0.4925874924386995, \"count\": 1, \"min\": 0.4925874924386995, \"max\": 0.4925874924386995}}}\u001b[0m\n",
      "\u001b[34m#metrics {\"StartTime\": 1724320776.825846, \"EndTime\": 1724320776.825855, \"Dimensions\": {\"Algorithm\": \"Linear Learner\", \"Host\": \"algo-1\", \"Operation\": \"training\", \"epoch\": 4, \"model\": 4}, \"Metrics\": {\"validation_binary_classification_cross_entropy_objective\": {\"sum\": 0.49197491716184505, \"count\": 1, \"min\": 0.49197491716184505, \"max\": 0.49197491716184505}}}\u001b[0m\n",
      "\u001b[34m#metrics {\"StartTime\": 1724320776.825891, \"EndTime\": 1724320776.8258996, \"Dimensions\": {\"Algorithm\": \"Linear Learner\", \"Host\": \"algo-1\", \"Operation\": \"training\", \"epoch\": 4, \"model\": 5}, \"Metrics\": {\"validation_binary_classification_cross_entropy_objective\": {\"sum\": 0.5069599042575997, \"count\": 1, \"min\": 0.5069599042575997, \"max\": 0.5069599042575997}}}\u001b[0m\n",
      "\u001b[34m#metrics {\"StartTime\": 1724320776.825936, \"EndTime\": 1724320776.825946, \"Dimensions\": {\"Algorithm\": \"Linear Learner\", \"Host\": \"algo-1\", \"Operation\": \"training\", \"epoch\": 4, \"model\": 6}, \"Metrics\": {\"validation_binary_classification_cross_entropy_objective\": {\"sum\": 0.4919749513068129, \"count\": 1, \"min\": 0.4919749513068129, \"max\": 0.4919749513068129}}}\u001b[0m\n",
      "\u001b[34m#metrics {\"StartTime\": 1724320776.825984, \"EndTime\": 1724320776.825995, \"Dimensions\": {\"Algorithm\": \"Linear Learner\", \"Host\": \"algo-1\", \"Operation\": \"training\", \"epoch\": 4, \"model\": 7}, \"Metrics\": {\"validation_binary_classification_cross_entropy_objective\": {\"sum\": 0.5069598508944259, \"count\": 1, \"min\": 0.5069598508944259, \"max\": 0.5069598508944259}}}\u001b[0m\n",
      "\u001b[34m#metrics {\"StartTime\": 1724320776.826032, \"EndTime\": 1724320776.8260427, \"Dimensions\": {\"Algorithm\": \"Linear Learner\", \"Host\": \"algo-1\", \"Operation\": \"training\", \"epoch\": 4, \"model\": 8}, \"Metrics\": {\"validation_binary_classification_cross_entropy_objective\": {\"sum\": 0.49207076619146467, \"count\": 1, \"min\": 0.49207076619146467, \"max\": 0.49207076619146467}}}\u001b[0m\n",
      "\u001b[34m#metrics {\"StartTime\": 1724320776.826074, \"EndTime\": 1724320776.826084, \"Dimensions\": {\"Algorithm\": \"Linear Learner\", \"Host\": \"algo-1\", \"Operation\": \"training\", \"epoch\": 4, \"model\": 9}, \"Metrics\": {\"validation_binary_classification_cross_entropy_objective\": {\"sum\": 0.4927630886267054, \"count\": 1, \"min\": 0.4927630886267054, \"max\": 0.4927630886267054}}}\u001b[0m\n",
      "\u001b[34m#metrics {\"StartTime\": 1724320776.826117, \"EndTime\": 1724320776.8261266, \"Dimensions\": {\"Algorithm\": \"Linear Learner\", \"Host\": \"algo-1\", \"Operation\": \"training\", \"epoch\": 4, \"model\": 10}, \"Metrics\": {\"validation_binary_classification_cross_entropy_objective\": {\"sum\": 0.4920693278113708, \"count\": 1, \"min\": 0.4920693278113708, \"max\": 0.4920693278113708}}}\u001b[0m\n",
      "\u001b[34m#metrics {\"StartTime\": 1724320776.8261473, \"EndTime\": 1724320776.826153, \"Dimensions\": {\"Algorithm\": \"Linear Learner\", \"Host\": \"algo-1\", \"Operation\": \"training\", \"epoch\": 4, \"model\": 11}, \"Metrics\": {\"validation_binary_classification_cross_entropy_objective\": {\"sum\": 0.49276308881328995, \"count\": 1, \"min\": 0.49276308881328995, \"max\": 0.49276308881328995}}}\u001b[0m\n",
      "\u001b[34m#metrics {\"StartTime\": 1724320776.8261743, \"EndTime\": 1724320776.8261814, \"Dimensions\": {\"Algorithm\": \"Linear Learner\", \"Host\": \"algo-1\", \"Operation\": \"training\", \"epoch\": 4, \"model\": 12}, \"Metrics\": {\"validation_binary_classification_cross_entropy_objective\": {\"sum\": 0.49207445795285215, \"count\": 1, \"min\": 0.49207445795285215, \"max\": 0.49207445795285215}}}\u001b[0m\n",
      "\u001b[34m#metrics {\"StartTime\": 1724320776.8261995, \"EndTime\": 1724320776.826205, \"Dimensions\": {\"Algorithm\": \"Linear Learner\", \"Host\": \"algo-1\", \"Operation\": \"training\", \"epoch\": 4, \"model\": 13}, \"Metrics\": {\"validation_binary_classification_cross_entropy_objective\": {\"sum\": 0.5067669814575465, \"count\": 1, \"min\": 0.5067669814575465, \"max\": 0.5067669814575465}}}\u001b[0m\n",
      "\u001b[34m#metrics {\"StartTime\": 1724320776.8262308, \"EndTime\": 1724320776.8262386, \"Dimensions\": {\"Algorithm\": \"Linear Learner\", \"Host\": \"algo-1\", \"Operation\": \"training\", \"epoch\": 4, \"model\": 14}, \"Metrics\": {\"validation_binary_classification_cross_entropy_objective\": {\"sum\": 0.49207445925894383, \"count\": 1, \"min\": 0.49207445925894383, \"max\": 0.49207445925894383}}}\u001b[0m\n",
      "\u001b[34m#metrics {\"StartTime\": 1724320776.8262644, \"EndTime\": 1724320776.8262725, \"Dimensions\": {\"Algorithm\": \"Linear Learner\", \"Host\": \"algo-1\", \"Operation\": \"training\", \"epoch\": 4, \"model\": 15}, \"Metrics\": {\"validation_binary_classification_cross_entropy_objective\": {\"sum\": 0.5067669851892369, \"count\": 1, \"min\": 0.5067669851892369, \"max\": 0.5067669851892369}}}\u001b[0m\n",
      "\u001b[34m#metrics {\"StartTime\": 1724320776.8263044, \"EndTime\": 1724320776.8263144, \"Dimensions\": {\"Algorithm\": \"Linear Learner\", \"Host\": \"algo-1\", \"Operation\": \"training\", \"epoch\": 4, \"model\": 16}, \"Metrics\": {\"validation_binary_classification_cross_entropy_objective\": {\"sum\": 0.5074343431749495, \"count\": 1, \"min\": 0.5074343431749495, \"max\": 0.5074343431749495}}}\u001b[0m\n",
      "\u001b[34m#metrics {\"StartTime\": 1724320776.8263462, \"EndTime\": 1724320776.8263557, \"Dimensions\": {\"Algorithm\": \"Linear Learner\", \"Host\": \"algo-1\", \"Operation\": \"training\", \"epoch\": 4, \"model\": 17}, \"Metrics\": {\"validation_binary_classification_cross_entropy_objective\": {\"sum\": 0.5081042133346902, \"count\": 1, \"min\": 0.5081042133346902, \"max\": 0.5081042133346902}}}\u001b[0m\n",
      "\u001b[34m#metrics {\"StartTime\": 1724320776.8263876, \"EndTime\": 1724320776.826398, \"Dimensions\": {\"Algorithm\": \"Linear Learner\", \"Host\": \"algo-1\", \"Operation\": \"training\", \"epoch\": 4, \"model\": 18}, \"Metrics\": {\"validation_binary_classification_cross_entropy_objective\": {\"sum\": 0.5074779446196356, \"count\": 1, \"min\": 0.5074779446196356, \"max\": 0.5074779446196356}}}\u001b[0m\n",
      "\u001b[34m#metrics {\"StartTime\": 1724320776.8264241, \"EndTime\": 1724320776.826434, \"Dimensions\": {\"Algorithm\": \"Linear Learner\", \"Host\": \"algo-1\", \"Operation\": \"training\", \"epoch\": 4, \"model\": 19}, \"Metrics\": {\"validation_binary_classification_cross_entropy_objective\": {\"sum\": 0.5081042297541283, \"count\": 1, \"min\": 0.5081042297541283, \"max\": 0.5081042297541283}}}\u001b[0m\n",
      "\u001b[34m#metrics {\"StartTime\": 1724320776.82646, \"EndTime\": 1724320776.8264687, \"Dimensions\": {\"Algorithm\": \"Linear Learner\", \"Host\": \"algo-1\", \"Operation\": \"training\", \"epoch\": 4, \"model\": 20}, \"Metrics\": {\"validation_binary_classification_cross_entropy_objective\": {\"sum\": 0.5075065676185061, \"count\": 1, \"min\": 0.5075065676185061, \"max\": 0.5075065676185061}}}\u001b[0m\n",
      "\u001b[34m#metrics {\"StartTime\": 1724320776.8265107, \"EndTime\": 1724320776.82652, \"Dimensions\": {\"Algorithm\": \"Linear Learner\", \"Host\": \"algo-1\", \"Operation\": \"training\", \"epoch\": 4, \"model\": 21}, \"Metrics\": {\"validation_binary_classification_cross_entropy_objective\": {\"sum\": 0.5087288660411844, \"count\": 1, \"min\": 0.5087288660411844, \"max\": 0.5087288660411844}}}\u001b[0m\n",
      "\u001b[34m#metrics {\"StartTime\": 1724320776.8265522, \"EndTime\": 1724320776.8265622, \"Dimensions\": {\"Algorithm\": \"Linear Learner\", \"Host\": \"algo-1\", \"Operation\": \"training\", \"epoch\": 4, \"model\": 22}, \"Metrics\": {\"validation_binary_classification_cross_entropy_objective\": {\"sum\": 0.5075065694843514, \"count\": 1, \"min\": 0.5075065694843514, \"max\": 0.5075065694843514}}}\u001b[0m\n",
      "\u001b[34m#metrics {\"StartTime\": 1724320776.826589, \"EndTime\": 1724320776.826599, \"Dimensions\": {\"Algorithm\": \"Linear Learner\", \"Host\": \"algo-1\", \"Operation\": \"training\", \"epoch\": 4, \"model\": 23}, \"Metrics\": {\"validation_binary_classification_cross_entropy_objective\": {\"sum\": 0.5087288522339296, \"count\": 1, \"min\": 0.5087288522339296, \"max\": 0.5087288522339296}}}\u001b[0m\n",
      "\u001b[34m#metrics {\"StartTime\": 1724320776.8266258, \"EndTime\": 1724320776.8266356, \"Dimensions\": {\"Algorithm\": \"Linear Learner\", \"Host\": \"algo-1\", \"Operation\": \"training\", \"epoch\": 4, \"model\": 24}, \"Metrics\": {\"validation_binary_classification_cross_entropy_objective\": {\"sum\": 0.5137600856323851, \"count\": 1, \"min\": 0.5137600856323851, \"max\": 0.5137600856323851}}}\u001b[0m\n",
      "\u001b[34m#metrics {\"StartTime\": 1724320776.8266668, \"EndTime\": 1724320776.8266757, \"Dimensions\": {\"Algorithm\": \"Linear Learner\", \"Host\": \"algo-1\", \"Operation\": \"training\", \"epoch\": 4, \"model\": 25}, \"Metrics\": {\"validation_binary_classification_cross_entropy_objective\": {\"sum\": 0.5137820098736828, \"count\": 1, \"min\": 0.5137820098736828, \"max\": 0.5137820098736828}}}\u001b[0m\n",
      "\u001b[34m#metrics {\"StartTime\": 1724320776.8267045, \"EndTime\": 1724320776.8267136, \"Dimensions\": {\"Algorithm\": \"Linear Learner\", \"Host\": \"algo-1\", \"Operation\": \"training\", \"epoch\": 4, \"model\": 26}, \"Metrics\": {\"validation_binary_classification_cross_entropy_objective\": {\"sum\": 0.513767146737103, \"count\": 1, \"min\": 0.513767146737103, \"max\": 0.513767146737103}}}\u001b[0m\n",
      "\u001b[34m#metrics {\"StartTime\": 1724320776.8267412, \"EndTime\": 1724320776.8267484, \"Dimensions\": {\"Algorithm\": \"Linear Learner\", \"Host\": \"algo-1\", \"Operation\": \"training\", \"epoch\": 4, \"model\": 27}, \"Metrics\": {\"validation_binary_classification_cross_entropy_objective\": {\"sum\": 0.5137900080058792, \"count\": 1, \"min\": 0.5137900080058792, \"max\": 0.5137900080058792}}}\u001b[0m\n",
      "\u001b[34m#metrics {\"StartTime\": 1724320776.8267803, \"EndTime\": 1724320776.8267899, \"Dimensions\": {\"Algorithm\": \"Linear Learner\", \"Host\": \"algo-1\", \"Operation\": \"training\", \"epoch\": 4, \"model\": 28}, \"Metrics\": {\"validation_binary_classification_cross_entropy_objective\": {\"sum\": 0.5137667284146007, \"count\": 1, \"min\": 0.5137667284146007, \"max\": 0.5137667284146007}}}\u001b[0m\n",
      "\u001b[34m#metrics {\"StartTime\": 1724320776.8268132, \"EndTime\": 1724320776.8268218, \"Dimensions\": {\"Algorithm\": \"Linear Learner\", \"Host\": \"algo-1\", \"Operation\": \"training\", \"epoch\": 4, \"model\": 29}, \"Metrics\": {\"validation_binary_classification_cross_entropy_objective\": {\"sum\": 0.513594731628643, \"count\": 1, \"min\": 0.513594731628643, \"max\": 0.513594731628643}}}\u001b[0m\n",
      "\u001b[34m#metrics {\"StartTime\": 1724320776.8268542, \"EndTime\": 1724320776.826861, \"Dimensions\": {\"Algorithm\": \"Linear Learner\", \"Host\": \"algo-1\", \"Operation\": \"training\", \"epoch\": 4, \"model\": 30}, \"Metrics\": {\"validation_binary_classification_cross_entropy_objective\": {\"sum\": 0.5137662210912806, \"count\": 1, \"min\": 0.5137662210912806, \"max\": 0.5137662210912806}}}\u001b[0m\n",
      "\u001b[34m#metrics {\"StartTime\": 1724320776.8268955, \"EndTime\": 1724320776.826905, \"Dimensions\": {\"Algorithm\": \"Linear Learner\", \"Host\": \"algo-1\", \"Operation\": \"training\", \"epoch\": 4, \"model\": 31}, \"Metrics\": {\"validation_binary_classification_cross_entropy_objective\": {\"sum\": 0.5135947331213192, \"count\": 1, \"min\": 0.5135947331213192, \"max\": 0.5135947331213192}}}\u001b[0m\n",
      "\u001b[34m[08/22/2024 09:59:36 INFO 140237033666368] #quality_metric: host=algo-1, epoch=4, validation binary_classification_cross_entropy_objective <loss>=0.491967384371451\u001b[0m\n",
      "\u001b[34m[08/22/2024 09:59:36 INFO 140237033666368] #early_stopping_criteria_metric: host=algo-1, epoch=4, criteria=binary_classification_cross_entropy_objective, value=0.491967384371451\u001b[0m\n",
      "\u001b[34m[08/22/2024 09:59:36 INFO 140237033666368] Saving model for epoch: 4\u001b[0m\n",
      "\u001b[34m[08/22/2024 09:59:36 INFO 140237033666368] Saved checkpoint to \"/tmp/tmp3j2o6oq6/mx-mod-0000.params\"\u001b[0m\n",
      "\u001b[34m[08/22/2024 09:59:36 INFO 140237033666368] Early stop condition met. Stopping training.\u001b[0m\n",
      "\u001b[34m[08/22/2024 09:59:36 INFO 140237033666368] #progress_metric: host=algo-1, completed 100 % epochs\u001b[0m\n",
      "\u001b[34m#metrics {\"StartTime\": 1724320746.6122804, \"EndTime\": 1724320776.8317897, \"Dimensions\": {\"Algorithm\": \"Linear Learner\", \"Host\": \"algo-1\", \"Operation\": \"training\", \"epoch\": 4, \"Meta\": \"training_data_iter\"}, \"Metrics\": {\"Total Records Seen\": {\"sum\": 6554360.0, \"count\": 1, \"min\": 6554360, \"max\": 6554360}, \"Total Batches Seen\": {\"sum\": 6557.0, \"count\": 1, \"min\": 6557, \"max\": 6557}, \"Max Records Seen Between Resets\": {\"sum\": 1308472.0, \"count\": 1, \"min\": 1308472, \"max\": 1308472}, \"Max Batches Seen Between Resets\": {\"sum\": 1309.0, \"count\": 1, \"min\": 1309, \"max\": 1309}, \"Reset Count\": {\"sum\": 7.0, \"count\": 1, \"min\": 7, \"max\": 7}, \"Number of Records Since Last Reset\": {\"sum\": 1308472.0, \"count\": 1, \"min\": 1308472, \"max\": 1308472}, \"Number of Batches Since Last Reset\": {\"sum\": 1309.0, \"count\": 1, \"min\": 1309, \"max\": 1309}}}\u001b[0m\n",
      "\u001b[34m[08/22/2024 09:59:36 INFO 140237033666368] #throughput_metric: host=algo-1, train throughput=43298.76372625838 records/second\u001b[0m\n",
      "\u001b[34m[08/22/2024 09:59:36 WARNING 140237033666368] wait_for_all_workers will not sync workers since the kv store is not running distributed\u001b[0m\n",
      "\u001b[34m[08/22/2024 09:59:36 WARNING 140237033666368] wait_for_all_workers will not sync workers since the kv store is not running distributed\u001b[0m\n",
      "\u001b[34m[2024-08-22 09:59:39.305] [tensorio] [info] epoch_stats={\"data_pipeline\": \"/opt/ml/input/data/validation\", \"epoch\": 17, \"duration\": 2462, \"num_examples\": 164, \"num_bytes\": 73928668}\u001b[0m\n",
      "\u001b[34m[08/22/2024 09:59:39 INFO 140237033666368] #early_stopping_criteria_metric: host=algo-1, epoch=4, criteria=binary_classification_cross_entropy_objective, value=0.491967384371451\u001b[0m\n",
      "\u001b[34m[2024-08-22 09:59:39.734] [tensorio] [info] epoch_stats={\"data_pipeline\": \"/opt/ml/input/data/validation\", \"epoch\": 19, \"duration\": 421, \"num_examples\": 164, \"num_bytes\": 73928668}\u001b[0m\n",
      "\u001b[34m[08/22/2024 09:59:39 INFO 140237033666368] #validation_score (algo-1) : ('binary_classification_cross_entropy_objective', 0.49232697752906157)\u001b[0m\n",
      "\u001b[34m[08/22/2024 09:59:39 INFO 140237033666368] #validation_score (algo-1) : ('binary_classification_accuracy', 0.7901796905092352)\u001b[0m\n",
      "\u001b[34m[08/22/2024 09:59:39 INFO 140237033666368] #validation_score (algo-1) : ('binary_f_1.000', 0.004236304549675023)\u001b[0m\n",
      "\u001b[34m[08/22/2024 09:59:39 INFO 140237033666368] #validation_score (algo-1) : ('precision', 0.5572519083969466)\u001b[0m\n",
      "\u001b[34m[08/22/2024 09:59:39 INFO 140237033666368] #validation_score (algo-1) : ('recall', 0.002126234235283838)\u001b[0m\n",
      "\u001b[34m[08/22/2024 09:59:39 INFO 140237033666368] #validation_score (algo-1) : ('roc_auc_score', 0.6443010624908887)\u001b[0m\n",
      "\u001b[34m[08/22/2024 09:59:39 INFO 140237033666368] #validation_score (algo-1) : ('binary_balanced_accuracy', 0.5)\u001b[0m\n",
      "\u001b[34m[08/22/2024 09:59:39 INFO 140237033666368] #validation_score (algo-1) : ('binary_log_loss', 0.7513274605401813)\u001b[0m\n",
      "\u001b[34m[08/22/2024 09:59:39 INFO 140237033666368] #quality_metric: host=algo-1, validation binary_classification_cross_entropy_objective <loss>=0.49232697752906157\u001b[0m\n",
      "\u001b[34m[08/22/2024 09:59:39 INFO 140237033666368] #quality_metric: host=algo-1, validation binary_classification_accuracy <score>=0.7901796905092352\u001b[0m\n",
      "\u001b[34m[08/22/2024 09:59:39 INFO 140237033666368] #quality_metric: host=algo-1, validation binary_f_1.000 <score>=0.004236304549675023\u001b[0m\n",
      "\u001b[34m[08/22/2024 09:59:39 INFO 140237033666368] #quality_metric: host=algo-1, validation precision <score>=0.5572519083969466\u001b[0m\n",
      "\u001b[34m[08/22/2024 09:59:39 INFO 140237033666368] #quality_metric: host=algo-1, validation recall <score>=0.002126234235283838\u001b[0m\n",
      "\u001b[34m[08/22/2024 09:59:39 INFO 140237033666368] #quality_metric: host=algo-1, validation roc_auc_score <score>=0.6443010624908887\u001b[0m\n",
      "\u001b[34m[08/22/2024 09:59:39 INFO 140237033666368] #quality_metric: host=algo-1, validation binary_balanced_accuracy <score>=0.5\u001b[0m\n",
      "\u001b[34m[08/22/2024 09:59:39 INFO 140237033666368] #quality_metric: host=algo-1, validation binary_log_loss <score>=0.7513274605401813\u001b[0m\n",
      "\u001b[34m[08/22/2024 09:59:39 INFO 140237033666368] Best model found for hyperparameters: {\"optimizer\": \"adam\", \"learning_rate\": 0.005, \"l1\": 0.0, \"wd\": 0.0001, \"lr_scheduler_step\": 10, \"lr_scheduler_factor\": 0.99, \"lr_scheduler_minimum_lr\": 1e-05}\u001b[0m\n",
      "\u001b[34m[08/22/2024 09:59:39 INFO 140237033666368] Saved checkpoint to \"/tmp/tmp50uafb5w/mx-mod-0000.params\"\u001b[0m\n",
      "\u001b[34m[08/22/2024 09:59:39 INFO 140237033666368] Test data is not provided.\u001b[0m\n",
      "\u001b[34m#metrics {\"StartTime\": 1724320625.9904804, \"EndTime\": 1724320779.9580896, \"Dimensions\": {\"Algorithm\": \"Linear Learner\", \"Host\": \"algo-1\", \"Operation\": \"training\"}, \"Metrics\": {\"initialize.time\": {\"sum\": 245.14460563659668, \"count\": 1, \"min\": 245.14460563659668, \"max\": 245.14460563659668}, \"epochs\": {\"sum\": 15.0, \"count\": 1, \"min\": 15, \"max\": 15}, \"check_early_stopping.time\": {\"sum\": 1.561880111694336, \"count\": 6, \"min\": 0.17213821411132812, \"max\": 0.6077289581298828}, \"update.time\": {\"sum\": 150560.84895133972, \"count\": 5, \"min\": 29531.18133544922, \"max\": 30779.93941307068}, \"finalize.time\": {\"sum\": 3121.176242828369, \"count\": 1, \"min\": 3121.176242828369, \"max\": 3121.176242828369}, \"setuptime\": {\"sum\": 1.9807815551757812, \"count\": 1, \"min\": 1.9807815551757812, \"max\": 1.9807815551757812}, \"totaltime\": {\"sum\": 154070.46246528625, \"count\": 1, \"min\": 154070.46246528625, \"max\": 154070.46246528625}}}\u001b[0m\n",
      "\n",
      "2024-08-22 09:59:56 Completed - Training job completed\n",
      "Training seconds: 305\n",
      "Billable seconds: 305\n"
     ]
    }
   ],
   "source": [
    "### Fit the classifier\n",
    "classifier_estimator.fit([train_records, val_records])"
   ]
  },
  {
   "cell_type": "markdown",
   "metadata": {},
   "source": [
    "## Model evaluation\n",
    "In this section, you'll evaluate your trained model. First, use the `estimator.deploy` function with `initial_instance_count= 1` and `instance_type= 'ml.m4.xlarge'` to deploy your model on Amazon SageMaker."
   ]
  },
  {
   "cell_type": "code",
   "execution_count": 45,
   "metadata": {
    "tags": []
   },
   "outputs": [
    {
     "name": "stderr",
     "output_type": "stream",
     "text": [
      "INFO:sagemaker.image_uris:Same images used for training and inference. Defaulting to image scope: inference.\n",
      "INFO:sagemaker.image_uris:Ignoring unnecessary instance type: None.\n",
      "INFO:sagemaker:Creating model with name: linear-learner-2024-08-22-10-00-26-545\n",
      "INFO:sagemaker:Creating endpoint-config with name linear-learner-2024-08-22-10-00-26-545\n",
      "INFO:sagemaker:Creating endpoint with name linear-learner-2024-08-22-10-00-26-545\n"
     ]
    },
    {
     "name": "stdout",
     "output_type": "stream",
     "text": [
      "----------------------!"
     ]
    }
   ],
   "source": [
    "### Deloy an endpoint for batch prediction\n",
    "classifier_predictor = classifier_estimator.deploy(initial_instance_count=1, instance_type='ml.m4.xlarge')"
   ]
  },
  {
   "cell_type": "markdown",
   "metadata": {},
   "source": [
    "Once your endpoint is 'InService', evaluate how your model performs on the test set. Use the `predict_batches` function to predict the metrics on your test set."
   ]
  },
  {
   "cell_type": "code",
   "execution_count": 46,
   "metadata": {
    "tags": []
   },
   "outputs": [],
   "source": [
    "from sklearn.metrics import roc_auc_score\n",
    "from sklearn.metrics import precision_recall_fscore_support\n",
    "\n",
    "def predict_batches(predictor, features, labels):\n",
    "    \"\"\"\n",
    "    Return evaluation results\n",
    "    predictor : Predictor object of model\n",
    "    features: Input features to model\n",
    "    label: Ground truth target values\n",
    "    \"\"\"\n",
    "    prediction_batches = [predictor.predict(batch) for batch in np.array_split(features, 100)]\n",
    "\n",
    "    # Parse protobuf responses to extract predicted labels\n",
    "    extract_label = lambda x: x.label['predicted_label'].float32_tensor.values\n",
    "    preds = np.concatenate([np.array([extract_label(x) for x in batch]) for batch in prediction_batches])\n",
    "    preds = preds.reshape((-1,))\n",
    "    \n",
    "    # Parse protobuf responses to extract predicted score\n",
    "    extract_score = lambda x: x.label['score'].float32_tensor.values\n",
    "    score = np.concatenate([np.array([extract_score(x) for x in batch]) for batch in prediction_batches])\n",
    "    score = score.reshape((-1,))\n",
    "\n",
    "    # Calculate accuracy\n",
    "    accuracy = (preds == labels).sum() / labels.shape[0]\n",
    "    print(f'Accuracy: {accuracy}')\n",
    "    \n",
    "    auc = roc_auc_score(labels, score)\n",
    "    print(f'AUC     : {auc}')\n",
    "    \n",
    "    precision, recall, f1_score, _ = precision_recall_fscore_support(labels, preds, average = 'binary')\n",
    "    print(f'Precision: {precision}')\n",
    "    print(f'Recall: {recall}')\n",
    "    print(f'F1_score: {f1_score}')\n",
    "    \n",
    "    confusion_matrix = pd.crosstab(index=labels, columns=np.round(preds), rownames=['True'], colnames=['predictions']).astype(int)\n",
    "    plt.figure(figsize = (5,5))\n",
    "    sns.heatmap(confusion_matrix, annot=True, fmt='.2f', cmap=\"YlGnBu\").set_title('Confusion Matrix') "
   ]
  },
  {
   "cell_type": "markdown",
   "metadata": {},
   "source": [
    "To view the confusion matrix, run the `predict_batches` function on your test dataset."
   ]
  },
  {
   "cell_type": "code",
   "execution_count": 47,
   "metadata": {
    "tags": []
   },
   "outputs": [
    {
     "name": "stdout",
     "output_type": "stream",
     "text": [
      "Accuracy: 0.7901980325142609\n",
      "AUC     : 0.645398152932772\n",
      "Precision: 0.5692307692307692\n",
      "Recall: 0.002155360731657589\n",
      "F1_score: 0.004294460725995996\n"
     ]
    },
    {
     "data": {
      "image/png": "[encoded data removed]",
      "text/plain": [
       "<Figure size 500x500 with 2 Axes>"
      ]
     },
     "metadata": {},
     "output_type": "display_data"
    }
   ],
   "source": [
    "predict_batches(classifier_predictor, test_features, test_labels)"
   ]
  },
  {
   "cell_type": "markdown",
   "metadata": {},
   "source": [
    "### Key questions to consider:\n",
    "1. How does your model's performance on the test set compare to the training set? What can you deduce from this comparison? \n",
    "\n",
    "2. Are there obvious differences between the outcomes of metrics like accuracy, precision, and recall? If so, why might you be seeing those differences? \n",
    "\n",
    "3. Given your business situation and goals, which metric(s) is most important for you to consider here? Why?\n",
    "\n",
    "4. Is the outcome for the metric(s) you consider most important sufficient for what you need from a business standpoint? If not, what are some things you might change in your next iteration (in the feature engineering section, which is coming up next)? \n",
    "\n",
    "Use the cells below to answer these and other questions. Insert and delete cells where needed.\n",
    "\n",
    "#### <span style=\"color: blue;\">Project presentation: Record answers to these and other similar questions you might answer in this section in your project presentations. Record key details and decisions you've made in your project presentations.</span>"
   ]
  },
  {
   "cell_type": "markdown",
   "metadata": {},
   "source": [
    "\n",
    "**Question**: What can you summarize from the confusion matrix?\n"
   ]
  },
  {
   "cell_type": "code",
   "execution_count": null,
   "metadata": {},
   "outputs": [],
   "source": [
    "# Enter your answer here"
   ]
  },
  {
   "cell_type": "markdown",
   "metadata": {},
   "source": [
    "## <span style=\"color:red\"> End of Lab 3 </span>\n",
    "\n",
    "Save the project file to your local computer. Follow these steps:\n",
    "\n",
    "1. At the top of the page, click the **File** menu. \n",
    "\n",
    "1. Select **Download as**, and click **Notebook(.ipynb)**.  \n",
    "\n",
    "This downloads the current notebook to the default download folder on your computer."
   ]
  },
  {
   "cell_type": "markdown",
   "metadata": {},
   "source": [
    "# Iteration II"
   ]
  },
  {
   "cell_type": "markdown",
   "metadata": {},
   "source": [
    "# Step 4: Feature engineering\n",
    "\n",
    "You've now gone through one iteration of training and evaluating your model. Given that the outcome you reached for your model the first time probably wasn't sufficient for solving your business problem, what are some things you could change about your data to possibly improve model performance?\n",
    "\n",
    "### Key questions to consider:\n",
    "1. How might the balance of your two main classes (delay and no delay) impact model performance?\n",
    "2. Do you have any features that are correlated?\n",
    "3. Are there feature reduction techniques you could perform at this stage that might have a positive impact on model performance? \n",
    "4. Can you think of adding some more data/datasets?\n",
    "4. After performing some feature engineering, how does your model performance compare to the first iteration?\n",
    "\n",
    "Use the cells below to perform specific feature engineering techniques (per the questions above) that you think could improve your model performance. Insert and delete cells where needed.\n",
    "\n",
    "#### <span style=\"color: blue;\">Project presentation: Record key decisions and methods you use in this section in your project presentations, as well as any new performance metrics you obtain after evaluating your model again.</span>\n",
    "\n",
    "Before you start, think about why the precision and recall are around 80% while the accuracy is 99%."
   ]
  },
  {
   "cell_type": "markdown",
   "metadata": {},
   "source": [
    "#### Add more features\n",
    "\n",
    "1. Holidays\n",
    "2. Weather"
   ]
  },
  {
   "cell_type": "markdown",
   "metadata": {},
   "source": [
    "Because the list of holidays from 2014 to 2018 is known, you can create an indicator variable **is_holiday** to mark these.\n",
    "The hypothesis is that airplane delays could be higher during holidays compared to the rest of the days. Add a boolean variable `is_holiday` that includes the holidays for the years 2014-2018."
   ]
  },
  {
   "cell_type": "code",
   "execution_count": 48,
   "metadata": {
    "tags": []
   },
   "outputs": [
    {
     "data": {
      "text/plain": [
       "['2014-01-01',\n",
       " '2014-01-20',\n",
       " '2014-02-17',\n",
       " '2014-05-26',\n",
       " '2014-07-04',\n",
       " '2014-09-01',\n",
       " '2014-10-13',\n",
       " '2014-11-11',\n",
       " '2014-11-27',\n",
       " '2014-12-25',\n",
       " '2015-01-01',\n",
       " '2015-01-19',\n",
       " '2015-02-16',\n",
       " '2015-05-25',\n",
       " '2015-06-03',\n",
       " '2015-07-04',\n",
       " '2015-09-07',\n",
       " '2015-10-12',\n",
       " '2015-11-11',\n",
       " '2015-11-26',\n",
       " '2015-12-25',\n",
       " '2016-01-01',\n",
       " '2016-01-18',\n",
       " '2016-02-15',\n",
       " '2016-05-30',\n",
       " '2016-07-04',\n",
       " '2016-09-05',\n",
       " '2016-10-10',\n",
       " '2016-11-11',\n",
       " '2016-11-24',\n",
       " '2016-12-25',\n",
       " '2016-12-26',\n",
       " '2017-01-02',\n",
       " '2017-01-16',\n",
       " '2017-02-20',\n",
       " '2017-05-29',\n",
       " '2017-07-04',\n",
       " '2017-09-04',\n",
       " '2017-10-09',\n",
       " '2017-11-10',\n",
       " '2017-11-23',\n",
       " '2017-12-25',\n",
       " '2018-01-01',\n",
       " '2018-01-15',\n",
       " '2018-02-19',\n",
       " '2018-05-28',\n",
       " '2018-07-04',\n",
       " '2018-09-03',\n",
       " '2018-10-08',\n",
       " '2018-11-12',\n",
       " '2018-11-22',\n",
       " '2018-12-25']"
      ]
     },
     "execution_count": 48,
     "metadata": {},
     "output_type": "execute_result"
    }
   ],
   "source": [
    "# Source: http://www.calendarpedia.com/holidays/federal-holidays-2014.html\n",
    "\n",
    "holidays_14 = ['2014-01-01',  '2014-01-20', '2014-02-17', '2014-05-26', '2014-07-04', '2014-09-01', '2014-10-13', '2014-11-11', '2014-11-27', '2014-12-25' ] \n",
    "holidays_15 = ['2015-01-01',  '2015-01-19', '2015-02-16', '2015-05-25', '2015-06-03', '2015-07-04', '2015-09-07', '2015-10-12', '2015-11-11', '2015-11-26', '2015-12-25'] \n",
    "holidays_16 = ['2016-01-01',  '2016-01-18', '2016-02-15', '2016-05-30', '2016-07-04', '2016-09-05', '2016-10-10', '2016-11-11', '2016-11-24', '2016-12-25', '2016-12-26']\n",
    "holidays_17 = ['2017-01-02', '2017-01-16', '2017-02-20', '2017-05-29' , '2017-07-04', '2017-09-04' ,'2017-10-09', '2017-11-10', '2017-11-23', '2017-12-25']\n",
    "holidays_18 = ['2018-01-01', '2018-01-15', '2018-02-19', '2018-05-28' , '2018-07-04', '2018-09-03' ,'2018-10-08', '2018-11-12','2018-11-22', '2018-12-25']\n",
    "# holidays_19 = ['2019-01-01', '2019-01-21', '2019-02-18', '2019-05-27' , '2019-07-04', '2019-09-02' ,'2019-10-14', '2019-11-11','2019-11-28', '2019-12-25']\n",
    "holidays = holidays_14+ holidays_15+ holidays_16 + holidays_17+ holidays_18\n",
    "holidays"
   ]
  },
  {
   "cell_type": "code",
   "execution_count": 49,
   "metadata": {
    "tags": []
   },
   "outputs": [],
   "source": [
    "### Add indicator variable for holidays\n",
    "temp = data_orig['FlightDate'].isin(holidays).astype(int) # Enter your code here "
   ]
  },
  {
   "cell_type": "code",
   "execution_count": 51,
   "metadata": {
    "tags": []
   },
   "outputs": [
    {
     "data": {
      "text/plain": [
       "FlightDate\n",
       "0    1591678\n",
       "1      43912\n",
       "Name: count, dtype: int64"
      ]
     },
     "execution_count": 51,
     "metadata": {},
     "output_type": "execute_result"
    }
   ],
   "source": [
    "temp.value_counts()"
   ]
  },
  {
   "cell_type": "code",
   "execution_count": 52,
   "metadata": {
    "tags": []
   },
   "outputs": [],
   "source": [
    "data_orig['is_holiday'] = temp"
   ]
  },
  {
   "cell_type": "markdown",
   "metadata": {},
   "source": [
    "Weather data was fetched from https://www.ncei.noaa.gov/access/services/data/v1?dataset=daily-summaries&stations=USW00023174,USW00012960,USW00003017,USW00094846,USW00013874,USW00023234,USW00003927,USW00023183,USW00013881&dataTypes=AWND,PRCP,SNOW,SNWD,TAVG,TMIN,TMAX&startDate=2014-01-01&endDate=2018-12-31.\n",
    "<br>\n",
    "\n",
    "This dataset has information on wind speed, precipitation, snow, and temperature for cities by their airport codes.\n",
    "\n",
    "**Question**: Could bad weather due to rains, heavy winds, or snow lead to airplane delay? Let's check!"
   ]
  },
  {
   "cell_type": "code",
   "execution_count": 53,
   "metadata": {
    "scrolled": true,
    "tags": []
   },
   "outputs": [
    {
     "name": "stdout",
     "output_type": "stream",
     "text": [
      "download: s3://aws-tc-largeobjects/ILT-TF-200-MLDWTS/flight_delay_project/daily-summaries.csv to project/data/daily-summaries.csv\n"
     ]
    }
   ],
   "source": [
    "%%bash\n",
    "\n",
    "aws s3 cp s3://aws-tc-largeobjects/ILT-TF-200-MLDWTS/flight_delay_project/daily-summaries.csv /home/ec2-user/SageMaker/project/data/\n",
    "#wget 'https://www.ncei.noaa.gov/access/services/data/v1?dataset=daily-summaries&stations=USW00023174,USW00012960,USW00003017,USW00094846,USW00013874,USW00023234,USW00003927,USW00023183,USW00013881&dataTypes=AWND,PRCP,SNOW,SNWD,TAVG,TMIN,TMAX&startDate=2014-01-01&endDate=2018-12-31' -O /home/ec2-user/SageMaker/project/data/daily-summaries.csv"
   ]
  },
  {
   "cell_type": "markdown",
   "metadata": {},
   "source": [
    "Import weather data prepared for the airport codes in our dataset. Use the stations and airports below for the analysis, and create a new column called `airport` that maps the weather station to the airport name."
   ]
  },
  {
   "cell_type": "code",
   "execution_count": 54,
   "metadata": {
    "tags": []
   },
   "outputs": [],
   "source": [
    "weather = pd.read_csv('/home/ec2-user/SageMaker/project/data/daily-summaries.csv') # Enter your code here to read 'daily-summaries.csv' file\n",
    "station = ['USW00023174','USW00012960','USW00003017','USW00094846',\n",
    "           'USW00013874','USW00023234','USW00003927','USW00023183','USW00013881'] \n",
    "airports = ['LAX', 'IAH', 'DEN', 'ORD', 'ATL', 'SFO', 'DFW', 'PHX', 'CLT']"
   ]
  },
  {
   "cell_type": "code",
   "execution_count": 56,
   "metadata": {
    "tags": []
   },
   "outputs": [],
   "source": [
    "### Map weather stations to airport code\n",
    "station_map = {s:a for s, a in zip(station, airports)}# Enter your code here "
   ]
  },
  {
   "cell_type": "code",
   "execution_count": 58,
   "metadata": {
    "tags": []
   },
   "outputs": [
    {
     "data": {
      "text/plain": [
       "{'USW00023174': 'LAX',\n",
       " 'USW00012960': 'IAH',\n",
       " 'USW00003017': 'DEN',\n",
       " 'USW00094846': 'ORD',\n",
       " 'USW00013874': 'ATL',\n",
       " 'USW00023234': 'SFO',\n",
       " 'USW00003927': 'DFW',\n",
       " 'USW00023183': 'PHX',\n",
       " 'USW00013881': 'CLT'}"
      ]
     },
     "execution_count": 58,
     "metadata": {},
     "output_type": "execute_result"
    }
   ],
   "source": [
    "station_map"
   ]
  },
  {
   "cell_type": "code",
   "execution_count": 59,
   "metadata": {
    "tags": []
   },
   "outputs": [],
   "source": [
    "weather['airport'] = weather['STATION'].map(station_map)# Enter your code here "
   ]
  },
  {
   "cell_type": "markdown",
   "metadata": {},
   "source": [
    "Create another column called `MONTH` from the `DATE` column."
   ]
  },
  {
   "cell_type": "code",
   "execution_count": 60,
   "metadata": {
    "scrolled": true,
    "tags": []
   },
   "outputs": [
    {
     "data": {
      "text/html": [
       "<div>\n",
       "<style scoped>\n",
       "    .dataframe tbody tr th:only-of-type {\n",
       "        vertical-align: middle;\n",
       "    }\n",
       "\n",
       "    .dataframe tbody tr th {\n",
       "        vertical-align: top;\n",
       "    }\n",
       "\n",
       "    .dataframe thead th {\n",
       "        text-align: right;\n",
       "    }\n",
       "</style>\n",
       "<table border=\"1\" class=\"dataframe\">\n",
       "  <thead>\n",
       "    <tr style=\"text-align: right;\">\n",
       "      <th></th>\n",
       "      <th>STATION</th>\n",
       "      <th>DATE</th>\n",
       "      <th>AWND</th>\n",
       "      <th>PRCP</th>\n",
       "      <th>SNOW</th>\n",
       "      <th>SNWD</th>\n",
       "      <th>TAVG</th>\n",
       "      <th>TMAX</th>\n",
       "      <th>TMIN</th>\n",
       "      <th>airport</th>\n",
       "      <th>MONTH</th>\n",
       "    </tr>\n",
       "  </thead>\n",
       "  <tbody>\n",
       "    <tr>\n",
       "      <th>0</th>\n",
       "      <td>USW00023174</td>\n",
       "      <td>2014-01-01</td>\n",
       "      <td>16</td>\n",
       "      <td>0</td>\n",
       "      <td>NaN</td>\n",
       "      <td>NaN</td>\n",
       "      <td>131.0</td>\n",
       "      <td>178.0</td>\n",
       "      <td>78.0</td>\n",
       "      <td>LAX</td>\n",
       "      <td>01</td>\n",
       "    </tr>\n",
       "    <tr>\n",
       "      <th>1</th>\n",
       "      <td>USW00023174</td>\n",
       "      <td>2014-01-02</td>\n",
       "      <td>22</td>\n",
       "      <td>0</td>\n",
       "      <td>NaN</td>\n",
       "      <td>NaN</td>\n",
       "      <td>159.0</td>\n",
       "      <td>256.0</td>\n",
       "      <td>100.0</td>\n",
       "      <td>LAX</td>\n",
       "      <td>01</td>\n",
       "    </tr>\n",
       "    <tr>\n",
       "      <th>2</th>\n",
       "      <td>USW00023174</td>\n",
       "      <td>2014-01-03</td>\n",
       "      <td>17</td>\n",
       "      <td>0</td>\n",
       "      <td>NaN</td>\n",
       "      <td>NaN</td>\n",
       "      <td>140.0</td>\n",
       "      <td>178.0</td>\n",
       "      <td>83.0</td>\n",
       "      <td>LAX</td>\n",
       "      <td>01</td>\n",
       "    </tr>\n",
       "    <tr>\n",
       "      <th>3</th>\n",
       "      <td>USW00023174</td>\n",
       "      <td>2014-01-04</td>\n",
       "      <td>18</td>\n",
       "      <td>0</td>\n",
       "      <td>NaN</td>\n",
       "      <td>NaN</td>\n",
       "      <td>136.0</td>\n",
       "      <td>183.0</td>\n",
       "      <td>100.0</td>\n",
       "      <td>LAX</td>\n",
       "      <td>01</td>\n",
       "    </tr>\n",
       "    <tr>\n",
       "      <th>4</th>\n",
       "      <td>USW00023174</td>\n",
       "      <td>2014-01-05</td>\n",
       "      <td>18</td>\n",
       "      <td>0</td>\n",
       "      <td>NaN</td>\n",
       "      <td>NaN</td>\n",
       "      <td>151.0</td>\n",
       "      <td>244.0</td>\n",
       "      <td>83.0</td>\n",
       "      <td>LAX</td>\n",
       "      <td>01</td>\n",
       "    </tr>\n",
       "  </tbody>\n",
       "</table>\n",
       "</div>"
      ],
      "text/plain": [
       "       STATION        DATE  AWND  PRCP  SNOW  SNWD   TAVG   TMAX   TMIN  \\\n",
       "0  USW00023174  2014-01-01    16     0   NaN   NaN  131.0  178.0   78.0   \n",
       "1  USW00023174  2014-01-02    22     0   NaN   NaN  159.0  256.0  100.0   \n",
       "2  USW00023174  2014-01-03    17     0   NaN   NaN  140.0  178.0   83.0   \n",
       "3  USW00023174  2014-01-04    18     0   NaN   NaN  136.0  183.0  100.0   \n",
       "4  USW00023174  2014-01-05    18     0   NaN   NaN  151.0  244.0   83.0   \n",
       "\n",
       "  airport MONTH  \n",
       "0     LAX    01  \n",
       "1     LAX    01  \n",
       "2     LAX    01  \n",
       "3     LAX    01  \n",
       "4     LAX    01  "
      ]
     },
     "execution_count": 60,
     "metadata": {},
     "output_type": "execute_result"
    }
   ],
   "source": [
    "weather['MONTH'] = weather['DATE'].apply(lambda x: x.split('-')[1])# Enter your code here \n",
    "weather.head()"
   ]
  },
  {
   "cell_type": "markdown",
   "metadata": {},
   "source": [
    "### Sample output\n",
    "```\n",
    "  STATION     DATE      AWND PRCP SNOW SNWD TAVG TMAX  TMIN airport MONTH\n",
    "0 USW00023174 2014-01-01 16   0   NaN  NaN 131.0 178.0 78.0  LAX    01\n",
    "1 USW00023174 2014-01-02 22   0   NaN  NaN 159.0 256.0 100.0 LAX    01\n",
    "2 USW00023174 2014-01-03 17   0   NaN  NaN 140.0 178.0 83.0  LAX    01\n",
    "3 USW00023174 2014-01-04 18   0   NaN  NaN 136.0 183.0 100.0 LAX    01\n",
    "4 USW00023174 2014-01-05 18   0   NaN  NaN 151.0 244.0 83.0  LAX    01\n",
    "```"
   ]
  },
  {
   "cell_type": "markdown",
   "metadata": {},
   "source": [
    "Analyze and handle the `SNOW` and `SNWD` columns for missing values using `fillna()`. Use the `isna()` function to check the missing values for all the columns."
   ]
  },
  {
   "cell_type": "code",
   "execution_count": 61,
   "metadata": {
    "scrolled": true,
    "tags": []
   },
   "outputs": [
    {
     "data": {
      "text/plain": [
       "STATION     0\n",
       "DATE        0\n",
       "AWND        0\n",
       "PRCP        0\n",
       "SNOW        0\n",
       "SNWD        0\n",
       "TAVG       62\n",
       "TMAX       20\n",
       "TMIN       20\n",
       "airport     0\n",
       "MONTH       0\n",
       "dtype: int64"
      ]
     },
     "execution_count": 61,
     "metadata": {},
     "output_type": "execute_result"
    }
   ],
   "source": [
    "weather.SNOW.fillna(0, inplace=True)# Enter your code here\n",
    "weather.SNWD.fillna(0, inplace=True)# Enter your code here\n",
    "weather.isna().sum()"
   ]
  },
  {
   "cell_type": "markdown",
   "metadata": {},
   "source": [
    "**Question**: Print the index of the rows that have missing values for TAVG, TMAX, TMIN.\n",
    "\n",
    "**Hint**: Use the `isna()` function to find the rows that are missing, and then use the list on the idx variable to get the index."
   ]
  },
  {
   "cell_type": "code",
   "execution_count": 62,
   "metadata": {
    "tags": []
   },
   "outputs": [
    {
     "data": {
      "text/plain": [
       "array([ 3956,  3957,  3958,  3959,  3960,  3961,  3962,  3963,  3964,\n",
       "        3965,  3966,  3967,  3968,  3969,  3970,  3971,  3972,  3973,\n",
       "        3974,  3975,  3976,  3977,  3978,  3979,  3980,  3981,  3982,\n",
       "        3983,  3984,  3985,  4017,  4018,  4019,  4020,  4021,  4022,\n",
       "        4023,  4024,  4025,  4026,  4027,  4028,  4029,  4030,  4031,\n",
       "        4032,  4033,  4034,  4035,  4036,  4037,  4038,  4039,  4040,\n",
       "        4041,  4042,  4043,  4044,  4045,  4046,  4047, 13420])"
      ]
     },
     "execution_count": 62,
     "metadata": {},
     "output_type": "execute_result"
    }
   ],
   "source": [
    "idx = np.array([i for i in range(len(weather))])\n",
    "TAVG_idx = idx[weather.TAVG.isna()]# Enter your code here \n",
    "TMAX_idx = idx[weather.TMAX.isna()]# Enter your code here \n",
    "TMIN_idx = idx[weather.TMIN.isna()]# Enter your code here \n",
    "TAVG_idx"
   ]
  },
  {
   "cell_type": "markdown",
   "metadata": {},
   "source": [
    "### Sample output\n",
    "\n",
    "```\n",
    "array([ 3956,  3957,  3958,  3959,  3960,  3961,  3962,  3963,  3964,\n",
    "        3965,  3966,  3967,  3968,  3969,  3970,  3971,  3972,  3973,\n",
    "        3974,  3975,  3976,  3977,  3978,  3979,  3980,  3981,  3982,\n",
    "        3983,  3984,  3985,  4017,  4018,  4019,  4020,  4021,  4022,\n",
    "        4023,  4024,  4025,  4026,  4027,  4028,  4029,  4030,  4031,\n",
    "        4032,  4033,  4034,  4035,  4036,  4037,  4038,  4039,  4040,\n",
    "        4041,  4042,  4043,  4044,  4045,  4046,  4047, 13420])\n",
    "```"
   ]
  },
  {
   "cell_type": "markdown",
   "metadata": {},
   "source": [
    "You can replace the missing TAVG, TMAX, and TMIN with the average value for a particular station/airport. Because the consecutive rows of TAVG_idx are missing, replacing with a previous value would not be possible. Instead, replace it with the mean. Use the `groupby` function to aggregate the variables with a mean value."
   ]
  },
  {
   "cell_type": "code",
   "execution_count": 63,
   "metadata": {
    "tags": []
   },
   "outputs": [
    {
     "data": {
      "text/html": [
       "<div>\n",
       "<style scoped>\n",
       "    .dataframe tbody tr th:only-of-type {\n",
       "        vertical-align: middle;\n",
       "    }\n",
       "\n",
       "    .dataframe tbody tr th {\n",
       "        vertical-align: top;\n",
       "    }\n",
       "\n",
       "    .dataframe thead th {\n",
       "        text-align: right;\n",
       "    }\n",
       "</style>\n",
       "<table border=\"1\" class=\"dataframe\">\n",
       "  <thead>\n",
       "    <tr style=\"text-align: right;\">\n",
       "      <th></th>\n",
       "      <th>STATION</th>\n",
       "      <th>DATE</th>\n",
       "      <th>AWND</th>\n",
       "      <th>PRCP</th>\n",
       "      <th>SNOW</th>\n",
       "      <th>SNWD</th>\n",
       "      <th>TAVG</th>\n",
       "      <th>TMAX</th>\n",
       "      <th>TMIN</th>\n",
       "      <th>airport</th>\n",
       "      <th>MONTH</th>\n",
       "    </tr>\n",
       "  </thead>\n",
       "  <tbody>\n",
       "    <tr>\n",
       "      <th>0</th>\n",
       "      <td>USW00023174</td>\n",
       "      <td>2014-01-01</td>\n",
       "      <td>16</td>\n",
       "      <td>0</td>\n",
       "      <td>0.0</td>\n",
       "      <td>0.0</td>\n",
       "      <td>131.0</td>\n",
       "      <td>178.0</td>\n",
       "      <td>78.0</td>\n",
       "      <td>LAX</td>\n",
       "      <td>01</td>\n",
       "    </tr>\n",
       "    <tr>\n",
       "      <th>1</th>\n",
       "      <td>USW00023174</td>\n",
       "      <td>2014-01-02</td>\n",
       "      <td>22</td>\n",
       "      <td>0</td>\n",
       "      <td>0.0</td>\n",
       "      <td>0.0</td>\n",
       "      <td>159.0</td>\n",
       "      <td>256.0</td>\n",
       "      <td>100.0</td>\n",
       "      <td>LAX</td>\n",
       "      <td>01</td>\n",
       "    </tr>\n",
       "    <tr>\n",
       "      <th>2</th>\n",
       "      <td>USW00023174</td>\n",
       "      <td>2014-01-03</td>\n",
       "      <td>17</td>\n",
       "      <td>0</td>\n",
       "      <td>0.0</td>\n",
       "      <td>0.0</td>\n",
       "      <td>140.0</td>\n",
       "      <td>178.0</td>\n",
       "      <td>83.0</td>\n",
       "      <td>LAX</td>\n",
       "      <td>01</td>\n",
       "    </tr>\n",
       "    <tr>\n",
       "      <th>3</th>\n",
       "      <td>USW00023174</td>\n",
       "      <td>2014-01-04</td>\n",
       "      <td>18</td>\n",
       "      <td>0</td>\n",
       "      <td>0.0</td>\n",
       "      <td>0.0</td>\n",
       "      <td>136.0</td>\n",
       "      <td>183.0</td>\n",
       "      <td>100.0</td>\n",
       "      <td>LAX</td>\n",
       "      <td>01</td>\n",
       "    </tr>\n",
       "    <tr>\n",
       "      <th>4</th>\n",
       "      <td>USW00023174</td>\n",
       "      <td>2014-01-05</td>\n",
       "      <td>18</td>\n",
       "      <td>0</td>\n",
       "      <td>0.0</td>\n",
       "      <td>0.0</td>\n",
       "      <td>151.0</td>\n",
       "      <td>244.0</td>\n",
       "      <td>83.0</td>\n",
       "      <td>LAX</td>\n",
       "      <td>01</td>\n",
       "    </tr>\n",
       "    <tr>\n",
       "      <th>...</th>\n",
       "      <td>...</td>\n",
       "      <td>...</td>\n",
       "      <td>...</td>\n",
       "      <td>...</td>\n",
       "      <td>...</td>\n",
       "      <td>...</td>\n",
       "      <td>...</td>\n",
       "      <td>...</td>\n",
       "      <td>...</td>\n",
       "      <td>...</td>\n",
       "      <td>...</td>\n",
       "    </tr>\n",
       "    <tr>\n",
       "      <th>16429</th>\n",
       "      <td>USW00013881</td>\n",
       "      <td>2018-12-27</td>\n",
       "      <td>31</td>\n",
       "      <td>41</td>\n",
       "      <td>0.0</td>\n",
       "      <td>0.0</td>\n",
       "      <td>68.0</td>\n",
       "      <td>89.0</td>\n",
       "      <td>39.0</td>\n",
       "      <td>CLT</td>\n",
       "      <td>12</td>\n",
       "    </tr>\n",
       "    <tr>\n",
       "      <th>16430</th>\n",
       "      <td>USW00013881</td>\n",
       "      <td>2018-12-28</td>\n",
       "      <td>27</td>\n",
       "      <td>196</td>\n",
       "      <td>0.0</td>\n",
       "      <td>0.0</td>\n",
       "      <td>86.0</td>\n",
       "      <td>144.0</td>\n",
       "      <td>61.0</td>\n",
       "      <td>CLT</td>\n",
       "      <td>12</td>\n",
       "    </tr>\n",
       "    <tr>\n",
       "      <th>16431</th>\n",
       "      <td>USW00013881</td>\n",
       "      <td>2018-12-29</td>\n",
       "      <td>14</td>\n",
       "      <td>0</td>\n",
       "      <td>0.0</td>\n",
       "      <td>0.0</td>\n",
       "      <td>146.0</td>\n",
       "      <td>189.0</td>\n",
       "      <td>94.0</td>\n",
       "      <td>CLT</td>\n",
       "      <td>12</td>\n",
       "    </tr>\n",
       "    <tr>\n",
       "      <th>16432</th>\n",
       "      <td>USW00013881</td>\n",
       "      <td>2018-12-30</td>\n",
       "      <td>16</td>\n",
       "      <td>23</td>\n",
       "      <td>0.0</td>\n",
       "      <td>0.0</td>\n",
       "      <td>117.0</td>\n",
       "      <td>139.0</td>\n",
       "      <td>89.0</td>\n",
       "      <td>CLT</td>\n",
       "      <td>12</td>\n",
       "    </tr>\n",
       "    <tr>\n",
       "      <th>16433</th>\n",
       "      <td>USW00013881</td>\n",
       "      <td>2018-12-31</td>\n",
       "      <td>29</td>\n",
       "      <td>41</td>\n",
       "      <td>0.0</td>\n",
       "      <td>0.0</td>\n",
       "      <td>135.0</td>\n",
       "      <td>194.0</td>\n",
       "      <td>117.0</td>\n",
       "      <td>CLT</td>\n",
       "      <td>12</td>\n",
       "    </tr>\n",
       "  </tbody>\n",
       "</table>\n",
       "<p>16434 rows × 11 columns</p>\n",
       "</div>"
      ],
      "text/plain": [
       "           STATION        DATE  AWND  PRCP  SNOW  SNWD   TAVG   TMAX   TMIN  \\\n",
       "0      USW00023174  2014-01-01    16     0   0.0   0.0  131.0  178.0   78.0   \n",
       "1      USW00023174  2014-01-02    22     0   0.0   0.0  159.0  256.0  100.0   \n",
       "2      USW00023174  2014-01-03    17     0   0.0   0.0  140.0  178.0   83.0   \n",
       "3      USW00023174  2014-01-04    18     0   0.0   0.0  136.0  183.0  100.0   \n",
       "4      USW00023174  2014-01-05    18     0   0.0   0.0  151.0  244.0   83.0   \n",
       "...            ...         ...   ...   ...   ...   ...    ...    ...    ...   \n",
       "16429  USW00013881  2018-12-27    31    41   0.0   0.0   68.0   89.0   39.0   \n",
       "16430  USW00013881  2018-12-28    27   196   0.0   0.0   86.0  144.0   61.0   \n",
       "16431  USW00013881  2018-12-29    14     0   0.0   0.0  146.0  189.0   94.0   \n",
       "16432  USW00013881  2018-12-30    16    23   0.0   0.0  117.0  139.0   89.0   \n",
       "16433  USW00013881  2018-12-31    29    41   0.0   0.0  135.0  194.0  117.0   \n",
       "\n",
       "      airport MONTH  \n",
       "0         LAX    01  \n",
       "1         LAX    01  \n",
       "2         LAX    01  \n",
       "3         LAX    01  \n",
       "4         LAX    01  \n",
       "...       ...   ...  \n",
       "16429     CLT    12  \n",
       "16430     CLT    12  \n",
       "16431     CLT    12  \n",
       "16432     CLT    12  \n",
       "16433     CLT    12  \n",
       "\n",
       "[16434 rows x 11 columns]"
      ]
     },
     "execution_count": 63,
     "metadata": {},
     "output_type": "execute_result"
    }
   ],
   "source": [
    "weather"
   ]
  },
  {
   "cell_type": "code",
   "execution_count": 64,
   "metadata": {
    "tags": []
   },
   "outputs": [
    {
     "data": {
      "text/html": [
       "<div>\n",
       "<style scoped>\n",
       "    .dataframe tbody tr th:only-of-type {\n",
       "        vertical-align: middle;\n",
       "    }\n",
       "\n",
       "    .dataframe tbody tr th {\n",
       "        vertical-align: top;\n",
       "    }\n",
       "\n",
       "    .dataframe thead th {\n",
       "        text-align: right;\n",
       "    }\n",
       "</style>\n",
       "<table border=\"1\" class=\"dataframe\">\n",
       "  <thead>\n",
       "    <tr style=\"text-align: right;\">\n",
       "      <th></th>\n",
       "      <th>STATION</th>\n",
       "      <th>MONTH</th>\n",
       "      <th>TAVG</th>\n",
       "      <th>TMAX</th>\n",
       "      <th>TMIN</th>\n",
       "    </tr>\n",
       "  </thead>\n",
       "  <tbody>\n",
       "    <tr>\n",
       "      <th>0</th>\n",
       "      <td>USW00003017</td>\n",
       "      <td>01</td>\n",
       "      <td>-2.741935</td>\n",
       "      <td>74.000000</td>\n",
       "      <td>-69.858065</td>\n",
       "    </tr>\n",
       "    <tr>\n",
       "      <th>1</th>\n",
       "      <td>USW00003017</td>\n",
       "      <td>02</td>\n",
       "      <td>11.219858</td>\n",
       "      <td>88.553191</td>\n",
       "      <td>-65.035461</td>\n",
       "    </tr>\n",
       "  </tbody>\n",
       "</table>\n",
       "</div>"
      ],
      "text/plain": [
       "       STATION MONTH       TAVG       TMAX       TMIN\n",
       "0  USW00003017    01  -2.741935  74.000000 -69.858065\n",
       "1  USW00003017    02  11.219858  88.553191 -65.035461"
      ]
     },
     "execution_count": 64,
     "metadata": {},
     "output_type": "execute_result"
    }
   ],
   "source": [
    "weather_impute = weather.groupby(['STATION','MONTH']).agg({'TAVG':'mean','TMAX':'mean', 'TMIN':'mean' }).reset_index()# Enter your code here\n",
    "weather_impute.head(2)"
   ]
  },
  {
   "cell_type": "markdown",
   "metadata": {},
   "source": [
    "Merge the mean data with the weather data."
   ]
  },
  {
   "cell_type": "code",
   "execution_count": 65,
   "metadata": {
    "tags": []
   },
   "outputs": [],
   "source": [
    "### get the yesterday's data\n",
    "weather = pd.merge(weather, weather_impute,  how='left', left_on=['MONTH','STATION'], right_on = ['MONTH','STATION'])\\\n",
    ".rename(columns = {'TAVG_y':'TAVG_AVG',\n",
    "                   'TMAX_y':'TMAX_AVG', \n",
    "                   'TMIN_y':'TMIN_AVG',\n",
    "                   'TAVG_x':'TAVG',\n",
    "                   'TMAX_x':'TMAX', \n",
    "                   'TMIN_x':'TMIN'})"
   ]
  },
  {
   "cell_type": "markdown",
   "metadata": {},
   "source": [
    "Check for missing values again."
   ]
  },
  {
   "cell_type": "code",
   "execution_count": 66,
   "metadata": {
    "tags": []
   },
   "outputs": [
    {
     "data": {
      "text/plain": [
       "STATION     0\n",
       "DATE        0\n",
       "AWND        0\n",
       "PRCP        0\n",
       "SNOW        0\n",
       "SNWD        0\n",
       "TAVG        0\n",
       "TMAX        0\n",
       "TMIN        0\n",
       "airport     0\n",
       "MONTH       0\n",
       "TAVG_AVG    0\n",
       "TMAX_AVG    0\n",
       "TMIN_AVG    0\n",
       "dtype: int64"
      ]
     },
     "execution_count": 66,
     "metadata": {},
     "output_type": "execute_result"
    }
   ],
   "source": [
    "weather.TAVG[TAVG_idx] = weather.TAVG_AVG[TAVG_idx]\n",
    "weather.TMAX[TMAX_idx] = weather.TMAX_AVG[TMAX_idx]\n",
    "weather.TMIN[TMIN_idx] = weather.TMIN_AVG[TMIN_idx]\n",
    "weather.isna().sum()"
   ]
  },
  {
   "cell_type": "markdown",
   "metadata": {},
   "source": [
    "Drop `STATION,MONTH,TAVG_AVG,TMAX_AVG,TMIN_AVG,TMAX,TMIN,SNWD` from the dataset"
   ]
  },
  {
   "cell_type": "code",
   "execution_count": 67,
   "metadata": {
    "tags": []
   },
   "outputs": [],
   "source": [
    "weather.drop(columns=['STATION','MONTH','TAVG_AVG', 'TMAX_AVG', 'TMIN_AVG', 'TMAX' ,'TMIN', 'SNWD'],inplace=True)"
   ]
  },
  {
   "cell_type": "markdown",
   "metadata": {},
   "source": [
    "Add the origin and destination weather conditions to the dataset."
   ]
  },
  {
   "cell_type": "code",
   "execution_count": 68,
   "metadata": {
    "tags": []
   },
   "outputs": [],
   "source": [
    "### Add origin weather conditions\n",
    "data_orig = pd.merge(data_orig, weather,  how='left', left_on=['FlightDate','Origin'], right_on = ['DATE','airport'])\\\n",
    ".rename(columns = {'AWND':'AWND_O','PRCP':'PRCP_O', 'TAVG':'TAVG_O', 'SNOW': 'SNOW_O'})\\\n",
    ".drop(columns=['DATE','airport'])\n",
    "\n",
    "### Add destination weather conditions\n",
    "data_orig = pd.merge(data_orig, weather,  how='left', left_on=['FlightDate','Dest'], right_on = ['DATE','airport'])\\\n",
    ".rename(columns = {'AWND':'AWND_D','PRCP':'PRCP_D', 'TAVG':'TAVG_D', 'SNOW': 'SNOW_D'})\\\n",
    ".drop(columns=['DATE','airport'])"
   ]
  },
  {
   "cell_type": "markdown",
   "metadata": {},
   "source": [
    "**Note**: It is always a good practice to check nulls/NAs after joins."
   ]
  },
  {
   "cell_type": "code",
   "execution_count": 69,
   "metadata": {
    "tags": []
   },
   "outputs": [
    {
     "data": {
      "text/plain": [
       "0"
      ]
     },
     "execution_count": 69,
     "metadata": {},
     "output_type": "execute_result"
    }
   ],
   "source": [
    "sum(data.isna().any())"
   ]
  },
  {
   "cell_type": "code",
   "execution_count": 70,
   "metadata": {
    "tags": []
   },
   "outputs": [
    {
     "data": {
      "text/plain": [
       "Index(['Year', 'Quarter', 'Month', 'DayofMonth', 'DayOfWeek', 'FlightDate',\n",
       "       'Reporting_Airline', 'Origin', 'OriginState', 'Dest', 'DestState',\n",
       "       'CRSDepTime', 'Cancelled', 'Diverted', 'Distance', 'DistanceGroup',\n",
       "       'ArrDelay', 'ArrDelayMinutes', 'is_delay', 'AirTime', 'DepHourofDay',\n",
       "       'is_holiday', 'AWND_O', 'PRCP_O', 'SNOW_O', 'TAVG_O', 'AWND_D',\n",
       "       'PRCP_D', 'SNOW_D', 'TAVG_D'],\n",
       "      dtype='object')"
      ]
     },
     "execution_count": 70,
     "metadata": {},
     "output_type": "execute_result"
    }
   ],
   "source": [
    "data_orig.columns"
   ]
  },
  {
   "cell_type": "markdown",
   "metadata": {},
   "source": [
    "Convert the categorical data into numerical data using one-hot encoding."
   ]
  },
  {
   "cell_type": "code",
   "execution_count": 74,
   "metadata": {
    "tags": []
   },
   "outputs": [],
   "source": [
    "data = data_orig.copy()\n",
    "data = data[['Year', 'Quarter', 'Month', 'DayofMonth', 'DayOfWeek', \n",
    "       'Reporting_Airline', 'Origin', 'Dest','Distance','DepHourofDay', 'is_delay', 'is_holiday', 'AWND_O', 'PRCP_O',\n",
    "       'TAVG_O', 'AWND_D', 'PRCP_D', 'TAVG_D', 'SNOW_O', 'SNOW_D']]\n",
    "\n",
    "\n",
    "categorical_columns  = ['Year', 'Quarter', 'Month', 'DayofMonth', 'DayOfWeek', \n",
    "       'Reporting_Airline', 'Origin', 'Dest', 'is_holiday']\n",
    "for c in categorical_columns:\n",
    "    data[c] = data[c].astype('category')"
   ]
  },
  {
   "cell_type": "code",
   "execution_count": 76,
   "metadata": {
    "tags": []
   },
   "outputs": [],
   "source": [
    "data_dummies = pd.get_dummies(data[['Year', 'Quarter', 'Month', 'DayofMonth', 'DayOfWeek', 'Reporting_Airline', 'Origin', 'Dest', 'is_holiday']], drop_first=False)\n",
    "data = pd.concat([data, data_dummies], axis = 1)"
   ]
  },
  {
   "cell_type": "code",
   "execution_count": 77,
   "metadata": {
    "tags": []
   },
   "outputs": [],
   "source": [
    "data.drop(categorical_columns,axis=1, inplace=True)"
   ]
  },
  {
   "cell_type": "markdown",
   "metadata": {},
   "source": [
    "### Sample code\n",
    "\n",
    "```\n",
    "data_dummies = pd.get_dummies(data[['Year', 'Quarter', 'Month', 'DayofMonth', 'DayOfWeek', 'Reporting_Airline', 'Origin', 'Dest', 'is_holiday']], drop_first=True)\n",
    "data = pd.concat([data, data_dummies], axis = 1)\n",
    "categorical_columns.remove('is_delay')\n",
    "data.drop(categorical_columns,axis=1, inplace=True)\n",
    "```"
   ]
  },
  {
   "cell_type": "markdown",
   "metadata": {},
   "source": [
    "Check the new columns."
   ]
  },
  {
   "cell_type": "code",
   "execution_count": 78,
   "metadata": {
    "tags": []
   },
   "outputs": [
    {
     "data": {
      "text/plain": [
       "Index(['Distance', 'DepHourofDay', 'is_delay', 'AWND_O', 'PRCP_O', 'TAVG_O',\n",
       "       'AWND_D', 'PRCP_D', 'TAVG_D', 'SNOW_O', 'SNOW_D', 'Year_2014',\n",
       "       'Year_2015', 'Year_2016', 'Year_2017', 'Year_2018', 'Quarter_1',\n",
       "       'Quarter_2', 'Quarter_3', 'Quarter_4', 'Month_1', 'Month_2', 'Month_3',\n",
       "       'Month_4', 'Month_5', 'Month_6', 'Month_7', 'Month_8', 'Month_9',\n",
       "       'Month_10', 'Month_11', 'Month_12', 'DayofMonth_1', 'DayofMonth_2',\n",
       "       'DayofMonth_3', 'DayofMonth_4', 'DayofMonth_5', 'DayofMonth_6',\n",
       "       'DayofMonth_7', 'DayofMonth_8', 'DayofMonth_9', 'DayofMonth_10',\n",
       "       'DayofMonth_11', 'DayofMonth_12', 'DayofMonth_13', 'DayofMonth_14',\n",
       "       'DayofMonth_15', 'DayofMonth_16', 'DayofMonth_17', 'DayofMonth_18',\n",
       "       'DayofMonth_19', 'DayofMonth_20', 'DayofMonth_21', 'DayofMonth_22',\n",
       "       'DayofMonth_23', 'DayofMonth_24', 'DayofMonth_25', 'DayofMonth_26',\n",
       "       'DayofMonth_27', 'DayofMonth_28', 'DayofMonth_29', 'DayofMonth_30',\n",
       "       'DayofMonth_31', 'DayOfWeek_1', 'DayOfWeek_2', 'DayOfWeek_3',\n",
       "       'DayOfWeek_4', 'DayOfWeek_5', 'DayOfWeek_6', 'DayOfWeek_7',\n",
       "       'Reporting_Airline_AA', 'Reporting_Airline_DL', 'Reporting_Airline_OO',\n",
       "       'Reporting_Airline_UA', 'Reporting_Airline_WN', 'Origin_ATL',\n",
       "       'Origin_CLT', 'Origin_DEN', 'Origin_DFW', 'Origin_IAH', 'Origin_LAX',\n",
       "       'Origin_ORD', 'Origin_PHX', 'Origin_SFO', 'Dest_ATL', 'Dest_CLT',\n",
       "       'Dest_DEN', 'Dest_DFW', 'Dest_IAH', 'Dest_LAX', 'Dest_ORD', 'Dest_PHX',\n",
       "       'Dest_SFO', 'is_holiday_0', 'is_holiday_1'],\n",
       "      dtype='object')"
      ]
     },
     "execution_count": 78,
     "metadata": {},
     "output_type": "execute_result"
    }
   ],
   "source": [
    "data.columns"
   ]
  },
  {
   "cell_type": "markdown",
   "metadata": {},
   "source": [
    "### Sample output\n",
    "\n",
    "```\n",
    "Index(['Distance', 'DepHourofDay', 'is_delay', 'AWND_O', 'PRCP_O', 'TAVG_O',\n",
    "       'AWND_D', 'PRCP_D', 'TAVG_D', 'SNOW_O', 'SNOW_D', 'Year_2015',\n",
    "       'Year_2016', 'Year_2017', 'Year_2018', 'Quarter_2', 'Quarter_3',\n",
    "       'Quarter_4', 'Month_2', 'Month_3', 'Month_4', 'Month_5', 'Month_6',\n",
    "       'Month_7', 'Month_8', 'Month_9', 'Month_10', 'Month_11', 'Month_12',\n",
    "       'DayofMonth_2', 'DayofMonth_3', 'DayofMonth_4', 'DayofMonth_5',\n",
    "       'DayofMonth_6', 'DayofMonth_7', 'DayofMonth_8', 'DayofMonth_9',\n",
    "       'DayofMonth_10', 'DayofMonth_11', 'DayofMonth_12', 'DayofMonth_13',\n",
    "       'DayofMonth_14', 'DayofMonth_15', 'DayofMonth_16', 'DayofMonth_17',\n",
    "       'DayofMonth_18', 'DayofMonth_19', 'DayofMonth_20', 'DayofMonth_21',\n",
    "       'DayofMonth_22', 'DayofMonth_23', 'DayofMonth_24', 'DayofMonth_25',\n",
    "       'DayofMonth_26', 'DayofMonth_27', 'DayofMonth_28', 'DayofMonth_29',\n",
    "       'DayofMonth_30', 'DayofMonth_31', 'DayOfWeek_2', 'DayOfWeek_3',\n",
    "       'DayOfWeek_4', 'DayOfWeek_5', 'DayOfWeek_6', 'DayOfWeek_7',\n",
    "       'Reporting_Airline_DL', 'Reporting_Airline_OO', 'Reporting_Airline_UA',\n",
    "       'Reporting_Airline_WN', 'Origin_CLT', 'Origin_DEN', 'Origin_DFW',\n",
    "       'Origin_IAH', 'Origin_LAX', 'Origin_ORD', 'Origin_PHX', 'Origin_SFO',\n",
    "       'Dest_CLT', 'Dest_DEN', 'Dest_DFW', 'Dest_IAH', 'Dest_LAX', 'Dest_ORD',\n",
    "       'Dest_PHX', 'Dest_SFO', 'is_holiday_1'],\n",
    "      dtype='object')\n",
    "```"
   ]
  },
  {
   "cell_type": "markdown",
   "metadata": {},
   "source": [
    "Rename the `is_delay` column to `target` again. Use the same code as before."
   ]
  },
  {
   "cell_type": "code",
   "execution_count": 79,
   "metadata": {
    "tags": []
   },
   "outputs": [],
   "source": [
    "data.rename(columns = {'is_delay':'target'}, inplace=True )# Enter your code here"
   ]
  },
  {
   "cell_type": "code",
   "execution_count": 80,
   "metadata": {
    "tags": []
   },
   "outputs": [],
   "source": [
    "data.to_csv('processed_data_with_weather.csv', index=False)"
   ]
  },
  {
   "cell_type": "code",
   "execution_count": 81,
   "metadata": {
    "tags": []
   },
   "outputs": [],
   "source": [
    "data_dummies.to_csv('processed_data_with_weather_dummies.csv', index=False)"
   ]
  },
  {
   "cell_type": "markdown",
   "metadata": {},
   "source": [
    "Create the training sets again."
   ]
  },
  {
   "cell_type": "code",
   "execution_count": 135,
   "metadata": {
    "tags": []
   },
   "outputs": [
    {
     "name": "stdout",
     "output_type": "stream",
     "text": [
      "Length of train_features is: (1308472, 94)\n",
      "Length of train_labels is: (1308472,)\n",
      "Length of val_features is: (163559, 94)\n",
      "Length of val_labels is: (163559,)\n",
      "Length of test_features is: (163559, 94)\n",
      "Length of test_labels is: (163559,)\n"
     ]
    }
   ],
   "source": [
    "# Use the function to create your datasets\n",
    "train_features_weather, test_features_weather, train_labels_weather, test_labels_weather, val_features_weather, val_labels_weather = create_training_sets(data)\n",
    "\n",
    "print(f\"Length of train_features is: {train_features_weather.shape}\")\n",
    "print(f\"Length of train_labels is: {train_labels_weather.shape}\")\n",
    "print(f\"Length of val_features is: {val_features_weather.shape}\")\n",
    "print(f\"Length of val_labels is: {val_labels_weather.shape}\")\n",
    "print(f\"Length of test_features is: {test_features_weather.shape}\")\n",
    "print(f\"Length of test_labels is: {test_labels_weather.shape}\")"
   ]
  },
  {
   "cell_type": "code",
   "execution_count": 136,
   "metadata": {
    "tags": []
   },
   "outputs": [
    {
     "name": "stdout",
     "output_type": "stream",
     "text": [
      "Train class split\n",
      "[1033806  274666]\n",
      "0.20991354801631215\n",
      "\n",
      "Validation class split\n",
      "[129226  34333]\n",
      "0.20991201951589336\n",
      "\n",
      "Test class split\n",
      "[129226  34333]\n",
      "0.20991201951589336\n"
     ]
    }
   ],
   "source": [
    "# Print the class proportion for the train, validation, and test sets\n",
    "print('Train class split')\n",
    "tr_hist = np.histogram(train_labels_weather, bins=2)[0]\n",
    "print(tr_hist)\n",
    "print(tr_hist[1]*1. / (tr_hist[0] + tr_hist[1]))\n",
    "\n",
    "print('\\nValidation class split')\n",
    "val_hist = np.histogram(val_labels_weather, bins=2)[0]\n",
    "print(val_hist)\n",
    "print(val_hist[1]*1. / (val_hist[0] + val_hist[1]))\n",
    "\n",
    "print('\\nTest class split')\n",
    "test_hist = np.histogram(test_labels_weather, bins=2)[0]\n",
    "print(test_hist)\n",
    "print(test_hist[1]*1. / (test_hist[0] + test_hist[1]))"
   ]
  },
  {
   "cell_type": "code",
   "execution_count": 137,
   "metadata": {
    "tags": []
   },
   "outputs": [
    {
     "data": {
      "text/plain": [
       "\"\\nfrom sklearn.model_selection import train_test_split\\ndef split_data(data):\\n    train, test_and_validate = train_test_split(data, test_size=0.2 , random_state=42, stratify=data['target'])\\n    test, validate = train_test_split(test_and_validate, test_size=0.5, random_state=42, stratify=test_and_validate['target'])\\n    return train, validate, test \\ntrain, validate , test = split_data(data)\\nprint(train['target'].value_counts())\\nprint(test['target'].value_counts())\\nprint(validate['target'].value_counts())\\n\""
      ]
     },
     "execution_count": 137,
     "metadata": {},
     "output_type": "execute_result"
    }
   ],
   "source": [
    "'''\n",
    "from sklearn.model_selection import train_test_split\n",
    "def split_data(data):\n",
    "    train, test_and_validate = train_test_split(data, test_size=0.2 , random_state=42, stratify=data['target'])\n",
    "    test, validate = train_test_split(test_and_validate, test_size=0.5, random_state=42, stratify=test_and_validate['target'])\n",
    "    return train, validate, test \n",
    "train, validate , test = split_data(data)\n",
    "print(train['target'].value_counts())\n",
    "print(test['target'].value_counts())\n",
    "print(validate['target'].value_counts())\n",
    "'''"
   ]
  },
  {
   "cell_type": "markdown",
   "metadata": {},
   "source": [
    "### New baseline classifier\n",
    "\n",
    "Now, see if these new features add any predictive power to the model."
   ]
  },
  {
   "cell_type": "code",
   "execution_count": 83,
   "metadata": {
    "tags": []
   },
   "outputs": [],
   "source": [
    "# Instantiate the LinearLearner estimator object\n",
    "num_classes = len(pd.unique(train_labels)) \n",
    "\n",
    "classifier_estimator = sagemaker.LinearLearner(role=sagemaker.get_execution_role(),\n",
    "                                               instance_count=1,\n",
    "                                               instance_type='ml.m4.xlarge',\n",
    "                                               predictor_type='binary_classifier',\n",
    "                                              binary_classifier_model_selection_criteria = 'cross_entropy_loss')"
   ]
  },
  {
   "cell_type": "markdown",
   "metadata": {},
   "source": [
    "### Sample code\n",
    "\n",
    "```\n",
    "num_classes = len(pd.unique(train_labels)) \n",
    "classifier_estimator = sagemaker.LinearLearner(role=sagemaker.get_execution_role(),\n",
    "                                               instance_count=1,\n",
    "                                               instance_type='ml.m4.xlarge',\n",
    "                                               predictor_type='binary_classifier',\n",
    "                                              binary_classifier_model_selection_criteria = 'cross_entropy_loss')\n",
    "```"
   ]
  },
  {
   "cell_type": "code",
   "execution_count": 138,
   "metadata": {
    "tags": []
   },
   "outputs": [
    {
     "name": "stderr",
     "output_type": "stream",
     "text": [
      "INFO:sagemaker.image_uris:Same images used for training and inference. Defaulting to image scope: inference.\n",
      "INFO:sagemaker.image_uris:Ignoring unnecessary instance type: None.\n",
      "INFO:sagemaker:Creating training-job with name: linear-learner-2024-08-22-14-12-10-399\n"
     ]
    },
    {
     "name": "stdout",
     "output_type": "stream",
     "text": [
      "2024-08-22 14:12:10 Starting - Starting the training job...\n",
      "2024-08-22 14:12:36 Starting - Preparing the instances for training...\n",
      "2024-08-22 14:13:01 Downloading - Downloading input data......\n",
      "2024-08-22 14:13:46 Downloading - Downloading the training image......\n",
      "2024-08-22 14:14:47 Training - Training image download completed. Training in progress..\u001b[34mDocker entrypoint called with argument(s): train\u001b[0m\n",
      "\u001b[34mRunning default environment configuration script\u001b[0m\n",
      "\u001b[34m[08/22/2024 14:15:11 INFO 140070473144128] Reading default configuration from /opt/amazon/lib/python3.8/site-packages/algorithm/resources/default-input.json: {'mini_batch_size': '1000', 'epochs': '15', 'feature_dim': 'auto', 'use_bias': 'true', 'binary_classifier_model_selection_criteria': 'accuracy', 'f_beta': '1.0', 'target_recall': '0.8', 'target_precision': '0.8', 'num_models': 'auto', 'num_calibration_samples': '10000000', 'init_method': 'uniform', 'init_scale': '0.07', 'init_sigma': '0.01', 'init_bias': '0.0', 'optimizer': 'auto', 'loss': 'auto', 'margin': '1.0', 'quantile': '0.5', 'loss_insensitivity': '0.01', 'huber_delta': '1.0', 'num_classes': '1', 'accuracy_top_k': '3', 'wd': 'auto', 'l1': 'auto', 'momentum': 'auto', 'learning_rate': 'auto', 'beta_1': 'auto', 'beta_2': 'auto', 'bias_lr_mult': 'auto', 'bias_wd_mult': 'auto', 'use_lr_scheduler': 'true', 'lr_scheduler_step': 'auto', 'lr_scheduler_factor': 'auto', 'lr_scheduler_minimum_lr': 'auto', 'positive_example_weight_mult': '1.0', 'balance_multiclass_weights': 'false', 'normalize_data': 'true', 'normalize_label': 'auto', 'unbias_data': 'auto', 'unbias_label': 'auto', 'num_point_for_scaler': '10000', '_kvstore': 'auto', '_num_gpus': 'auto', '_num_kv_servers': 'auto', '_log_level': 'info', '_tuning_objective_metric': '', 'early_stopping_patience': '3', 'early_stopping_tolerance': '0.001', '_enable_profiler': 'false'}\u001b[0m\n",
      "\u001b[34m[08/22/2024 14:15:11 INFO 140070473144128] Merging with provided configuration from /opt/ml/input/config/hyperparameters.json: {'binary_classifier_model_selection_criteria': 'cross_entropy_loss', 'feature_dim': '94', 'mini_batch_size': '1000', 'predictor_type': 'binary_classifier'}\u001b[0m\n",
      "\u001b[34m[08/22/2024 14:15:11 INFO 140070473144128] Final configuration: {'mini_batch_size': '1000', 'epochs': '15', 'feature_dim': '94', 'use_bias': 'true', 'binary_classifier_model_selection_criteria': 'cross_entropy_loss', 'f_beta': '1.0', 'target_recall': '0.8', 'target_precision': '0.8', 'num_models': 'auto', 'num_calibration_samples': '10000000', 'init_method': 'uniform', 'init_scale': '0.07', 'init_sigma': '0.01', 'init_bias': '0.0', 'optimizer': 'auto', 'loss': 'auto', 'margin': '1.0', 'quantile': '0.5', 'loss_insensitivity': '0.01', 'huber_delta': '1.0', 'num_classes': '1', 'accuracy_top_k': '3', 'wd': 'auto', 'l1': 'auto', 'momentum': 'auto', 'learning_rate': 'auto', 'beta_1': 'auto', 'beta_2': 'auto', 'bias_lr_mult': 'auto', 'bias_wd_mult': 'auto', 'use_lr_scheduler': 'true', 'lr_scheduler_step': 'auto', 'lr_scheduler_factor': 'auto', 'lr_scheduler_minimum_lr': 'auto', 'positive_example_weight_mult': '1.0', 'balance_multiclass_weights': 'false', 'normalize_data': 'true', 'normalize_label': 'auto', 'unbias_data': 'auto', 'unbias_label': 'auto', 'num_point_for_scaler': '10000', '_kvstore': 'auto', '_num_gpus': 'auto', '_num_kv_servers': 'auto', '_log_level': 'info', '_tuning_objective_metric': '', 'early_stopping_patience': '3', 'early_stopping_tolerance': '0.001', '_enable_profiler': 'false', 'predictor_type': 'binary_classifier'}\u001b[0m\n",
      "\u001b[34m/opt/amazon/lib/python3.8/site-packages/mxnet/model.py:97: SyntaxWarning: \"is\" with a literal. Did you mean \"==\"?\n",
      "  if num_device is 1 and 'dist' not in kvstore:\u001b[0m\n",
      "\u001b[34m/opt/amazon/lib/python3.8/site-packages/scipy/optimize/_shgo.py:495: SyntaxWarning: \"is\" with a literal. Did you mean \"==\"?\n",
      "  if cons['type'] is 'ineq':\u001b[0m\n",
      "\u001b[34m/opt/amazon/lib/python3.8/site-packages/scipy/optimize/_shgo.py:743: SyntaxWarning: \"is not\" with a literal. Did you mean \"!=\"?\n",
      "  if len(self.X_min) is not 0:\u001b[0m\n",
      "\u001b[34m[08/22/2024 14:15:14 WARNING 140070473144128] Loggers have already been setup.\u001b[0m\n",
      "\u001b[34m[08/22/2024 14:15:14 INFO 140070473144128] Final configuration: {'mini_batch_size': '1000', 'epochs': '15', 'feature_dim': '94', 'use_bias': 'true', 'binary_classifier_model_selection_criteria': 'cross_entropy_loss', 'f_beta': '1.0', 'target_recall': '0.8', 'target_precision': '0.8', 'num_models': 'auto', 'num_calibration_samples': '10000000', 'init_method': 'uniform', 'init_scale': '0.07', 'init_sigma': '0.01', 'init_bias': '0.0', 'optimizer': 'auto', 'loss': 'auto', 'margin': '1.0', 'quantile': '0.5', 'loss_insensitivity': '0.01', 'huber_delta': '1.0', 'num_classes': '1', 'accuracy_top_k': '3', 'wd': 'auto', 'l1': 'auto', 'momentum': 'auto', 'learning_rate': 'auto', 'beta_1': 'auto', 'beta_2': 'auto', 'bias_lr_mult': 'auto', 'bias_wd_mult': 'auto', 'use_lr_scheduler': 'true', 'lr_scheduler_step': 'auto', 'lr_scheduler_factor': 'auto', 'lr_scheduler_minimum_lr': 'auto', 'positive_example_weight_mult': '1.0', 'balance_multiclass_weights': 'false', 'normalize_data': 'true', 'normalize_label': 'auto', 'unbias_data': 'auto', 'unbias_label': 'auto', 'num_point_for_scaler': '10000', '_kvstore': 'auto', '_num_gpus': 'auto', '_num_kv_servers': 'auto', '_log_level': 'info', '_tuning_objective_metric': '', 'early_stopping_patience': '3', 'early_stopping_tolerance': '0.001', '_enable_profiler': 'false', 'predictor_type': 'binary_classifier'}\u001b[0m\n",
      "\u001b[34m[08/22/2024 14:15:14 WARNING 140070473144128] Loggers have already been setup.\u001b[0m\n",
      "\u001b[34mProcess 7 is a worker.\u001b[0m\n",
      "\u001b[34m[08/22/2024 14:15:14 INFO 140070473144128] Using default worker.\u001b[0m\n",
      "\u001b[34m[08/22/2024 14:15:14 INFO 140070473144128] Checkpoint loading and saving are disabled.\u001b[0m\n",
      "\u001b[34m[2024-08-22 14:15:14.384] [tensorio] [warning] TensorIO is already initialized; ignoring the initialization routine.\u001b[0m\n",
      "\u001b[34m[2024-08-22 14:15:14.421] [tensorio] [info] epoch_stats={\"data_pipeline\": \"/opt/ml/input/data/train\", \"epoch\": 0, \"duration\": 40, \"num_examples\": 1, \"num_bytes\": 424000}\u001b[0m\n",
      "\u001b[34m[08/22/2024 14:15:14 INFO 140070473144128] Create Store: local\u001b[0m\n",
      "\u001b[34m[2024-08-22 14:15:14.530] [tensorio] [info] epoch_stats={\"data_pipeline\": \"/opt/ml/input/data/train\", \"epoch\": 1, \"duration\": 108, \"num_examples\": 11, \"num_bytes\": 4664000}\u001b[0m\n",
      "\u001b[34m[08/22/2024 14:15:14 INFO 140070473144128] Scaler algorithm parameters\n",
      " <algorithm.scaler.ScalerAlgorithmStable object at 0x7f6422de69d0>\u001b[0m\n",
      "\u001b[34m[08/22/2024 14:15:14 INFO 140070473144128] Scaling model computed with parameters:\n",
      " {'stdev_label': None, 'stdev_weight': \u001b[0m\n",
      "\u001b[34m[5.3545807e+02 4.9442825e+00 1.6088995e+01 8.8913528e+01 8.9393112e+01\n",
      " 1.6249949e+01 7.2457764e+01 9.0434875e+01 6.7429152e+00 6.3907652e+00\n",
      " 3.7313807e-01 3.9365968e-01 4.1369209e-01 4.0961868e-01 4.0633386e-01\n",
      " 4.2291433e-01 4.2965516e-01 4.4016454e-01 4.3843511e-01 2.7016395e-01\n",
      " 2.5908911e-01 2.7380988e-01 2.7656808e-01 2.7087051e-01 2.7297473e-01\n",
      " 2.7793238e-01 2.8992218e-01 2.8009537e-01 2.8223431e-01 2.7615684e-01\n",
      " 2.8500602e-01 1.7551577e-01 1.8052632e-01 1.7158581e-01 1.6958199e-01\n",
      " 1.8029134e-01 1.7405386e-01 1.7816044e-01 1.7208262e-01 1.7527309e-01\n",
      " 1.7672352e-01 1.8469717e-01 1.8354957e-01 1.8400961e-01 1.7648271e-01\n",
      " 1.7575808e-01 1.7672351e-01 1.8262547e-01 1.7233042e-01 1.8538180e-01\n",
      " 1.7982030e-01 1.7839867e-01 1.7887402e-01 1.8099521e-01 1.7527308e-01\n",
      " 1.8005599e-01 1.8239361e-01 1.7744364e-01 1.8377976e-01 1.8377978e-01\n",
      " 1.6340378e-01 1.2756060e-01 3.5301507e-01 3.5972446e-01 3.5500982e-01\n",
      " 3.5572970e-01 3.5446805e-01 3.2217702e-01 3.4679833e-01 4.7951972e-01\n",
      " 3.7068751e-01 2.3460098e-01 4.6017605e-01 3.1814224e-01 3.1747973e-01\n",
      " 2.3882937e-01 3.2346731e-01 3.3287108e-01 2.6888555e-01 3.5724959e-01\n",
      " 3.3700228e-01 3.0300662e-01 3.2303819e-01 3.2442924e-01 2.3731834e-01\n",
      " 3.1614777e-01 3.3030614e-01 2.7072939e-01 3.5680389e-01 3.4162647e-01\n",
      " 2.9682234e-01 3.2654941e-01 1.6575097e-01 1.6575097e-01]\u001b[0m\n",
      "\u001b[34m<NDArray 94 @cpu(0)>, 'mean_label': None, 'mean_weight': \u001b[0m\n",
      "\u001b[34m[1.01012543e+03 1.29361820e+01 3.82994537e+01 2.09676380e+01\n",
      " 1.71953445e+02 3.85796356e+01 1.93758183e+01 1.70325256e+02\n",
      " 6.04454577e-01 5.99727392e-01 1.67181849e-01 1.91727266e-01\n",
      " 2.19181821e-01 2.13272765e-01 2.08636403e-01 2.33272761e-01\n",
      " 2.44272739e-01 2.62818217e-01 2.59636372e-01 7.92727396e-02\n",
      " 7.23636448e-02 8.16363841e-02 8.34545493e-02 7.97272772e-02\n",
      " 8.10909197e-02 8.43636468e-02 9.26363617e-02 8.58181939e-02\n",
      " 8.72727260e-02 8.31818208e-02 8.91818255e-02 3.18181813e-02\n",
      " 3.37272733e-02 3.03636417e-02 2.96363663e-02 3.36363651e-02\n",
      " 3.12727317e-02 3.28181833e-02 3.05454563e-02 3.17272767e-02\n",
      " 3.22727300e-02 3.53636369e-02 3.49090956e-02 3.50909084e-02\n",
      " 3.21818218e-02 3.19090970e-02 3.22727263e-02 3.45454551e-02\n",
      " 3.06363627e-02 3.56363654e-02 3.34545411e-02 3.29090953e-02\n",
      " 3.30909081e-02 3.39090899e-02 3.17272730e-02 3.35454531e-02\n",
      " 3.44545469e-02 3.25454548e-02 3.50000039e-02 3.50000039e-02\n",
      " 2.74545494e-02 1.65454559e-02 1.45909071e-01 1.52727306e-01\n",
      " 1.47909105e-01 1.48636386e-01 1.47363633e-01 1.17636360e-01\n",
      " 1.39818177e-01 3.58363658e-01 1.64454550e-01 5.84545508e-02\n",
      " 3.04454595e-01 1.14272729e-01 1.13727272e-01 6.07272759e-02\n",
      " 1.18727282e-01 1.26909107e-01 7.84545541e-02 1.50181830e-01\n",
      " 1.30636364e-01 1.02272727e-01 1.18363656e-01 1.19545467e-01\n",
      " 5.99091053e-02 1.12636372e-01 1.24636389e-01 7.96363577e-02\n",
      " 1.49727270e-01 1.34909093e-01 9.76363644e-02 1.21363655e-01\n",
      " 9.71727431e-01 2.82727312e-02]\u001b[0m\n",
      "\u001b[34m<NDArray 94 @cpu(0)>}\u001b[0m\n",
      "\u001b[34m/opt/amazon/python3.8/lib/python3.8/subprocess.py:848: RuntimeWarning: line buffering (buffering=1) isn't supported in binary mode, the default buffer size will be used\n",
      "  self.stdout = io.open(c2pread, 'rb', bufsize)\u001b[0m\n",
      "\u001b[34m[08/22/2024 14:15:14 INFO 140070473144128] nvidia-smi: took 0.034 seconds to run.\u001b[0m\n",
      "\u001b[34m[08/22/2024 14:15:14 INFO 140070473144128] nvidia-smi identified 0 GPUs.\u001b[0m\n",
      "\u001b[34m[08/22/2024 14:15:14 INFO 140070473144128] Number of GPUs being used: 0\u001b[0m\n",
      "\u001b[34m#metrics {\"StartTime\": 1724336114.6283505, \"EndTime\": 1724336114.6283882, \"Dimensions\": {\"Algorithm\": \"Linear Learner\", \"Host\": \"algo-1\", \"Operation\": \"training\", \"Meta\": \"init_train_data_iter\"}, \"Metrics\": {\"Total Records Seen\": {\"sum\": 12000.0, \"count\": 1, \"min\": 12000, \"max\": 12000}, \"Total Batches Seen\": {\"sum\": 12.0, \"count\": 1, \"min\": 12, \"max\": 12}, \"Max Records Seen Between Resets\": {\"sum\": 11000.0, \"count\": 1, \"min\": 11000, \"max\": 11000}, \"Max Batches Seen Between Resets\": {\"sum\": 11.0, \"count\": 1, \"min\": 11, \"max\": 11}, \"Reset Count\": {\"sum\": 2.0, \"count\": 1, \"min\": 2, \"max\": 2}, \"Number of Records Since Last Reset\": {\"sum\": 0.0, \"count\": 1, \"min\": 0, \"max\": 0}, \"Number of Batches Since Last Reset\": {\"sum\": 0.0, \"count\": 1, \"min\": 0, \"max\": 0}}}\u001b[0m\n",
      "\u001b[34m[2024-08-22 14:15:42.369] [tensorio] [info] epoch_stats={\"data_pipeline\": \"/opt/ml/input/data/train\", \"epoch\": 3, \"duration\": 27740, \"num_examples\": 1309, \"num_bytes\": 554792128}\u001b[0m\n",
      "\u001b[34m#metrics {\"StartTime\": 1724336142.3691182, \"EndTime\": 1724336142.3692036, \"Dimensions\": {\"Algorithm\": \"Linear Learner\", \"Host\": \"algo-1\", \"Operation\": \"training\", \"epoch\": 0, \"model\": 0}, \"Metrics\": {\"train_binary_classification_cross_entropy_objective\": {\"sum\": 0.48326423883000647, \"count\": 1, \"min\": 0.48326423883000647, \"max\": 0.48326423883000647}}}\u001b[0m\n",
      "\u001b[34m#metrics {\"StartTime\": 1724336142.369287, \"EndTime\": 1724336142.3693023, \"Dimensions\": {\"Algorithm\": \"Linear Learner\", \"Host\": \"algo-1\", \"Operation\": \"training\", \"epoch\": 0, \"model\": 1}, \"Metrics\": {\"train_binary_classification_cross_entropy_objective\": {\"sum\": 0.48399494721765546, \"count\": 1, \"min\": 0.48399494721765546, \"max\": 0.48399494721765546}}}\u001b[0m\n",
      "\u001b[34m#metrics {\"StartTime\": 1724336142.3693435, \"EndTime\": 1724336142.3693535, \"Dimensions\": {\"Algorithm\": \"Linear Learner\", \"Host\": \"algo-1\", \"Operation\": \"training\", \"epoch\": 0, \"model\": 2}, \"Metrics\": {\"train_binary_classification_cross_entropy_objective\": {\"sum\": 0.4833532744008102, \"count\": 1, \"min\": 0.4833532744008102, \"max\": 0.4833532744008102}}}\u001b[0m\n",
      "\u001b[34m#metrics {\"StartTime\": 1724336142.3693898, \"EndTime\": 1724336142.3693995, \"Dimensions\": {\"Algorithm\": \"Linear Learner\", \"Host\": \"algo-1\", \"Operation\": \"training\", \"epoch\": 0, \"model\": 3}, \"Metrics\": {\"train_binary_classification_cross_entropy_objective\": {\"sum\": 0.4839370359368281, \"count\": 1, \"min\": 0.4839370359368281, \"max\": 0.4839370359368281}}}\u001b[0m\n",
      "\u001b[34m#metrics {\"StartTime\": 1724336142.3694344, \"EndTime\": 1724336142.3694444, \"Dimensions\": {\"Algorithm\": \"Linear Learner\", \"Host\": \"algo-1\", \"Operation\": \"training\", \"epoch\": 0, \"model\": 4}, \"Metrics\": {\"train_binary_classification_cross_entropy_objective\": {\"sum\": 0.4967843464609315, \"count\": 1, \"min\": 0.4967843464609315, \"max\": 0.4967843464609315}}}\u001b[0m\n",
      "\u001b[34m#metrics {\"StartTime\": 1724336142.369479, \"EndTime\": 1724336142.3694887, \"Dimensions\": {\"Algorithm\": \"Linear Learner\", \"Host\": \"algo-1\", \"Operation\": \"training\", \"epoch\": 0, \"model\": 5}, \"Metrics\": {\"train_binary_classification_cross_entropy_objective\": {\"sum\": 0.5071181633392241, \"count\": 1, \"min\": 0.5071181633392241, \"max\": 0.5071181633392241}}}\u001b[0m\n",
      "\u001b[34m#metrics {\"StartTime\": 1724336142.3695242, \"EndTime\": 1724336142.3695335, \"Dimensions\": {\"Algorithm\": \"Linear Learner\", \"Host\": \"algo-1\", \"Operation\": \"training\", \"epoch\": 0, \"model\": 6}, \"Metrics\": {\"train_binary_classification_cross_entropy_objective\": {\"sum\": 0.4967239976002171, \"count\": 1, \"min\": 0.4967239976002171, \"max\": 0.4967239976002171}}}\u001b[0m\n",
      "\u001b[34m#metrics {\"StartTime\": 1724336142.3695688, \"EndTime\": 1724336142.369577, \"Dimensions\": {\"Algorithm\": \"Linear Learner\", \"Host\": \"algo-1\", \"Operation\": \"training\", \"epoch\": 0, \"model\": 7}, \"Metrics\": {\"train_binary_classification_cross_entropy_objective\": {\"sum\": 0.5070909201945734, \"count\": 1, \"min\": 0.5070909201945734, \"max\": 0.5070909201945734}}}\u001b[0m\n",
      "\u001b[34m#metrics {\"StartTime\": 1724336142.3696153, \"EndTime\": 1724336142.3696263, \"Dimensions\": {\"Algorithm\": \"Linear Learner\", \"Host\": \"algo-1\", \"Operation\": \"training\", \"epoch\": 0, \"model\": 8}, \"Metrics\": {\"train_binary_classification_cross_entropy_objective\": {\"sum\": 0.48365009954143373, \"count\": 1, \"min\": 0.48365009954143373, \"max\": 0.48365009954143373}}}\u001b[0m\n",
      "\u001b[34m#metrics {\"StartTime\": 1724336142.3696613, \"EndTime\": 1724336142.3696704, \"Dimensions\": {\"Algorithm\": \"Linear Learner\", \"Host\": \"algo-1\", \"Operation\": \"training\", \"epoch\": 0, \"model\": 9}, \"Metrics\": {\"train_binary_classification_cross_entropy_objective\": {\"sum\": 0.4839889445640261, \"count\": 1, \"min\": 0.4839889445640261, \"max\": 0.4839889445640261}}}\u001b[0m\n",
      "\u001b[34m#metrics {\"StartTime\": 1724336142.3697011, \"EndTime\": 1724336142.3697107, \"Dimensions\": {\"Algorithm\": \"Linear Learner\", \"Host\": \"algo-1\", \"Operation\": \"training\", \"epoch\": 0, \"model\": 10}, \"Metrics\": {\"train_binary_classification_cross_entropy_objective\": {\"sum\": 0.4834509669312643, \"count\": 1, \"min\": 0.4834509669312643, \"max\": 0.4834509669312643}}}\u001b[0m\n",
      "\u001b[34m#metrics {\"StartTime\": 1724336142.3697493, \"EndTime\": 1724336142.3697586, \"Dimensions\": {\"Algorithm\": \"Linear Learner\", \"Host\": \"algo-1\", \"Operation\": \"training\", \"epoch\": 0, \"model\": 11}, \"Metrics\": {\"train_binary_classification_cross_entropy_objective\": {\"sum\": 0.4838354304369072, \"count\": 1, \"min\": 0.4838354304369072, \"max\": 0.4838354304369072}}}\u001b[0m\n",
      "\u001b[34m#metrics {\"StartTime\": 1724336142.3697941, \"EndTime\": 1724336142.3698034, \"Dimensions\": {\"Algorithm\": \"Linear Learner\", \"Host\": \"algo-1\", \"Operation\": \"training\", \"epoch\": 0, \"model\": 12}, \"Metrics\": {\"train_binary_classification_cross_entropy_objective\": {\"sum\": 0.4958141178749388, \"count\": 1, \"min\": 0.4958141178749388, \"max\": 0.4958141178749388}}}\u001b[0m\n",
      "\u001b[34m#metrics {\"StartTime\": 1724336142.3698378, \"EndTime\": 1724336142.3698468, \"Dimensions\": {\"Algorithm\": \"Linear Learner\", \"Host\": \"algo-1\", \"Operation\": \"training\", \"epoch\": 0, \"model\": 13}, \"Metrics\": {\"train_binary_classification_cross_entropy_objective\": {\"sum\": 0.5054090512710244, \"count\": 1, \"min\": 0.5054090512710244, \"max\": 0.5054090512710244}}}\u001b[0m\n",
      "\u001b[34m#metrics {\"StartTime\": 1724336142.3698754, \"EndTime\": 1724336142.3698847, \"Dimensions\": {\"Algorithm\": \"Linear Learner\", \"Host\": \"algo-1\", \"Operation\": \"training\", \"epoch\": 0, \"model\": 14}, \"Metrics\": {\"train_binary_classification_cross_entropy_objective\": {\"sum\": 0.4957649605893943, \"count\": 1, \"min\": 0.4957649605893943, \"max\": 0.4957649605893943}}}\u001b[0m\n",
      "\u001b[34m#metrics {\"StartTime\": 1724336142.3699179, \"EndTime\": 1724336142.3699274, \"Dimensions\": {\"Algorithm\": \"Linear Learner\", \"Host\": \"algo-1\", \"Operation\": \"training\", \"epoch\": 0, \"model\": 15}, \"Metrics\": {\"train_binary_classification_cross_entropy_objective\": {\"sum\": 0.5054169163835158, \"count\": 1, \"min\": 0.5054169163835158, \"max\": 0.5054169163835158}}}\u001b[0m\n",
      "\u001b[34m#metrics {\"StartTime\": 1724336142.3699658, \"EndTime\": 1724336142.369976, \"Dimensions\": {\"Algorithm\": \"Linear Learner\", \"Host\": \"algo-1\", \"Operation\": \"training\", \"epoch\": 0, \"model\": 16}, \"Metrics\": {\"train_binary_classification_cross_entropy_objective\": {\"sum\": 0.5054160862727267, \"count\": 1, \"min\": 0.5054160862727267, \"max\": 0.5054160862727267}}}\u001b[0m\n",
      "\u001b[34m#metrics {\"StartTime\": 1724336142.3700113, \"EndTime\": 1724336142.3700209, \"Dimensions\": {\"Algorithm\": \"Linear Learner\", \"Host\": \"algo-1\", \"Operation\": \"training\", \"epoch\": 0, \"model\": 17}, \"Metrics\": {\"train_binary_classification_cross_entropy_objective\": {\"sum\": 0.5055327766021822, \"count\": 1, \"min\": 0.5055327766021822, \"max\": 0.5055327766021822}}}\u001b[0m\n",
      "\u001b[34m#metrics {\"StartTime\": 1724336142.3700523, \"EndTime\": 1724336142.3700626, \"Dimensions\": {\"Algorithm\": \"Linear Learner\", \"Host\": \"algo-1\", \"Operation\": \"training\", \"epoch\": 0, \"model\": 18}, \"Metrics\": {\"train_binary_classification_cross_entropy_objective\": {\"sum\": 0.5054345017179437, \"count\": 1, \"min\": 0.5054345017179437, \"max\": 0.5054345017179437}}}\u001b[0m\n",
      "\u001b[34m#metrics {\"StartTime\": 1724336142.3700964, \"EndTime\": 1724336142.3701062, \"Dimensions\": {\"Algorithm\": \"Linear Learner\", \"Host\": \"algo-1\", \"Operation\": \"training\", \"epoch\": 0, \"model\": 19}, \"Metrics\": {\"train_binary_classification_cross_entropy_objective\": {\"sum\": 0.5055315084194918, \"count\": 1, \"min\": 0.5055315084194918, \"max\": 0.5055315084194918}}}\u001b[0m\n",
      "\u001b[34m#metrics {\"StartTime\": 1724336142.370145, \"EndTime\": 1724336142.3701553, \"Dimensions\": {\"Algorithm\": \"Linear Learner\", \"Host\": \"algo-1\", \"Operation\": \"training\", \"epoch\": 0, \"model\": 20}, \"Metrics\": {\"train_binary_classification_cross_entropy_objective\": {\"sum\": 0.5070937946097931, \"count\": 1, \"min\": 0.5070937946097931, \"max\": 0.5070937946097931}}}\u001b[0m\n",
      "\u001b[34m#metrics {\"StartTime\": 1724336142.370194, \"EndTime\": 1724336142.3702052, \"Dimensions\": {\"Algorithm\": \"Linear Learner\", \"Host\": \"algo-1\", \"Operation\": \"training\", \"epoch\": 0, \"model\": 21}, \"Metrics\": {\"train_binary_classification_cross_entropy_objective\": {\"sum\": 0.5088444462580783, \"count\": 1, \"min\": 0.5088444462580783, \"max\": 0.5088444462580783}}}\u001b[0m\n",
      "\u001b[34m#metrics {\"StartTime\": 1724336142.3702443, \"EndTime\": 1724336142.3702548, \"Dimensions\": {\"Algorithm\": \"Linear Learner\", \"Host\": \"algo-1\", \"Operation\": \"training\", \"epoch\": 0, \"model\": 22}, \"Metrics\": {\"train_binary_classification_cross_entropy_objective\": {\"sum\": 0.5071294784079269, \"count\": 1, \"min\": 0.5071294784079269, \"max\": 0.5071294784079269}}}\u001b[0m\n",
      "\u001b[34m#metrics {\"StartTime\": 1724336142.3702888, \"EndTime\": 1724336142.3702993, \"Dimensions\": {\"Algorithm\": \"Linear Learner\", \"Host\": \"algo-1\", \"Operation\": \"training\", \"epoch\": 0, \"model\": 23}, \"Metrics\": {\"train_binary_classification_cross_entropy_objective\": {\"sum\": 0.5088632986086224, \"count\": 1, \"min\": 0.5088632986086224, \"max\": 0.5088632986086224}}}\u001b[0m\n",
      "\u001b[34m#metrics {\"StartTime\": 1724336142.370334, \"EndTime\": 1724336142.370344, \"Dimensions\": {\"Algorithm\": \"Linear Learner\", \"Host\": \"algo-1\", \"Operation\": \"training\", \"epoch\": 0, \"model\": 24}, \"Metrics\": {\"train_binary_classification_cross_entropy_objective\": {\"sum\": 0.5150939563902875, \"count\": 1, \"min\": 0.5150939563902875, \"max\": 0.5150939563902875}}}\u001b[0m\n",
      "\u001b[34m#metrics {\"StartTime\": 1724336142.3703783, \"EndTime\": 1724336142.3703897, \"Dimensions\": {\"Algorithm\": \"Linear Learner\", \"Host\": \"algo-1\", \"Operation\": \"training\", \"epoch\": 0, \"model\": 25}, \"Metrics\": {\"train_binary_classification_cross_entropy_objective\": {\"sum\": 0.5151299039741539, \"count\": 1, \"min\": 0.5151299039741539, \"max\": 0.5151299039741539}}}\u001b[0m\n",
      "\u001b[34m#metrics {\"StartTime\": 1724336142.3704238, \"EndTime\": 1724336142.3704338, \"Dimensions\": {\"Algorithm\": \"Linear Learner\", \"Host\": \"algo-1\", \"Operation\": \"training\", \"epoch\": 0, \"model\": 26}, \"Metrics\": {\"train_binary_classification_cross_entropy_objective\": {\"sum\": 0.5150760626370025, \"count\": 1, \"min\": 0.5150760626370025, \"max\": 0.5150760626370025}}}\u001b[0m\n",
      "\u001b[34m#metrics {\"StartTime\": 1724336142.370468, \"EndTime\": 1724336142.3704777, \"Dimensions\": {\"Algorithm\": \"Linear Learner\", \"Host\": \"algo-1\", \"Operation\": \"training\", \"epoch\": 0, \"model\": 27}, \"Metrics\": {\"train_binary_classification_cross_entropy_objective\": {\"sum\": 0.515100733555785, \"count\": 1, \"min\": 0.515100733555785, \"max\": 0.515100733555785}}}\u001b[0m\n",
      "\u001b[34m#metrics {\"StartTime\": 1724336142.370507, \"EndTime\": 1724336142.3705163, \"Dimensions\": {\"Algorithm\": \"Linear Learner\", \"Host\": \"algo-1\", \"Operation\": \"training\", \"epoch\": 0, \"model\": 28}, \"Metrics\": {\"train_binary_classification_cross_entropy_objective\": {\"sum\": 0.515217893594631, \"count\": 1, \"min\": 0.515217893594631, \"max\": 0.515217893594631}}}\u001b[0m\n",
      "\u001b[34m#metrics {\"StartTime\": 1724336142.3705485, \"EndTime\": 1724336142.3705578, \"Dimensions\": {\"Algorithm\": \"Linear Learner\", \"Host\": \"algo-1\", \"Operation\": \"training\", \"epoch\": 0, \"model\": 29}, \"Metrics\": {\"train_binary_classification_cross_entropy_objective\": {\"sum\": 0.5156550729734088, \"count\": 1, \"min\": 0.5156550729734088, \"max\": 0.5156550729734088}}}\u001b[0m\n",
      "\u001b[34m#metrics {\"StartTime\": 1724336142.3705974, \"EndTime\": 1724336142.3706076, \"Dimensions\": {\"Algorithm\": \"Linear Learner\", \"Host\": \"algo-1\", \"Operation\": \"training\", \"epoch\": 0, \"model\": 30}, \"Metrics\": {\"train_binary_classification_cross_entropy_objective\": {\"sum\": 0.5152582339132233, \"count\": 1, \"min\": 0.5152582339132233, \"max\": 0.5152582339132233}}}\u001b[0m\n",
      "\u001b[34m#metrics {\"StartTime\": 1724336142.3706439, \"EndTime\": 1724336142.3706536, \"Dimensions\": {\"Algorithm\": \"Linear Learner\", \"Host\": \"algo-1\", \"Operation\": \"training\", \"epoch\": 0, \"model\": 31}, \"Metrics\": {\"train_binary_classification_cross_entropy_objective\": {\"sum\": 0.5156023629798072, \"count\": 1, \"min\": 0.5156023629798072, \"max\": 0.5156023629798072}}}\u001b[0m\n",
      "\u001b[34m[08/22/2024 14:15:42 INFO 140070473144128] #quality_metric: host=algo-1, epoch=0, train binary_classification_cross_entropy_objective <loss>=0.48326423883000647\u001b[0m\n",
      "\u001b[34m[2024-08-22 14:15:42.387] [tensorio] [info] epoch_stats={\"data_pipeline\": \"/opt/ml/input/data/validation\", \"epoch\": 0, \"duration\": 28003, \"num_examples\": 1, \"num_bytes\": 424000}\u001b[0m\n",
      "\u001b[34m[2024-08-22 14:15:45.241] [tensorio] [info] epoch_stats={\"data_pipeline\": \"/opt/ml/input/data/validation\", \"epoch\": 2, \"duration\": 2853, \"num_examples\": 164, \"num_bytes\": 69349016}\u001b[0m\n",
      "\u001b[34m#metrics {\"StartTime\": 1724336145.2485442, \"EndTime\": 1724336145.248621, \"Dimensions\": {\"Algorithm\": \"Linear Learner\", \"Host\": \"algo-1\", \"Operation\": \"training\", \"epoch\": 0, \"model\": 0}, \"Metrics\": {\"validation_binary_classification_cross_entropy_objective\": {\"sum\": 0.48122804060617796, \"count\": 1, \"min\": 0.48122804060617796, \"max\": 0.48122804060617796}}}\u001b[0m\n",
      "\u001b[34m#metrics {\"StartTime\": 1724336145.2488685, \"EndTime\": 1724336145.2488942, \"Dimensions\": {\"Algorithm\": \"Linear Learner\", \"Host\": \"algo-1\", \"Operation\": \"training\", \"epoch\": 0, \"model\": 1}, \"Metrics\": {\"validation_binary_classification_cross_entropy_objective\": {\"sum\": 0.4823322689019616, \"count\": 1, \"min\": 0.4823322689019616, \"max\": 0.4823322689019616}}}\u001b[0m\n",
      "\u001b[34m#metrics {\"StartTime\": 1724336145.248982, \"EndTime\": 1724336145.2489958, \"Dimensions\": {\"Algorithm\": \"Linear Learner\", \"Host\": \"algo-1\", \"Operation\": \"training\", \"epoch\": 0, \"model\": 2}, \"Metrics\": {\"validation_binary_classification_cross_entropy_objective\": {\"sum\": 0.4812275420523304, \"count\": 1, \"min\": 0.4812275420523304, \"max\": 0.4812275420523304}}}\u001b[0m\n",
      "\u001b[34m#metrics {\"StartTime\": 1724336145.2490633, \"EndTime\": 1724336145.2490761, \"Dimensions\": {\"Algorithm\": \"Linear Learner\", \"Host\": \"algo-1\", \"Operation\": \"training\", \"epoch\": 0, \"model\": 3}, \"Metrics\": {\"validation_binary_classification_cross_entropy_objective\": {\"sum\": 0.48233138952910104, \"count\": 1, \"min\": 0.48233138952910104, \"max\": 0.48233138952910104}}}\u001b[0m\n",
      "\u001b[34m#metrics {\"StartTime\": 1724336145.2491453, \"EndTime\": 1724336145.2491572, \"Dimensions\": {\"Algorithm\": \"Linear Learner\", \"Host\": \"algo-1\", \"Operation\": \"training\", \"epoch\": 0, \"model\": 4}, \"Metrics\": {\"validation_binary_classification_cross_entropy_objective\": {\"sum\": 0.48643935363216123, \"count\": 1, \"min\": 0.48643935363216123, \"max\": 0.48643935363216123}}}\u001b[0m\n",
      "\u001b[34m#metrics {\"StartTime\": 1724336145.2492182, \"EndTime\": 1724336145.2492294, \"Dimensions\": {\"Algorithm\": \"Linear Learner\", \"Host\": \"algo-1\", \"Operation\": \"training\", \"epoch\": 0, \"model\": 5}, \"Metrics\": {\"validation_binary_classification_cross_entropy_objective\": {\"sum\": 0.5036471251450643, \"count\": 1, \"min\": 0.5036471251450643, \"max\": 0.5036471251450643}}}\u001b[0m\n",
      "\u001b[34m#metrics {\"StartTime\": 1724336145.2492898, \"EndTime\": 1724336145.2492998, \"Dimensions\": {\"Algorithm\": \"Linear Learner\", \"Host\": \"algo-1\", \"Operation\": \"training\", \"epoch\": 0, \"model\": 6}, \"Metrics\": {\"validation_binary_classification_cross_entropy_objective\": {\"sum\": 0.48643780218184596, \"count\": 1, \"min\": 0.48643780218184596, \"max\": 0.48643780218184596}}}\u001b[0m\n",
      "\u001b[34m#metrics {\"StartTime\": 1724336145.249364, \"EndTime\": 1724336145.2493744, \"Dimensions\": {\"Algorithm\": \"Linear Learner\", \"Host\": \"algo-1\", \"Operation\": \"training\", \"epoch\": 0, \"model\": 7}, \"Metrics\": {\"validation_binary_classification_cross_entropy_objective\": {\"sum\": 0.5036537862125632, \"count\": 1, \"min\": 0.5036537862125632, \"max\": 0.5036537862125632}}}\u001b[0m\n",
      "\u001b[34m#metrics {\"StartTime\": 1724336145.2494354, \"EndTime\": 1724336145.249446, \"Dimensions\": {\"Algorithm\": \"Linear Learner\", \"Host\": \"algo-1\", \"Operation\": \"training\", \"epoch\": 0, \"model\": 8}, \"Metrics\": {\"validation_binary_classification_cross_entropy_objective\": {\"sum\": 0.4813402297754676, \"count\": 1, \"min\": 0.4813402297754676, \"max\": 0.4813402297754676}}}\u001b[0m\n",
      "\u001b[34m#metrics {\"StartTime\": 1724336145.2495096, \"EndTime\": 1724336145.2495208, \"Dimensions\": {\"Algorithm\": \"Linear Learner\", \"Host\": \"algo-1\", \"Operation\": \"training\", \"epoch\": 0, \"model\": 9}, \"Metrics\": {\"validation_binary_classification_cross_entropy_objective\": {\"sum\": 0.4824950245296255, \"count\": 1, \"min\": 0.4824950245296255, \"max\": 0.4824950245296255}}}\u001b[0m\n",
      "\u001b[34m#metrics {\"StartTime\": 1724336145.249583, \"EndTime\": 1724336145.2495935, \"Dimensions\": {\"Algorithm\": \"Linear Learner\", \"Host\": \"algo-1\", \"Operation\": \"training\", \"epoch\": 0, \"model\": 10}, \"Metrics\": {\"validation_binary_classification_cross_entropy_objective\": {\"sum\": 0.4813412085978793, \"count\": 1, \"min\": 0.4813412085978793, \"max\": 0.4813412085978793}}}\u001b[0m\n",
      "\u001b[34m#metrics {\"StartTime\": 1724336145.2496586, \"EndTime\": 1724336145.2496698, \"Dimensions\": {\"Algorithm\": \"Linear Learner\", \"Host\": \"algo-1\", \"Operation\": \"training\", \"epoch\": 0, \"model\": 11}, \"Metrics\": {\"validation_binary_classification_cross_entropy_objective\": {\"sum\": 0.4824994583376641, \"count\": 1, \"min\": 0.4824994583376641, \"max\": 0.4824994583376641}}}\u001b[0m\n",
      "\u001b[34m#metrics {\"StartTime\": 1724336145.249731, \"EndTime\": 1724336145.249742, \"Dimensions\": {\"Algorithm\": \"Linear Learner\", \"Host\": \"algo-1\", \"Operation\": \"training\", \"epoch\": 0, \"model\": 12}, \"Metrics\": {\"validation_binary_classification_cross_entropy_objective\": {\"sum\": 0.4861994025760582, \"count\": 1, \"min\": 0.4861994025760582, \"max\": 0.4861994025760582}}}\u001b[0m\n",
      "\u001b[34m#metrics {\"StartTime\": 1724336145.249804, \"EndTime\": 1724336145.2498147, \"Dimensions\": {\"Algorithm\": \"Linear Learner\", \"Host\": \"algo-1\", \"Operation\": \"training\", \"epoch\": 0, \"model\": 13}, \"Metrics\": {\"validation_binary_classification_cross_entropy_objective\": {\"sum\": 0.50116403460636, \"count\": 1, \"min\": 0.50116403460636, \"max\": 0.50116403460636}}}\u001b[0m\n",
      "\u001b[34m#metrics {\"StartTime\": 1724336145.249873, \"EndTime\": 1724336145.249884, \"Dimensions\": {\"Algorithm\": \"Linear Learner\", \"Host\": \"algo-1\", \"Operation\": \"training\", \"epoch\": 0, \"model\": 14}, \"Metrics\": {\"validation_binary_classification_cross_entropy_objective\": {\"sum\": 0.48619846480224166, \"count\": 1, \"min\": 0.48619846480224166, \"max\": 0.48619846480224166}}}\u001b[0m\n",
      "\u001b[34m#metrics {\"StartTime\": 1724336145.2499473, \"EndTime\": 1724336145.2499585, \"Dimensions\": {\"Algorithm\": \"Linear Learner\", \"Host\": \"algo-1\", \"Operation\": \"training\", \"epoch\": 0, \"model\": 15}, \"Metrics\": {\"validation_binary_classification_cross_entropy_objective\": {\"sum\": 0.501145097583288, \"count\": 1, \"min\": 0.501145097583288, \"max\": 0.501145097583288}}}\u001b[0m\n",
      "\u001b[34m#metrics {\"StartTime\": 1724336145.2500176, \"EndTime\": 1724336145.2500281, \"Dimensions\": {\"Algorithm\": \"Linear Learner\", \"Host\": \"algo-1\", \"Operation\": \"training\", \"epoch\": 0, \"model\": 16}, \"Metrics\": {\"validation_binary_classification_cross_entropy_objective\": {\"sum\": 0.5047510623689908, \"count\": 1, \"min\": 0.5047510623689908, \"max\": 0.5047510623689908}}}\u001b[0m\n",
      "\u001b[34m#metrics {\"StartTime\": 1724336145.2500913, \"EndTime\": 1724336145.2501023, \"Dimensions\": {\"Algorithm\": \"Linear Learner\", \"Host\": \"algo-1\", \"Operation\": \"training\", \"epoch\": 0, \"model\": 17}, \"Metrics\": {\"validation_binary_classification_cross_entropy_objective\": {\"sum\": 0.5045503233566518, \"count\": 1, \"min\": 0.5045503233566518, \"max\": 0.5045503233566518}}}\u001b[0m\n",
      "\u001b[34m#metrics {\"StartTime\": 1724336145.2501621, \"EndTime\": 1724336145.2501733, \"Dimensions\": {\"Algorithm\": \"Linear Learner\", \"Host\": \"algo-1\", \"Operation\": \"training\", \"epoch\": 0, \"model\": 18}, \"Metrics\": {\"validation_binary_classification_cross_entropy_objective\": {\"sum\": 0.5047450368083798, \"count\": 1, \"min\": 0.5047450368083798, \"max\": 0.5047450368083798}}}\u001b[0m\n",
      "\u001b[34m#metrics {\"StartTime\": 1724336145.2502317, \"EndTime\": 1724336145.2502425, \"Dimensions\": {\"Algorithm\": \"Linear Learner\", \"Host\": \"algo-1\", \"Operation\": \"training\", \"epoch\": 0, \"model\": 19}, \"Metrics\": {\"validation_binary_classification_cross_entropy_objective\": {\"sum\": 0.5045430831307911, \"count\": 1, \"min\": 0.5045430831307911, \"max\": 0.5045430831307911}}}\u001b[0m\n",
      "\u001b[34m#metrics {\"StartTime\": 1724336145.250306, \"EndTime\": 1724336145.2503166, \"Dimensions\": {\"Algorithm\": \"Linear Learner\", \"Host\": \"algo-1\", \"Operation\": \"training\", \"epoch\": 0, \"model\": 20}, \"Metrics\": {\"validation_binary_classification_cross_entropy_objective\": {\"sum\": 0.5049183818541063, \"count\": 1, \"min\": 0.5049183818541063, \"max\": 0.5049183818541063}}}\u001b[0m\n",
      "\u001b[34m#metrics {\"StartTime\": 1724336145.2503777, \"EndTime\": 1724336145.2503881, \"Dimensions\": {\"Algorithm\": \"Linear Learner\", \"Host\": \"algo-1\", \"Operation\": \"training\", \"epoch\": 0, \"model\": 21}, \"Metrics\": {\"validation_binary_classification_cross_entropy_objective\": {\"sum\": 0.5096002855498508, \"count\": 1, \"min\": 0.5096002855498508, \"max\": 0.5096002855498508}}}\u001b[0m\n",
      "\u001b[34m#metrics {\"StartTime\": 1724336145.2504508, \"EndTime\": 1724336145.250461, \"Dimensions\": {\"Algorithm\": \"Linear Learner\", \"Host\": \"algo-1\", \"Operation\": \"training\", \"epoch\": 0, \"model\": 22}, \"Metrics\": {\"validation_binary_classification_cross_entropy_objective\": {\"sum\": 0.5049155278572306, \"count\": 1, \"min\": 0.5049155278572306, \"max\": 0.5049155278572306}}}\u001b[0m\n",
      "\u001b[34m#metrics {\"StartTime\": 1724336145.250519, \"EndTime\": 1724336145.250529, \"Dimensions\": {\"Algorithm\": \"Linear Learner\", \"Host\": \"algo-1\", \"Operation\": \"training\", \"epoch\": 0, \"model\": 23}, \"Metrics\": {\"validation_binary_classification_cross_entropy_objective\": {\"sum\": 0.5096016886654696, \"count\": 1, \"min\": 0.5096016886654696, \"max\": 0.5096016886654696}}}\u001b[0m\n",
      "\u001b[34m#metrics {\"StartTime\": 1724336145.2505882, \"EndTime\": 1724336145.2505987, \"Dimensions\": {\"Algorithm\": \"Linear Learner\", \"Host\": \"algo-1\", \"Operation\": \"training\", \"epoch\": 0, \"model\": 24}, \"Metrics\": {\"validation_binary_classification_cross_entropy_objective\": {\"sum\": 0.5138527063765742, \"count\": 1, \"min\": 0.5138527063765742, \"max\": 0.5138527063765742}}}\u001b[0m\n",
      "\u001b[34m#metrics {\"StartTime\": 1724336145.2506573, \"EndTime\": 1724336145.2506673, \"Dimensions\": {\"Algorithm\": \"Linear Learner\", \"Host\": \"algo-1\", \"Operation\": \"training\", \"epoch\": 0, \"model\": 25}, \"Metrics\": {\"validation_binary_classification_cross_entropy_objective\": {\"sum\": 0.5137741690322399, \"count\": 1, \"min\": 0.5137741690322399, \"max\": 0.5137741690322399}}}\u001b[0m\n",
      "\u001b[34m#metrics {\"StartTime\": 1724336145.2507334, \"EndTime\": 1724336145.2507455, \"Dimensions\": {\"Algorithm\": \"Linear Learner\", \"Host\": \"algo-1\", \"Operation\": \"training\", \"epoch\": 0, \"model\": 26}, \"Metrics\": {\"validation_binary_classification_cross_entropy_objective\": {\"sum\": 0.5138536267980299, \"count\": 1, \"min\": 0.5138536267980299, \"max\": 0.5138536267980299}}}\u001b[0m\n",
      "\u001b[34m#metrics {\"StartTime\": 1724336145.2508097, \"EndTime\": 1724336145.2508209, \"Dimensions\": {\"Algorithm\": \"Linear Learner\", \"Host\": \"algo-1\", \"Operation\": \"training\", \"epoch\": 0, \"model\": 27}, \"Metrics\": {\"validation_binary_classification_cross_entropy_objective\": {\"sum\": 0.5138013348059798, \"count\": 1, \"min\": 0.5138013348059798, \"max\": 0.5138013348059798}}}\u001b[0m\n",
      "\u001b[34m#metrics {\"StartTime\": 1724336145.2508826, \"EndTime\": 1724336145.2508934, \"Dimensions\": {\"Algorithm\": \"Linear Learner\", \"Host\": \"algo-1\", \"Operation\": \"training\", \"epoch\": 0, \"model\": 28}, \"Metrics\": {\"validation_binary_classification_cross_entropy_objective\": {\"sum\": 0.5138317436053275, \"count\": 1, \"min\": 0.5138317436053275, \"max\": 0.5138317436053275}}}\u001b[0m\n",
      "\u001b[34m#metrics {\"StartTime\": 1724336145.250999, \"EndTime\": 1724336145.2510135, \"Dimensions\": {\"Algorithm\": \"Linear Learner\", \"Host\": \"algo-1\", \"Operation\": \"training\", \"epoch\": 0, \"model\": 29}, \"Metrics\": {\"validation_binary_classification_cross_entropy_objective\": {\"sum\": 0.5136621332354289, \"count\": 1, \"min\": 0.5136621332354289, \"max\": 0.5136621332354289}}}\u001b[0m\n",
      "\u001b[34m#metrics {\"StartTime\": 1724336145.251085, \"EndTime\": 1724336145.2510972, \"Dimensions\": {\"Algorithm\": \"Linear Learner\", \"Host\": \"algo-1\", \"Operation\": \"training\", \"epoch\": 0, \"model\": 30}, \"Metrics\": {\"validation_binary_classification_cross_entropy_objective\": {\"sum\": 0.5138355934038066, \"count\": 1, \"min\": 0.5138355934038066, \"max\": 0.5138355934038066}}}\u001b[0m\n",
      "\u001b[34m#metrics {\"StartTime\": 1724336145.2511647, \"EndTime\": 1724336145.2511752, \"Dimensions\": {\"Algorithm\": \"Linear Learner\", \"Host\": \"algo-1\", \"Operation\": \"training\", \"epoch\": 0, \"model\": 31}, \"Metrics\": {\"validation_binary_classification_cross_entropy_objective\": {\"sum\": 0.5139352239419697, \"count\": 1, \"min\": 0.5139352239419697, \"max\": 0.5139352239419697}}}\u001b[0m\n",
      "\u001b[34m[08/22/2024 14:15:45 INFO 140070473144128] #quality_metric: host=algo-1, epoch=0, validation binary_classification_cross_entropy_objective <loss>=0.48122804060617796\u001b[0m\n",
      "\u001b[34m[08/22/2024 14:15:45 INFO 140070473144128] #early_stopping_criteria_metric: host=algo-1, epoch=0, criteria=binary_classification_cross_entropy_objective, value=0.4812275420523304\u001b[0m\n",
      "\u001b[34m[08/22/2024 14:15:45 INFO 140070473144128] Epoch 0: Loss improved. Updating best model\u001b[0m\n",
      "\u001b[34m[08/22/2024 14:15:45 INFO 140070473144128] Saving model for epoch: 0\u001b[0m\n",
      "\u001b[34m[08/22/2024 14:15:45 INFO 140070473144128] Saved checkpoint to \"/tmp/tmpqm2hi0yq/mx-mod-0000.params\"\u001b[0m\n",
      "\u001b[34m[08/22/2024 14:15:45 INFO 140070473144128] #progress_metric: host=algo-1, completed 6.666666666666667 % of epochs\u001b[0m\n",
      "\u001b[34m#metrics {\"StartTime\": 1724336114.6286347, \"EndTime\": 1724336145.2596953, \"Dimensions\": {\"Algorithm\": \"Linear Learner\", \"Host\": \"algo-1\", \"Operation\": \"training\", \"epoch\": 0, \"Meta\": \"training_data_iter\"}, \"Metrics\": {\"Total Records Seen\": {\"sum\": 1320472.0, \"count\": 1, \"min\": 1320472, \"max\": 1320472}, \"Total Batches Seen\": {\"sum\": 1321.0, \"count\": 1, \"min\": 1321, \"max\": 1321}, \"Max Records Seen Between Resets\": {\"sum\": 1308472.0, \"count\": 1, \"min\": 1308472, \"max\": 1308472}, \"Max Batches Seen Between Resets\": {\"sum\": 1309.0, \"count\": 1, \"min\": 1309, \"max\": 1309}, \"Reset Count\": {\"sum\": 3.0, \"count\": 1, \"min\": 3, \"max\": 3}, \"Number of Records Since Last Reset\": {\"sum\": 1308472.0, \"count\": 1, \"min\": 1308472, \"max\": 1308472}, \"Number of Batches Since Last Reset\": {\"sum\": 1309.0, \"count\": 1, \"min\": 1309, \"max\": 1309}}}\u001b[0m\n",
      "\u001b[34m[08/22/2024 14:15:45 INFO 140070473144128] #throughput_metric: host=algo-1, train throughput=42717.00611879449 records/second\u001b[0m\n",
      "\u001b[34m[2024-08-22 14:16:13.292] [tensorio] [info] epoch_stats={\"data_pipeline\": \"/opt/ml/input/data/train\", \"epoch\": 5, \"duration\": 28030, \"num_examples\": 1309, \"num_bytes\": 554792128}\u001b[0m\n",
      "\u001b[34m#metrics {\"StartTime\": 1724336173.2927926, \"EndTime\": 1724336173.2928555, \"Dimensions\": {\"Algorithm\": \"Linear Learner\", \"Host\": \"algo-1\", \"Operation\": \"training\", \"epoch\": 1, \"model\": 0}, \"Metrics\": {\"train_binary_classification_cross_entropy_objective\": {\"sum\": 0.48085432018781654, \"count\": 1, \"min\": 0.48085432018781654, \"max\": 0.48085432018781654}}}\u001b[0m\n",
      "\u001b[34m#metrics {\"StartTime\": 1724336173.2929287, \"EndTime\": 1724336173.2929437, \"Dimensions\": {\"Algorithm\": \"Linear Learner\", \"Host\": \"algo-1\", \"Operation\": \"training\", \"epoch\": 1, \"model\": 1}, \"Metrics\": {\"train_binary_classification_cross_entropy_objective\": {\"sum\": 0.4818994718312488, \"count\": 1, \"min\": 0.4818994718312488, \"max\": 0.4818994718312488}}}\u001b[0m\n",
      "\u001b[34m#metrics {\"StartTime\": 1724336173.292984, \"EndTime\": 1724336173.2929945, \"Dimensions\": {\"Algorithm\": \"Linear Learner\", \"Host\": \"algo-1\", \"Operation\": \"training\", \"epoch\": 1, \"model\": 2}, \"Metrics\": {\"train_binary_classification_cross_entropy_objective\": {\"sum\": 0.4808542081267097, \"count\": 1, \"min\": 0.4808542081267097, \"max\": 0.4808542081267097}}}\u001b[0m\n",
      "\u001b[34m#metrics {\"StartTime\": 1724336173.2930245, \"EndTime\": 1724336173.2930326, \"Dimensions\": {\"Algorithm\": \"Linear Learner\", \"Host\": \"algo-1\", \"Operation\": \"training\", \"epoch\": 1, \"model\": 3}, \"Metrics\": {\"train_binary_classification_cross_entropy_objective\": {\"sum\": 0.4818997209181479, \"count\": 1, \"min\": 0.4818997209181479, \"max\": 0.4818997209181479}}}\u001b[0m\n",
      "\u001b[34m#metrics {\"StartTime\": 1724336173.2930627, \"EndTime\": 1724336173.2930722, \"Dimensions\": {\"Algorithm\": \"Linear Learner\", \"Host\": \"algo-1\", \"Operation\": \"training\", \"epoch\": 1, \"model\": 4}, \"Metrics\": {\"train_binary_classification_cross_entropy_objective\": {\"sum\": 0.48490778360162673, \"count\": 1, \"min\": 0.48490778360162673, \"max\": 0.48490778360162673}}}\u001b[0m\n",
      "\u001b[34m#metrics {\"StartTime\": 1724336173.293107, \"EndTime\": 1724336173.2931175, \"Dimensions\": {\"Algorithm\": \"Linear Learner\", \"Host\": \"algo-1\", \"Operation\": \"training\", \"epoch\": 1, \"model\": 5}, \"Metrics\": {\"train_binary_classification_cross_entropy_objective\": {\"sum\": 0.5031326578356075, \"count\": 1, \"min\": 0.5031326578356075, \"max\": 0.5031326578356075}}}\u001b[0m\n",
      "\u001b[34m#metrics {\"StartTime\": 1724336173.2931461, \"EndTime\": 1724336173.293154, \"Dimensions\": {\"Algorithm\": \"Linear Learner\", \"Host\": \"algo-1\", \"Operation\": \"training\", \"epoch\": 1, \"model\": 6}, \"Metrics\": {\"train_binary_classification_cross_entropy_objective\": {\"sum\": 0.4849078354908421, \"count\": 1, \"min\": 0.4849078354908421, \"max\": 0.4849078354908421}}}\u001b[0m\n",
      "\u001b[34m#metrics {\"StartTime\": 1724336173.2931807, \"EndTime\": 1724336173.293189, \"Dimensions\": {\"Algorithm\": \"Linear Learner\", \"Host\": \"algo-1\", \"Operation\": \"training\", \"epoch\": 1, \"model\": 7}, \"Metrics\": {\"train_binary_classification_cross_entropy_objective\": {\"sum\": 0.503132944089557, \"count\": 1, \"min\": 0.503132944089557, \"max\": 0.503132944089557}}}\u001b[0m\n",
      "\u001b[34m#metrics {\"StartTime\": 1724336173.2932189, \"EndTime\": 1724336173.2932274, \"Dimensions\": {\"Algorithm\": \"Linear Learner\", \"Host\": \"algo-1\", \"Operation\": \"training\", \"epoch\": 1, \"model\": 8}, \"Metrics\": {\"train_binary_classification_cross_entropy_objective\": {\"sum\": 0.48095561327919684, \"count\": 1, \"min\": 0.48095561327919684, \"max\": 0.48095561327919684}}}\u001b[0m\n",
      "\u001b[34m#metrics {\"StartTime\": 1724336173.2932534, \"EndTime\": 1724336173.2932608, \"Dimensions\": {\"Algorithm\": \"Linear Learner\", \"Host\": \"algo-1\", \"Operation\": \"training\", \"epoch\": 1, \"model\": 9}, \"Metrics\": {\"train_binary_classification_cross_entropy_objective\": {\"sum\": 0.4819440158529019, \"count\": 1, \"min\": 0.4819440158529019, \"max\": 0.4819440158529019}}}\u001b[0m\n",
      "\u001b[34m#metrics {\"StartTime\": 1724336173.2932873, \"EndTime\": 1724336173.293296, \"Dimensions\": {\"Algorithm\": \"Linear Learner\", \"Host\": \"algo-1\", \"Operation\": \"training\", \"epoch\": 1, \"model\": 10}, \"Metrics\": {\"train_binary_classification_cross_entropy_objective\": {\"sum\": 0.48095582531570297, \"count\": 1, \"min\": 0.48095582531570297, \"max\": 0.48095582531570297}}}\u001b[0m\n",
      "\u001b[34m#metrics {\"StartTime\": 1724336173.2933292, \"EndTime\": 1724336173.2933395, \"Dimensions\": {\"Algorithm\": \"Linear Learner\", \"Host\": \"algo-1\", \"Operation\": \"training\", \"epoch\": 1, \"model\": 11}, \"Metrics\": {\"train_binary_classification_cross_entropy_objective\": {\"sum\": 0.4819444942182722, \"count\": 1, \"min\": 0.4819444942182722, \"max\": 0.4819444942182722}}}\u001b[0m\n",
      "\u001b[34m#metrics {\"StartTime\": 1724336173.2933707, \"EndTime\": 1724336173.293381, \"Dimensions\": {\"Algorithm\": \"Linear Learner\", \"Host\": \"algo-1\", \"Operation\": \"training\", \"epoch\": 1, \"model\": 12}, \"Metrics\": {\"train_binary_classification_cross_entropy_objective\": {\"sum\": 0.4847626412534568, \"count\": 1, \"min\": 0.4847626412534568, \"max\": 0.4847626412534568}}}\u001b[0m\n",
      "\u001b[34m#metrics {\"StartTime\": 1724336173.2934115, \"EndTime\": 1724336173.2934203, \"Dimensions\": {\"Algorithm\": \"Linear Learner\", \"Host\": \"algo-1\", \"Operation\": \"training\", \"epoch\": 1, \"model\": 13}, \"Metrics\": {\"train_binary_classification_cross_entropy_objective\": {\"sum\": 0.5017663723073603, \"count\": 1, \"min\": 0.5017663723073603, \"max\": 0.5017663723073603}}}\u001b[0m\n",
      "\u001b[34m#metrics {\"StartTime\": 1724336173.2934513, \"EndTime\": 1724336173.293462, \"Dimensions\": {\"Algorithm\": \"Linear Learner\", \"Host\": \"algo-1\", \"Operation\": \"training\", \"epoch\": 1, \"model\": 14}, \"Metrics\": {\"train_binary_classification_cross_entropy_objective\": {\"sum\": 0.4847627076081909, \"count\": 1, \"min\": 0.4847627076081909, \"max\": 0.4847627076081909}}}\u001b[0m\n",
      "\u001b[34m#metrics {\"StartTime\": 1724336173.2934952, \"EndTime\": 1724336173.2935052, \"Dimensions\": {\"Algorithm\": \"Linear Learner\", \"Host\": \"algo-1\", \"Operation\": \"training\", \"epoch\": 1, \"model\": 15}, \"Metrics\": {\"train_binary_classification_cross_entropy_objective\": {\"sum\": 0.501765247963255, \"count\": 1, \"min\": 0.501765247963255, \"max\": 0.501765247963255}}}\u001b[0m\n",
      "\u001b[34m#metrics {\"StartTime\": 1724336173.2935367, \"EndTime\": 1724336173.293546, \"Dimensions\": {\"Algorithm\": \"Linear Learner\", \"Host\": \"algo-1\", \"Operation\": \"training\", \"epoch\": 1, \"model\": 16}, \"Metrics\": {\"train_binary_classification_cross_entropy_objective\": {\"sum\": 0.5038869441321137, \"count\": 1, \"min\": 0.5038869441321137, \"max\": 0.5038869441321137}}}\u001b[0m\n",
      "\u001b[34m#metrics {\"StartTime\": 1724336173.2935836, \"EndTime\": 1724336173.2935941, \"Dimensions\": {\"Algorithm\": \"Linear Learner\", \"Host\": \"algo-1\", \"Operation\": \"training\", \"epoch\": 1, \"model\": 17}, \"Metrics\": {\"train_binary_classification_cross_entropy_objective\": {\"sum\": 0.5041312802282677, \"count\": 1, \"min\": 0.5041312802282677, \"max\": 0.5041312802282677}}}\u001b[0m\n",
      "\u001b[34m#metrics {\"StartTime\": 1724336173.2936256, \"EndTime\": 1724336173.2936351, \"Dimensions\": {\"Algorithm\": \"Linear Learner\", \"Host\": \"algo-1\", \"Operation\": \"training\", \"epoch\": 1, \"model\": 18}, \"Metrics\": {\"train_binary_classification_cross_entropy_objective\": {\"sum\": 0.5038869697500806, \"count\": 1, \"min\": 0.5038869697500806, \"max\": 0.5038869697500806}}}\u001b[0m\n",
      "\u001b[34m#metrics {\"StartTime\": 1724336173.2936702, \"EndTime\": 1724336173.2936807, \"Dimensions\": {\"Algorithm\": \"Linear Learner\", \"Host\": \"algo-1\", \"Operation\": \"training\", \"epoch\": 1, \"model\": 19}, \"Metrics\": {\"train_binary_classification_cross_entropy_objective\": {\"sum\": 0.5041313585753835, \"count\": 1, \"min\": 0.5041313585753835, \"max\": 0.5041313585753835}}}\u001b[0m\n",
      "\u001b[34m#metrics {\"StartTime\": 1724336173.2937126, \"EndTime\": 1724336173.2937222, \"Dimensions\": {\"Algorithm\": \"Linear Learner\", \"Host\": \"algo-1\", \"Operation\": \"training\", \"epoch\": 1, \"model\": 20}, \"Metrics\": {\"train_binary_classification_cross_entropy_objective\": {\"sum\": 0.5047003923002004, \"count\": 1, \"min\": 0.5047003923002004, \"max\": 0.5047003923002004}}}\u001b[0m\n",
      "\u001b[34m#metrics {\"StartTime\": 1724336173.293754, \"EndTime\": 1724336173.2937634, \"Dimensions\": {\"Algorithm\": \"Linear Learner\", \"Host\": \"algo-1\", \"Operation\": \"training\", \"epoch\": 1, \"model\": 21}, \"Metrics\": {\"train_binary_classification_cross_entropy_objective\": {\"sum\": 0.5079842636621691, \"count\": 1, \"min\": 0.5079842636621691, \"max\": 0.5079842636621691}}}\u001b[0m\n",
      "\u001b[34m#metrics {\"StartTime\": 1724336173.2938, \"EndTime\": 1724336173.2938104, \"Dimensions\": {\"Algorithm\": \"Linear Learner\", \"Host\": \"algo-1\", \"Operation\": \"training\", \"epoch\": 1, \"model\": 22}, \"Metrics\": {\"train_binary_classification_cross_entropy_objective\": {\"sum\": 0.5047002920214918, \"count\": 1, \"min\": 0.5047002920214918, \"max\": 0.5047002920214918}}}\u001b[0m\n",
      "\u001b[34m#metrics {\"StartTime\": 1724336173.2938452, \"EndTime\": 1724336173.2938547, \"Dimensions\": {\"Algorithm\": \"Linear Learner\", \"Host\": \"algo-1\", \"Operation\": \"training\", \"epoch\": 1, \"model\": 23}, \"Metrics\": {\"train_binary_classification_cross_entropy_objective\": {\"sum\": 0.5079849434715528, \"count\": 1, \"min\": 0.5079849434715528, \"max\": 0.5079849434715528}}}\u001b[0m\n",
      "\u001b[34m#metrics {\"StartTime\": 1724336173.2938862, \"EndTime\": 1724336173.2938957, \"Dimensions\": {\"Algorithm\": \"Linear Learner\", \"Host\": \"algo-1\", \"Operation\": \"training\", \"epoch\": 1, \"model\": 24}, \"Metrics\": {\"train_binary_classification_cross_entropy_objective\": {\"sum\": 0.5137158645956523, \"count\": 1, \"min\": 0.5137158645956523, \"max\": 0.5137158645956523}}}\u001b[0m\n",
      "\u001b[34m#metrics {\"StartTime\": 1724336173.2939272, \"EndTime\": 1724336173.2939365, \"Dimensions\": {\"Algorithm\": \"Linear Learner\", \"Host\": \"algo-1\", \"Operation\": \"training\", \"epoch\": 1, \"model\": 25}, \"Metrics\": {\"train_binary_classification_cross_entropy_objective\": {\"sum\": 0.513780544409329, \"count\": 1, \"min\": 0.513780544409329, \"max\": 0.513780544409329}}}\u001b[0m\n",
      "\u001b[34m#metrics {\"StartTime\": 1724336173.2939656, \"EndTime\": 1724336173.293975, \"Dimensions\": {\"Algorithm\": \"Linear Learner\", \"Host\": \"algo-1\", \"Operation\": \"training\", \"epoch\": 1, \"model\": 26}, \"Metrics\": {\"train_binary_classification_cross_entropy_objective\": {\"sum\": 0.5137155619163396, \"count\": 1, \"min\": 0.5137155619163396, \"max\": 0.5137155619163396}}}\u001b[0m\n",
      "\u001b[34m#metrics {\"StartTime\": 1724336173.2940066, \"EndTime\": 1724336173.2940168, \"Dimensions\": {\"Algorithm\": \"Linear Learner\", \"Host\": \"algo-1\", \"Operation\": \"training\", \"epoch\": 1, \"model\": 27}, \"Metrics\": {\"train_binary_classification_cross_entropy_objective\": {\"sum\": 0.513780989830647, \"count\": 1, \"min\": 0.513780989830647, \"max\": 0.513780989830647}}}\u001b[0m\n",
      "\u001b[34m#metrics {\"StartTime\": 1724336173.2940502, \"EndTime\": 1724336173.2940607, \"Dimensions\": {\"Algorithm\": \"Linear Learner\", \"Host\": \"algo-1\", \"Operation\": \"training\", \"epoch\": 1, \"model\": 28}, \"Metrics\": {\"train_binary_classification_cross_entropy_objective\": {\"sum\": 0.5139786260529031, \"count\": 1, \"min\": 0.5139786260529031, \"max\": 0.5139786260529031}}}\u001b[0m\n",
      "\u001b[34m#metrics {\"StartTime\": 1724336173.294093, \"EndTime\": 1724336173.2941022, \"Dimensions\": {\"Algorithm\": \"Linear Learner\", \"Host\": \"algo-1\", \"Operation\": \"training\", \"epoch\": 1, \"model\": 29}, \"Metrics\": {\"train_binary_classification_cross_entropy_objective\": {\"sum\": 0.5150874693051026, \"count\": 1, \"min\": 0.5150874693051026, \"max\": 0.5150874693051026}}}\u001b[0m\n",
      "\u001b[34m#metrics {\"StartTime\": 1724336173.294133, \"EndTime\": 1724336173.2941427, \"Dimensions\": {\"Algorithm\": \"Linear Learner\", \"Host\": \"algo-1\", \"Operation\": \"training\", \"epoch\": 1, \"model\": 30}, \"Metrics\": {\"train_binary_classification_cross_entropy_objective\": {\"sum\": 0.5139782521425766, \"count\": 1, \"min\": 0.5139782521425766, \"max\": 0.5139782521425766}}}\u001b[0m\n",
      "\u001b[34m#metrics {\"StartTime\": 1724336173.294174, \"EndTime\": 1724336173.2941837, \"Dimensions\": {\"Algorithm\": \"Linear Learner\", \"Host\": \"algo-1\", \"Operation\": \"training\", \"epoch\": 1, \"model\": 31}, \"Metrics\": {\"train_binary_classification_cross_entropy_objective\": {\"sum\": 0.5150901714173296, \"count\": 1, \"min\": 0.5150901714173296, \"max\": 0.5150901714173296}}}\u001b[0m\n",
      "\u001b[34m[08/22/2024 14:16:13 INFO 140070473144128] #quality_metric: host=algo-1, epoch=1, train binary_classification_cross_entropy_objective <loss>=0.48085432018781654\u001b[0m\n",
      "\u001b[34m[2024-08-22 14:16:15.796] [tensorio] [info] epoch_stats={\"data_pipeline\": \"/opt/ml/input/data/validation\", \"epoch\": 5, \"duration\": 2489, \"num_examples\": 164, \"num_bytes\": 69349016}\u001b[0m\n",
      "\u001b[34m#metrics {\"StartTime\": 1724336175.8013794, \"EndTime\": 1724336175.8014324, \"Dimensions\": {\"Algorithm\": \"Linear Learner\", \"Host\": \"algo-1\", \"Operation\": \"training\", \"epoch\": 1, \"model\": 0}, \"Metrics\": {\"validation_binary_classification_cross_entropy_objective\": {\"sum\": 0.48095433473046234, \"count\": 1, \"min\": 0.48095433473046234, \"max\": 0.48095433473046234}}}\u001b[0m\n",
      "\u001b[34m#metrics {\"StartTime\": 1724336175.8014963, \"EndTime\": 1724336175.8015087, \"Dimensions\": {\"Algorithm\": \"Linear Learner\", \"Host\": \"algo-1\", \"Operation\": \"training\", \"epoch\": 1, \"model\": 1}, \"Metrics\": {\"validation_binary_classification_cross_entropy_objective\": {\"sum\": 0.4821832184673229, \"count\": 1, \"min\": 0.4821832184673229, \"max\": 0.4821832184673229}}}\u001b[0m\n",
      "\u001b[34m#metrics {\"StartTime\": 1724336175.801548, \"EndTime\": 1724336175.8015556, \"Dimensions\": {\"Algorithm\": \"Linear Learner\", \"Host\": \"algo-1\", \"Operation\": \"training\", \"epoch\": 1, \"model\": 2}, \"Metrics\": {\"validation_binary_classification_cross_entropy_objective\": {\"sum\": 0.4809543308121873, \"count\": 1, \"min\": 0.4809543308121873, \"max\": 0.4809543308121873}}}\u001b[0m\n",
      "\u001b[34m#metrics {\"StartTime\": 1724336175.8015888, \"EndTime\": 1724336175.8015974, \"Dimensions\": {\"Algorithm\": \"Linear Learner\", \"Host\": \"algo-1\", \"Operation\": \"training\", \"epoch\": 1, \"model\": 3}, \"Metrics\": {\"validation_binary_classification_cross_entropy_objective\": {\"sum\": 0.48218290593824564, \"count\": 1, \"min\": 0.48218290593824564, \"max\": 0.48218290593824564}}}\u001b[0m\n",
      "\u001b[34m#metrics {\"StartTime\": 1724336175.8016317, \"EndTime\": 1724336175.801641, \"Dimensions\": {\"Algorithm\": \"Linear Learner\", \"Host\": \"algo-1\", \"Operation\": \"training\", \"epoch\": 1, \"model\": 4}, \"Metrics\": {\"validation_binary_classification_cross_entropy_objective\": {\"sum\": 0.48348867481348234, \"count\": 1, \"min\": 0.48348867481348234, \"max\": 0.48348867481348234}}}\u001b[0m\n",
      "\u001b[34m#metrics {\"StartTime\": 1724336175.8016772, \"EndTime\": 1724336175.8016868, \"Dimensions\": {\"Algorithm\": \"Linear Learner\", \"Host\": \"algo-1\", \"Operation\": \"training\", \"epoch\": 1, \"model\": 5}, \"Metrics\": {\"validation_binary_classification_cross_entropy_objective\": {\"sum\": 0.5018568817172817, \"count\": 1, \"min\": 0.5018568817172817, \"max\": 0.5018568817172817}}}\u001b[0m\n",
      "\u001b[34m#metrics {\"StartTime\": 1724336175.8017232, \"EndTime\": 1724336175.801732, \"Dimensions\": {\"Algorithm\": \"Linear Learner\", \"Host\": \"algo-1\", \"Operation\": \"training\", \"epoch\": 1, \"model\": 6}, \"Metrics\": {\"validation_binary_classification_cross_entropy_objective\": {\"sum\": 0.4834888453517371, \"count\": 1, \"min\": 0.4834888453517371, \"max\": 0.4834888453517371}}}\u001b[0m\n",
      "\u001b[34m#metrics {\"StartTime\": 1724336175.8017654, \"EndTime\": 1724336175.8017743, \"Dimensions\": {\"Algorithm\": \"Linear Learner\", \"Host\": \"algo-1\", \"Operation\": \"training\", \"epoch\": 1, \"model\": 7}, \"Metrics\": {\"validation_binary_classification_cross_entropy_objective\": {\"sum\": 0.5018584406309778, \"count\": 1, \"min\": 0.5018584406309778, \"max\": 0.5018584406309778}}}\u001b[0m\n",
      "\u001b[34m#metrics {\"StartTime\": 1724336175.8018043, \"EndTime\": 1724336175.8018126, \"Dimensions\": {\"Algorithm\": \"Linear Learner\", \"Host\": \"algo-1\", \"Operation\": \"training\", \"epoch\": 1, \"model\": 8}, \"Metrics\": {\"validation_binary_classification_cross_entropy_objective\": {\"sum\": 0.48104918870481655, \"count\": 1, \"min\": 0.48104918870481655, \"max\": 0.48104918870481655}}}\u001b[0m\n",
      "\u001b[34m#metrics {\"StartTime\": 1724336175.801849, \"EndTime\": 1724336175.8018594, \"Dimensions\": {\"Algorithm\": \"Linear Learner\", \"Host\": \"algo-1\", \"Operation\": \"training\", \"epoch\": 1, \"model\": 9}, \"Metrics\": {\"validation_binary_classification_cross_entropy_objective\": {\"sum\": 0.48234799816390084, \"count\": 1, \"min\": 0.48234799816390084, \"max\": 0.48234799816390084}}}\u001b[0m\n",
      "\u001b[34m#metrics {\"StartTime\": 1724336175.8018932, \"EndTime\": 1724336175.801903, \"Dimensions\": {\"Algorithm\": \"Linear Learner\", \"Host\": \"algo-1\", \"Operation\": \"training\", \"epoch\": 1, \"model\": 10}, \"Metrics\": {\"validation_binary_classification_cross_entropy_objective\": {\"sum\": 0.4810491829206963, \"count\": 1, \"min\": 0.4810491829206963, \"max\": 0.4810491829206963}}}\u001b[0m\n",
      "\u001b[34m#metrics {\"StartTime\": 1724336175.801942, \"EndTime\": 1724336175.8019516, \"Dimensions\": {\"Algorithm\": \"Linear Learner\", \"Host\": \"algo-1\", \"Operation\": \"training\", \"epoch\": 1, \"model\": 11}, \"Metrics\": {\"validation_binary_classification_cross_entropy_objective\": {\"sum\": 0.48234876577263164, \"count\": 1, \"min\": 0.48234876577263164, \"max\": 0.48234876577263164}}}\u001b[0m\n",
      "\u001b[34m#metrics {\"StartTime\": 1724336175.8019907, \"EndTime\": 1724336175.8020003, \"Dimensions\": {\"Algorithm\": \"Linear Learner\", \"Host\": \"algo-1\", \"Operation\": \"training\", \"epoch\": 1, \"model\": 12}, \"Metrics\": {\"validation_binary_classification_cross_entropy_objective\": {\"sum\": 0.4836443254890652, \"count\": 1, \"min\": 0.4836443254890652, \"max\": 0.4836443254890652}}}\u001b[0m\n",
      "\u001b[34m#metrics {\"StartTime\": 1724336175.8020391, \"EndTime\": 1724336175.802049, \"Dimensions\": {\"Algorithm\": \"Linear Learner\", \"Host\": \"algo-1\", \"Operation\": \"training\", \"epoch\": 1, \"model\": 13}, \"Metrics\": {\"validation_binary_classification_cross_entropy_objective\": {\"sum\": 0.5005113119375237, \"count\": 1, \"min\": 0.5005113119375237, \"max\": 0.5005113119375237}}}\u001b[0m\n",
      "\u001b[34m#metrics {\"StartTime\": 1724336175.8020883, \"EndTime\": 1724336175.802098, \"Dimensions\": {\"Algorithm\": \"Linear Learner\", \"Host\": \"algo-1\", \"Operation\": \"training\", \"epoch\": 1, \"model\": 14}, \"Metrics\": {\"validation_binary_classification_cross_entropy_objective\": {\"sum\": 0.483644378852239, \"count\": 1, \"min\": 0.483644378852239, \"max\": 0.483644378852239}}}\u001b[0m\n",
      "\u001b[34m#metrics {\"StartTime\": 1724336175.8021357, \"EndTime\": 1724336175.8021455, \"Dimensions\": {\"Algorithm\": \"Linear Learner\", \"Host\": \"algo-1\", \"Operation\": \"training\", \"epoch\": 1, \"model\": 15}, \"Metrics\": {\"validation_binary_classification_cross_entropy_objective\": {\"sum\": 0.5005095315479978, \"count\": 1, \"min\": 0.5005095315479978, \"max\": 0.5005095315479978}}}\u001b[0m\n",
      "\u001b[34m#metrics {\"StartTime\": 1724336175.8021853, \"EndTime\": 1724336175.802196, \"Dimensions\": {\"Algorithm\": \"Linear Learner\", \"Host\": \"algo-1\", \"Operation\": \"training\", \"epoch\": 1, \"model\": 16}, \"Metrics\": {\"validation_binary_classification_cross_entropy_objective\": {\"sum\": 0.5040551340012435, \"count\": 1, \"min\": 0.5040551340012435, \"max\": 0.5040551340012435}}}\u001b[0m\n",
      "\u001b[34m#metrics {\"StartTime\": 1724336175.8022304, \"EndTime\": 1724336175.8022404, \"Dimensions\": {\"Algorithm\": \"Linear Learner\", \"Host\": \"algo-1\", \"Operation\": \"training\", \"epoch\": 1, \"model\": 17}, \"Metrics\": {\"validation_binary_classification_cross_entropy_objective\": {\"sum\": 0.5045673557249052, \"count\": 1, \"min\": 0.5045673557249052, \"max\": 0.5045673557249052}}}\u001b[0m\n",
      "\u001b[34m#metrics {\"StartTime\": 1724336175.8022788, \"EndTime\": 1724336175.8022878, \"Dimensions\": {\"Algorithm\": \"Linear Learner\", \"Host\": \"algo-1\", \"Operation\": \"training\", \"epoch\": 1, \"model\": 18}, \"Metrics\": {\"validation_binary_classification_cross_entropy_objective\": {\"sum\": 0.504055126724447, \"count\": 1, \"min\": 0.504055126724447, \"max\": 0.504055126724447}}}\u001b[0m\n",
      "\u001b[34m#metrics {\"StartTime\": 1724336175.8023248, \"EndTime\": 1724336175.8023343, \"Dimensions\": {\"Algorithm\": \"Linear Learner\", \"Host\": \"algo-1\", \"Operation\": \"training\", \"epoch\": 1, \"model\": 19}, \"Metrics\": {\"validation_binary_classification_cross_entropy_objective\": {\"sum\": 0.5045660916147565, \"count\": 1, \"min\": 0.5045660916147565, \"max\": 0.5045660916147565}}}\u001b[0m\n",
      "\u001b[34m#metrics {\"StartTime\": 1724336175.8023694, \"EndTime\": 1724336175.8023794, \"Dimensions\": {\"Algorithm\": \"Linear Learner\", \"Host\": \"algo-1\", \"Operation\": \"training\", \"epoch\": 1, \"model\": 20}, \"Metrics\": {\"validation_binary_classification_cross_entropy_objective\": {\"sum\": 0.5050603687584283, \"count\": 1, \"min\": 0.5050603687584283, \"max\": 0.5050603687584283}}}\u001b[0m\n",
      "\u001b[34m#metrics {\"StartTime\": 1724336175.8024182, \"EndTime\": 1724336175.8024285, \"Dimensions\": {\"Algorithm\": \"Linear Learner\", \"Host\": \"algo-1\", \"Operation\": \"training\", \"epoch\": 1, \"model\": 21}, \"Metrics\": {\"validation_binary_classification_cross_entropy_objective\": {\"sum\": 0.5086284615504167, \"count\": 1, \"min\": 0.5086284615504167, \"max\": 0.5086284615504167}}}\u001b[0m\n",
      "\u001b[34m#metrics {\"StartTime\": 1724336175.802467, \"EndTime\": 1724336175.8024776, \"Dimensions\": {\"Algorithm\": \"Linear Learner\", \"Host\": \"algo-1\", \"Operation\": \"training\", \"epoch\": 1, \"model\": 22}, \"Metrics\": {\"validation_binary_classification_cross_entropy_objective\": {\"sum\": 0.5050600155539248, \"count\": 1, \"min\": 0.5050600155539248, \"max\": 0.5050600155539248}}}\u001b[0m\n",
      "\u001b[34m#metrics {\"StartTime\": 1724336175.8025126, \"EndTime\": 1724336175.8025231, \"Dimensions\": {\"Algorithm\": \"Linear Learner\", \"Host\": \"algo-1\", \"Operation\": \"training\", \"epoch\": 1, \"model\": 23}, \"Metrics\": {\"validation_binary_classification_cross_entropy_objective\": {\"sum\": 0.5086285811510964, \"count\": 1, \"min\": 0.5086285811510964, \"max\": 0.5086285811510964}}}\u001b[0m\n",
      "\u001b[34m#metrics {\"StartTime\": 1724336175.8025582, \"EndTime\": 1724336175.8025687, \"Dimensions\": {\"Algorithm\": \"Linear Learner\", \"Host\": \"algo-1\", \"Operation\": \"training\", \"epoch\": 1, \"model\": 24}, \"Metrics\": {\"validation_binary_classification_cross_entropy_objective\": {\"sum\": 0.5137354572215841, \"count\": 1, \"min\": 0.5137354572215841, \"max\": 0.5137354572215841}}}\u001b[0m\n",
      "\u001b[34m#metrics {\"StartTime\": 1724336175.8026078, \"EndTime\": 1724336175.8026175, \"Dimensions\": {\"Algorithm\": \"Linear Learner\", \"Host\": \"algo-1\", \"Operation\": \"training\", \"epoch\": 1, \"model\": 25}, \"Metrics\": {\"validation_binary_classification_cross_entropy_objective\": {\"sum\": 0.5138140462498314, \"count\": 1, \"min\": 0.5138140462498314, \"max\": 0.5138140462498314}}}\u001b[0m\n",
      "\u001b[34m#metrics {\"StartTime\": 1724336175.8026528, \"EndTime\": 1724336175.8026628, \"Dimensions\": {\"Algorithm\": \"Linear Learner\", \"Host\": \"algo-1\", \"Operation\": \"training\", \"epoch\": 1, \"model\": 26}, \"Metrics\": {\"validation_binary_classification_cross_entropy_objective\": {\"sum\": 0.513725742511769, \"count\": 1, \"min\": 0.513725742511769, \"max\": 0.513725742511769}}}\u001b[0m\n",
      "\u001b[34m#metrics {\"StartTime\": 1724336175.802694, \"EndTime\": 1724336175.8027034, \"Dimensions\": {\"Algorithm\": \"Linear Learner\", \"Host\": \"algo-1\", \"Operation\": \"training\", \"epoch\": 1, \"model\": 27}, \"Metrics\": {\"validation_binary_classification_cross_entropy_objective\": {\"sum\": 0.5138268196397449, \"count\": 1, \"min\": 0.5138268196397449, \"max\": 0.5138268196397449}}}\u001b[0m\n",
      "\u001b[34m#metrics {\"StartTime\": 1724336175.8027406, \"EndTime\": 1724336175.8027492, \"Dimensions\": {\"Algorithm\": \"Linear Learner\", \"Host\": \"algo-1\", \"Operation\": \"training\", \"epoch\": 1, \"model\": 28}, \"Metrics\": {\"validation_binary_classification_cross_entropy_objective\": {\"sum\": 0.5141433252064479, \"count\": 1, \"min\": 0.5141433252064479, \"max\": 0.5141433252064479}}}\u001b[0m\n",
      "\u001b[34m#metrics {\"StartTime\": 1724336175.8027835, \"EndTime\": 1724336175.8027935, \"Dimensions\": {\"Algorithm\": \"Linear Learner\", \"Host\": \"algo-1\", \"Operation\": \"training\", \"epoch\": 1, \"model\": 29}, \"Metrics\": {\"validation_binary_classification_cross_entropy_objective\": {\"sum\": 0.5138351319802793, \"count\": 1, \"min\": 0.5138351319802793, \"max\": 0.5138351319802793}}}\u001b[0m\n",
      "\u001b[34m#metrics {\"StartTime\": 1724336175.802831, \"EndTime\": 1724336175.8028412, \"Dimensions\": {\"Algorithm\": \"Linear Learner\", \"Host\": \"algo-1\", \"Operation\": \"training\", \"epoch\": 1, \"model\": 30}, \"Metrics\": {\"validation_binary_classification_cross_entropy_objective\": {\"sum\": 0.5141267012717171, \"count\": 1, \"min\": 0.5141267012717171, \"max\": 0.5141267012717171}}}\u001b[0m\n",
      "\u001b[34m#metrics {\"StartTime\": 1724336175.802881, \"EndTime\": 1724336175.8028913, \"Dimensions\": {\"Algorithm\": \"Linear Learner\", \"Host\": \"algo-1\", \"Operation\": \"training\", \"epoch\": 1, \"model\": 31}, \"Metrics\": {\"validation_binary_classification_cross_entropy_objective\": {\"sum\": 0.5138248244914321, \"count\": 1, \"min\": 0.5138248244914321, \"max\": 0.5138248244914321}}}\u001b[0m\n",
      "\u001b[34m[08/22/2024 14:16:15 INFO 140070473144128] #quality_metric: host=algo-1, epoch=1, validation binary_classification_cross_entropy_objective <loss>=0.48095433473046234\u001b[0m\n",
      "\u001b[34m[08/22/2024 14:16:15 INFO 140070473144128] #early_stopping_criteria_metric: host=algo-1, epoch=1, criteria=binary_classification_cross_entropy_objective, value=0.4809543308121873\u001b[0m\n",
      "\u001b[34m[08/22/2024 14:16:15 INFO 140070473144128] Saving model for epoch: 1\u001b[0m\n",
      "\u001b[34m[08/22/2024 14:16:15 INFO 140070473144128] Saved checkpoint to \"/tmp/tmpkkoi8a2g/mx-mod-0000.params\"\u001b[0m\n",
      "\u001b[34m[08/22/2024 14:16:15 INFO 140070473144128] #progress_metric: host=algo-1, completed 13.333333333333334 % of epochs\u001b[0m\n",
      "\u001b[34m#metrics {\"StartTime\": 1724336145.2622414, \"EndTime\": 1724336175.8164709, \"Dimensions\": {\"Algorithm\": \"Linear Learner\", \"Host\": \"algo-1\", \"Operation\": \"training\", \"epoch\": 1, \"Meta\": \"training_data_iter\"}, \"Metrics\": {\"Total Records Seen\": {\"sum\": 2628944.0, \"count\": 1, \"min\": 2628944, \"max\": 2628944}, \"Total Batches Seen\": {\"sum\": 2630.0, \"count\": 1, \"min\": 2630, \"max\": 2630}, \"Max Records Seen Between Resets\": {\"sum\": 1308472.0, \"count\": 1, \"min\": 1308472, \"max\": 1308472}, \"Max Batches Seen Between Resets\": {\"sum\": 1309.0, \"count\": 1, \"min\": 1309, \"max\": 1309}, \"Reset Count\": {\"sum\": 4.0, \"count\": 1, \"min\": 4, \"max\": 4}, \"Number of Records Since Last Reset\": {\"sum\": 1308472.0, \"count\": 1, \"min\": 1308472, \"max\": 1308472}, \"Number of Batches Since Last Reset\": {\"sum\": 1309.0, \"count\": 1, \"min\": 1309, \"max\": 1309}}}\u001b[0m\n",
      "\u001b[34m[08/22/2024 14:16:15 INFO 140070473144128] #throughput_metric: host=algo-1, train throughput=42824.38904066687 records/second\u001b[0m\n",
      "\u001b[34m[2024-08-22 14:16:43.830] [tensorio] [info] epoch_stats={\"data_pipeline\": \"/opt/ml/input/data/train\", \"epoch\": 7, \"duration\": 28013, \"num_examples\": 1309, \"num_bytes\": 554792128}\u001b[0m\n",
      "\u001b[34m#metrics {\"StartTime\": 1724336203.830689, \"EndTime\": 1724336203.8307533, \"Dimensions\": {\"Algorithm\": \"Linear Learner\", \"Host\": \"algo-1\", \"Operation\": \"training\", \"epoch\": 2, \"model\": 0}, \"Metrics\": {\"train_binary_classification_cross_entropy_objective\": {\"sum\": 0.4806785761748614, \"count\": 1, \"min\": 0.4806785761748614, \"max\": 0.4806785761748614}}}\u001b[0m\n",
      "\u001b[34m#metrics {\"StartTime\": 1724336203.8308263, \"EndTime\": 1724336203.8308372, \"Dimensions\": {\"Algorithm\": \"Linear Learner\", \"Host\": \"algo-1\", \"Operation\": \"training\", \"epoch\": 2, \"model\": 1}, \"Metrics\": {\"train_binary_classification_cross_entropy_objective\": {\"sum\": 0.48176163139693234, \"count\": 1, \"min\": 0.48176163139693234, \"max\": 0.48176163139693234}}}\u001b[0m\n",
      "\u001b[34m#metrics {\"StartTime\": 1724336203.8308651, \"EndTime\": 1724336203.8308725, \"Dimensions\": {\"Algorithm\": \"Linear Learner\", \"Host\": \"algo-1\", \"Operation\": \"training\", \"epoch\": 2, \"model\": 2}, \"Metrics\": {\"train_binary_classification_cross_entropy_objective\": {\"sum\": 0.48067856194265757, \"count\": 1, \"min\": 0.48067856194265757, \"max\": 0.48067856194265757}}}\u001b[0m\n",
      "\u001b[34m#metrics {\"StartTime\": 1724336203.8308964, \"EndTime\": 1724336203.830903, \"Dimensions\": {\"Algorithm\": \"Linear Learner\", \"Host\": \"algo-1\", \"Operation\": \"training\", \"epoch\": 2, \"model\": 3}, \"Metrics\": {\"train_binary_classification_cross_entropy_objective\": {\"sum\": 0.48176166515758645, \"count\": 1, \"min\": 0.48176166515758645, \"max\": 0.48176166515758645}}}\u001b[0m\n",
      "\u001b[34m#metrics {\"StartTime\": 1724336203.8309283, \"EndTime\": 1724336203.830935, \"Dimensions\": {\"Algorithm\": \"Linear Learner\", \"Host\": \"algo-1\", \"Operation\": \"training\", \"epoch\": 2, \"model\": 4}, \"Metrics\": {\"train_binary_classification_cross_entropy_objective\": {\"sum\": 0.48186154051147834, \"count\": 1, \"min\": 0.48186154051147834, \"max\": 0.48186154051147834}}}\u001b[0m\n",
      "\u001b[34m#metrics {\"StartTime\": 1724336203.8309567, \"EndTime\": 1724336203.830963, \"Dimensions\": {\"Algorithm\": \"Linear Learner\", \"Host\": \"algo-1\", \"Operation\": \"training\", \"epoch\": 2, \"model\": 5}, \"Metrics\": {\"train_binary_classification_cross_entropy_objective\": {\"sum\": 0.5005483778507338, \"count\": 1, \"min\": 0.5005483778507338, \"max\": 0.5005483778507338}}}\u001b[0m\n",
      "\u001b[34m#metrics {\"StartTime\": 1724336203.8309844, \"EndTime\": 1724336203.8309906, \"Dimensions\": {\"Algorithm\": \"Linear Learner\", \"Host\": \"algo-1\", \"Operation\": \"training\", \"epoch\": 2, \"model\": 6}, \"Metrics\": {\"train_binary_classification_cross_entropy_objective\": {\"sum\": 0.4818615567968526, \"count\": 1, \"min\": 0.4818615567968526, \"max\": 0.4818615567968526}}}\u001b[0m\n",
      "\u001b[34m#metrics {\"StartTime\": 1724336203.8310173, \"EndTime\": 1724336203.8310237, \"Dimensions\": {\"Algorithm\": \"Linear Learner\", \"Host\": \"algo-1\", \"Operation\": \"training\", \"epoch\": 2, \"model\": 7}, \"Metrics\": {\"train_binary_classification_cross_entropy_objective\": {\"sum\": 0.5005484230671454, \"count\": 1, \"min\": 0.5005484230671454, \"max\": 0.5005484230671454}}}\u001b[0m\n",
      "\u001b[34m#metrics {\"StartTime\": 1724336203.8310456, \"EndTime\": 1724336203.8310516, \"Dimensions\": {\"Algorithm\": \"Linear Learner\", \"Host\": \"algo-1\", \"Operation\": \"training\", \"epoch\": 2, \"model\": 8}, \"Metrics\": {\"train_binary_classification_cross_entropy_objective\": {\"sum\": 0.4807893209894863, \"count\": 1, \"min\": 0.4807893209894863, \"max\": 0.4807893209894863}}}\u001b[0m\n",
      "\u001b[34m#metrics {\"StartTime\": 1724336203.8310792, \"EndTime\": 1724336203.8310857, \"Dimensions\": {\"Algorithm\": \"Linear Learner\", \"Host\": \"algo-1\", \"Operation\": \"training\", \"epoch\": 2, \"model\": 9}, \"Metrics\": {\"train_binary_classification_cross_entropy_objective\": {\"sum\": 0.48181490566241997, \"count\": 1, \"min\": 0.48181490566241997, \"max\": 0.48181490566241997}}}\u001b[0m\n",
      "\u001b[34m#metrics {\"StartTime\": 1724336203.8311076, \"EndTime\": 1724336203.8311143, \"Dimensions\": {\"Algorithm\": \"Linear Learner\", \"Host\": \"algo-1\", \"Operation\": \"training\", \"epoch\": 2, \"model\": 10}, \"Metrics\": {\"train_binary_classification_cross_entropy_objective\": {\"sum\": 0.4807893086238009, \"count\": 1, \"min\": 0.4807893086238009, \"max\": 0.4807893086238009}}}\u001b[0m\n",
      "\u001b[34m#metrics {\"StartTime\": 1724336203.8311384, \"EndTime\": 1724336203.8311443, \"Dimensions\": {\"Algorithm\": \"Linear Learner\", \"Host\": \"algo-1\", \"Operation\": \"training\", \"epoch\": 2, \"model\": 11}, \"Metrics\": {\"train_binary_classification_cross_entropy_objective\": {\"sum\": 0.48181500153147844, \"count\": 1, \"min\": 0.48181500153147844, \"max\": 0.48181500153147844}}}\u001b[0m\n",
      "\u001b[34m#metrics {\"StartTime\": 1724336203.831166, \"EndTime\": 1724336203.831172, \"Dimensions\": {\"Algorithm\": \"Linear Learner\", \"Host\": \"algo-1\", \"Operation\": \"training\", \"epoch\": 2, \"model\": 12}, \"Metrics\": {\"train_binary_classification_cross_entropy_objective\": {\"sum\": 0.4819044909229337, \"count\": 1, \"min\": 0.4819044909229337, \"max\": 0.4819044909229337}}}\u001b[0m\n",
      "\u001b[34m#metrics {\"StartTime\": 1724336203.8311977, \"EndTime\": 1724336203.8312044, \"Dimensions\": {\"Algorithm\": \"Linear Learner\", \"Host\": \"algo-1\", \"Operation\": \"training\", \"epoch\": 2, \"model\": 13}, \"Metrics\": {\"train_binary_classification_cross_entropy_objective\": {\"sum\": 0.49933467013391153, \"count\": 1, \"min\": 0.49933467013391153, \"max\": 0.49933467013391153}}}\u001b[0m\n",
      "\u001b[34m#metrics {\"StartTime\": 1724336203.8312309, \"EndTime\": 1724336203.8312378, \"Dimensions\": {\"Algorithm\": \"Linear Learner\", \"Host\": \"algo-1\", \"Operation\": \"training\", \"epoch\": 2, \"model\": 14}, \"Metrics\": {\"train_binary_classification_cross_entropy_objective\": {\"sum\": 0.4819044888930948, \"count\": 1, \"min\": 0.4819044888930948, \"max\": 0.4819044888930948}}}\u001b[0m\n",
      "\u001b[34m#metrics {\"StartTime\": 1724336203.8312643, \"EndTime\": 1724336203.831271, \"Dimensions\": {\"Algorithm\": \"Linear Learner\", \"Host\": \"algo-1\", \"Operation\": \"training\", \"epoch\": 2, \"model\": 15}, \"Metrics\": {\"train_binary_classification_cross_entropy_objective\": {\"sum\": 0.4993345412041434, \"count\": 1, \"min\": 0.4993345412041434, \"max\": 0.4993345412041434}}}\u001b[0m\n",
      "\u001b[34m#metrics {\"StartTime\": 1724336203.831297, \"EndTime\": 1724336203.8313034, \"Dimensions\": {\"Algorithm\": \"Linear Learner\", \"Host\": \"algo-1\", \"Operation\": \"training\", \"epoch\": 2, \"model\": 16}, \"Metrics\": {\"train_binary_classification_cross_entropy_objective\": {\"sum\": 0.5038456987620129, \"count\": 1, \"min\": 0.5038456987620129, \"max\": 0.5038456987620129}}}\u001b[0m\n",
      "\u001b[34m#metrics {\"StartTime\": 1724336203.8313298, \"EndTime\": 1724336203.8313365, \"Dimensions\": {\"Algorithm\": \"Linear Learner\", \"Host\": \"algo-1\", \"Operation\": \"training\", \"epoch\": 2, \"model\": 17}, \"Metrics\": {\"train_binary_classification_cross_entropy_objective\": {\"sum\": 0.5041111390233405, \"count\": 1, \"min\": 0.5041111390233405, \"max\": 0.5041111390233405}}}\u001b[0m\n",
      "\u001b[34m#metrics {\"StartTime\": 1724336203.8313625, \"EndTime\": 1724336203.8313692, \"Dimensions\": {\"Algorithm\": \"Linear Learner\", \"Host\": \"algo-1\", \"Operation\": \"training\", \"epoch\": 2, \"model\": 18}, \"Metrics\": {\"train_binary_classification_cross_entropy_objective\": {\"sum\": 0.5038457263164928, \"count\": 1, \"min\": 0.5038457263164928, \"max\": 0.5038457263164928}}}\u001b[0m\n",
      "\u001b[34m#metrics {\"StartTime\": 1724336203.8313951, \"EndTime\": 1724336203.8314018, \"Dimensions\": {\"Algorithm\": \"Linear Learner\", \"Host\": \"algo-1\", \"Operation\": \"training\", \"epoch\": 2, \"model\": 19}, \"Metrics\": {\"train_binary_classification_cross_entropy_objective\": {\"sum\": 0.5041111559853276, \"count\": 1, \"min\": 0.5041111559853276, \"max\": 0.5041111559853276}}}\u001b[0m\n",
      "\u001b[34m#metrics {\"StartTime\": 1724336203.8314278, \"EndTime\": 1724336203.8314345, \"Dimensions\": {\"Algorithm\": \"Linear Learner\", \"Host\": \"algo-1\", \"Operation\": \"training\", \"epoch\": 2, \"model\": 20}, \"Metrics\": {\"train_binary_classification_cross_entropy_objective\": {\"sum\": 0.5041083481814883, \"count\": 1, \"min\": 0.5041083481814883, \"max\": 0.5041083481814883}}}\u001b[0m\n",
      "\u001b[34m#metrics {\"StartTime\": 1724336203.8314567, \"EndTime\": 1724336203.831463, \"Dimensions\": {\"Algorithm\": \"Linear Learner\", \"Host\": \"algo-1\", \"Operation\": \"training\", \"epoch\": 2, \"model\": 21}, \"Metrics\": {\"train_binary_classification_cross_entropy_objective\": {\"sum\": 0.5075694123481027, \"count\": 1, \"min\": 0.5075694123481027, \"max\": 0.5075694123481027}}}\u001b[0m\n",
      "\u001b[34m#metrics {\"StartTime\": 1724336203.8314893, \"EndTime\": 1724336203.8314958, \"Dimensions\": {\"Algorithm\": \"Linear Learner\", \"Host\": \"algo-1\", \"Operation\": \"training\", \"epoch\": 2, \"model\": 22}, \"Metrics\": {\"train_binary_classification_cross_entropy_objective\": {\"sum\": 0.5041083391055419, \"count\": 1, \"min\": 0.5041083391055419, \"max\": 0.5041083391055419}}}\u001b[0m\n",
      "\u001b[34m#metrics {\"StartTime\": 1724336203.8315217, \"EndTime\": 1724336203.8315282, \"Dimensions\": {\"Algorithm\": \"Linear Learner\", \"Host\": \"algo-1\", \"Operation\": \"training\", \"epoch\": 2, \"model\": 23}, \"Metrics\": {\"train_binary_classification_cross_entropy_objective\": {\"sum\": 0.5075695400413023, \"count\": 1, \"min\": 0.5075695400413023, \"max\": 0.5075695400413023}}}\u001b[0m\n",
      "\u001b[34m#metrics {\"StartTime\": 1724336203.8315518, \"EndTime\": 1724336203.8315763, \"Dimensions\": {\"Algorithm\": \"Linear Learner\", \"Host\": \"algo-1\", \"Operation\": \"training\", \"epoch\": 2, \"model\": 24}, \"Metrics\": {\"train_binary_classification_cross_entropy_objective\": {\"sum\": 0.5137026506243131, \"count\": 1, \"min\": 0.5137026506243131, \"max\": 0.5137026506243131}}}\u001b[0m\n",
      "\u001b[34m#metrics {\"StartTime\": 1724336203.831607, \"EndTime\": 1724336203.8316143, \"Dimensions\": {\"Algorithm\": \"Linear Learner\", \"Host\": \"algo-1\", \"Operation\": \"training\", \"epoch\": 2, \"model\": 25}, \"Metrics\": {\"train_binary_classification_cross_entropy_objective\": {\"sum\": 0.5137852483626899, \"count\": 1, \"min\": 0.5137852483626899, \"max\": 0.5137852483626899}}}\u001b[0m\n",
      "\u001b[34m#metrics {\"StartTime\": 1724336203.8316417, \"EndTime\": 1724336203.8316483, \"Dimensions\": {\"Algorithm\": \"Linear Learner\", \"Host\": \"algo-1\", \"Operation\": \"training\", \"epoch\": 2, \"model\": 26}, \"Metrics\": {\"train_binary_classification_cross_entropy_objective\": {\"sum\": 0.5137031267965241, \"count\": 1, \"min\": 0.5137031267965241, \"max\": 0.5137031267965241}}}\u001b[0m\n",
      "\u001b[34m#metrics {\"StartTime\": 1724336203.8316724, \"EndTime\": 1724336203.8316784, \"Dimensions\": {\"Algorithm\": \"Linear Learner\", \"Host\": \"algo-1\", \"Operation\": \"training\", \"epoch\": 2, \"model\": 27}, \"Metrics\": {\"train_binary_classification_cross_entropy_objective\": {\"sum\": 0.5137867684087257, \"count\": 1, \"min\": 0.5137867684087257, \"max\": 0.5137867684087257}}}\u001b[0m\n",
      "\u001b[34m#metrics {\"StartTime\": 1724336203.8317244, \"EndTime\": 1724336203.831731, \"Dimensions\": {\"Algorithm\": \"Linear Learner\", \"Host\": \"algo-1\", \"Operation\": \"training\", \"epoch\": 2, \"model\": 28}, \"Metrics\": {\"train_binary_classification_cross_entropy_objective\": {\"sum\": 0.5137898929374298, \"count\": 1, \"min\": 0.5137898929374298, \"max\": 0.5137898929374298}}}\u001b[0m\n",
      "\u001b[34m#metrics {\"StartTime\": 1724336203.8317533, \"EndTime\": 1724336203.8317595, \"Dimensions\": {\"Algorithm\": \"Linear Learner\", \"Host\": \"algo-1\", \"Operation\": \"training\", \"epoch\": 2, \"model\": 29}, \"Metrics\": {\"train_binary_classification_cross_entropy_objective\": {\"sum\": 0.5150041149734357, \"count\": 1, \"min\": 0.5150041149734357, \"max\": 0.5150041149734357}}}\u001b[0m\n",
      "\u001b[34m#metrics {\"StartTime\": 1724336203.8317807, \"EndTime\": 1724336203.8317869, \"Dimensions\": {\"Algorithm\": \"Linear Learner\", \"Host\": \"algo-1\", \"Operation\": \"training\", \"epoch\": 2, \"model\": 30}, \"Metrics\": {\"train_binary_classification_cross_entropy_objective\": {\"sum\": 0.5137900662903392, \"count\": 1, \"min\": 0.5137900662903392, \"max\": 0.5137900662903392}}}\u001b[0m\n",
      "\u001b[34m#metrics {\"StartTime\": 1724336203.831808, \"EndTime\": 1724336203.831814, \"Dimensions\": {\"Algorithm\": \"Linear Learner\", \"Host\": \"algo-1\", \"Operation\": \"training\", \"epoch\": 2, \"model\": 31}, \"Metrics\": {\"train_binary_classification_cross_entropy_objective\": {\"sum\": 0.5150037487391668, \"count\": 1, \"min\": 0.5150037487391668, \"max\": 0.5150037487391668}}}\u001b[0m\n",
      "\u001b[34m[08/22/2024 14:16:43 INFO 140070473144128] #quality_metric: host=algo-1, epoch=2, train binary_classification_cross_entropy_objective <loss>=0.4806785761748614\u001b[0m\n",
      "\u001b[34m[2024-08-22 14:16:46.377] [tensorio] [info] epoch_stats={\"data_pipeline\": \"/opt/ml/input/data/validation\", \"epoch\": 8, \"duration\": 2532, \"num_examples\": 164, \"num_bytes\": 69349016}\u001b[0m\n",
      "\u001b[34m#metrics {\"StartTime\": 1724336206.3825734, \"EndTime\": 1724336206.382623, \"Dimensions\": {\"Algorithm\": \"Linear Learner\", \"Host\": \"algo-1\", \"Operation\": \"training\", \"epoch\": 2, \"model\": 0}, \"Metrics\": {\"validation_binary_classification_cross_entropy_objective\": {\"sum\": 0.48089126580290315, \"count\": 1, \"min\": 0.48089126580290315, \"max\": 0.48089126580290315}}}\u001b[0m\n",
      "\u001b[34m#metrics {\"StartTime\": 1724336206.3826895, \"EndTime\": 1724336206.382703, \"Dimensions\": {\"Algorithm\": \"Linear Learner\", \"Host\": \"algo-1\", \"Operation\": \"training\", \"epoch\": 2, \"model\": 1}, \"Metrics\": {\"validation_binary_classification_cross_entropy_objective\": {\"sum\": 0.48199478638358806, \"count\": 1, \"min\": 0.48199478638358806, \"max\": 0.48199478638358806}}}\u001b[0m\n",
      "\u001b[34m#metrics {\"StartTime\": 1724336206.3827462, \"EndTime\": 1724336206.3827562, \"Dimensions\": {\"Algorithm\": \"Linear Learner\", \"Host\": \"algo-1\", \"Operation\": \"training\", \"epoch\": 2, \"model\": 2}, \"Metrics\": {\"validation_binary_classification_cross_entropy_objective\": {\"sum\": 0.48089134155621976, \"count\": 1, \"min\": 0.48089134155621976, \"max\": 0.48089134155621976}}}\u001b[0m\n",
      "\u001b[34m#metrics {\"StartTime\": 1724336206.3827915, \"EndTime\": 1724336206.3828006, \"Dimensions\": {\"Algorithm\": \"Linear Learner\", \"Host\": \"algo-1\", \"Operation\": \"training\", \"epoch\": 2, \"model\": 3}, \"Metrics\": {\"validation_binary_classification_cross_entropy_objective\": {\"sum\": 0.4819947276094631, \"count\": 1, \"min\": 0.4819947276094631, \"max\": 0.4819947276094631}}}\u001b[0m\n",
      "\u001b[34m#metrics {\"StartTime\": 1724336206.3828332, \"EndTime\": 1724336206.3828435, \"Dimensions\": {\"Algorithm\": \"Linear Learner\", \"Host\": \"algo-1\", \"Operation\": \"training\", \"epoch\": 2, \"model\": 4}, \"Metrics\": {\"validation_binary_classification_cross_entropy_objective\": {\"sum\": 0.4814572130475112, \"count\": 1, \"min\": 0.4814572130475112, \"max\": 0.4814572130475112}}}\u001b[0m\n",
      "\u001b[34m#metrics {\"StartTime\": 1724336206.382874, \"EndTime\": 1724336206.3828826, \"Dimensions\": {\"Algorithm\": \"Linear Learner\", \"Host\": \"algo-1\", \"Operation\": \"training\", \"epoch\": 2, \"model\": 5}, \"Metrics\": {\"validation_binary_classification_cross_entropy_objective\": {\"sum\": 0.49833240361748044, \"count\": 1, \"min\": 0.49833240361748044, \"max\": 0.49833240361748044}}}\u001b[0m\n",
      "\u001b[34m#metrics {\"StartTime\": 1724336206.3829105, \"EndTime\": 1724336206.3829193, \"Dimensions\": {\"Algorithm\": \"Linear Learner\", \"Host\": \"algo-1\", \"Operation\": \"training\", \"epoch\": 2, \"model\": 6}, \"Metrics\": {\"validation_binary_classification_cross_entropy_objective\": {\"sum\": 0.4814571884183541, \"count\": 1, \"min\": 0.4814571884183541, \"max\": 0.4814571884183541}}}\u001b[0m\n",
      "\u001b[34m#metrics {\"StartTime\": 1724336206.3829536, \"EndTime\": 1724336206.382964, \"Dimensions\": {\"Algorithm\": \"Linear Learner\", \"Host\": \"algo-1\", \"Operation\": \"training\", \"epoch\": 2, \"model\": 7}, \"Metrics\": {\"validation_binary_classification_cross_entropy_objective\": {\"sum\": 0.4983327810779721, \"count\": 1, \"min\": 0.4983327810779721, \"max\": 0.4983327810779721}}}\u001b[0m\n",
      "\u001b[34m#metrics {\"StartTime\": 1724336206.3829894, \"EndTime\": 1724336206.3829992, \"Dimensions\": {\"Algorithm\": \"Linear Learner\", \"Host\": \"algo-1\", \"Operation\": \"training\", \"epoch\": 2, \"model\": 8}, \"Metrics\": {\"validation_binary_classification_cross_entropy_objective\": {\"sum\": 0.4809859442012205, \"count\": 1, \"min\": 0.4809859442012205, \"max\": 0.4809859442012205}}}\u001b[0m\n",
      "\u001b[34m#metrics {\"StartTime\": 1724336206.3830266, \"EndTime\": 1724336206.3830364, \"Dimensions\": {\"Algorithm\": \"Linear Learner\", \"Host\": \"algo-1\", \"Operation\": \"training\", \"epoch\": 2, \"model\": 9}, \"Metrics\": {\"validation_binary_classification_cross_entropy_objective\": {\"sum\": 0.4821556772855213, \"count\": 1, \"min\": 0.4821556772855213, \"max\": 0.4821556772855213}}}\u001b[0m\n",
      "\u001b[34m#metrics {\"StartTime\": 1724336206.3830686, \"EndTime\": 1724336206.3830783, \"Dimensions\": {\"Algorithm\": \"Linear Learner\", \"Host\": \"algo-1\", \"Operation\": \"training\", \"epoch\": 2, \"model\": 10}, \"Metrics\": {\"validation_binary_classification_cross_entropy_objective\": {\"sum\": 0.48098612668088475, \"count\": 1, \"min\": 0.48098612668088475, \"max\": 0.48098612668088475}}}\u001b[0m\n",
      "\u001b[34m#metrics {\"StartTime\": 1724336206.3831098, \"EndTime\": 1724336206.3831177, \"Dimensions\": {\"Algorithm\": \"Linear Learner\", \"Host\": \"algo-1\", \"Operation\": \"training\", \"epoch\": 2, \"model\": 11}, \"Metrics\": {\"validation_binary_classification_cross_entropy_objective\": {\"sum\": 0.4821558452115927, \"count\": 1, \"min\": 0.4821558452115927, \"max\": 0.4821558452115927}}}\u001b[0m\n",
      "\u001b[34m#metrics {\"StartTime\": 1724336206.3831456, \"EndTime\": 1724336206.3831544, \"Dimensions\": {\"Algorithm\": \"Linear Learner\", \"Host\": \"algo-1\", \"Operation\": \"training\", \"epoch\": 2, \"model\": 12}, \"Metrics\": {\"validation_binary_classification_cross_entropy_objective\": {\"sum\": 0.4815883692799813, \"count\": 1, \"min\": 0.4815883692799813, \"max\": 0.4815883692799813}}}\u001b[0m\n",
      "\u001b[34m#metrics {\"StartTime\": 1724336206.383184, \"EndTime\": 1724336206.383193, \"Dimensions\": {\"Algorithm\": \"Linear Learner\", \"Host\": \"algo-1\", \"Operation\": \"training\", \"epoch\": 2, \"model\": 13}, \"Metrics\": {\"validation_binary_classification_cross_entropy_objective\": {\"sum\": 0.49814194802458517, \"count\": 1, \"min\": 0.49814194802458517, \"max\": 0.49814194802458517}}}\u001b[0m\n",
      "\u001b[34m#metrics {\"StartTime\": 1724336206.3832235, \"EndTime\": 1724336206.3832335, \"Dimensions\": {\"Algorithm\": \"Linear Learner\", \"Host\": \"algo-1\", \"Operation\": \"training\", \"epoch\": 2, \"model\": 14}, \"Metrics\": {\"validation_binary_classification_cross_entropy_objective\": {\"sum\": 0.48158837469093246, \"count\": 1, \"min\": 0.48158837469093246, \"max\": 0.48158837469093246}}}\u001b[0m\n",
      "\u001b[34m#metrics {\"StartTime\": 1724336206.3832648, \"EndTime\": 1724336206.3832734, \"Dimensions\": {\"Algorithm\": \"Linear Learner\", \"Host\": \"algo-1\", \"Operation\": \"training\", \"epoch\": 2, \"model\": 15}, \"Metrics\": {\"validation_binary_classification_cross_entropy_objective\": {\"sum\": 0.4981422056978125, \"count\": 1, \"min\": 0.4981422056978125, \"max\": 0.4981422056978125}}}\u001b[0m\n",
      "\u001b[34m#metrics {\"StartTime\": 1724336206.3833022, \"EndTime\": 1724336206.3833103, \"Dimensions\": {\"Algorithm\": \"Linear Learner\", \"Host\": \"algo-1\", \"Operation\": \"training\", \"epoch\": 2, \"model\": 16}, \"Metrics\": {\"validation_binary_classification_cross_entropy_objective\": {\"sum\": 0.5038548162967592, \"count\": 1, \"min\": 0.5038548162967592, \"max\": 0.5038548162967592}}}\u001b[0m\n",
      "\u001b[34m#metrics {\"StartTime\": 1724336206.3833373, \"EndTime\": 1724336206.3833451, \"Dimensions\": {\"Algorithm\": \"Linear Learner\", \"Host\": \"algo-1\", \"Operation\": \"training\", \"epoch\": 2, \"model\": 17}, \"Metrics\": {\"validation_binary_classification_cross_entropy_objective\": {\"sum\": 0.5045625409112691, \"count\": 1, \"min\": 0.5045625409112691, \"max\": 0.5045625409112691}}}\u001b[0m\n",
      "\u001b[34m#metrics {\"StartTime\": 1724336206.3833745, \"EndTime\": 1724336206.3833828, \"Dimensions\": {\"Algorithm\": \"Linear Learner\", \"Host\": \"algo-1\", \"Operation\": \"training\", \"epoch\": 2, \"model\": 18}, \"Metrics\": {\"validation_binary_classification_cross_entropy_objective\": {\"sum\": 0.503856344797178, \"count\": 1, \"min\": 0.503856344797178, \"max\": 0.503856344797178}}}\u001b[0m\n",
      "\u001b[34m#metrics {\"StartTime\": 1724336206.383414, \"EndTime\": 1724336206.3834243, \"Dimensions\": {\"Algorithm\": \"Linear Learner\", \"Host\": \"algo-1\", \"Operation\": \"training\", \"epoch\": 2, \"model\": 19}, \"Metrics\": {\"validation_binary_classification_cross_entropy_objective\": {\"sum\": 0.5045622795063512, \"count\": 1, \"min\": 0.5045622795063512, \"max\": 0.5045622795063512}}}\u001b[0m\n",
      "\u001b[34m#metrics {\"StartTime\": 1724336206.3834536, \"EndTime\": 1724336206.3834636, \"Dimensions\": {\"Algorithm\": \"Linear Learner\", \"Host\": \"algo-1\", \"Operation\": \"training\", \"epoch\": 2, \"model\": 20}, \"Metrics\": {\"validation_binary_classification_cross_entropy_objective\": {\"sum\": 0.5047832202116643, \"count\": 1, \"min\": 0.5047832202116643, \"max\": 0.5047832202116643}}}\u001b[0m\n",
      "\u001b[34m#metrics {\"StartTime\": 1724336206.3834941, \"EndTime\": 1724336206.3835037, \"Dimensions\": {\"Algorithm\": \"Linear Learner\", \"Host\": \"algo-1\", \"Operation\": \"training\", \"epoch\": 2, \"model\": 21}, \"Metrics\": {\"validation_binary_classification_cross_entropy_objective\": {\"sum\": 0.507123719125605, \"count\": 1, \"min\": 0.507123719125605, \"max\": 0.507123719125605}}}\u001b[0m\n",
      "\u001b[34m#metrics {\"StartTime\": 1724336206.3835416, \"EndTime\": 1724336206.3835506, \"Dimensions\": {\"Algorithm\": \"Linear Learner\", \"Host\": \"algo-1\", \"Operation\": \"training\", \"epoch\": 2, \"model\": 22}, \"Metrics\": {\"validation_binary_classification_cross_entropy_objective\": {\"sum\": 0.5047833330953012, \"count\": 1, \"min\": 0.5047833330953012, \"max\": 0.5047833330953012}}}\u001b[0m\n",
      "\u001b[34m#metrics {\"StartTime\": 1724336206.3836055, \"EndTime\": 1724336206.383616, \"Dimensions\": {\"Algorithm\": \"Linear Learner\", \"Host\": \"algo-1\", \"Operation\": \"training\", \"epoch\": 2, \"model\": 23}, \"Metrics\": {\"validation_binary_classification_cross_entropy_objective\": {\"sum\": 0.5071240587094383, \"count\": 1, \"min\": 0.5071240587094383, \"max\": 0.5071240587094383}}}\u001b[0m\n",
      "\u001b[34m#metrics {\"StartTime\": 1724336206.3836536, \"EndTime\": 1724336206.3836637, \"Dimensions\": {\"Algorithm\": \"Linear Learner\", \"Host\": \"algo-1\", \"Operation\": \"training\", \"epoch\": 2, \"model\": 24}, \"Metrics\": {\"validation_binary_classification_cross_entropy_objective\": {\"sum\": 0.5137160584018158, \"count\": 1, \"min\": 0.5137160584018158, \"max\": 0.5137160584018158}}}\u001b[0m\n",
      "\u001b[34m#metrics {\"StartTime\": 1724336206.3837016, \"EndTime\": 1724336206.383712, \"Dimensions\": {\"Algorithm\": \"Linear Learner\", \"Host\": \"algo-1\", \"Operation\": \"training\", \"epoch\": 2, \"model\": 25}, \"Metrics\": {\"validation_binary_classification_cross_entropy_objective\": {\"sum\": 0.5137750073565054, \"count\": 1, \"min\": 0.5137750073565054, \"max\": 0.5137750073565054}}}\u001b[0m\n",
      "\u001b[34m#metrics {\"StartTime\": 1724336206.3837516, \"EndTime\": 1724336206.383762, \"Dimensions\": {\"Algorithm\": \"Linear Learner\", \"Host\": \"algo-1\", \"Operation\": \"training\", \"epoch\": 2, \"model\": 26}, \"Metrics\": {\"validation_binary_classification_cross_entropy_objective\": {\"sum\": 0.5137165222509419, \"count\": 1, \"min\": 0.5137165222509419, \"max\": 0.5137165222509419}}}\u001b[0m\n",
      "\u001b[34m#metrics {\"StartTime\": 1724336206.3837993, \"EndTime\": 1724336206.3838098, \"Dimensions\": {\"Algorithm\": \"Linear Learner\", \"Host\": \"algo-1\", \"Operation\": \"training\", \"epoch\": 2, \"model\": 27}, \"Metrics\": {\"validation_binary_classification_cross_entropy_objective\": {\"sum\": 0.5138124729691269, \"count\": 1, \"min\": 0.5138124729691269, \"max\": 0.5138124729691269}}}\u001b[0m\n",
      "\u001b[34m#metrics {\"StartTime\": 1724336206.383848, \"EndTime\": 1724336206.3838592, \"Dimensions\": {\"Algorithm\": \"Linear Learner\", \"Host\": \"algo-1\", \"Operation\": \"training\", \"epoch\": 2, \"model\": 28}, \"Metrics\": {\"validation_binary_classification_cross_entropy_objective\": {\"sum\": 0.5139003772297238, \"count\": 1, \"min\": 0.5139003772297238, \"max\": 0.5139003772297238}}}\u001b[0m\n",
      "\u001b[34m#metrics {\"StartTime\": 1724336206.3838909, \"EndTime\": 1724336206.3839006, \"Dimensions\": {\"Algorithm\": \"Linear Learner\", \"Host\": \"algo-1\", \"Operation\": \"training\", \"epoch\": 2, \"model\": 29}, \"Metrics\": {\"validation_binary_classification_cross_entropy_objective\": {\"sum\": 0.5135019099329218, \"count\": 1, \"min\": 0.5135019099329218, \"max\": 0.5135019099329218}}}\u001b[0m\n",
      "\u001b[34m#metrics {\"StartTime\": 1724336206.383937, \"EndTime\": 1724336206.3839474, \"Dimensions\": {\"Algorithm\": \"Linear Learner\", \"Host\": \"algo-1\", \"Operation\": \"training\", \"epoch\": 2, \"model\": 30}, \"Metrics\": {\"validation_binary_classification_cross_entropy_objective\": {\"sum\": 0.5138937609425106, \"count\": 1, \"min\": 0.5138937609425106, \"max\": 0.5138937609425106}}}\u001b[0m\n",
      "\u001b[34m#metrics {\"StartTime\": 1724336206.3839827, \"EndTime\": 1724336206.3839917, \"Dimensions\": {\"Algorithm\": \"Linear Learner\", \"Host\": \"algo-1\", \"Operation\": \"training\", \"epoch\": 2, \"model\": 31}, \"Metrics\": {\"validation_binary_classification_cross_entropy_objective\": {\"sum\": 0.5135018884757016, \"count\": 1, \"min\": 0.5135018884757016, \"max\": 0.5135018884757016}}}\u001b[0m\n",
      "\u001b[34m[08/22/2024 14:16:46 INFO 140070473144128] #quality_metric: host=algo-1, epoch=2, validation binary_classification_cross_entropy_objective <loss>=0.48089126580290315\u001b[0m\n",
      "\u001b[34m[08/22/2024 14:16:46 INFO 140070473144128] #early_stopping_criteria_metric: host=algo-1, epoch=2, criteria=binary_classification_cross_entropy_objective, value=0.48089126580290315\u001b[0m\n",
      "\u001b[34m[08/22/2024 14:16:46 INFO 140070473144128] Saving model for epoch: 2\u001b[0m\n",
      "\u001b[34m[08/22/2024 14:16:46 INFO 140070473144128] Saved checkpoint to \"/tmp/tmpvgy_s9qg/mx-mod-0000.params\"\u001b[0m\n",
      "\u001b[34m[08/22/2024 14:16:46 INFO 140070473144128] #progress_metric: host=algo-1, completed 20.0 % of epochs\u001b[0m\n",
      "\u001b[34m#metrics {\"StartTime\": 1724336175.8168604, \"EndTime\": 1724336206.3890188, \"Dimensions\": {\"Algorithm\": \"Linear Learner\", \"Host\": \"algo-1\", \"Operation\": \"training\", \"epoch\": 2, \"Meta\": \"training_data_iter\"}, \"Metrics\": {\"Total Records Seen\": {\"sum\": 3937416.0, \"count\": 1, \"min\": 3937416, \"max\": 3937416}, \"Total Batches Seen\": {\"sum\": 3939.0, \"count\": 1, \"min\": 3939, \"max\": 3939}, \"Max Records Seen Between Resets\": {\"sum\": 1308472.0, \"count\": 1, \"min\": 1308472, \"max\": 1308472}, \"Max Batches Seen Between Resets\": {\"sum\": 1309.0, \"count\": 1, \"min\": 1309, \"max\": 1309}, \"Reset Count\": {\"sum\": 5.0, \"count\": 1, \"min\": 5, \"max\": 5}, \"Number of Records Since Last Reset\": {\"sum\": 1308472.0, \"count\": 1, \"min\": 1308472, \"max\": 1308472}, \"Number of Batches Since Last Reset\": {\"sum\": 1309.0, \"count\": 1, \"min\": 1309, \"max\": 1309}}}\u001b[0m\n",
      "\u001b[34m[08/22/2024 14:16:46 INFO 140070473144128] #throughput_metric: host=algo-1, train throughput=42799.31245623029 records/second\u001b[0m\n",
      "\u001b[34m[2024-08-22 14:17:14.525] [tensorio] [info] epoch_stats={\"data_pipeline\": \"/opt/ml/input/data/train\", \"epoch\": 9, \"duration\": 28136, \"num_examples\": 1309, \"num_bytes\": 554792128}\u001b[0m\n",
      "\u001b[34m#metrics {\"StartTime\": 1724336234.5258646, \"EndTime\": 1724336234.5259278, \"Dimensions\": {\"Algorithm\": \"Linear Learner\", \"Host\": \"algo-1\", \"Operation\": \"training\", \"epoch\": 3, \"model\": 0}, \"Metrics\": {\"train_binary_classification_cross_entropy_objective\": {\"sum\": 0.48061328027007777, \"count\": 1, \"min\": 0.48061328027007777, \"max\": 0.48061328027007777}}}\u001b[0m\n",
      "\u001b[34m#metrics {\"StartTime\": 1724336234.5259972, \"EndTime\": 1724336234.5260084, \"Dimensions\": {\"Algorithm\": \"Linear Learner\", \"Host\": \"algo-1\", \"Operation\": \"training\", \"epoch\": 3, \"model\": 1}, \"Metrics\": {\"train_binary_classification_cross_entropy_objective\": {\"sum\": 0.48162791790510173, \"count\": 1, \"min\": 0.48162791790510173, \"max\": 0.48162791790510173}}}\u001b[0m\n",
      "\u001b[34m#metrics {\"StartTime\": 1724336234.5260417, \"EndTime\": 1724336234.5260499, \"Dimensions\": {\"Algorithm\": \"Linear Learner\", \"Host\": \"algo-1\", \"Operation\": \"training\", \"epoch\": 3, \"model\": 2}, \"Metrics\": {\"train_binary_classification_cross_entropy_objective\": {\"sum\": 0.48062915596684913, \"count\": 1, \"min\": 0.48062915596684913, \"max\": 0.48062915596684913}}}\u001b[0m\n",
      "\u001b[34m#metrics {\"StartTime\": 1724336234.5260785, \"EndTime\": 1724336234.5260854, \"Dimensions\": {\"Algorithm\": \"Linear Learner\", \"Host\": \"algo-1\", \"Operation\": \"training\", \"epoch\": 3, \"model\": 3}, \"Metrics\": {\"train_binary_classification_cross_entropy_objective\": {\"sum\": 0.48162792502120366, \"count\": 1, \"min\": 0.48162792502120366, \"max\": 0.48162792502120366}}}\u001b[0m\n",
      "\u001b[34m#metrics {\"StartTime\": 1724336234.5261104, \"EndTime\": 1724336234.526117, \"Dimensions\": {\"Algorithm\": \"Linear Learner\", \"Host\": \"algo-1\", \"Operation\": \"training\", \"epoch\": 3, \"model\": 4}, \"Metrics\": {\"train_binary_classification_cross_entropy_objective\": {\"sum\": 0.48096329796933984, \"count\": 1, \"min\": 0.48096329796933984, \"max\": 0.48096329796933984}}}\u001b[0m\n",
      "\u001b[34m#metrics {\"StartTime\": 1724336234.5261412, \"EndTime\": 1724336234.5261478, \"Dimensions\": {\"Algorithm\": \"Linear Learner\", \"Host\": \"algo-1\", \"Operation\": \"training\", \"epoch\": 3, \"model\": 5}, \"Metrics\": {\"train_binary_classification_cross_entropy_objective\": {\"sum\": 0.4982723055265001, \"count\": 1, \"min\": 0.4982723055265001, \"max\": 0.4982723055265001}}}\u001b[0m\n",
      "\u001b[34m#metrics {\"StartTime\": 1724336234.5261729, \"EndTime\": 1724336234.5261793, \"Dimensions\": {\"Algorithm\": \"Linear Learner\", \"Host\": \"algo-1\", \"Operation\": \"training\", \"epoch\": 3, \"model\": 6}, \"Metrics\": {\"train_binary_classification_cross_entropy_objective\": {\"sum\": 0.4809632996025435, \"count\": 1, \"min\": 0.4809632996025435, \"max\": 0.4809632996025435}}}\u001b[0m\n",
      "\u001b[34m#metrics {\"StartTime\": 1724336234.526201, \"EndTime\": 1724336234.5262072, \"Dimensions\": {\"Algorithm\": \"Linear Learner\", \"Host\": \"algo-1\", \"Operation\": \"training\", \"epoch\": 3, \"model\": 7}, \"Metrics\": {\"train_binary_classification_cross_entropy_objective\": {\"sum\": 0.49827231378584463, \"count\": 1, \"min\": 0.49827231378584463, \"max\": 0.49827231378584463}}}\u001b[0m\n",
      "\u001b[34m#metrics {\"StartTime\": 1724336234.5262287, \"EndTime\": 1724336234.526235, \"Dimensions\": {\"Algorithm\": \"Linear Learner\", \"Host\": \"algo-1\", \"Operation\": \"training\", \"epoch\": 3, \"model\": 8}, \"Metrics\": {\"train_binary_classification_cross_entropy_objective\": {\"sum\": 0.4807276581930458, \"count\": 1, \"min\": 0.4807276581930458, \"max\": 0.4807276581930458}}}\u001b[0m\n",
      "\u001b[34m#metrics {\"StartTime\": 1724336234.5262616, \"EndTime\": 1724336234.526268, \"Dimensions\": {\"Algorithm\": \"Linear Learner\", \"Host\": \"algo-1\", \"Operation\": \"training\", \"epoch\": 3, \"model\": 9}, \"Metrics\": {\"train_binary_classification_cross_entropy_objective\": {\"sum\": 0.4816891036893979, \"count\": 1, \"min\": 0.4816891036893979, \"max\": 0.4816891036893979}}}\u001b[0m\n",
      "\u001b[34m#metrics {\"StartTime\": 1724336234.5262892, \"EndTime\": 1724336234.5262952, \"Dimensions\": {\"Algorithm\": \"Linear Learner\", \"Host\": \"algo-1\", \"Operation\": \"training\", \"epoch\": 3, \"model\": 10}, \"Metrics\": {\"train_binary_classification_cross_entropy_objective\": {\"sum\": 0.4807436229227515, \"count\": 1, \"min\": 0.4807436229227515, \"max\": 0.4807436229227515}}}\u001b[0m\n",
      "\u001b[34m#metrics {\"StartTime\": 1724336234.526319, \"EndTime\": 1724336234.5263255, \"Dimensions\": {\"Algorithm\": \"Linear Learner\", \"Host\": \"algo-1\", \"Operation\": \"training\", \"epoch\": 3, \"model\": 11}, \"Metrics\": {\"train_binary_classification_cross_entropy_objective\": {\"sum\": 0.48168912592429997, \"count\": 1, \"min\": 0.48168912592429997, \"max\": 0.48168912592429997}}}\u001b[0m\n",
      "\u001b[34m#metrics {\"StartTime\": 1724336234.526347, \"EndTime\": 1724336234.5263534, \"Dimensions\": {\"Algorithm\": \"Linear Learner\", \"Host\": \"algo-1\", \"Operation\": \"training\", \"epoch\": 3, \"model\": 12}, \"Metrics\": {\"train_binary_classification_cross_entropy_objective\": {\"sum\": 0.4810594018125388, \"count\": 1, \"min\": 0.4810594018125388, \"max\": 0.4810594018125388}}}\u001b[0m\n",
      "\u001b[34m#metrics {\"StartTime\": 1724336234.5263767, \"EndTime\": 1724336234.526383, \"Dimensions\": {\"Algorithm\": \"Linear Learner\", \"Host\": \"algo-1\", \"Operation\": \"training\", \"epoch\": 3, \"model\": 13}, \"Metrics\": {\"train_binary_classification_cross_entropy_objective\": {\"sum\": 0.4972305860606902, \"count\": 1, \"min\": 0.4972305860606902, \"max\": 0.4972305860606902}}}\u001b[0m\n",
      "\u001b[34m#metrics {\"StartTime\": 1724336234.5264046, \"EndTime\": 1724336234.5264108, \"Dimensions\": {\"Algorithm\": \"Linear Learner\", \"Host\": \"algo-1\", \"Operation\": \"training\", \"epoch\": 3, \"model\": 14}, \"Metrics\": {\"train_binary_classification_cross_entropy_objective\": {\"sum\": 0.4810594014392351, \"count\": 1, \"min\": 0.4810594014392351, \"max\": 0.4810594014392351}}}\u001b[0m\n",
      "\u001b[34m#metrics {\"StartTime\": 1724336234.5264344, \"EndTime\": 1724336234.5264404, \"Dimensions\": {\"Algorithm\": \"Linear Learner\", \"Host\": \"algo-1\", \"Operation\": \"training\", \"epoch\": 3, \"model\": 15}, \"Metrics\": {\"train_binary_classification_cross_entropy_objective\": {\"sum\": 0.4972305675354937, \"count\": 1, \"min\": 0.4972305675354937, \"max\": 0.4972305675354937}}}\u001b[0m\n",
      "\u001b[34m#metrics {\"StartTime\": 1724336234.5264614, \"EndTime\": 1724336234.5264678, \"Dimensions\": {\"Algorithm\": \"Linear Learner\", \"Host\": \"algo-1\", \"Operation\": \"training\", \"epoch\": 3, \"model\": 16}, \"Metrics\": {\"train_binary_classification_cross_entropy_objective\": {\"sum\": 0.5038231656369084, \"count\": 1, \"min\": 0.5038231656369084, \"max\": 0.5038231656369084}}}\u001b[0m\n",
      "\u001b[34m#metrics {\"StartTime\": 1724336234.5264888, \"EndTime\": 1724336234.526495, \"Dimensions\": {\"Algorithm\": \"Linear Learner\", \"Host\": \"algo-1\", \"Operation\": \"training\", \"epoch\": 3, \"model\": 17}, \"Metrics\": {\"train_binary_classification_cross_entropy_objective\": {\"sum\": 0.5040822126289392, \"count\": 1, \"min\": 0.5040822126289392, \"max\": 0.5040822126289392}}}\u001b[0m\n",
      "\u001b[34m#metrics {\"StartTime\": 1724336234.5265207, \"EndTime\": 1724336234.5265274, \"Dimensions\": {\"Algorithm\": \"Linear Learner\", \"Host\": \"algo-1\", \"Operation\": \"training\", \"epoch\": 3, \"model\": 18}, \"Metrics\": {\"train_binary_classification_cross_entropy_objective\": {\"sum\": 0.5038334488708309, \"count\": 1, \"min\": 0.5038334488708309, \"max\": 0.5038334488708309}}}\u001b[0m\n",
      "\u001b[34m#metrics {\"StartTime\": 1724336234.5265536, \"EndTime\": 1724336234.5265603, \"Dimensions\": {\"Algorithm\": \"Linear Learner\", \"Host\": \"algo-1\", \"Operation\": \"training\", \"epoch\": 3, \"model\": 19}, \"Metrics\": {\"train_binary_classification_cross_entropy_objective\": {\"sum\": 0.5040822160353354, \"count\": 1, \"min\": 0.5040822160353354, \"max\": 0.5040822160353354}}}\u001b[0m\n",
      "\u001b[34m#metrics {\"StartTime\": 1724336234.5265863, \"EndTime\": 1724336234.5265927, \"Dimensions\": {\"Algorithm\": \"Linear Learner\", \"Host\": \"algo-1\", \"Operation\": \"training\", \"epoch\": 3, \"model\": 20}, \"Metrics\": {\"train_binary_classification_cross_entropy_objective\": {\"sum\": 0.5039115657048123, \"count\": 1, \"min\": 0.5039115657048123, \"max\": 0.5039115657048123}}}\u001b[0m\n",
      "\u001b[34m#metrics {\"StartTime\": 1724336234.5266192, \"EndTime\": 1724336234.5266254, \"Dimensions\": {\"Algorithm\": \"Linear Learner\", \"Host\": \"algo-1\", \"Operation\": \"training\", \"epoch\": 3, \"model\": 21}, \"Metrics\": {\"train_binary_classification_cross_entropy_objective\": {\"sum\": 0.5071750203170543, \"count\": 1, \"min\": 0.5071750203170543, \"max\": 0.5071750203170543}}}\u001b[0m\n",
      "\u001b[34m#metrics {\"StartTime\": 1724336234.5266514, \"EndTime\": 1724336234.526658, \"Dimensions\": {\"Algorithm\": \"Linear Learner\", \"Host\": \"algo-1\", \"Operation\": \"training\", \"epoch\": 3, \"model\": 22}, \"Metrics\": {\"train_binary_classification_cross_entropy_objective\": {\"sum\": 0.5039115607352067, \"count\": 1, \"min\": 0.5039115607352067, \"max\": 0.5039115607352067}}}\u001b[0m\n",
      "\u001b[34m#metrics {\"StartTime\": 1724336234.5266838, \"EndTime\": 1724336234.5266905, \"Dimensions\": {\"Algorithm\": \"Linear Learner\", \"Host\": \"algo-1\", \"Operation\": \"training\", \"epoch\": 3, \"model\": 23}, \"Metrics\": {\"train_binary_classification_cross_entropy_objective\": {\"sum\": 0.5071750386789304, \"count\": 1, \"min\": 0.5071750386789304, \"max\": 0.5071750386789304}}}\u001b[0m\n",
      "\u001b[34m#metrics {\"StartTime\": 1724336234.5267167, \"EndTime\": 1724336234.5267234, \"Dimensions\": {\"Algorithm\": \"Linear Learner\", \"Host\": \"algo-1\", \"Operation\": \"training\", \"epoch\": 3, \"model\": 24}, \"Metrics\": {\"train_binary_classification_cross_entropy_objective\": {\"sum\": 0.5136983876126258, \"count\": 1, \"min\": 0.5136983876126258, \"max\": 0.5136983876126258}}}\u001b[0m\n",
      "\u001b[34m#metrics {\"StartTime\": 1724336234.5267491, \"EndTime\": 1724336234.5267558, \"Dimensions\": {\"Algorithm\": \"Linear Learner\", \"Host\": \"algo-1\", \"Operation\": \"training\", \"epoch\": 3, \"model\": 25}, \"Metrics\": {\"train_binary_classification_cross_entropy_objective\": {\"sum\": 0.5137801284790039, \"count\": 1, \"min\": 0.5137801284790039, \"max\": 0.5137801284790039}}}\u001b[0m\n",
      "\u001b[34m#metrics {\"StartTime\": 1724336234.526782, \"EndTime\": 1724336234.5267882, \"Dimensions\": {\"Algorithm\": \"Linear Learner\", \"Host\": \"algo-1\", \"Operation\": \"training\", \"epoch\": 3, \"model\": 26}, \"Metrics\": {\"train_binary_classification_cross_entropy_objective\": {\"sum\": 0.5137003344381257, \"count\": 1, \"min\": 0.5137003344381257, \"max\": 0.5137003344381257}}}\u001b[0m\n",
      "\u001b[34m#metrics {\"StartTime\": 1724336234.5268116, \"EndTime\": 1724336234.526818, \"Dimensions\": {\"Algorithm\": \"Linear Learner\", \"Host\": \"algo-1\", \"Operation\": \"training\", \"epoch\": 3, \"model\": 27}, \"Metrics\": {\"train_binary_classification_cross_entropy_objective\": {\"sum\": 0.5137799390273721, \"count\": 1, \"min\": 0.5137799390273721, \"max\": 0.5137799390273721}}}\u001b[0m\n",
      "\u001b[34m#metrics {\"StartTime\": 1724336234.5268419, \"EndTime\": 1724336234.5268486, \"Dimensions\": {\"Algorithm\": \"Linear Learner\", \"Host\": \"algo-1\", \"Operation\": \"training\", \"epoch\": 3, \"model\": 28}, \"Metrics\": {\"train_binary_classification_cross_entropy_objective\": {\"sum\": 0.5137284038205394, \"count\": 1, \"min\": 0.5137284038205394, \"max\": 0.5137284038205394}}}\u001b[0m\n",
      "\u001b[34m#metrics {\"StartTime\": 1724336234.5268698, \"EndTime\": 1724336234.526876, \"Dimensions\": {\"Algorithm\": \"Linear Learner\", \"Host\": \"algo-1\", \"Operation\": \"training\", \"epoch\": 3, \"model\": 29}, \"Metrics\": {\"train_binary_classification_cross_entropy_objective\": {\"sum\": 0.514898163868382, \"count\": 1, \"min\": 0.514898163868382, \"max\": 0.514898163868382}}}\u001b[0m\n",
      "\u001b[34m#metrics {\"StartTime\": 1724336234.5269017, \"EndTime\": 1724336234.5269082, \"Dimensions\": {\"Algorithm\": \"Linear Learner\", \"Host\": \"algo-1\", \"Operation\": \"training\", \"epoch\": 3, \"model\": 30}, \"Metrics\": {\"train_binary_classification_cross_entropy_objective\": {\"sum\": 0.5137282936492826, \"count\": 1, \"min\": 0.5137282936492826, \"max\": 0.5137282936492826}}}\u001b[0m\n",
      "\u001b[34m#metrics {\"StartTime\": 1724336234.5269346, \"EndTime\": 1724336234.5269408, \"Dimensions\": {\"Algorithm\": \"Linear Learner\", \"Host\": \"algo-1\", \"Operation\": \"training\", \"epoch\": 3, \"model\": 31}, \"Metrics\": {\"train_binary_classification_cross_entropy_objective\": {\"sum\": 0.5148981763507248, \"count\": 1, \"min\": 0.5148981763507248, \"max\": 0.5148981763507248}}}\u001b[0m\n",
      "\u001b[34m[08/22/2024 14:17:14 INFO 140070473144128] #quality_metric: host=algo-1, epoch=3, train binary_classification_cross_entropy_objective <loss>=0.48061328027007777\u001b[0m\n",
      "\u001b[34m[2024-08-22 14:17:17.035] [tensorio] [info] epoch_stats={\"data_pipeline\": \"/opt/ml/input/data/validation\", \"epoch\": 11, \"duration\": 2495, \"num_examples\": 164, \"num_bytes\": 69349016}\u001b[0m\n",
      "\u001b[34m#metrics {\"StartTime\": 1724336237.0404565, \"EndTime\": 1724336237.0405052, \"Dimensions\": {\"Algorithm\": \"Linear Learner\", \"Host\": \"algo-1\", \"Operation\": \"training\", \"epoch\": 3, \"model\": 0}, \"Metrics\": {\"validation_binary_classification_cross_entropy_objective\": {\"sum\": 0.48088852058480475, \"count\": 1, \"min\": 0.48088852058480475, \"max\": 0.48088852058480475}}}\u001b[0m\n",
      "\u001b[34m#metrics {\"StartTime\": 1724336237.040571, \"EndTime\": 1724336237.0405815, \"Dimensions\": {\"Algorithm\": \"Linear Learner\", \"Host\": \"algo-1\", \"Operation\": \"training\", \"epoch\": 3, \"model\": 1}, \"Metrics\": {\"validation_binary_classification_cross_entropy_objective\": {\"sum\": 0.48180680881975313, \"count\": 1, \"min\": 0.48180680881975313, \"max\": 0.48180680881975313}}}\u001b[0m\n",
      "\u001b[34m#metrics {\"StartTime\": 1724336237.0406172, \"EndTime\": 1724336237.0406272, \"Dimensions\": {\"Algorithm\": \"Linear Learner\", \"Host\": \"algo-1\", \"Operation\": \"training\", \"epoch\": 3, \"model\": 2}, \"Metrics\": {\"validation_binary_classification_cross_entropy_objective\": {\"sum\": 0.48089169289487804, \"count\": 1, \"min\": 0.48089169289487804, \"max\": 0.48089169289487804}}}\u001b[0m\n",
      "\u001b[34m#metrics {\"StartTime\": 1724336237.040666, \"EndTime\": 1724336237.0406756, \"Dimensions\": {\"Algorithm\": \"Linear Learner\", \"Host\": \"algo-1\", \"Operation\": \"training\", \"epoch\": 3, \"model\": 3}, \"Metrics\": {\"validation_binary_classification_cross_entropy_objective\": {\"sum\": 0.48180680956609123, \"count\": 1, \"min\": 0.48180680956609123, \"max\": 0.48180680956609123}}}\u001b[0m\n",
      "\u001b[34m#metrics {\"StartTime\": 1724336237.0407078, \"EndTime\": 1724336237.0407176, \"Dimensions\": {\"Algorithm\": \"Linear Learner\", \"Host\": \"algo-1\", \"Operation\": \"training\", \"epoch\": 3, \"model\": 4}, \"Metrics\": {\"validation_binary_classification_cross_entropy_objective\": {\"sum\": 0.4810043057976212, \"count\": 1, \"min\": 0.4810043057976212, \"max\": 0.4810043057976212}}}\u001b[0m\n",
      "\u001b[34m#metrics {\"StartTime\": 1724336237.0407536, \"EndTime\": 1724336237.0407636, \"Dimensions\": {\"Algorithm\": \"Linear Learner\", \"Host\": \"algo-1\", \"Operation\": \"training\", \"epoch\": 3, \"model\": 5}, \"Metrics\": {\"validation_binary_classification_cross_entropy_objective\": {\"sum\": 0.49434813982932, \"count\": 1, \"min\": 0.49434813982932, \"max\": 0.49434813982932}}}\u001b[0m\n",
      "\u001b[34m#metrics {\"StartTime\": 1724336237.0407977, \"EndTime\": 1724336237.040808, \"Dimensions\": {\"Algorithm\": \"Linear Learner\", \"Host\": \"algo-1\", \"Operation\": \"training\", \"epoch\": 3, \"model\": 6}, \"Metrics\": {\"validation_binary_classification_cross_entropy_objective\": {\"sum\": 0.4810043018793462, \"count\": 1, \"min\": 0.4810043018793462, \"max\": 0.4810043018793462}}}\u001b[0m\n",
      "\u001b[34m#metrics {\"StartTime\": 1724336237.040842, \"EndTime\": 1724336237.0408487, \"Dimensions\": {\"Algorithm\": \"Linear Learner\", \"Host\": \"algo-1\", \"Operation\": \"training\", \"epoch\": 3, \"model\": 7}, \"Metrics\": {\"validation_binary_classification_cross_entropy_objective\": {\"sum\": 0.4943482409581319, \"count\": 1, \"min\": 0.4943482409581319, \"max\": 0.4943482409581319}}}\u001b[0m\n",
      "\u001b[34m#metrics {\"StartTime\": 1724336237.0408819, \"EndTime\": 1724336237.040892, \"Dimensions\": {\"Algorithm\": \"Linear Learner\", \"Host\": \"algo-1\", \"Operation\": \"training\", \"epoch\": 3, \"model\": 8}, \"Metrics\": {\"validation_binary_classification_cross_entropy_objective\": {\"sum\": 0.48098142213870215, \"count\": 1, \"min\": 0.48098142213870215, \"max\": 0.48098142213870215}}}\u001b[0m\n",
      "\u001b[34m#metrics {\"StartTime\": 1724336237.040936, \"EndTime\": 1724336237.0409453, \"Dimensions\": {\"Algorithm\": \"Linear Learner\", \"Host\": \"algo-1\", \"Operation\": \"training\", \"epoch\": 3, \"model\": 9}, \"Metrics\": {\"validation_binary_classification_cross_entropy_objective\": {\"sum\": 0.48196147134369804, \"count\": 1, \"min\": 0.48196147134369804, \"max\": 0.48196147134369804}}}\u001b[0m\n",
      "\u001b[34m#metrics {\"StartTime\": 1724336237.040981, \"EndTime\": 1724336237.040991, \"Dimensions\": {\"Algorithm\": \"Linear Learner\", \"Host\": \"algo-1\", \"Operation\": \"training\", \"epoch\": 3, \"model\": 10}, \"Metrics\": {\"validation_binary_classification_cross_entropy_objective\": {\"sum\": 0.4809860091326348, \"count\": 1, \"min\": 0.4809860091326348, \"max\": 0.4809860091326348}}}\u001b[0m\n",
      "\u001b[34m#metrics {\"StartTime\": 1724336237.041025, \"EndTime\": 1724336237.0410347, \"Dimensions\": {\"Algorithm\": \"Linear Learner\", \"Host\": \"algo-1\", \"Operation\": \"training\", \"epoch\": 3, \"model\": 11}, \"Metrics\": {\"validation_binary_classification_cross_entropy_objective\": {\"sum\": 0.4819615172434909, \"count\": 1, \"min\": 0.4819615172434909, \"max\": 0.4819615172434909}}}\u001b[0m\n",
      "\u001b[34m#metrics {\"StartTime\": 1724336237.0410664, \"EndTime\": 1724336237.041075, \"Dimensions\": {\"Algorithm\": \"Linear Learner\", \"Host\": \"algo-1\", \"Operation\": \"training\", \"epoch\": 3, \"model\": 12}, \"Metrics\": {\"validation_binary_classification_cross_entropy_objective\": {\"sum\": 0.48110053713893, \"count\": 1, \"min\": 0.48110053713893, \"max\": 0.48110053713893}}}\u001b[0m\n",
      "\u001b[34m#metrics {\"StartTime\": 1724336237.0411055, \"EndTime\": 1724336237.041114, \"Dimensions\": {\"Algorithm\": \"Linear Learner\", \"Host\": \"algo-1\", \"Operation\": \"training\", \"epoch\": 3, \"model\": 13}, \"Metrics\": {\"validation_binary_classification_cross_entropy_objective\": {\"sum\": 0.49452937198945124, \"count\": 1, \"min\": 0.49452937198945124, \"max\": 0.49452937198945124}}}\u001b[0m\n",
      "\u001b[34m#metrics {\"StartTime\": 1724336237.0411508, \"EndTime\": 1724336237.041161, \"Dimensions\": {\"Algorithm\": \"Linear Learner\", \"Host\": \"algo-1\", \"Operation\": \"training\", \"epoch\": 3, \"model\": 14}, \"Metrics\": {\"validation_binary_classification_cross_entropy_objective\": {\"sum\": 0.48110053303407047, \"count\": 1, \"min\": 0.48110053303407047, \"max\": 0.48110053303407047}}}\u001b[0m\n",
      "\u001b[34m#metrics {\"StartTime\": 1724336237.0411956, \"EndTime\": 1724336237.0412052, \"Dimensions\": {\"Algorithm\": \"Linear Learner\", \"Host\": \"algo-1\", \"Operation\": \"training\", \"epoch\": 3, \"model\": 15}, \"Metrics\": {\"validation_binary_classification_cross_entropy_objective\": {\"sum\": 0.4945294833804119, \"count\": 1, \"min\": 0.4945294833804119, \"max\": 0.4945294833804119}}}\u001b[0m\n",
      "\u001b[34m#metrics {\"StartTime\": 1724336237.041242, \"EndTime\": 1724336237.0412514, \"Dimensions\": {\"Algorithm\": \"Linear Learner\", \"Host\": \"algo-1\", \"Operation\": \"training\", \"epoch\": 3, \"model\": 16}, \"Metrics\": {\"validation_binary_classification_cross_entropy_objective\": {\"sum\": 0.5038657535083741, \"count\": 1, \"min\": 0.5038657535083741, \"max\": 0.5038657535083741}}}\u001b[0m\n",
      "\u001b[34m#metrics {\"StartTime\": 1724336237.0412877, \"EndTime\": 1724336237.041297, \"Dimensions\": {\"Algorithm\": \"Linear Learner\", \"Host\": \"algo-1\", \"Operation\": \"training\", \"epoch\": 3, \"model\": 17}, \"Metrics\": {\"validation_binary_classification_cross_entropy_objective\": {\"sum\": 0.5045770659566917, \"count\": 1, \"min\": 0.5045770659566917, \"max\": 0.5045770659566917}}}\u001b[0m\n",
      "\u001b[34m#metrics {\"StartTime\": 1724336237.0413349, \"EndTime\": 1724336237.0413444, \"Dimensions\": {\"Algorithm\": \"Linear Learner\", \"Host\": \"algo-1\", \"Operation\": \"training\", \"epoch\": 3, \"model\": 18}, \"Metrics\": {\"validation_binary_classification_cross_entropy_objective\": {\"sum\": 0.5038594437795335, \"count\": 1, \"min\": 0.5038594437795335, \"max\": 0.5038594437795335}}}\u001b[0m\n",
      "\u001b[34m#metrics {\"StartTime\": 1724336237.041382, \"EndTime\": 1724336237.041392, \"Dimensions\": {\"Algorithm\": \"Linear Learner\", \"Host\": \"algo-1\", \"Operation\": \"training\", \"epoch\": 3, \"model\": 19}, \"Metrics\": {\"validation_binary_classification_cross_entropy_objective\": {\"sum\": 0.5045770191239762, \"count\": 1, \"min\": 0.5045770191239762, \"max\": 0.5045770191239762}}}\u001b[0m\n",
      "\u001b[34m#metrics {\"StartTime\": 1724336237.0414295, \"EndTime\": 1724336237.0414388, \"Dimensions\": {\"Algorithm\": \"Linear Learner\", \"Host\": \"algo-1\", \"Operation\": \"training\", \"epoch\": 3, \"model\": 20}, \"Metrics\": {\"validation_binary_classification_cross_entropy_objective\": {\"sum\": 0.5042178310413669, \"count\": 1, \"min\": 0.5042178310413669, \"max\": 0.5042178310413669}}}\u001b[0m\n",
      "\u001b[34m#metrics {\"StartTime\": 1724336237.0414808, \"EndTime\": 1724336237.0414917, \"Dimensions\": {\"Algorithm\": \"Linear Learner\", \"Host\": \"algo-1\", \"Operation\": \"training\", \"epoch\": 3, \"model\": 21}, \"Metrics\": {\"validation_binary_classification_cross_entropy_objective\": {\"sum\": 0.505646512844813, \"count\": 1, \"min\": 0.505646512844813, \"max\": 0.505646512844813}}}\u001b[0m\n",
      "\u001b[34m#metrics {\"StartTime\": 1724336237.0415208, \"EndTime\": 1724336237.0415308, \"Dimensions\": {\"Algorithm\": \"Linear Learner\", \"Host\": \"algo-1\", \"Operation\": \"training\", \"epoch\": 3, \"model\": 22}, \"Metrics\": {\"validation_binary_classification_cross_entropy_objective\": {\"sum\": 0.5042178174206966, \"count\": 1, \"min\": 0.5042178174206966, \"max\": 0.5042178174206966}}}\u001b[0m\n",
      "\u001b[34m#metrics {\"StartTime\": 1724336237.0415692, \"EndTime\": 1724336237.041579, \"Dimensions\": {\"Algorithm\": \"Linear Learner\", \"Host\": \"algo-1\", \"Operation\": \"training\", \"epoch\": 3, \"model\": 23}, \"Metrics\": {\"validation_binary_classification_cross_entropy_objective\": {\"sum\": 0.5056465673274939, \"count\": 1, \"min\": 0.5056465673274939, \"max\": 0.5056465673274939}}}\u001b[0m\n",
      "\u001b[34m#metrics {\"StartTime\": 1724336237.0416136, \"EndTime\": 1724336237.0416238, \"Dimensions\": {\"Algorithm\": \"Linear Learner\", \"Host\": \"algo-1\", \"Operation\": \"training\", \"epoch\": 3, \"model\": 24}, \"Metrics\": {\"validation_binary_classification_cross_entropy_objective\": {\"sum\": 0.5137195844761461, \"count\": 1, \"min\": 0.5137195844761461, \"max\": 0.5137195844761461}}}\u001b[0m\n",
      "\u001b[34m#metrics {\"StartTime\": 1724336237.0416532, \"EndTime\": 1724336237.041661, \"Dimensions\": {\"Algorithm\": \"Linear Learner\", \"Host\": \"algo-1\", \"Operation\": \"training\", \"epoch\": 3, \"model\": 25}, \"Metrics\": {\"validation_binary_classification_cross_entropy_objective\": {\"sum\": 0.5137730125813617, \"count\": 1, \"min\": 0.5137730125813617, \"max\": 0.5137730125813617}}}\u001b[0m\n",
      "\u001b[34m#metrics {\"StartTime\": 1724336237.0416858, \"EndTime\": 1724336237.0416927, \"Dimensions\": {\"Algorithm\": \"Linear Learner\", \"Host\": \"algo-1\", \"Operation\": \"training\", \"epoch\": 3, \"model\": 26}, \"Metrics\": {\"validation_binary_classification_cross_entropy_objective\": {\"sum\": 0.5137127989567698, \"count\": 1, \"min\": 0.5137127989567698, \"max\": 0.5137127989567698}}}\u001b[0m\n",
      "\u001b[34m#metrics {\"StartTime\": 1724336237.0417275, \"EndTime\": 1724336237.0417376, \"Dimensions\": {\"Algorithm\": \"Linear Learner\", \"Host\": \"algo-1\", \"Operation\": \"training\", \"epoch\": 3, \"model\": 27}, \"Metrics\": {\"validation_binary_classification_cross_entropy_objective\": {\"sum\": 0.5137714437786857, \"count\": 1, \"min\": 0.5137714437786857, \"max\": 0.5137714437786857}}}\u001b[0m\n",
      "\u001b[34m#metrics {\"StartTime\": 1724336237.0417762, \"EndTime\": 1724336237.041786, \"Dimensions\": {\"Algorithm\": \"Linear Learner\", \"Host\": \"algo-1\", \"Operation\": \"training\", \"epoch\": 3, \"model\": 28}, \"Metrics\": {\"validation_binary_classification_cross_entropy_objective\": {\"sum\": 0.5137555663686345, \"count\": 1, \"min\": 0.5137555663686345, \"max\": 0.5137555663686345}}}\u001b[0m\n",
      "\u001b[34m#metrics {\"StartTime\": 1724336237.0418162, \"EndTime\": 1724336237.041823, \"Dimensions\": {\"Algorithm\": \"Linear Learner\", \"Host\": \"algo-1\", \"Operation\": \"training\", \"epoch\": 3, \"model\": 29}, \"Metrics\": {\"validation_binary_classification_cross_entropy_objective\": {\"sum\": 0.5133876024695336, \"count\": 1, \"min\": 0.5133876024695336, \"max\": 0.5133876024695336}}}\u001b[0m\n",
      "\u001b[34m#metrics {\"StartTime\": 1724336237.0418417, \"EndTime\": 1724336237.0418472, \"Dimensions\": {\"Algorithm\": \"Linear Learner\", \"Host\": \"algo-1\", \"Operation\": \"training\", \"epoch\": 3, \"model\": 30}, \"Metrics\": {\"validation_binary_classification_cross_entropy_objective\": {\"sum\": 0.5137567015488772, \"count\": 1, \"min\": 0.5137567015488772, \"max\": 0.5137567015488772}}}\u001b[0m\n",
      "\u001b[34m#metrics {\"StartTime\": 1724336237.0418735, \"EndTime\": 1724336237.0418808, \"Dimensions\": {\"Algorithm\": \"Linear Learner\", \"Host\": \"algo-1\", \"Operation\": \"training\", \"epoch\": 3, \"model\": 31}, \"Metrics\": {\"validation_binary_classification_cross_entropy_objective\": {\"sum\": 0.5133876017231955, \"count\": 1, \"min\": 0.5133876017231955, \"max\": 0.5133876017231955}}}\u001b[0m\n",
      "\u001b[34m[08/22/2024 14:17:17 INFO 140070473144128] #quality_metric: host=algo-1, epoch=3, validation binary_classification_cross_entropy_objective <loss>=0.48088852058480475\u001b[0m\n",
      "\u001b[34m[08/22/2024 14:17:17 INFO 140070473144128] #early_stopping_criteria_metric: host=algo-1, epoch=3, criteria=binary_classification_cross_entropy_objective, value=0.48088852058480475\u001b[0m\n",
      "\u001b[34m[08/22/2024 14:17:17 INFO 140070473144128] Saving model for epoch: 3\u001b[0m\n",
      "\u001b[34m[08/22/2024 14:17:17 INFO 140070473144128] Saved checkpoint to \"/tmp/tmp0fma73v6/mx-mod-0000.params\"\u001b[0m\n",
      "\u001b[34m[08/22/2024 14:17:17 INFO 140070473144128] #progress_metric: host=algo-1, completed 26.666666666666668 % of epochs\u001b[0m\n",
      "\u001b[34m#metrics {\"StartTime\": 1724336206.3892174, \"EndTime\": 1724336237.04687, \"Dimensions\": {\"Algorithm\": \"Linear Learner\", \"Host\": \"algo-1\", \"Operation\": \"training\", \"epoch\": 3, \"Meta\": \"training_data_iter\"}, \"Metrics\": {\"Total Records Seen\": {\"sum\": 5245888.0, \"count\": 1, \"min\": 5245888, \"max\": 5245888}, \"Total Batches Seen\": {\"sum\": 5248.0, \"count\": 1, \"min\": 5248, \"max\": 5248}, \"Max Records Seen Between Resets\": {\"sum\": 1308472.0, \"count\": 1, \"min\": 1308472, \"max\": 1308472}, \"Max Batches Seen Between Resets\": {\"sum\": 1309.0, \"count\": 1, \"min\": 1309, \"max\": 1309}, \"Reset Count\": {\"sum\": 6.0, \"count\": 1, \"min\": 6, \"max\": 6}, \"Number of Records Since Last Reset\": {\"sum\": 1308472.0, \"count\": 1, \"min\": 1308472, \"max\": 1308472}, \"Number of Batches Since Last Reset\": {\"sum\": 1309.0, \"count\": 1, \"min\": 1309, \"max\": 1309}}}\u001b[0m\n",
      "\u001b[34m[08/22/2024 14:17:17 INFO 140070473144128] #throughput_metric: host=algo-1, train throughput=42679.97204813901 records/second\u001b[0m\n",
      "\u001b[34m[2024-08-22 14:17:44.471] [tensorio] [info] epoch_stats={\"data_pipeline\": \"/opt/ml/input/data/train\", \"epoch\": 11, \"duration\": 27421, \"num_examples\": 1309, \"num_bytes\": 554792128}\u001b[0m\n",
      "\u001b[34m#metrics {\"StartTime\": 1724336264.4719214, \"EndTime\": 1724336264.471993, \"Dimensions\": {\"Algorithm\": \"Linear Learner\", \"Host\": \"algo-1\", \"Operation\": \"training\", \"epoch\": 4, \"model\": 0}, \"Metrics\": {\"train_binary_classification_cross_entropy_objective\": {\"sum\": 0.4805881394552528, \"count\": 1, \"min\": 0.4805881394552528, \"max\": 0.4805881394552528}}}\u001b[0m\n",
      "\u001b[34m#metrics {\"StartTime\": 1724336264.4720738, \"EndTime\": 1724336264.4720895, \"Dimensions\": {\"Algorithm\": \"Linear Learner\", \"Host\": \"algo-1\", \"Operation\": \"training\", \"epoch\": 4, \"model\": 1}, \"Metrics\": {\"train_binary_classification_cross_entropy_objective\": {\"sum\": 0.4815064002920728, \"count\": 1, \"min\": 0.4815064002920728, \"max\": 0.4815064002920728}}}\u001b[0m\n",
      "\u001b[34m#metrics {\"StartTime\": 1724336264.472129, \"EndTime\": 1724336264.4721396, \"Dimensions\": {\"Algorithm\": \"Linear Learner\", \"Host\": \"algo-1\", \"Operation\": \"training\", \"epoch\": 4, \"model\": 2}, \"Metrics\": {\"train_binary_classification_cross_entropy_objective\": {\"sum\": 0.4806287378200333, \"count\": 1, \"min\": 0.4806287378200333, \"max\": 0.4806287378200333}}}\u001b[0m\n",
      "\u001b[34m#metrics {\"StartTime\": 1724336264.4721699, \"EndTime\": 1724336264.4721792, \"Dimensions\": {\"Algorithm\": \"Linear Learner\", \"Host\": \"algo-1\", \"Operation\": \"training\", \"epoch\": 4, \"model\": 3}, \"Metrics\": {\"train_binary_classification_cross_entropy_objective\": {\"sum\": 0.4815064000354265, \"count\": 1, \"min\": 0.4815064000354265, \"max\": 0.4815064000354265}}}\u001b[0m\n",
      "\u001b[34m#metrics {\"StartTime\": 1724336264.4722056, \"EndTime\": 1724336264.4722147, \"Dimensions\": {\"Algorithm\": \"Linear Learner\", \"Host\": \"algo-1\", \"Operation\": \"training\", \"epoch\": 4, \"model\": 4}, \"Metrics\": {\"train_binary_classification_cross_entropy_objective\": {\"sum\": 0.4807104800396374, \"count\": 1, \"min\": 0.4807104800396374, \"max\": 0.4807104800396374}}}\u001b[0m\n",
      "\u001b[34m#metrics {\"StartTime\": 1724336264.4722579, \"EndTime\": 1724336264.4722667, \"Dimensions\": {\"Algorithm\": \"Linear Learner\", \"Host\": \"algo-1\", \"Operation\": \"training\", \"epoch\": 4, \"model\": 5}, \"Metrics\": {\"train_binary_classification_cross_entropy_objective\": {\"sum\": 0.4961882071072173, \"count\": 1, \"min\": 0.4961882071072173, \"max\": 0.4961882071072173}}}\u001b[0m\n",
      "\u001b[34m#metrics {\"StartTime\": 1724336264.4723024, \"EndTime\": 1724336264.4723115, \"Dimensions\": {\"Algorithm\": \"Linear Learner\", \"Host\": \"algo-1\", \"Operation\": \"training\", \"epoch\": 4, \"model\": 6}, \"Metrics\": {\"train_binary_classification_cross_entropy_objective\": {\"sum\": 0.4807104784530966, \"count\": 1, \"min\": 0.4807104784530966, \"max\": 0.4807104784530966}}}\u001b[0m\n",
      "\u001b[34m#metrics {\"StartTime\": 1724336264.4723547, \"EndTime\": 1724336264.472364, \"Dimensions\": {\"Algorithm\": \"Linear Learner\", \"Host\": \"algo-1\", \"Operation\": \"training\", \"epoch\": 4, \"model\": 7}, \"Metrics\": {\"train_binary_classification_cross_entropy_objective\": {\"sum\": 0.49618820717721174, \"count\": 1, \"min\": 0.49618820717721174, \"max\": 0.49618820717721174}}}\u001b[0m\n",
      "\u001b[34m#metrics {\"StartTime\": 1724336264.472399, \"EndTime\": 1724336264.4724073, \"Dimensions\": {\"Algorithm\": \"Linear Learner\", \"Host\": \"algo-1\", \"Operation\": \"training\", \"epoch\": 4, \"model\": 8}, \"Metrics\": {\"train_binary_classification_cross_entropy_objective\": {\"sum\": 0.4807032782645036, \"count\": 1, \"min\": 0.4807032782645036, \"max\": 0.4807032782645036}}}\u001b[0m\n",
      "\u001b[34m#metrics {\"StartTime\": 1724336264.4724472, \"EndTime\": 1724336264.4724572, \"Dimensions\": {\"Algorithm\": \"Linear Learner\", \"Host\": \"algo-1\", \"Operation\": \"training\", \"epoch\": 4, \"model\": 9}, \"Metrics\": {\"train_binary_classification_cross_entropy_objective\": {\"sum\": 0.48157452572230536, \"count\": 1, \"min\": 0.48157452572230536, \"max\": 0.48157452572230536}}}\u001b[0m\n",
      "\u001b[34m#metrics {\"StartTime\": 1724336264.4724963, \"EndTime\": 1724336264.4725058, \"Dimensions\": {\"Algorithm\": \"Linear Learner\", \"Host\": \"algo-1\", \"Operation\": \"training\", \"epoch\": 4, \"model\": 10}, \"Metrics\": {\"train_binary_classification_cross_entropy_objective\": {\"sum\": 0.4807430689867119, \"count\": 1, \"min\": 0.4807430689867119, \"max\": 0.4807430689867119}}}\u001b[0m\n",
      "\u001b[34m#metrics {\"StartTime\": 1724336264.472543, \"EndTime\": 1724336264.4725518, \"Dimensions\": {\"Algorithm\": \"Linear Learner\", \"Host\": \"algo-1\", \"Operation\": \"training\", \"epoch\": 4, \"model\": 11}, \"Metrics\": {\"train_binary_classification_cross_entropy_objective\": {\"sum\": 0.4815745288953869, \"count\": 1, \"min\": 0.4815745288953869, \"max\": 0.4815745288953869}}}\u001b[0m\n",
      "\u001b[34m#metrics {\"StartTime\": 1724336264.4725802, \"EndTime\": 1724336264.4725888, \"Dimensions\": {\"Algorithm\": \"Linear Learner\", \"Host\": \"algo-1\", \"Operation\": \"training\", \"epoch\": 4, \"model\": 12}, \"Metrics\": {\"train_binary_classification_cross_entropy_objective\": {\"sum\": 0.48081938775672095, \"count\": 1, \"min\": 0.48081938775672095, \"max\": 0.48081938775672095}}}\u001b[0m\n",
      "\u001b[34m#metrics {\"StartTime\": 1724336264.4726183, \"EndTime\": 1724336264.4726267, \"Dimensions\": {\"Algorithm\": \"Linear Learner\", \"Host\": \"algo-1\", \"Operation\": \"training\", \"epoch\": 4, \"model\": 13}, \"Metrics\": {\"train_binary_classification_cross_entropy_objective\": {\"sum\": 0.4952994708839906, \"count\": 1, \"min\": 0.4952994708839906, \"max\": 0.4952994708839906}}}\u001b[0m\n",
      "\u001b[34m#metrics {\"StartTime\": 1724336264.472661, \"EndTime\": 1724336264.4726706, \"Dimensions\": {\"Algorithm\": \"Linear Learner\", \"Host\": \"algo-1\", \"Operation\": \"training\", \"epoch\": 4, \"model\": 14}, \"Metrics\": {\"train_binary_classification_cross_entropy_objective\": {\"sum\": 0.4808193875700691, \"count\": 1, \"min\": 0.4808193875700691, \"max\": 0.4808193875700691}}}\u001b[0m\n",
      "\u001b[34m#metrics {\"StartTime\": 1724336264.4727068, \"EndTime\": 1724336264.472716, \"Dimensions\": {\"Algorithm\": \"Linear Learner\", \"Host\": \"algo-1\", \"Operation\": \"training\", \"epoch\": 4, \"model\": 15}, \"Metrics\": {\"train_binary_classification_cross_entropy_objective\": {\"sum\": 0.49529947048735545, \"count\": 1, \"min\": 0.49529947048735545, \"max\": 0.49529947048735545}}}\u001b[0m\n",
      "\u001b[34m#metrics {\"StartTime\": 1724336264.4727528, \"EndTime\": 1724336264.4727628, \"Dimensions\": {\"Algorithm\": \"Linear Learner\", \"Host\": \"algo-1\", \"Operation\": \"training\", \"epoch\": 4, \"model\": 16}, \"Metrics\": {\"train_binary_classification_cross_entropy_objective\": {\"sum\": 0.5038195385947505, \"count\": 1, \"min\": 0.5038195385947505, \"max\": 0.5038195385947505}}}\u001b[0m\n",
      "\u001b[34m#metrics {\"StartTime\": 1724336264.4728005, \"EndTime\": 1724336264.4728115, \"Dimensions\": {\"Algorithm\": \"Linear Learner\", \"Host\": \"algo-1\", \"Operation\": \"training\", \"epoch\": 4, \"model\": 17}, \"Metrics\": {\"train_binary_classification_cross_entropy_objective\": {\"sum\": 0.5040529758558361, \"count\": 1, \"min\": 0.5040529758558361, \"max\": 0.5040529758558361}}}\u001b[0m\n",
      "\u001b[34m#metrics {\"StartTime\": 1724336264.4728518, \"EndTime\": 1724336264.472862, \"Dimensions\": {\"Algorithm\": \"Linear Learner\", \"Host\": \"algo-1\", \"Operation\": \"training\", \"epoch\": 4, \"model\": 18}, \"Metrics\": {\"train_binary_classification_cross_entropy_objective\": {\"sum\": 0.5038337400477232, \"count\": 1, \"min\": 0.5038337400477232, \"max\": 0.5038337400477232}}}\u001b[0m\n",
      "\u001b[34m#metrics {\"StartTime\": 1724336264.472898, \"EndTime\": 1724336264.4729078, \"Dimensions\": {\"Algorithm\": \"Linear Learner\", \"Host\": \"algo-1\", \"Operation\": \"training\", \"epoch\": 4, \"model\": 19}, \"Metrics\": {\"train_binary_classification_cross_entropy_objective\": {\"sum\": 0.5040529761358139, \"count\": 1, \"min\": 0.5040529761358139, \"max\": 0.5040529761358139}}}\u001b[0m\n",
      "\u001b[34m#metrics {\"StartTime\": 1724336264.4729462, \"EndTime\": 1724336264.4729567, \"Dimensions\": {\"Algorithm\": \"Linear Learner\", \"Host\": \"algo-1\", \"Operation\": \"training\", \"epoch\": 4, \"model\": 20}, \"Metrics\": {\"train_binary_classification_cross_entropy_objective\": {\"sum\": 0.5038555994062978, \"count\": 1, \"min\": 0.5038555994062978, \"max\": 0.5038555994062978}}}\u001b[0m\n",
      "\u001b[34m#metrics {\"StartTime\": 1724336264.472997, \"EndTime\": 1724336264.473008, \"Dimensions\": {\"Algorithm\": \"Linear Learner\", \"Host\": \"algo-1\", \"Operation\": \"training\", \"epoch\": 4, \"model\": 21}, \"Metrics\": {\"train_binary_classification_cross_entropy_objective\": {\"sum\": 0.5068036504622994, \"count\": 1, \"min\": 0.5068036504622994, \"max\": 0.5068036504622994}}}\u001b[0m\n",
      "\u001b[34m#metrics {\"StartTime\": 1724336264.4730487, \"EndTime\": 1724336264.4730592, \"Dimensions\": {\"Algorithm\": \"Linear Learner\", \"Host\": \"algo-1\", \"Operation\": \"training\", \"epoch\": 4, \"model\": 22}, \"Metrics\": {\"train_binary_classification_cross_entropy_objective\": {\"sum\": 0.5038556005028775, \"count\": 1, \"min\": 0.5038556005028775, \"max\": 0.5038556005028775}}}\u001b[0m\n",
      "\u001b[34m#metrics {\"StartTime\": 1724336264.4730933, \"EndTime\": 1724336264.473103, \"Dimensions\": {\"Algorithm\": \"Linear Learner\", \"Host\": \"algo-1\", \"Operation\": \"training\", \"epoch\": 4, \"model\": 23}, \"Metrics\": {\"train_binary_classification_cross_entropy_objective\": {\"sum\": 0.5068036530987567, \"count\": 1, \"min\": 0.5068036530987567, \"max\": 0.5068036530987567}}}\u001b[0m\n",
      "\u001b[34m#metrics {\"StartTime\": 1724336264.4731405, \"EndTime\": 1724336264.4731493, \"Dimensions\": {\"Algorithm\": \"Linear Learner\", \"Host\": \"algo-1\", \"Operation\": \"training\", \"epoch\": 4, \"model\": 24}, \"Metrics\": {\"train_binary_classification_cross_entropy_objective\": {\"sum\": 0.5136976973274068, \"count\": 1, \"min\": 0.5136976973274068, \"max\": 0.5136976973274068}}}\u001b[0m\n",
      "\u001b[34m#metrics {\"StartTime\": 1724336264.4731827, \"EndTime\": 1724336264.4731927, \"Dimensions\": {\"Algorithm\": \"Linear Learner\", \"Host\": \"algo-1\", \"Operation\": \"training\", \"epoch\": 4, \"model\": 25}, \"Metrics\": {\"train_binary_classification_cross_entropy_objective\": {\"sum\": 0.5137718013798425, \"count\": 1, \"min\": 0.5137718013798425, \"max\": 0.5137718013798425}}}\u001b[0m\n",
      "\u001b[34m#metrics {\"StartTime\": 1724336264.4732296, \"EndTime\": 1724336264.473239, \"Dimensions\": {\"Algorithm\": \"Linear Learner\", \"Host\": \"algo-1\", \"Operation\": \"training\", \"epoch\": 4, \"model\": 26}, \"Metrics\": {\"train_binary_classification_cross_entropy_objective\": {\"sum\": 0.5137003758748372, \"count\": 1, \"min\": 0.5137003758748372, \"max\": 0.5137003758748372}}}\u001b[0m\n",
      "\u001b[34m#metrics {\"StartTime\": 1724336264.4732761, \"EndTime\": 1724336264.473286, \"Dimensions\": {\"Algorithm\": \"Linear Learner\", \"Host\": \"algo-1\", \"Operation\": \"training\", \"epoch\": 4, \"model\": 27}, \"Metrics\": {\"train_binary_classification_cross_entropy_objective\": {\"sum\": 0.5137717591031976, \"count\": 1, \"min\": 0.5137717591031976, \"max\": 0.5137717591031976}}}\u001b[0m\n",
      "\u001b[34m#metrics {\"StartTime\": 1724336264.4733179, \"EndTime\": 1724336264.473328, \"Dimensions\": {\"Algorithm\": \"Linear Learner\", \"Host\": \"algo-1\", \"Operation\": \"training\", \"epoch\": 4, \"model\": 28}, \"Metrics\": {\"train_binary_classification_cross_entropy_objective\": {\"sum\": 0.5137068182569031, \"count\": 1, \"min\": 0.5137068182569031, \"max\": 0.5137068182569031}}}\u001b[0m\n",
      "\u001b[34m#metrics {\"StartTime\": 1724336264.473365, \"EndTime\": 1724336264.4733746, \"Dimensions\": {\"Algorithm\": \"Linear Learner\", \"Host\": \"algo-1\", \"Operation\": \"training\", \"epoch\": 4, \"model\": 29}, \"Metrics\": {\"train_binary_classification_cross_entropy_objective\": {\"sum\": 0.5147581143393793, \"count\": 1, \"min\": 0.5147581143393793, \"max\": 0.5147581143393793}}}\u001b[0m\n",
      "\u001b[34m#metrics {\"StartTime\": 1724336264.4734082, \"EndTime\": 1724336264.4734187, \"Dimensions\": {\"Algorithm\": \"Linear Learner\", \"Host\": \"algo-1\", \"Operation\": \"training\", \"epoch\": 4, \"model\": 30}, \"Metrics\": {\"train_binary_classification_cross_entropy_objective\": {\"sum\": 0.5137067557518635, \"count\": 1, \"min\": 0.5137067557518635, \"max\": 0.5137067557518635}}}\u001b[0m\n",
      "\u001b[34m#metrics {\"StartTime\": 1724336264.4734595, \"EndTime\": 1724336264.4734702, \"Dimensions\": {\"Algorithm\": \"Linear Learner\", \"Host\": \"algo-1\", \"Operation\": \"training\", \"epoch\": 4, \"model\": 31}, \"Metrics\": {\"train_binary_classification_cross_entropy_objective\": {\"sum\": 0.5147581165325387, \"count\": 1, \"min\": 0.5147581165325387, \"max\": 0.5147581165325387}}}\u001b[0m\n",
      "\u001b[34m[08/22/2024 14:17:44 INFO 140070473144128] #quality_metric: host=algo-1, epoch=4, train binary_classification_cross_entropy_objective <loss>=0.4805881394552528\u001b[0m\n",
      "\u001b[34m[2024-08-22 14:17:46.933] [tensorio] [info] epoch_stats={\"data_pipeline\": \"/opt/ml/input/data/validation\", \"epoch\": 14, \"duration\": 2446, \"num_examples\": 164, \"num_bytes\": 69349016}\u001b[0m\n",
      "\u001b[34m#metrics {\"StartTime\": 1724336266.9392045, \"EndTime\": 1724336266.939254, \"Dimensions\": {\"Algorithm\": \"Linear Learner\", \"Host\": \"algo-1\", \"Operation\": \"training\", \"epoch\": 4, \"model\": 0}, \"Metrics\": {\"validation_binary_classification_cross_entropy_objective\": {\"sum\": 0.4808901489079438, \"count\": 1, \"min\": 0.4808901489079438, \"max\": 0.4808901489079438}}}\u001b[0m\n",
      "\u001b[34m#metrics {\"StartTime\": 1724336266.93932, \"EndTime\": 1724336266.9393313, \"Dimensions\": {\"Algorithm\": \"Linear Learner\", \"Host\": \"algo-1\", \"Operation\": \"training\", \"epoch\": 4, \"model\": 1}, \"Metrics\": {\"validation_binary_classification_cross_entropy_objective\": {\"sum\": 0.4816545715214483, \"count\": 1, \"min\": 0.4816545715214483, \"max\": 0.4816545715214483}}}\u001b[0m\n",
      "\u001b[34m#metrics {\"StartTime\": 1724336266.939368, \"EndTime\": 1724336266.9393775, \"Dimensions\": {\"Algorithm\": \"Linear Learner\", \"Host\": \"algo-1\", \"Operation\": \"training\", \"epoch\": 4, \"model\": 2}, \"Metrics\": {\"validation_binary_classification_cross_entropy_objective\": {\"sum\": 0.48089179346393635, \"count\": 1, \"min\": 0.48089179346393635, \"max\": 0.48089179346393635}}}\u001b[0m\n",
      "\u001b[34m#metrics {\"StartTime\": 1724336266.9394166, \"EndTime\": 1724336266.9394255, \"Dimensions\": {\"Algorithm\": \"Linear Learner\", \"Host\": \"algo-1\", \"Operation\": \"training\", \"epoch\": 4, \"model\": 3}, \"Metrics\": {\"validation_binary_classification_cross_entropy_objective\": {\"sum\": 0.48165457674581497, \"count\": 1, \"min\": 0.48165457674581497, \"max\": 0.48165457674581497}}}\u001b[0m\n",
      "\u001b[34m#metrics {\"StartTime\": 1724336266.9394648, \"EndTime\": 1724336266.9394734, \"Dimensions\": {\"Algorithm\": \"Linear Learner\", \"Host\": \"algo-1\", \"Operation\": \"training\", \"epoch\": 4, \"model\": 4}, \"Metrics\": {\"validation_binary_classification_cross_entropy_objective\": {\"sum\": 0.48090043773833857, \"count\": 1, \"min\": 0.48090043773833857, \"max\": 0.48090043773833857}}}\u001b[0m\n",
      "\u001b[34m#metrics {\"StartTime\": 1724336266.9395032, \"EndTime\": 1724336266.9395113, \"Dimensions\": {\"Algorithm\": \"Linear Learner\", \"Host\": \"algo-1\", \"Operation\": \"training\", \"epoch\": 4, \"model\": 5}, \"Metrics\": {\"validation_binary_classification_cross_entropy_objective\": {\"sum\": 0.4916511047586063, \"count\": 1, \"min\": 0.4916511047586063, \"max\": 0.4916511047586063}}}\u001b[0m\n",
      "\u001b[34m#metrics {\"StartTime\": 1724336266.9395463, \"EndTime\": 1724336266.9395556, \"Dimensions\": {\"Algorithm\": \"Linear Learner\", \"Host\": \"algo-1\", \"Operation\": \"training\", \"epoch\": 4, \"model\": 6}, \"Metrics\": {\"validation_binary_classification_cross_entropy_objective\": {\"sum\": 0.48090043587249337, \"count\": 1, \"min\": 0.48090043587249337, \"max\": 0.48090043587249337}}}\u001b[0m\n",
      "\u001b[34m#metrics {\"StartTime\": 1724336266.9396057, \"EndTime\": 1724336266.9396155, \"Dimensions\": {\"Algorithm\": \"Linear Learner\", \"Host\": \"algo-1\", \"Operation\": \"training\", \"epoch\": 4, \"model\": 7}, \"Metrics\": {\"validation_binary_classification_cross_entropy_objective\": {\"sum\": 0.4916511297609325, \"count\": 1, \"min\": 0.4916511297609325, \"max\": 0.4916511297609325}}}\u001b[0m\n",
      "\u001b[34m#metrics {\"StartTime\": 1724336266.9396493, \"EndTime\": 1724336266.9396582, \"Dimensions\": {\"Algorithm\": \"Linear Learner\", \"Host\": \"algo-1\", \"Operation\": \"training\", \"epoch\": 4, \"model\": 8}, \"Metrics\": {\"validation_binary_classification_cross_entropy_objective\": {\"sum\": 0.4809819968190354, \"count\": 1, \"min\": 0.4809819968190354, \"max\": 0.4809819968190354}}}\u001b[0m\n",
      "\u001b[34m#metrics {\"StartTime\": 1724336266.9396875, \"EndTime\": 1724336266.9396966, \"Dimensions\": {\"Algorithm\": \"Linear Learner\", \"Host\": \"algo-1\", \"Operation\": \"training\", \"epoch\": 4, \"model\": 9}, \"Metrics\": {\"validation_binary_classification_cross_entropy_objective\": {\"sum\": 0.4818019204918146, \"count\": 1, \"min\": 0.4818019204918146, \"max\": 0.4818019204918146}}}\u001b[0m\n",
      "\u001b[34m#metrics {\"StartTime\": 1724336266.939765, \"EndTime\": 1724336266.9397783, \"Dimensions\": {\"Algorithm\": \"Linear Learner\", \"Host\": \"algo-1\", \"Operation\": \"training\", \"epoch\": 4, \"model\": 10}, \"Metrics\": {\"validation_binary_classification_cross_entropy_objective\": {\"sum\": 0.4809860330154538, \"count\": 1, \"min\": 0.4809860330154538, \"max\": 0.4809860330154538}}}\u001b[0m\n",
      "\u001b[34m#metrics {\"StartTime\": 1724336266.9398112, \"EndTime\": 1724336266.93982, \"Dimensions\": {\"Algorithm\": \"Linear Learner\", \"Host\": \"algo-1\", \"Operation\": \"training\", \"epoch\": 4, \"model\": 11}, \"Metrics\": {\"validation_binary_classification_cross_entropy_objective\": {\"sum\": 0.48180193056737886, \"count\": 1, \"min\": 0.48180193056737886, \"max\": 0.48180193056737886}}}\u001b[0m\n",
      "\u001b[34m#metrics {\"StartTime\": 1724336266.9398475, \"EndTime\": 1724336266.939857, \"Dimensions\": {\"Algorithm\": \"Linear Learner\", \"Host\": \"algo-1\", \"Operation\": \"training\", \"epoch\": 4, \"model\": 12}, \"Metrics\": {\"validation_binary_classification_cross_entropy_objective\": {\"sum\": 0.4809957589203404, \"count\": 1, \"min\": 0.4809957589203404, \"max\": 0.4809957589203404}}}\u001b[0m\n",
      "\u001b[34m#metrics {\"StartTime\": 1724336266.93989, \"EndTime\": 1724336266.9398994, \"Dimensions\": {\"Algorithm\": \"Linear Learner\", \"Host\": \"algo-1\", \"Operation\": \"training\", \"epoch\": 4, \"model\": 13}, \"Metrics\": {\"validation_binary_classification_cross_entropy_objective\": {\"sum\": 0.4917144660641143, \"count\": 1, \"min\": 0.4917144660641143, \"max\": 0.4917144660641143}}}\u001b[0m\n",
      "\u001b[34m#metrics {\"StartTime\": 1724336266.939927, \"EndTime\": 1724336266.9399347, \"Dimensions\": {\"Algorithm\": \"Linear Learner\", \"Host\": \"algo-1\", \"Operation\": \"training\", \"epoch\": 4, \"model\": 14}, \"Metrics\": {\"validation_binary_classification_cross_entropy_objective\": {\"sum\": 0.480995755934988, \"count\": 1, \"min\": 0.480995755934988, \"max\": 0.480995755934988}}}\u001b[0m\n",
      "\u001b[34m#metrics {\"StartTime\": 1724336266.9399614, \"EndTime\": 1724336266.9399705, \"Dimensions\": {\"Algorithm\": \"Linear Learner\", \"Host\": \"algo-1\", \"Operation\": \"training\", \"epoch\": 4, \"model\": 15}, \"Metrics\": {\"validation_binary_classification_cross_entropy_objective\": {\"sum\": 0.49171448304330595, \"count\": 1, \"min\": 0.49171448304330595, \"max\": 0.49171448304330595}}}\u001b[0m\n",
      "\u001b[34m#metrics {\"StartTime\": 1724336266.9400012, \"EndTime\": 1724336266.9400103, \"Dimensions\": {\"Algorithm\": \"Linear Learner\", \"Host\": \"algo-1\", \"Operation\": \"training\", \"epoch\": 4, \"model\": 16}, \"Metrics\": {\"validation_binary_classification_cross_entropy_objective\": {\"sum\": 0.503846975641901, \"count\": 1, \"min\": 0.503846975641901, \"max\": 0.503846975641901}}}\u001b[0m\n",
      "\u001b[34m#metrics {\"StartTime\": 1724336266.9400482, \"EndTime\": 1724336266.9400578, \"Dimensions\": {\"Algorithm\": \"Linear Learner\", \"Host\": \"algo-1\", \"Operation\": \"training\", \"epoch\": 4, \"model\": 17}, \"Metrics\": {\"validation_binary_classification_cross_entropy_objective\": {\"sum\": 0.5046176094676176, \"count\": 1, \"min\": 0.5046176094676176, \"max\": 0.5046176094676176}}}\u001b[0m\n",
      "\u001b[34m#metrics {\"StartTime\": 1724336266.94009, \"EndTime\": 1724336266.9400988, \"Dimensions\": {\"Algorithm\": \"Linear Learner\", \"Host\": \"algo-1\", \"Operation\": \"training\", \"epoch\": 4, \"model\": 18}, \"Metrics\": {\"validation_binary_classification_cross_entropy_objective\": {\"sum\": 0.5038594978890454, \"count\": 1, \"min\": 0.5038594978890454, \"max\": 0.5038594978890454}}}\u001b[0m\n",
      "\u001b[34m#metrics {\"StartTime\": 1724336266.94013, \"EndTime\": 1724336266.9401402, \"Dimensions\": {\"Algorithm\": \"Linear Learner\", \"Host\": \"algo-1\", \"Operation\": \"training\", \"epoch\": 4, \"model\": 19}, \"Metrics\": {\"validation_binary_classification_cross_entropy_objective\": {\"sum\": 0.5046175977127926, \"count\": 1, \"min\": 0.5046175977127926, \"max\": 0.5046175977127926}}}\u001b[0m\n",
      "\u001b[34m#metrics {\"StartTime\": 1724336266.9401708, \"EndTime\": 1724336266.940181, \"Dimensions\": {\"Algorithm\": \"Linear Learner\", \"Host\": \"algo-1\", \"Operation\": \"training\", \"epoch\": 4, \"model\": 20}, \"Metrics\": {\"validation_binary_classification_cross_entropy_objective\": {\"sum\": 0.5038718701222328, \"count\": 1, \"min\": 0.5038718701222328, \"max\": 0.5038718701222328}}}\u001b[0m\n",
      "\u001b[34m#metrics {\"StartTime\": 1724336266.9402118, \"EndTime\": 1724336266.9402215, \"Dimensions\": {\"Algorithm\": \"Linear Learner\", \"Host\": \"algo-1\", \"Operation\": \"training\", \"epoch\": 4, \"model\": 21}, \"Metrics\": {\"validation_binary_classification_cross_entropy_objective\": {\"sum\": 0.5053359119319495, \"count\": 1, \"min\": 0.5053359119319495, \"max\": 0.5053359119319495}}}\u001b[0m\n",
      "\u001b[34m#metrics {\"StartTime\": 1724336266.9402583, \"EndTime\": 1724336266.9402654, \"Dimensions\": {\"Algorithm\": \"Linear Learner\", \"Host\": \"algo-1\", \"Operation\": \"training\", \"epoch\": 4, \"model\": 22}, \"Metrics\": {\"validation_binary_classification_cross_entropy_objective\": {\"sum\": 0.5038718656442042, \"count\": 1, \"min\": 0.5038718656442042, \"max\": 0.5038718656442042}}}\u001b[0m\n",
      "\u001b[34m#metrics {\"StartTime\": 1724336266.940297, \"EndTime\": 1724336266.9403057, \"Dimensions\": {\"Algorithm\": \"Linear Learner\", \"Host\": \"algo-1\", \"Operation\": \"training\", \"epoch\": 4, \"model\": 23}, \"Metrics\": {\"validation_binary_classification_cross_entropy_objective\": {\"sum\": 0.5053359151038864, \"count\": 1, \"min\": 0.5053359151038864, \"max\": 0.5053359151038864}}}\u001b[0m\n",
      "\u001b[34m#metrics {\"StartTime\": 1724336266.9403315, \"EndTime\": 1724336266.940339, \"Dimensions\": {\"Algorithm\": \"Linear Learner\", \"Host\": \"algo-1\", \"Operation\": \"training\", \"epoch\": 4, \"model\": 24}, \"Metrics\": {\"validation_binary_classification_cross_entropy_objective\": {\"sum\": 0.5137147911197302, \"count\": 1, \"min\": 0.5137147911197302, \"max\": 0.5137147911197302}}}\u001b[0m\n",
      "\u001b[34m#metrics {\"StartTime\": 1724336266.9403682, \"EndTime\": 1724336266.9403768, \"Dimensions\": {\"Algorithm\": \"Linear Learner\", \"Host\": \"algo-1\", \"Operation\": \"training\", \"epoch\": 4, \"model\": 25}, \"Metrics\": {\"validation_binary_classification_cross_entropy_objective\": {\"sum\": 0.5137764198013504, \"count\": 1, \"min\": 0.5137764198013504, \"max\": 0.5137764198013504}}}\u001b[0m\n",
      "\u001b[34m#metrics {\"StartTime\": 1724336266.9404106, \"EndTime\": 1724336266.9404197, \"Dimensions\": {\"Algorithm\": \"Linear Learner\", \"Host\": \"algo-1\", \"Operation\": \"training\", \"epoch\": 4, \"model\": 26}, \"Metrics\": {\"validation_binary_classification_cross_entropy_objective\": {\"sum\": 0.5137123806342675, \"count\": 1, \"min\": 0.5137123806342675, \"max\": 0.5137123806342675}}}\u001b[0m\n",
      "\u001b[34m#metrics {\"StartTime\": 1724336266.9404488, \"EndTime\": 1724336266.9404564, \"Dimensions\": {\"Algorithm\": \"Linear Learner\", \"Host\": \"algo-1\", \"Operation\": \"training\", \"epoch\": 4, \"model\": 27}, \"Metrics\": {\"validation_binary_classification_cross_entropy_objective\": {\"sum\": 0.5137823572940661, \"count\": 1, \"min\": 0.5137823572940661, \"max\": 0.5137823572940661}}}\u001b[0m\n",
      "\u001b[34m#metrics {\"StartTime\": 1724336266.9404929, \"EndTime\": 1724336266.9405015, \"Dimensions\": {\"Algorithm\": \"Linear Learner\", \"Host\": \"algo-1\", \"Operation\": \"training\", \"epoch\": 4, \"model\": 28}, \"Metrics\": {\"validation_binary_classification_cross_entropy_objective\": {\"sum\": 0.5137160468335753, \"count\": 1, \"min\": 0.5137160468335753, \"max\": 0.5137160468335753}}}\u001b[0m\n",
      "\u001b[34m#metrics {\"StartTime\": 1724336266.940535, \"EndTime\": 1724336266.9405417, \"Dimensions\": {\"Algorithm\": \"Linear Learner\", \"Host\": \"algo-1\", \"Operation\": \"training\", \"epoch\": 4, \"model\": 29}, \"Metrics\": {\"validation_binary_classification_cross_entropy_objective\": {\"sum\": 0.5134457364230234, \"count\": 1, \"min\": 0.5134457364230234, \"max\": 0.5134457364230234}}}\u001b[0m\n",
      "\u001b[34m#metrics {\"StartTime\": 1724336266.9405632, \"EndTime\": 1724336266.9405713, \"Dimensions\": {\"Algorithm\": \"Linear Learner\", \"Host\": \"algo-1\", \"Operation\": \"training\", \"epoch\": 4, \"model\": 30}, \"Metrics\": {\"validation_binary_classification_cross_entropy_objective\": {\"sum\": 0.5137169627770025, \"count\": 1, \"min\": 0.5137169627770025, \"max\": 0.5137169627770025}}}\u001b[0m\n",
      "\u001b[34m#metrics {\"StartTime\": 1724336266.9406013, \"EndTime\": 1724336266.9406097, \"Dimensions\": {\"Algorithm\": \"Linear Learner\", \"Host\": \"algo-1\", \"Operation\": \"training\", \"epoch\": 4, \"model\": 31}, \"Metrics\": {\"validation_binary_classification_cross_entropy_objective\": {\"sum\": 0.5134457364230234, \"count\": 1, \"min\": 0.5134457364230234, \"max\": 0.5134457364230234}}}\u001b[0m\n",
      "\u001b[34m[08/22/2024 14:17:46 INFO 140070473144128] #quality_metric: host=algo-1, epoch=4, validation binary_classification_cross_entropy_objective <loss>=0.4808901489079438\u001b[0m\n",
      "\u001b[34m[08/22/2024 14:17:46 INFO 140070473144128] #early_stopping_criteria_metric: host=algo-1, epoch=4, criteria=binary_classification_cross_entropy_objective, value=0.4808901489079438\u001b[0m\n",
      "\u001b[34m[08/22/2024 14:17:46 INFO 140070473144128] Saving model for epoch: 4\u001b[0m\n",
      "\u001b[34m[08/22/2024 14:17:46 INFO 140070473144128] Saved checkpoint to \"/tmp/tmpvbphk4ng/mx-mod-0000.params\"\u001b[0m\n",
      "\u001b[34m[08/22/2024 14:17:46 INFO 140070473144128] Early stop condition met. Stopping training.\u001b[0m\n",
      "\u001b[34m[08/22/2024 14:17:46 INFO 140070473144128] #progress_metric: host=algo-1, completed 100 % epochs\u001b[0m\n",
      "\u001b[34m#metrics {\"StartTime\": 1724336237.0504122, \"EndTime\": 1724336266.9457493, \"Dimensions\": {\"Algorithm\": \"Linear Learner\", \"Host\": \"algo-1\", \"Operation\": \"training\", \"epoch\": 4, \"Meta\": \"training_data_iter\"}, \"Metrics\": {\"Total Records Seen\": {\"sum\": 6554360.0, \"count\": 1, \"min\": 6554360, \"max\": 6554360}, \"Total Batches Seen\": {\"sum\": 6557.0, \"count\": 1, \"min\": 6557, \"max\": 6557}, \"Max Records Seen Between Resets\": {\"sum\": 1308472.0, \"count\": 1, \"min\": 1308472, \"max\": 1308472}, \"Max Batches Seen Between Resets\": {\"sum\": 1309.0, \"count\": 1, \"min\": 1309, \"max\": 1309}, \"Reset Count\": {\"sum\": 7.0, \"count\": 1, \"min\": 7, \"max\": 7}, \"Number of Records Since Last Reset\": {\"sum\": 1308472.0, \"count\": 1, \"min\": 1308472, \"max\": 1308472}, \"Number of Batches Since Last Reset\": {\"sum\": 1309.0, \"count\": 1, \"min\": 1309, \"max\": 1309}}}\u001b[0m\n",
      "\u001b[34m[08/22/2024 14:17:46 INFO 140070473144128] #throughput_metric: host=algo-1, train throughput=43768.27010849211 records/second\u001b[0m\n",
      "\u001b[34m[08/22/2024 14:17:46 WARNING 140070473144128] wait_for_all_workers will not sync workers since the kv store is not running distributed\u001b[0m\n",
      "\u001b[34m[08/22/2024 14:17:46 WARNING 140070473144128] wait_for_all_workers will not sync workers since the kv store is not running distributed\u001b[0m\n",
      "\u001b[34m[2024-08-22 14:17:49.376] [tensorio] [info] epoch_stats={\"data_pipeline\": \"/opt/ml/input/data/validation\", \"epoch\": 17, \"duration\": 2417, \"num_examples\": 164, \"num_bytes\": 69349016}\u001b[0m\n",
      "\u001b[34m[08/22/2024 14:17:49 INFO 140070473144128] #early_stopping_criteria_metric: host=algo-1, epoch=4, criteria=binary_classification_cross_entropy_objective, value=0.4808901489079438\u001b[0m\n",
      "\u001b[34m[2024-08-22 14:17:49.804] [tensorio] [info] epoch_stats={\"data_pipeline\": \"/opt/ml/input/data/validation\", \"epoch\": 19, \"duration\": 421, \"num_examples\": 164, \"num_bytes\": 69349016}\u001b[0m\n",
      "\u001b[34m[08/22/2024 14:17:50 INFO 140070473144128] #validation_score (algo-1) : ('binary_classification_cross_entropy_objective', 0.4812275420523304)\u001b[0m\n",
      "\u001b[34m[08/22/2024 14:17:50 INFO 140070473144128] #validation_score (algo-1) : ('binary_classification_accuracy', 0.7927536852145097)\u001b[0m\n",
      "\u001b[34m[08/22/2024 14:17:50 INFO 140070473144128] #validation_score (algo-1) : ('binary_f_1.000', 0.09513894450228237)\u001b[0m\n",
      "\u001b[34m[08/22/2024 14:17:50 INFO 140070473144128] #validation_score (algo-1) : ('precision', 0.569693094629156)\u001b[0m\n",
      "\u001b[34m[08/22/2024 14:17:50 INFO 140070473144128] #validation_score (algo-1) : ('recall', 0.05190341653802464)\u001b[0m\n",
      "\u001b[34m[08/22/2024 14:17:50 INFO 140070473144128] #validation_score (algo-1) : ('roc_auc_score', 0.6759934477648988)\u001b[0m\n",
      "\u001b[34m[08/22/2024 14:17:50 INFO 140070473144128] #validation_score (algo-1) : ('binary_balanced_accuracy', 0.5)\u001b[0m\n",
      "\u001b[34m[08/22/2024 14:17:50 INFO 140070473144128] #validation_score (algo-1) : ('binary_log_loss', 0.7478334155184213)\u001b[0m\n",
      "\u001b[34m[08/22/2024 14:17:50 INFO 140070473144128] #quality_metric: host=algo-1, validation binary_classification_cross_entropy_objective <loss>=0.4812275420523304\u001b[0m\n",
      "\u001b[34m[08/22/2024 14:17:50 INFO 140070473144128] #quality_metric: host=algo-1, validation binary_classification_accuracy <score>=0.7927536852145097\u001b[0m\n",
      "\u001b[34m[08/22/2024 14:17:50 INFO 140070473144128] #quality_metric: host=algo-1, validation binary_f_1.000 <score>=0.09513894450228237\u001b[0m\n",
      "\u001b[34m[08/22/2024 14:17:50 INFO 140070473144128] #quality_metric: host=algo-1, validation precision <score>=0.569693094629156\u001b[0m\n",
      "\u001b[34m[08/22/2024 14:17:50 INFO 140070473144128] #quality_metric: host=algo-1, validation recall <score>=0.05190341653802464\u001b[0m\n",
      "\u001b[34m[08/22/2024 14:17:50 INFO 140070473144128] #quality_metric: host=algo-1, validation roc_auc_score <score>=0.6759934477648988\u001b[0m\n",
      "\u001b[34m[08/22/2024 14:17:50 INFO 140070473144128] #quality_metric: host=algo-1, validation binary_balanced_accuracy <score>=0.5\u001b[0m\n",
      "\u001b[34m[08/22/2024 14:17:50 INFO 140070473144128] #quality_metric: host=algo-1, validation binary_log_loss <score>=0.7478334155184213\u001b[0m\n",
      "\u001b[34m[08/22/2024 14:17:50 INFO 140070473144128] Best model found for hyperparameters: {\"optimizer\": \"adam\", \"learning_rate\": 0.005, \"wd\": 0.0001, \"l1\": 0.0, \"lr_scheduler_step\": 10, \"lr_scheduler_factor\": 0.99, \"lr_scheduler_minimum_lr\": 0.0001}\u001b[0m\n",
      "\u001b[34m[08/22/2024 14:17:50 INFO 140070473144128] Saved checkpoint to \"/tmp/tmpgv2a50r7/mx-mod-0000.params\"\u001b[0m\n",
      "\u001b[34m[08/22/2024 14:17:50 INFO 140070473144128] Test data is not provided.\u001b[0m\n",
      "\u001b[34m#metrics {\"StartTime\": 1724336114.3807545, \"EndTime\": 1724336270.027784, \"Dimensions\": {\"Algorithm\": \"Linear Learner\", \"Host\": \"algo-1\", \"Operation\": \"training\"}, \"Metrics\": {\"initialize.time\": {\"sum\": 238.8746738433838, \"count\": 1, \"min\": 238.8746738433838, \"max\": 238.8746738433838}, \"epochs\": {\"sum\": 15.0, \"count\": 1, \"min\": 15, \"max\": 15}, \"check_early_stopping.time\": {\"sum\": 1.8334388732910156, \"count\": 6, \"min\": 0.179290771484375, \"max\": 0.8037090301513672}, \"update.time\": {\"sum\": 152297.0962524414, \"count\": 5, \"min\": 29893.043994903564, \"max\": 30655.43794631958}, \"finalize.time\": {\"sum\": 3076.7974853515625, \"count\": 1, \"min\": 3076.7974853515625, \"max\": 3076.7974853515625}, \"setuptime\": {\"sum\": 2.0074844360351562, \"count\": 1, \"min\": 2.0074844360351562, \"max\": 2.0074844360351562}, \"totaltime\": {\"sum\": 155751.32870674133, \"count\": 1, \"min\": 155751.32870674133, \"max\": 155751.32870674133}}}\u001b[0m\n",
      "\n",
      "2024-08-22 14:18:07 Uploading - Uploading generated training model\n",
      "2024-08-22 14:18:07 Completed - Training job completed\n",
      "Training seconds: 307\n",
      "Billable seconds: 307\n"
     ]
    }
   ],
   "source": [
    "train_records = classifier_estimator.record_set(train_features_weather, train_labels_weather, channel='train')\n",
    "val_records = classifier_estimator.record_set(val_features_weather, val_labels_weather, channel='validation')\n",
    "test_records = classifier_estimator.record_set(test_features_weather, test_labels_weather, channel='test')\n",
    "\n",
    "classifier_estimator.fit([train_records, val_records])"
   ]
  },
  {
   "cell_type": "code",
   "execution_count": 139,
   "metadata": {
    "tags": []
   },
   "outputs": [
    {
     "name": "stderr",
     "output_type": "stream",
     "text": [
      "INFO:sagemaker.image_uris:Same images used for training and inference. Defaulting to image scope: inference.\n",
      "INFO:sagemaker.image_uris:Ignoring unnecessary instance type: None.\n",
      "INFO:sagemaker:Creating model with name: linear-learner-2024-08-22-14-18-25-576\n",
      "INFO:sagemaker:Creating endpoint-config with name linear-learner-2024-08-22-14-18-25-576\n",
      "INFO:sagemaker:Creating endpoint with name linear-learner-2024-08-22-14-18-25-576\n"
     ]
    },
    {
     "name": "stdout",
     "output_type": "stream",
     "text": [
      "--------!"
     ]
    }
   ],
   "source": [
    "### Deloy an endpoint for batch prediction\n",
    "classifier_predictor_weather = classifier_estimator.deploy(initial_instance_count=1, instance_type='ml.m4.xlarge')"
   ]
  },
  {
   "cell_type": "code",
   "execution_count": 140,
   "metadata": {
    "tags": []
   },
   "outputs": [
    {
     "name": "stdout",
     "output_type": "stream",
     "text": [
      "Accuracy: 0.7934445674038114\n",
      "AUC     : 0.6776517787403659\n",
      "Precision: 0.5837656393042416\n",
      "Recall: 0.05571898756298605\n",
      "F1_score: 0.1017282637596384\n"
     ]
    },
    {
     "data": {
      "image/png": "[encoded data removed]",
      "text/plain": [
       "<Figure size 500x500 with 2 Axes>"
      ]
     },
     "metadata": {},
     "output_type": "display_data"
    }
   ],
   "source": [
    "predict_batches(classifier_predictor_weather, test_features_weather, test_labels_weather)"
   ]
  },
  {
   "cell_type": "markdown",
   "metadata": {},
   "source": [
    "The linear model shows only a little improvement in performance. Try a tree-based ensemble model called XGBoost with Amazon SageMaker."
   ]
  },
  {
   "cell_type": "markdown",
   "metadata": {},
   "source": [
    "### Try the XGBoost model"
   ]
  },
  {
   "cell_type": "markdown",
   "metadata": {},
   "source": [
    "Here are the steps you need to take:  \n",
    "\n",
    "1. Use the training set variables and save them as CSV files: train.csv, validation.csv and test.csv  \n",
    "2. Use Boto3 to upload the model to the bucket.  "
   ]
  },
  {
   "cell_type": "code",
   "execution_count": 87,
   "metadata": {
    "tags": []
   },
   "outputs": [],
   "source": [
    "train_data, validation_data, test_data = np.split(data.sample(frac=1, random_state=1729), [int(0.7 * len(data)), int(0.9*len(data))])  \n",
    "\n",
    "pd.concat([train_data['target'], train_data.drop(['target'], axis=1)], axis=1).to_csv('train.csv', index=False, header=False)\n",
    "pd.concat([validation_data['target'], validation_data.drop(['target'], axis=1)], axis=1).to_csv('validation.csv', index=False, header=False)\n",
    "pd.concat([test_data['target'], test_data.drop(['target'], axis=1)], axis=1).to_csv('test.csv', index=False, header=False)"
   ]
  },
  {
   "cell_type": "code",
   "execution_count": 90,
   "metadata": {
    "tags": []
   },
   "outputs": [],
   "source": [
    "# Change the bucket according to your information\n",
    "bucket = 'labstack-697a742e-bfe8-41c8-a9e7-860a69f-labbucket-gc239lhp4qws'"
   ]
  },
  {
   "cell_type": "code",
   "execution_count": 91,
   "metadata": {
    "tags": []
   },
   "outputs": [
    {
     "name": "stderr",
     "output_type": "stream",
     "text": [
      "INFO:botocore.credentials:Found credentials from IAM Role: BaseNotebookInstanceEc2InstanceRole\n",
      "INFO:botocore.credentials:Found credentials from IAM Role: BaseNotebookInstanceEc2InstanceRole\n"
     ]
    }
   ],
   "source": [
    "### Upload data to S3\n",
    "prefix = 'sagemaker/xgboost'\n",
    "boto3.Session().resource('s3').Bucket(bucket).Object(os.path.join(prefix, 'train/train.csv')).upload_file('train.csv')\n",
    "boto3.Session().resource('s3').Bucket(bucket).Object(os.path.join(prefix, 'validation/validation.csv')).upload_file('validation.csv')"
   ]
  },
  {
   "cell_type": "code",
   "execution_count": 92,
   "metadata": {
    "tags": []
   },
   "outputs": [
    {
     "name": "stderr",
     "output_type": "stream",
     "text": [
      "INFO:sagemaker.image_uris:Defaulting to only available Python version: py3\n",
      "INFO:sagemaker.image_uris:Defaulting to only supported image scope: cpu.\n"
     ]
    }
   ],
   "source": [
    "from sagemaker.amazon.amazon_estimator import image_uris\n",
    "container = image_uris.retrieve('xgboost',boto3.Session().region_name, '0.90-1')"
   ]
  },
  {
   "cell_type": "markdown",
   "metadata": {},
   "source": [
    "Use the `sagemaker.inputs.TrainingInput` function to create a record_set for the training and validation datasets."
   ]
  },
  {
   "cell_type": "code",
   "execution_count": 93,
   "metadata": {
    "tags": []
   },
   "outputs": [],
   "source": [
    "s3_input_train = sagemaker.inputs.TrainingInput(s3_data='s3://{}/{}/train'.format(bucket, prefix), content_type='csv')\n",
    "s3_input_validation = sagemaker.inputs.TrainingInput(s3_data='s3://{}/{}/validation/'.format(bucket, prefix), content_type='csv')"
   ]
  },
  {
   "cell_type": "code",
   "execution_count": 94,
   "metadata": {
    "scrolled": true,
    "tags": []
   },
   "outputs": [
    {
     "name": "stderr",
     "output_type": "stream",
     "text": [
      "INFO:sagemaker:Creating training-job with name: sagemaker-xgboost-2024-08-22-11-26-03-419\n"
     ]
    },
    {
     "name": "stdout",
     "output_type": "stream",
     "text": [
      "2024-08-22 11:26:03 Starting - Starting the training job...\n",
      "2024-08-22 11:26:18 Starting - Preparing the instances for training...\n",
      "2024-08-22 11:26:44 Downloading - Downloading input data......\n",
      "2024-08-22 11:27:56 Training - Training image download completed. Training in progress...\u001b[34mINFO:sagemaker-containers:Imported framework sagemaker_xgboost_container.training\u001b[0m\n",
      "\u001b[34mINFO:sagemaker-containers:Failed to parse hyperparameter eval_metric value auc to Json.\u001b[0m\n",
      "\u001b[34mReturning the value itself\u001b[0m\n",
      "\u001b[34mINFO:sagemaker-containers:Failed to parse hyperparameter objective value binary:logistic to Json.\u001b[0m\n",
      "\u001b[34mReturning the value itself\u001b[0m\n",
      "\u001b[34mINFO:sagemaker-containers:No GPUs detected (normal if no gpus installed)\u001b[0m\n",
      "\u001b[34mINFO:sagemaker_xgboost_container.training:Running XGBoost Sagemaker in algorithm mode\u001b[0m\n",
      "\u001b[34mINFO:root:Determined delimiter of CSV input is ','\u001b[0m\n",
      "\u001b[34mINFO:root:Determined delimiter of CSV input is ','\u001b[0m\n",
      "\u001b[34mINFO:root:Determined delimiter of CSV input is ','\u001b[0m\n",
      "\u001b[34m[11:28:13] 1144913x94 matrix with 107621822 entries loaded from /opt/ml/input/data/train?format=csv&label_column=0&delimiter=,\u001b[0m\n",
      "\u001b[34mINFO:root:Determined delimiter of CSV input is ','\u001b[0m\n",
      "\u001b[34m[11:28:14] 327118x94 matrix with 30749092 entries loaded from /opt/ml/input/data/validation?format=csv&label_column=0&delimiter=,\u001b[0m\n",
      "\u001b[34mINFO:root:Single node training.\u001b[0m\n",
      "\u001b[34mINFO:root:Train matrix has 1144913 rows\u001b[0m\n",
      "\u001b[34mINFO:root:Validation matrix has 327118 rows\u001b[0m\n",
      "\u001b[34m[0]#011train-auc:0.645011#011validation-auc:0.643693\u001b[0m\n",
      "\u001b[34m[1]#011train-auc:0.655499#011validation-auc:0.653552\u001b[0m\n",
      "\u001b[34m[2]#011train-auc:0.65831#011validation-auc:0.656334\u001b[0m\n",
      "\u001b[34m[3]#011train-auc:0.661728#011validation-auc:0.660078\u001b[0m\n",
      "\u001b[34m[4]#011train-auc:0.662003#011validation-auc:0.66006\u001b[0m\n",
      "\u001b[34m[5]#011train-auc:0.663521#011validation-auc:0.661815\u001b[0m\n",
      "\u001b[34m[6]#011train-auc:0.664583#011validation-auc:0.66277\u001b[0m\n",
      "\u001b[34m[7]#011train-auc:0.665832#011validation-auc:0.663961\u001b[0m\n",
      "\u001b[34m[8]#011train-auc:0.666597#011validation-auc:0.664671\u001b[0m\n",
      "\u001b[34m[9]#011train-auc:0.668695#011validation-auc:0.666863\u001b[0m\n",
      "\u001b[34m[10]#011train-auc:0.670136#011validation-auc:0.668199\u001b[0m\n",
      "\u001b[34m[11]#011train-auc:0.670768#011validation-auc:0.668762\u001b[0m\n",
      "\u001b[34m[12]#011train-auc:0.672157#011validation-auc:0.670161\u001b[0m\n",
      "\u001b[34m[13]#011train-auc:0.673892#011validation-auc:0.671835\u001b[0m\n",
      "\u001b[34m[14]#011train-auc:0.674964#011validation-auc:0.672904\u001b[0m\n",
      "\u001b[34m[15]#011train-auc:0.676676#011validation-auc:0.674511\u001b[0m\n",
      "\u001b[34m[16]#011train-auc:0.677468#011validation-auc:0.67513\u001b[0m\n",
      "\u001b[34m[17]#011train-auc:0.678477#011validation-auc:0.67621\u001b[0m\n",
      "\u001b[34m[18]#011train-auc:0.679217#011validation-auc:0.676755\u001b[0m\n",
      "\u001b[34m[19]#011train-auc:0.679969#011validation-auc:0.677456\u001b[0m\n",
      "\u001b[34m[20]#011train-auc:0.680247#011validation-auc:0.677669\u001b[0m\n",
      "\u001b[34m[21]#011train-auc:0.681518#011validation-auc:0.678906\u001b[0m\n",
      "\u001b[34m[22]#011train-auc:0.682745#011validation-auc:0.680225\u001b[0m\n",
      "\u001b[34m[23]#011train-auc:0.683629#011validation-auc:0.681091\u001b[0m\n",
      "\u001b[34m[24]#011train-auc:0.685178#011validation-auc:0.682697\u001b[0m\n",
      "\u001b[34m[25]#011train-auc:0.685708#011validation-auc:0.683086\u001b[0m\n",
      "\u001b[34m[26]#011train-auc:0.686187#011validation-auc:0.683561\u001b[0m\n",
      "\u001b[34m[27]#011train-auc:0.686521#011validation-auc:0.68384\u001b[0m\n",
      "\u001b[34m[28]#011train-auc:0.686839#011validation-auc:0.684116\u001b[0m\n",
      "\u001b[34m[29]#011train-auc:0.687023#011validation-auc:0.684253\u001b[0m\n",
      "\u001b[34m[30]#011train-auc:0.687298#011validation-auc:0.684552\u001b[0m\n",
      "\u001b[34m[31]#011train-auc:0.687705#011validation-auc:0.684892\u001b[0m\n",
      "\u001b[34m[32]#011train-auc:0.688729#011validation-auc:0.685942\u001b[0m\n",
      "\u001b[34m[33]#011train-auc:0.689719#011validation-auc:0.68691\u001b[0m\n",
      "\u001b[34m[34]#011train-auc:0.690097#011validation-auc:0.687298\u001b[0m\n",
      "\u001b[34m[35]#011train-auc:0.690667#011validation-auc:0.687873\u001b[0m\n",
      "\u001b[34m[36]#011train-auc:0.691202#011validation-auc:0.688471\u001b[0m\n",
      "\u001b[34m[37]#011train-auc:0.691444#011validation-auc:0.688699\u001b[0m\n",
      "\u001b[34m[38]#011train-auc:0.691617#011validation-auc:0.688852\u001b[0m\n",
      "\u001b[34m[39]#011train-auc:0.691989#011validation-auc:0.689173\u001b[0m\n",
      "\u001b[34m[40]#011train-auc:0.692737#011validation-auc:0.689862\u001b[0m\n",
      "\u001b[34m[41]#011train-auc:0.69305#011validation-auc:0.690158\u001b[0m\n",
      "\u001b[34m[42]#011train-auc:0.69352#011validation-auc:0.690668\u001b[0m\n",
      "\u001b[34m[43]#011train-auc:0.693655#011validation-auc:0.690783\u001b[0m\n",
      "\u001b[34m[44]#011train-auc:0.693996#011validation-auc:0.691153\u001b[0m\n",
      "\u001b[34m[45]#011train-auc:0.694258#011validation-auc:0.691379\u001b[0m\n",
      "\u001b[34m[46]#011train-auc:0.694514#011validation-auc:0.691625\u001b[0m\n",
      "\u001b[34m[47]#011train-auc:0.694635#011validation-auc:0.691735\u001b[0m\n",
      "\u001b[34m[48]#011train-auc:0.694818#011validation-auc:0.691853\u001b[0m\n",
      "\u001b[34m[49]#011train-auc:0.695002#011validation-auc:0.691989\u001b[0m\n",
      "\u001b[34m[50]#011train-auc:0.695037#011validation-auc:0.692021\u001b[0m\n",
      "\u001b[34m[51]#011train-auc:0.695314#011validation-auc:0.69223\u001b[0m\n",
      "\u001b[34m[52]#011train-auc:0.695422#011validation-auc:0.692311\u001b[0m\n",
      "\u001b[34m[53]#011train-auc:0.695482#011validation-auc:0.692367\u001b[0m\n",
      "\u001b[34m[54]#011train-auc:0.695912#011validation-auc:0.692778\u001b[0m\n",
      "\u001b[34m[55]#011train-auc:0.696124#011validation-auc:0.692945\u001b[0m\n",
      "\u001b[34m[56]#011train-auc:0.696154#011validation-auc:0.692964\u001b[0m\n",
      "\u001b[34m[57]#011train-auc:0.696539#011validation-auc:0.693332\u001b[0m\n",
      "\u001b[34m[58]#011train-auc:0.696604#011validation-auc:0.693381\u001b[0m\n",
      "\u001b[34m[59]#011train-auc:0.696796#011validation-auc:0.693502\u001b[0m\n",
      "\u001b[34m[60]#011train-auc:0.697002#011validation-auc:0.693694\u001b[0m\n",
      "\u001b[34m[61]#011train-auc:0.697115#011validation-auc:0.693773\u001b[0m\n",
      "\u001b[34m[62]#011train-auc:0.697249#011validation-auc:0.693867\u001b[0m\n",
      "\u001b[34m[63]#011train-auc:0.697365#011validation-auc:0.69395\u001b[0m\n",
      "\u001b[34m[64]#011train-auc:0.697806#011validation-auc:0.694399\u001b[0m\n",
      "\u001b[34m[65]#011train-auc:0.698146#011validation-auc:0.694735\u001b[0m\n",
      "\u001b[34m[66]#011train-auc:0.698212#011validation-auc:0.694768\u001b[0m\n",
      "\u001b[34m[67]#011train-auc:0.698274#011validation-auc:0.694774\u001b[0m\n",
      "\u001b[34m[68]#011train-auc:0.698441#011validation-auc:0.6949\u001b[0m\n",
      "\u001b[34m[69]#011train-auc:0.69861#011validation-auc:0.695001\u001b[0m\n",
      "\u001b[34m[70]#011train-auc:0.69861#011validation-auc:0.695003\u001b[0m\n",
      "\u001b[34m[71]#011train-auc:0.698656#011validation-auc:0.695038\u001b[0m\n",
      "\u001b[34m[72]#011train-auc:0.698749#011validation-auc:0.695128\u001b[0m\n",
      "\u001b[34m[73]#011train-auc:0.698951#011validation-auc:0.695329\u001b[0m\n",
      "\u001b[34m[74]#011train-auc:0.699301#011validation-auc:0.695636\u001b[0m\n",
      "\u001b[34m[75]#011train-auc:0.699439#011validation-auc:0.695726\u001b[0m\n",
      "\u001b[34m[76]#011train-auc:0.699544#011validation-auc:0.695794\u001b[0m\n",
      "\u001b[34m[77]#011train-auc:0.699666#011validation-auc:0.695867\u001b[0m\n",
      "\u001b[34m[78]#011train-auc:0.699844#011validation-auc:0.696062\u001b[0m\n",
      "\u001b[34m[79]#011train-auc:0.700003#011validation-auc:0.696203\u001b[0m\n",
      "\u001b[34m[80]#011train-auc:0.700092#011validation-auc:0.696289\u001b[0m\n",
      "\u001b[34m[81]#011train-auc:0.700212#011validation-auc:0.696384\u001b[0m\n",
      "\u001b[34m[82]#011train-auc:0.700363#011validation-auc:0.696514\u001b[0m\n",
      "\u001b[34m[83]#011train-auc:0.700464#011validation-auc:0.696544\u001b[0m\n",
      "\u001b[34m[84]#011train-auc:0.70057#011validation-auc:0.69662\u001b[0m\n",
      "\u001b[34m[85]#011train-auc:0.70069#011validation-auc:0.696739\u001b[0m\n",
      "\u001b[34m[86]#011train-auc:0.700784#011validation-auc:0.696826\u001b[0m\n",
      "\u001b[34m[87]#011train-auc:0.700942#011validation-auc:0.696945\u001b[0m\n",
      "\u001b[34m[88]#011train-auc:0.701009#011validation-auc:0.696985\u001b[0m\n",
      "\u001b[34m[89]#011train-auc:0.701237#011validation-auc:0.697179\u001b[0m\n",
      "\u001b[34m[90]#011train-auc:0.701271#011validation-auc:0.697211\u001b[0m\n",
      "\u001b[34m[91]#011train-auc:0.701319#011validation-auc:0.697212\u001b[0m\n",
      "\u001b[34m[92]#011train-auc:0.701384#011validation-auc:0.697254\u001b[0m\n",
      "\u001b[34m[93]#011train-auc:0.701499#011validation-auc:0.697396\u001b[0m\n",
      "\u001b[34m[94]#011train-auc:0.701544#011validation-auc:0.697408\u001b[0m\n",
      "\u001b[34m[95]#011train-auc:0.701579#011validation-auc:0.697421\u001b[0m\n",
      "\u001b[34m[96]#011train-auc:0.701771#011validation-auc:0.697569\u001b[0m\n",
      "\u001b[34m[97]#011train-auc:0.701857#011validation-auc:0.697609\u001b[0m\n",
      "\u001b[34m[98]#011train-auc:0.702156#011validation-auc:0.697855\u001b[0m\n",
      "\u001b[34m[99]#011train-auc:0.702233#011validation-auc:0.697901\u001b[0m\n",
      "\n",
      "2024-08-22 11:31:57 Uploading - Uploading generated training model\n",
      "2024-08-22 11:32:10 Completed - Training job completed\n",
      "Training seconds: 326\n",
      "Billable seconds: 326\n"
     ]
    }
   ],
   "source": [
    "sess = sagemaker.Session()\n",
    "\n",
    "xgb = sagemaker.estimator.Estimator(container,\n",
    "                                    role = sagemaker.get_execution_role(), \n",
    "                                    instance_count=1, \n",
    "                                    instance_type='ml.m4.xlarge',\n",
    "                                    output_path='s3://{}/{}/output'.format(bucket, prefix),\n",
    "                                    sagemaker_session=sess)\n",
    "xgb.set_hyperparameters(max_depth=5,\n",
    "                        eta=0.2,\n",
    "                        gamma=4,\n",
    "                        min_child_weight=6,\n",
    "                        subsample=0.8,\n",
    "                        silent=0,\n",
    "                        objective='binary:logistic',\n",
    "                        eval_metric = \"auc\", \n",
    "                        num_round=100)\n",
    "\n",
    "xgb.fit({'train': s3_input_train, 'validation': s3_input_validation})"
   ]
  },
  {
   "cell_type": "markdown",
   "metadata": {},
   "source": [
    "Deploy the predictor for your new model and evaluate the model on the test dataset."
   ]
  },
  {
   "cell_type": "code",
   "execution_count": 104,
   "metadata": {
    "tags": []
   },
   "outputs": [
    {
     "name": "stderr",
     "output_type": "stream",
     "text": [
      "INFO:sagemaker:Creating model with name: sagemaker-xgboost-2024-08-22-12-10-06-054\n",
      "INFO:sagemaker:Creating endpoint-config with name sagemaker-xgboost-2024-08-22-12-10-06-054\n",
      "INFO:sagemaker:Creating endpoint with name sagemaker-xgboost-2024-08-22-12-10-06-054\n"
     ]
    },
    {
     "name": "stdout",
     "output_type": "stream",
     "text": [
      "------!"
     ]
    }
   ],
   "source": [
    "from sagemaker.serializers import CSVSerializer\n",
    "\n",
    "xgb_predictor = xgb.deploy(initial_instance_count = 1, \n",
    "                           instance_type = 'ml.m4.xlarge',\n",
    "                          serializer=CSVSerializer())# Enter your code here"
   ]
  },
  {
   "cell_type": "code",
   "execution_count": 100,
   "metadata": {
    "tags": []
   },
   "outputs": [],
   "source": [
    "test_data = pd.concat([test_data['target'], test_data.drop(['target'], axis=1)], axis=1)"
   ]
  },
  {
   "cell_type": "code",
   "execution_count": 105,
   "metadata": {
    "tags": []
   },
   "outputs": [],
   "source": [
    "from io import StringIO\n",
    "import numpy as np\n",
    "\n",
    "def array_to_csv_string(array):\n",
    "    # Convert the numpy array to a CSV string\n",
    "    csv_buffer = StringIO()\n",
    "    np.savetxt(csv_buffer, array, delimiter=\",\", fmt='%g')\n",
    "    return csv_buffer.getvalue().strip()\n",
    "\n",
    "def predict(predictor, features, labels, prob_threshold=0.5, rows=500):\n",
    "    \"\"\"\n",
    "    Return evaluation results\n",
    "    predictor : Predictor object of model\n",
    "    features: Input features to model\n",
    "    label: Ground truth target values\n",
    "    prob_threshold : Probability cut off to separate positive and negative class\n",
    "    \"\"\"\n",
    "    split_array = np.array_split(features, int(features.shape[0] / float(rows) + 1))\n",
    "    predictions = ''\n",
    "    for array in split_array:\n",
    "        # Convert the feature array to a CSV string\n",
    "        csv_array = array_to_csv_string(array)\n",
    "        predictions = ','.join([predictions, predictor.predict(csv_array).decode('utf-8')])\n",
    "\n",
    "    preds = np.fromstring(predictions[1:], sep=',')\n",
    "    preds = preds.reshape((-1,))\n",
    "    predictions = np.where(preds > prob_threshold, 1, 0)\n",
    "    labels = labels.reshape((-1,))\n",
    "\n",
    "    # Calculate accuracy\n",
    "    accuracy = (predictions == labels).sum() / labels.shape[0]\n",
    "    print(f'Accuracy: {accuracy}')\n",
    "\n",
    "    auc = roc_auc_score(labels, preds)\n",
    "    print(f'AUC     : {auc}')\n",
    "\n",
    "    precision, recall, f1_score, _ = precision_recall_fscore_support(labels, predictions, average='binary')\n",
    "    print(f'Precision: {precision}')\n",
    "    print(f'Recall: {recall}')\n",
    "    print(f'F1_score: {f1_score}')\n",
    "\n",
    "    confusion_matrix = pd.crosstab(index=labels, columns=(preds > prob_threshold), rownames=['True'], colnames=['predictions']).astype(int)\n",
    "    plt.figure(figsize=(5, 5))\n",
    "    sns.heatmap(confusion_matrix, annot=True, fmt='.2f', cmap=\"YlGnBu\").set_title('Confusion Matrix') \n",
    "    return list(preds)"
   ]
  },
  {
   "cell_type": "code",
   "execution_count": 101,
   "metadata": {
    "tags": []
   },
   "outputs": [],
   "source": [
    "'''\n",
    "def predict(predictor , features, labels , prob_threshold = 0.5, rows=500):\n",
    "    \"\"\"\n",
    "    Return evaluation results\n",
    "    predictor : Predictor object of model\n",
    "    features: Input features to model\n",
    "    label: Ground truth target values\n",
    "    prob_threshold : Probability cut off to separate positive and negative class\n",
    "    \"\"\"\n",
    "    split_array = np.array_split(features, int(features.shape[0] / float(rows) + 1))\n",
    "    predictions = ''\n",
    "    for array in split_array:\n",
    "        predictions = ','.join([predictions, predictor.predict(array).decode('utf-8')])\n",
    "\n",
    "    preds = np.fromstring(predictions[1:], sep=',')\n",
    "    preds = preds.reshape((-1,))\n",
    "    predictions = np.where(preds > prob_threshold , 1, 0)\n",
    "    labels = labels.reshape((-1,))\n",
    "    \n",
    "    # Calculate accuracy\n",
    "    accuracy = (predictions == labels).sum() / labels.shape[0]\n",
    "    print(f'Accuracy: {accuracy}')\n",
    "    \n",
    "    auc = roc_auc_score(labels, preds)\n",
    "    print(f'AUC     : {auc}')\n",
    "    \n",
    "    precision, recall, f1_score, _ = precision_recall_fscore_support(labels, predictions, average = 'binary')\n",
    "    print(f'Precision: {precision}')\n",
    "    print(f'Recall: {recall}')\n",
    "    print(f'F1_score: {f1_score}')\n",
    "    \n",
    "    confusion_matrix = pd.crosstab(index=labels, columns=(preds > prob_threshold), rownames=['True'], colnames=['predictions']).astype(int)\n",
    "    plt.figure(figsize = (5,5))\n",
    "    sns.heatmap(confusion_matrix, annot=True, fmt='.2f', cmap=\"YlGnBu\").set_title('Confusion Matrix') \n",
    "    return list(preds)\n",
    "'''"
   ]
  },
  {
   "cell_type": "code",
   "execution_count": 106,
   "metadata": {
    "tags": []
   },
   "outputs": [
    {
     "name": "stdout",
     "output_type": "stream",
     "text": [
      "Accuracy: 0.8005306953454105\n",
      "AUC     : 0.6993100749229438\n",
      "Precision: 0.638610182088443\n",
      "Recall: 0.10074156578831668\n",
      "F1_score: 0.17402972227144992\n"
     ]
    },
    {
     "data": {
      "image/png": "[encoded data removed]",
      "text/plain": [
       "<Figure size 500x500 with 2 Axes>"
      ]
     },
     "metadata": {},
     "output_type": "display_data"
    }
   ],
   "source": [
    "predictions = predict(xgb_predictor, test_data.values[:, 1:], test_data.iloc[:, 0:1].values, prob_threshold = 0.5)"
   ]
  },
  {
   "cell_type": "markdown",
   "metadata": {},
   "source": [
    "### Try different thresholds"
   ]
  },
  {
   "cell_type": "code",
   "execution_count": 107,
   "metadata": {
    "tags": []
   },
   "outputs": [
    {
     "name": "stdout",
     "output_type": "stream",
     "text": [
      "Accuracy: 0.792527467152526\n",
      "AUC     : 0.6993100749229438\n",
      "Precision: 0.9103139013452914\n",
      "Recall: 0.005950112846967787\n",
      "F1_score: 0.011822947000582411\n"
     ]
    },
    {
     "data": {
      "image/png": "[encoded data removed]",
      "text/plain": [
       "<Figure size 500x500 with 2 Axes>"
      ]
     },
     "metadata": {},
     "output_type": "display_data"
    }
   ],
   "source": [
    "predictions_08 = predict(xgb_predictor, test_data.values[:, 1:] ,  test_data.iloc[:, 0:1].values, prob_threshold = 0.8)"
   ]
  },
  {
   "cell_type": "markdown",
   "metadata": {},
   "source": [
    "**Question**: What can you conclude from how the model did on the test set?"
   ]
  },
  {
   "cell_type": "code",
   "execution_count": null,
   "metadata": {},
   "outputs": [],
   "source": [
    "#Enter your answer here"
   ]
  },
  {
   "cell_type": "markdown",
   "metadata": {},
   "source": [
    "### Hyperparameter optimization (HPO)"
   ]
  },
  {
   "cell_type": "code",
   "execution_count": 108,
   "metadata": {
    "tags": []
   },
   "outputs": [],
   "source": [
    "from sagemaker.tuner import IntegerParameter, CategoricalParameter, ContinuousParameter, HyperparameterTuner\n",
    "\n",
    "### You can spin up multiple instances to do hyperparameter optimization in parallel\n",
    "\n",
    "xgb = sagemaker.estimator.Estimator(container,\n",
    "                                    role=sagemaker.get_execution_role(), \n",
    "                                    instance_count= 2, # make sure you have limit set for these instances\n",
    "                                    instance_type='ml.m4.xlarge', \n",
    "                                    output_path='s3://{}/{}/output'.format(bucket, prefix),\n",
    "                                    sagemaker_session=sess)\n",
    "\n",
    "xgb.set_hyperparameters(eval_metric='auc',\n",
    "                        objective='binary:logistic',\n",
    "                        num_round=100,\n",
    "                        early_stopping_rounds=50,\n",
    "                        rate_drop=0.3,\n",
    "                        tweedie_variance_power=1.4)"
   ]
  },
  {
   "cell_type": "code",
   "execution_count": 109,
   "metadata": {
    "tags": []
   },
   "outputs": [],
   "source": [
    "hyperparameter_ranges = {'eta': ContinuousParameter(0, 0.5),\n",
    "                        'min_child_weight': ContinuousParameter(3, 10),\n",
    "                        'alpha': ContinuousParameter(0, 2)}\n",
    "\n",
    "objective_metric_name = 'validation:auc'\n",
    "\n",
    "tuner = HyperparameterTuner(xgb,\n",
    "                            objective_metric_name,\n",
    "                            hyperparameter_ranges,\n",
    "                            max_jobs=9,\n",
    "                            max_parallel_jobs=3)"
   ]
  },
  {
   "cell_type": "code",
   "execution_count": 110,
   "metadata": {
    "tags": []
   },
   "outputs": [
    {
     "name": "stderr",
     "output_type": "stream",
     "text": [
      "WARNING:sagemaker.estimator:No finished training job found associated with this estimator. Please make sure this estimator is only used for building workflow config\n",
      "WARNING:sagemaker.estimator:No finished training job found associated with this estimator. Please make sure this estimator is only used for building workflow config\n",
      "INFO:sagemaker:Creating hyperparameter tuning job with name: sagemaker-xgboost-240822-1215\n"
     ]
    },
    {
     "name": "stdout",
     "output_type": "stream",
     "text": [
      "..........................................................................................................................................................................................................................................................................................................................................................................................................................................................................................................................................!\n"
     ]
    }
   ],
   "source": [
    "tuner.fit({'train': s3_input_train, 'validation': s3_input_validation})"
   ]
  },
  {
   "cell_type": "code",
   "execution_count": 111,
   "metadata": {
    "tags": []
   },
   "outputs": [
    {
     "data": {
      "text/plain": [
       "'Completed'"
      ]
     },
     "execution_count": 111,
     "metadata": {},
     "output_type": "execute_result"
    }
   ],
   "source": [
    "boto3.client('sagemaker').describe_hyper_parameter_tuning_job(\n",
    "    HyperParameterTuningJobName=tuner.latest_tuning_job.job_name)['HyperParameterTuningJobStatus']"
   ]
  },
  {
   "cell_type": "markdown",
   "metadata": {},
   "source": [
    "Wait until the training job is finished. It may take 25-30 minutes.\n",
    "\n",
    "**To monitor hyperparameter optimization jobs:**  \n",
    "\n",
    "1. In the AWS Management Console, on the **Services** menu, click **Amazon SageMaker**.  \n",
    "1. Click **Training** > **Hyperparameter tuning jobs**.  \n",
    "1. You can check the status of each hyperparametertuning job, its objective metric value, and its logs.  "
   ]
  },
  {
   "cell_type": "code",
   "execution_count": 113,
   "metadata": {
    "scrolled": true,
    "tags": []
   },
   "outputs": [
    {
     "name": "stderr",
     "output_type": "stream",
     "text": [
      "INFO:botocore.credentials:Found credentials from IAM Role: BaseNotebookInstanceEc2InstanceRole\n"
     ]
    },
    {
     "name": "stdout",
     "output_type": "stream",
     "text": [
      "9 training jobs have completed\n",
      "Best model found so far:\n",
      "{'CreationTime': datetime.datetime(2024, 8, 22, 12, 28, 13, tzinfo=tzlocal()),\n",
      " 'FinalHyperParameterTuningJobObjectiveMetric': {'MetricName': 'validation:auc',\n",
      "                                                 'Value': 0.709879994392395},\n",
      " 'ObjectiveStatus': 'Succeeded',\n",
      " 'TrainingEndTime': datetime.datetime(2024, 8, 22, 12, 38, 20, tzinfo=tzlocal()),\n",
      " 'TrainingJobArn': 'arn:aws:sagemaker:us-east-1:243886713961:training-job/sagemaker-xgboost-240822-1215-004-301c6297',\n",
      " 'TrainingJobName': 'sagemaker-xgboost-240822-1215-004-301c6297',\n",
      " 'TrainingJobStatus': 'Completed',\n",
      " 'TrainingStartTime': datetime.datetime(2024, 8, 22, 12, 28, 18, tzinfo=tzlocal()),\n",
      " 'TunedHyperParameters': {'alpha': '1.7628723973536833',\n",
      "                          'eta': '0.4562210683740714',\n",
      "                          'min_child_weight': '5.144671404933142'}}\n",
      "Number of training jobs with valid objective: 9\n",
      "{'lowest': 0.6746000051498413, 'highest': 0.709879994392395}\n"
     ]
    },
    {
     "data": {
      "text/html": [
       "<div>\n",
       "<style scoped>\n",
       "    .dataframe tbody tr th:only-of-type {\n",
       "        vertical-align: middle;\n",
       "    }\n",
       "\n",
       "    .dataframe tbody tr th {\n",
       "        vertical-align: top;\n",
       "    }\n",
       "\n",
       "    .dataframe thead th {\n",
       "        text-align: right;\n",
       "    }\n",
       "</style>\n",
       "<table border=\"1\" class=\"dataframe\">\n",
       "  <thead>\n",
       "    <tr style=\"text-align: right;\">\n",
       "      <th></th>\n",
       "      <th>alpha</th>\n",
       "      <th>eta</th>\n",
       "      <th>min_child_weight</th>\n",
       "      <th>TrainingJobName</th>\n",
       "      <th>TrainingJobStatus</th>\n",
       "      <th>FinalObjectiveValue</th>\n",
       "      <th>TrainingStartTime</th>\n",
       "      <th>TrainingEndTime</th>\n",
       "      <th>TrainingElapsedTimeSeconds</th>\n",
       "    </tr>\n",
       "  </thead>\n",
       "  <tbody>\n",
       "    <tr>\n",
       "      <th>0</th>\n",
       "      <td>0.502288</td>\n",
       "      <td>0.497083</td>\n",
       "      <td>6.773041</td>\n",
       "      <td>sagemaker-xgboost-240822-1215-010-e8c1a1fc</td>\n",
       "      <td>Completed</td>\n",
       "      <td>0.709619</td>\n",
       "      <td>2024-08-22 12:49:39+00:00</td>\n",
       "      <td>2024-08-22 12:59:45+00:00</td>\n",
       "      <td>606.0</td>\n",
       "    </tr>\n",
       "    <tr>\n",
       "      <th>1</th>\n",
       "      <td>1.601776</td>\n",
       "      <td>0.498283</td>\n",
       "      <td>6.226094</td>\n",
       "      <td>sagemaker-xgboost-240822-1215-009-c2bbb3e5</td>\n",
       "      <td>Completed</td>\n",
       "      <td>0.709211</td>\n",
       "      <td>2024-08-22 12:49:36+00:00</td>\n",
       "      <td>2024-08-22 12:59:33+00:00</td>\n",
       "      <td>597.0</td>\n",
       "    </tr>\n",
       "    <tr>\n",
       "      <th>2</th>\n",
       "      <td>0.953925</td>\n",
       "      <td>0.418212</td>\n",
       "      <td>8.601528</td>\n",
       "      <td>sagemaker-xgboost-240822-1215-008-448bf830</td>\n",
       "      <td>Completed</td>\n",
       "      <td>0.709374</td>\n",
       "      <td>2024-08-22 12:39:48+00:00</td>\n",
       "      <td>2024-08-22 12:50:35+00:00</td>\n",
       "      <td>647.0</td>\n",
       "    </tr>\n",
       "    <tr>\n",
       "      <th>3</th>\n",
       "      <td>0.871796</td>\n",
       "      <td>0.024813</td>\n",
       "      <td>4.956123</td>\n",
       "      <td>sagemaker-xgboost-240822-1215-007-a23fc04f</td>\n",
       "      <td>Completed</td>\n",
       "      <td>0.674600</td>\n",
       "      <td>2024-08-22 12:39:08+00:00</td>\n",
       "      <td>2024-08-22 12:48:59+00:00</td>\n",
       "      <td>591.0</td>\n",
       "    </tr>\n",
       "    <tr>\n",
       "      <th>4</th>\n",
       "      <td>0.269425</td>\n",
       "      <td>0.430290</td>\n",
       "      <td>7.637946</td>\n",
       "      <td>sagemaker-xgboost-240822-1215-006-e79732fe</td>\n",
       "      <td>Completed</td>\n",
       "      <td>0.709603</td>\n",
       "      <td>2024-08-22 12:38:57+00:00</td>\n",
       "      <td>2024-08-22 12:49:14+00:00</td>\n",
       "      <td>617.0</td>\n",
       "    </tr>\n",
       "    <tr>\n",
       "      <th>5</th>\n",
       "      <td>0.054108</td>\n",
       "      <td>0.198315</td>\n",
       "      <td>6.832786</td>\n",
       "      <td>sagemaker-xgboost-240822-1215-005-d07ce32b</td>\n",
       "      <td>Completed</td>\n",
       "      <td>0.703235</td>\n",
       "      <td>2024-08-22 12:28:19+00:00</td>\n",
       "      <td>2024-08-22 12:38:21+00:00</td>\n",
       "      <td>602.0</td>\n",
       "    </tr>\n",
       "    <tr>\n",
       "      <th>6</th>\n",
       "      <td>1.762872</td>\n",
       "      <td>0.456221</td>\n",
       "      <td>5.144671</td>\n",
       "      <td>sagemaker-xgboost-240822-1215-004-301c6297</td>\n",
       "      <td>Completed</td>\n",
       "      <td>0.709880</td>\n",
       "      <td>2024-08-22 12:28:18+00:00</td>\n",
       "      <td>2024-08-22 12:38:20+00:00</td>\n",
       "      <td>602.0</td>\n",
       "    </tr>\n",
       "    <tr>\n",
       "      <th>7</th>\n",
       "      <td>0.556782</td>\n",
       "      <td>0.389208</td>\n",
       "      <td>8.487631</td>\n",
       "      <td>sagemaker-xgboost-240822-1215-003-0f4bbb4b</td>\n",
       "      <td>Failed</td>\n",
       "      <td>NaN</td>\n",
       "      <td>NaT</td>\n",
       "      <td>2024-08-22 12:38:09+00:00</td>\n",
       "      <td>NaN</td>\n",
       "    </tr>\n",
       "    <tr>\n",
       "      <th>8</th>\n",
       "      <td>0.540125</td>\n",
       "      <td>0.329591</td>\n",
       "      <td>7.239352</td>\n",
       "      <td>sagemaker-xgboost-240822-1215-002-c6c96e8c</td>\n",
       "      <td>Completed</td>\n",
       "      <td>0.707461</td>\n",
       "      <td>2024-08-22 12:16:27+00:00</td>\n",
       "      <td>2024-08-22 12:27:09+00:00</td>\n",
       "      <td>642.0</td>\n",
       "    </tr>\n",
       "    <tr>\n",
       "      <th>9</th>\n",
       "      <td>0.421057</td>\n",
       "      <td>0.351429</td>\n",
       "      <td>9.468091</td>\n",
       "      <td>sagemaker-xgboost-240822-1215-001-507c2ae6</td>\n",
       "      <td>Completed</td>\n",
       "      <td>0.708901</td>\n",
       "      <td>2024-08-22 12:16:27+00:00</td>\n",
       "      <td>2024-08-22 12:26:55+00:00</td>\n",
       "      <td>628.0</td>\n",
       "    </tr>\n",
       "  </tbody>\n",
       "</table>\n",
       "</div>"
      ],
      "text/plain": [
       "      alpha       eta  min_child_weight  \\\n",
       "0  0.502288  0.497083          6.773041   \n",
       "1  1.601776  0.498283          6.226094   \n",
       "2  0.953925  0.418212          8.601528   \n",
       "3  0.871796  0.024813          4.956123   \n",
       "4  0.269425  0.430290          7.637946   \n",
       "5  0.054108  0.198315          6.832786   \n",
       "6  1.762872  0.456221          5.144671   \n",
       "7  0.556782  0.389208          8.487631   \n",
       "8  0.540125  0.329591          7.239352   \n",
       "9  0.421057  0.351429          9.468091   \n",
       "\n",
       "                              TrainingJobName TrainingJobStatus  \\\n",
       "0  sagemaker-xgboost-240822-1215-010-e8c1a1fc         Completed   \n",
       "1  sagemaker-xgboost-240822-1215-009-c2bbb3e5         Completed   \n",
       "2  sagemaker-xgboost-240822-1215-008-448bf830         Completed   \n",
       "3  sagemaker-xgboost-240822-1215-007-a23fc04f         Completed   \n",
       "4  sagemaker-xgboost-240822-1215-006-e79732fe         Completed   \n",
       "5  sagemaker-xgboost-240822-1215-005-d07ce32b         Completed   \n",
       "6  sagemaker-xgboost-240822-1215-004-301c6297         Completed   \n",
       "7  sagemaker-xgboost-240822-1215-003-0f4bbb4b            Failed   \n",
       "8  sagemaker-xgboost-240822-1215-002-c6c96e8c         Completed   \n",
       "9  sagemaker-xgboost-240822-1215-001-507c2ae6         Completed   \n",
       "\n",
       "   FinalObjectiveValue         TrainingStartTime           TrainingEndTime  \\\n",
       "0             0.709619 2024-08-22 12:49:39+00:00 2024-08-22 12:59:45+00:00   \n",
       "1             0.709211 2024-08-22 12:49:36+00:00 2024-08-22 12:59:33+00:00   \n",
       "2             0.709374 2024-08-22 12:39:48+00:00 2024-08-22 12:50:35+00:00   \n",
       "3             0.674600 2024-08-22 12:39:08+00:00 2024-08-22 12:48:59+00:00   \n",
       "4             0.709603 2024-08-22 12:38:57+00:00 2024-08-22 12:49:14+00:00   \n",
       "5             0.703235 2024-08-22 12:28:19+00:00 2024-08-22 12:38:21+00:00   \n",
       "6             0.709880 2024-08-22 12:28:18+00:00 2024-08-22 12:38:20+00:00   \n",
       "7                  NaN                       NaT 2024-08-22 12:38:09+00:00   \n",
       "8             0.707461 2024-08-22 12:16:27+00:00 2024-08-22 12:27:09+00:00   \n",
       "9             0.708901 2024-08-22 12:16:27+00:00 2024-08-22 12:26:55+00:00   \n",
       "\n",
       "   TrainingElapsedTimeSeconds  \n",
       "0                       606.0  \n",
       "1                       597.0  \n",
       "2                       647.0  \n",
       "3                       591.0  \n",
       "4                       617.0  \n",
       "5                       602.0  \n",
       "6                       602.0  \n",
       "7                         NaN  \n",
       "8                       642.0  \n",
       "9                       628.0  "
      ]
     },
     "execution_count": 113,
     "metadata": {},
     "output_type": "execute_result"
    }
   ],
   "source": [
    "sage_client = boto3.Session().client('sagemaker')\n",
    "tuning_job_name = tuner.latest_tuning_job.job_name\n",
    "\n",
    "# Run this cell to check current status of hyperparameter tuning job\n",
    "tuning_job_result = sage_client.describe_hyper_parameter_tuning_job(HyperParameterTuningJobName=tuning_job_name)\n",
    "\n",
    "status = tuning_job_result['HyperParameterTuningJobStatus']\n",
    "if status != 'Completed':\n",
    "    print('Reminder: the tuning job has not been completed.')\n",
    "    \n",
    "job_count = tuning_job_result['TrainingJobStatusCounters']['Completed']\n",
    "print(\"%d training jobs have completed\" % job_count)\n",
    "    \n",
    "is_minimize = (tuning_job_result['HyperParameterTuningJobConfig']['HyperParameterTuningJobObjective']['Type'] != 'Maximize')\n",
    "objective_name = tuning_job_result['HyperParameterTuningJobConfig']['HyperParameterTuningJobObjective']['MetricName']\n",
    "\n",
    "\n",
    "from pprint import pprint\n",
    "if tuning_job_result.get('BestTrainingJob',None):\n",
    "    print(\"Best model found so far:\")\n",
    "    pprint(tuning_job_result['BestTrainingJob'])\n",
    "else:\n",
    "    print(\"No training jobs have reported results yet.\")\n",
    "    \n",
    "### Get the hyperparameter tuning job results in a dataframe\n",
    "tuner_df = sagemaker.HyperparameterTuningJobAnalytics(tuning_job_name).dataframe()\n",
    "\n",
    "if len(tuner_df) > 0:\n",
    "    df = tuner_df[tuner_df['FinalObjectiveValue'] > -float('inf')]\n",
    "    if len(df) > 0:\n",
    "        df = df.sort_values('FinalObjectiveValue', ascending=is_minimize)\n",
    "        print(\"Number of training jobs with valid objective: %d\" % len(df))\n",
    "        print({\"lowest\":min(df['FinalObjectiveValue']),\"highest\": max(df['FinalObjectiveValue'])})\n",
    "        pd.set_option('display.max_colwidth', None)  # Don't truncate TrainingJobName        \n",
    "    else:\n",
    "        print(\"No training jobs have reported valid results yet.\")\n",
    "        \n",
    "tuner_df"
   ]
  },
  {
   "cell_type": "markdown",
   "metadata": {},
   "source": [
    "Deploy the best model from the hyperparameter optimization training."
   ]
  },
  {
   "cell_type": "code",
   "execution_count": 114,
   "metadata": {
    "tags": []
   },
   "outputs": [
    {
     "name": "stdout",
     "output_type": "stream",
     "text": [
      "tuning job name:sagemaker-xgboost-240822-1215\n",
      "best training job: sagemaker-xgboost-240822-1215-004-301c6297\n"
     ]
    }
   ],
   "source": [
    "print(f'tuning job name:{tuning_job_name}')\n",
    "best_training_job = tuning_job_result['BestTrainingJob']\n",
    "best_training_job_name = best_training_job['TrainingJobName']\n",
    "print(f\"best training job: {best_training_job_name}\")"
   ]
  },
  {
   "cell_type": "code",
   "execution_count": 115,
   "metadata": {
    "tags": []
   },
   "outputs": [
    {
     "name": "stdout",
     "output_type": "stream",
     "text": [
      "\n",
      "2024-08-22 12:38:55 Starting - Found matching resource for reuse\n",
      "2024-08-22 12:38:55 Downloading - Downloading the training image\n",
      "2024-08-22 12:38:55 Training - Training image download completed. Training in progress.\n",
      "2024-08-22 12:38:55 Uploading - Uploading generated training model\n",
      "2024-08-22 12:38:55 Completed - Resource reused by training job: sagemaker-xgboost-240822-1215-006-e79732fe\n"
     ]
    }
   ],
   "source": [
    "best_estimator = tuner.best_estimator()"
   ]
  },
  {
   "cell_type": "code",
   "execution_count": 116,
   "metadata": {
    "tags": []
   },
   "outputs": [
    {
     "name": "stderr",
     "output_type": "stream",
     "text": [
      "INFO:sagemaker:Creating training-job with name: sagemaker-xgboost-2024-08-22-13-16-58-675\n"
     ]
    },
    {
     "name": "stdout",
     "output_type": "stream",
     "text": [
      "2024-08-22 13:16:58 Starting - Starting the training job...\n",
      "2024-08-22 13:17:14 Starting - Preparing the instances for training...\n",
      "2024-08-22 13:17:46 Downloading - Downloading input data......\n",
      "2024-08-22 13:18:57 Training - Training image download completed. Training in progress...\u001b[34mINFO:sagemaker-containers:Imported framework sagemaker_xgboost_container.training\u001b[0m\n",
      "\u001b[34mINFO:sagemaker-containers:Failed to parse hyperparameter _tuning_objective_metric value validation:auc to Json.\u001b[0m\n",
      "\u001b[34mReturning the value itself\u001b[0m\n",
      "\u001b[34mINFO:sagemaker-containers:Failed to parse hyperparameter eval_metric value auc to Json.\u001b[0m\n",
      "\u001b[34mReturning the value itself\u001b[0m\n",
      "\u001b[34mINFO:sagemaker-containers:Failed to parse hyperparameter objective value binary:logistic to Json.\u001b[0m\n",
      "\u001b[34mReturning the value itself\u001b[0m\n",
      "\u001b[34mINFO:sagemaker-containers:No GPUs detected (normal if no gpus installed)\u001b[0m\n",
      "\u001b[34mINFO:sagemaker_xgboost_container.training:Running XGBoost Sagemaker in algorithm mode\u001b[0m\n",
      "\u001b[34mINFO:root:Determined delimiter of CSV input is ','\u001b[0m\n",
      "\u001b[34mINFO:root:Determined delimiter of CSV input is ','\u001b[0m\n",
      "\u001b[34mINFO:root:Determined delimiter of CSV input is ','\u001b[0m\n",
      "\u001b[34m[13:19:11] 1144913x94 matrix with 107621822 entries loaded from /opt/ml/input/data/train?format=csv&label_column=0&delimiter=,\u001b[0m\n",
      "\u001b[34mINFO:root:Determined delimiter of CSV input is ','\u001b[0m\n",
      "\u001b[34m[13:19:12] 327118x94 matrix with 30749092 entries loaded from /opt/ml/input/data/validation?format=csv&label_column=0&delimiter=,\u001b[0m\n",
      "\u001b[34mINFO:root:Distributed node training with 2 hosts: ['algo-1', 'algo-2']\u001b[0m\n",
      "\u001b[34mINFO:RabitContextManager:Failed to connect to RabitTracker on attempt 0\u001b[0m\n",
      "\u001b[34mINFO:RabitContextManager:Sleeping for 3 sec before retrying\u001b[0m\n",
      "\u001b[34mINFO:RabitContextManager:Connected to RabitTracker.\u001b[0m\n",
      "\u001b[34mINFO:RabitContextManager:Failed to connect to RabitTracker on attempt 0\u001b[0m\n",
      "\u001b[34mINFO:RabitContextManager:Sleeping for 3 sec before retrying\u001b[0m\n",
      "\u001b[34mINFO:sagemaker-containers:Imported framework sagemaker_xgboost_container.training\u001b[0m\n",
      "\u001b[34mINFO:sagemaker-containers:Failed to parse hyperparameter _tuning_objective_metric value validation:auc to Json.\u001b[0m\n",
      "\u001b[34mReturning the value itself\u001b[0m\n",
      "\u001b[34mINFO:sagemaker-containers:Failed to parse hyperparameter eval_metric value auc to Json.\u001b[0m\n",
      "\u001b[34mReturning the value itself\u001b[0m\n",
      "\u001b[34mINFO:sagemaker-containers:Failed to parse hyperparameter objective value binary:logistic to Json.\u001b[0m\n",
      "\u001b[34mReturning the value itself\u001b[0m\n",
      "\u001b[34mINFO:sagemaker-containers:No GPUs detected (normal if no gpus installed)\u001b[0m\n",
      "\u001b[34mINFO:sagemaker_xgboost_container.training:Running XGBoost Sagemaker in algorithm mode\u001b[0m\n",
      "\u001b[34mINFO:root:Determined delimiter of CSV input is ','\u001b[0m\n",
      "\u001b[34mINFO:root:Determined delimiter of CSV input is ','\u001b[0m\n",
      "\u001b[34mINFO:root:Determined delimiter of CSV input is ','\u001b[0m\n",
      "\u001b[34m[13:19:12] 1144913x94 matrix with 107621822 entries loaded from /opt/ml/input/data/train?format=csv&label_column=0&delimiter=,\u001b[0m\n",
      "\u001b[34mINFO:root:Determined delimiter of CSV input is ','\u001b[0m\n",
      "\u001b[34m[13:19:13] 327118x94 matrix with 30749092 entries loaded from /opt/ml/input/data/validation?format=csv&label_column=0&delimiter=,\u001b[0m\n",
      "\u001b[34mINFO:root:Distributed node training with 2 hosts: ['algo-1', 'algo-2']\u001b[0m\n",
      "\u001b[34mINFO:RabitTracker:start listen on algo-1:9099\u001b[0m\n",
      "\u001b[34mINFO:RabitContextManager:Rabit slave environment: {'DMLC_TRACKER_URI': 'algo-1', 'DMLC_TRACKER_PORT': 9099}\u001b[0m\n",
      "\u001b[34mINFO:RabitTracker:No data received from connection ('10.2.249.174', 32902). Closing.\u001b[0m\n",
      "\u001b[34mINFO:RabitContextManager:Connected to RabitTracker.\u001b[0m\n",
      "\u001b[34mINFO:RabitTracker:No data received from connection ('10.2.220.238', 49176). Closing.\u001b[0m\n",
      "\u001b[34mINFO:RabitTracker:Recieve start signal from 10.2.220.238; assign rank 0\u001b[0m\n",
      "\u001b[34mINFO:RabitTracker:Recieve start signal from 10.2.249.174; assign rank 1\u001b[0m\n",
      "\u001b[34mINFO:RabitTracker:@tracker All of 2 nodes getting started\u001b[0m\n",
      "\u001b[34mINFO:RabitTracker:@tracker All nodes finishes job\u001b[0m\n",
      "\u001b[34mINFO:RabitTracker:@tracker 0.17364263534545898 secs between node start and job finish\u001b[0m\n",
      "\u001b[34mINFO:RabitTracker:start listen on algo-1:9100\u001b[0m\n",
      "\u001b[34mINFO:RabitContextManager:Rabit slave environment: {'DMLC_TRACKER_URI': 'algo-1', 'DMLC_TRACKER_PORT': 9100}\u001b[0m\n",
      "\u001b[34mINFO:RabitTracker:No data received from connection ('10.2.249.174', 60972). Closing.\u001b[0m\n",
      "\u001b[34mINFO:RabitContextManager:Connected to RabitTracker.\u001b[0m\n",
      "\u001b[35mINFO:RabitContextManager:Connected to RabitTracker.\u001b[0m\n",
      "\u001b[35mINFO:root:Setting up HPO optimized metric to be : auc\u001b[0m\n",
      "\u001b[35mINFO:root:Train matrix has 1144913 rows\u001b[0m\n",
      "\u001b[35mINFO:root:Validation matrix has 327118 rows\u001b[0m\n",
      "\u001b[35m[13:19:18] WARNING: /workspace/src/learner.cc:622: Tree method is automatically selected to be 'approx' for distributed training.\u001b[0m\n",
      "\u001b[35m[13:19:18] Tree method is automatically selected to be 'approx' for distributed training.\u001b[0m\n",
      "\u001b[34mINFO:RabitTracker:No data received from connection ('10.2.220.238', 50448). Closing.\u001b[0m\n",
      "\u001b[34mINFO:RabitTracker:Recieve start signal from 10.2.220.238; assign rank 0\u001b[0m\n",
      "\u001b[34mINFO:root:Setting up HPO optimized metric to be : auc\u001b[0m\n",
      "\u001b[34mINFO:RabitTracker:Recieve start signal from 10.2.249.174; assign rank 1\u001b[0m\n",
      "\u001b[34mINFO:root:Train matrix has 1144913 rows\u001b[0m\n",
      "\u001b[34mINFO:RabitTracker:@tracker All of 2 nodes getting started\u001b[0m\n",
      "\u001b[34mINFO:root:Validation matrix has 327118 rows\u001b[0m\n",
      "\u001b[34m[13:19:18] WARNING: /workspace/src/learner.cc:622: Tree method is automatically selected to be 'approx' for distributed training.\u001b[0m\n",
      "\u001b[34m[13:19:18] Tree method is automatically selected to be 'approx' for distributed training.\u001b[0m\n",
      "\u001b[34mINFO:RabitTracker:[0]#011train-auc:0.653833#011validation-auc:0.65122\u001b[0m\n",
      "\u001b[34mINFO:RabitTracker:[1]#011train-auc:0.662461#011validation-auc:0.660121\u001b[0m\n",
      "\u001b[34mINFO:RabitTracker:[2]#011train-auc:0.667303#011validation-auc:0.664879\u001b[0m\n",
      "\u001b[34mINFO:RabitTracker:[3]#011train-auc:0.670991#011validation-auc:0.668267\u001b[0m\n",
      "\u001b[34mINFO:RabitTracker:[4]#011train-auc:0.673838#011validation-auc:0.670945\u001b[0m\n",
      "\u001b[34mINFO:RabitTracker:[5]#011train-auc:0.677538#011validation-auc:0.674703\u001b[0m\n",
      "\u001b[34mINFO:RabitTracker:[6]#011train-auc:0.681604#011validation-auc:0.678672\u001b[0m\n",
      "\u001b[34mINFO:RabitTracker:[7]#011train-auc:0.683194#011validation-auc:0.680177\u001b[0m\n",
      "\u001b[34mINFO:RabitTracker:[8]#011train-auc:0.684346#011validation-auc:0.681334\u001b[0m\n",
      "\u001b[34mINFO:RabitTracker:[9]#011train-auc:0.685213#011validation-auc:0.682176\u001b[0m\n",
      "\u001b[34mINFO:RabitTracker:[10]#011train-auc:0.687364#011validation-auc:0.683999\u001b[0m\n",
      "\u001b[34mINFO:RabitTracker:[11]#011train-auc:0.690088#011validation-auc:0.68649\u001b[0m\n",
      "\u001b[34mINFO:RabitTracker:[12]#011train-auc:0.69225#011validation-auc:0.688817\u001b[0m\n",
      "\u001b[34mINFO:RabitTracker:[13]#011train-auc:0.693313#011validation-auc:0.689759\u001b[0m\n",
      "\u001b[34mINFO:RabitTracker:[14]#011train-auc:0.694297#011validation-auc:0.69068\u001b[0m\n",
      "\u001b[34mINFO:RabitTracker:[15]#011train-auc:0.695654#011validation-auc:0.691993\u001b[0m\n",
      "\u001b[34mINFO:RabitTracker:[16]#011train-auc:0.696258#011validation-auc:0.69242\u001b[0m\n",
      "\u001b[34mINFO:RabitTracker:[17]#011train-auc:0.696979#011validation-auc:0.693038\u001b[0m\n",
      "\u001b[34mINFO:RabitTracker:[18]#011train-auc:0.697273#011validation-auc:0.693165\u001b[0m\n",
      "\u001b[34mINFO:RabitTracker:[19]#011train-auc:0.697616#011validation-auc:0.693385\u001b[0m\n",
      "\u001b[34mINFO:RabitTracker:[20]#011train-auc:0.698439#011validation-auc:0.693991\u001b[0m\n",
      "\u001b[34mINFO:RabitTracker:[21]#011train-auc:0.69883#011validation-auc:0.69433\u001b[0m\n",
      "\u001b[34mINFO:RabitTracker:[22]#011train-auc:0.699557#011validation-auc:0.694874\u001b[0m\n",
      "\u001b[34mINFO:RabitTracker:[23]#011train-auc:0.699907#011validation-auc:0.69515\u001b[0m\n",
      "\u001b[34mINFO:RabitTracker:[24]#011train-auc:0.700326#011validation-auc:0.69551\u001b[0m\n",
      "\u001b[34mINFO:RabitTracker:[25]#011train-auc:0.70087#011validation-auc:0.695891\u001b[0m\n",
      "\u001b[34mINFO:RabitTracker:[26]#011train-auc:0.701289#011validation-auc:0.696204\u001b[0m\n",
      "\u001b[34mINFO:RabitTracker:[27]#011train-auc:0.701419#011validation-auc:0.696244\u001b[0m\n",
      "\u001b[34mINFO:RabitTracker:[28]#011train-auc:0.701485#011validation-auc:0.696285\u001b[0m\n",
      "\u001b[34mINFO:RabitTracker:[29]#011train-auc:0.702206#011validation-auc:0.696988\u001b[0m\n",
      "\u001b[34mINFO:RabitTracker:[30]#011train-auc:0.702815#011validation-auc:0.697349\u001b[0m\n",
      "\u001b[34mINFO:RabitTracker:[31]#011train-auc:0.703178#011validation-auc:0.697619\u001b[0m\n",
      "\u001b[34mINFO:RabitTracker:[32]#011train-auc:0.703741#011validation-auc:0.698118\u001b[0m\n",
      "\u001b[34mINFO:RabitTracker:[33]#011train-auc:0.704094#011validation-auc:0.698355\u001b[0m\n",
      "\u001b[34mINFO:RabitTracker:[34]#011train-auc:0.704668#011validation-auc:0.698762\u001b[0m\n",
      "\u001b[34mINFO:RabitTracker:[35]#011train-auc:0.705208#011validation-auc:0.699163\u001b[0m\n",
      "\u001b[34mINFO:RabitTracker:[36]#011train-auc:0.70534#011validation-auc:0.699175\u001b[0m\n",
      "\u001b[34mINFO:RabitTracker:[37]#011train-auc:0.705843#011validation-auc:0.699466\u001b[0m\n",
      "\u001b[34mINFO:RabitTracker:[38]#011train-auc:0.706278#011validation-auc:0.699687\u001b[0m\n",
      "\u001b[34mINFO:RabitTracker:[39]#011train-auc:0.706735#011validation-auc:0.700022\u001b[0m\n",
      "\u001b[34mINFO:RabitTracker:[40]#011train-auc:0.707155#011validation-auc:0.700291\u001b[0m\n",
      "\u001b[34mINFO:RabitTracker:[41]#011train-auc:0.707606#011validation-auc:0.700576\u001b[0m\n",
      "\u001b[34mINFO:RabitTracker:[42]#011train-auc:0.708022#011validation-auc:0.700868\u001b[0m\n",
      "\u001b[34mINFO:RabitTracker:[43]#011train-auc:0.70839#011validation-auc:0.701037\u001b[0m\n",
      "\u001b[34mINFO:RabitTracker:[44]#011train-auc:0.708621#011validation-auc:0.701134\u001b[0m\n",
      "\u001b[34mINFO:RabitTracker:[45]#011train-auc:0.70921#011validation-auc:0.701706\u001b[0m\n",
      "\u001b[34mINFO:RabitTracker:[46]#011train-auc:0.709579#011validation-auc:0.701965\u001b[0m\n",
      "\u001b[34mINFO:RabitTracker:[47]#011train-auc:0.709756#011validation-auc:0.702045\u001b[0m\n",
      "\u001b[34mINFO:RabitTracker:[48]#011train-auc:0.710194#011validation-auc:0.70228\u001b[0m\n",
      "\u001b[34mINFO:RabitTracker:[49]#011train-auc:0.710628#011validation-auc:0.702717\u001b[0m\n",
      "\u001b[34mINFO:RabitTracker:[50]#011train-auc:0.710775#011validation-auc:0.702781\u001b[0m\n",
      "\u001b[34mINFO:RabitTracker:[51]#011train-auc:0.711153#011validation-auc:0.702986\u001b[0m\n",
      "\u001b[34mINFO:RabitTracker:[52]#011train-auc:0.711639#011validation-auc:0.70326\u001b[0m\n",
      "\u001b[34mINFO:RabitTracker:[53]#011train-auc:0.711903#011validation-auc:0.703315\u001b[0m\n",
      "\u001b[34mINFO:RabitTracker:[54]#011train-auc:0.712126#011validation-auc:0.703518\u001b[0m\n",
      "\u001b[34mINFO:RabitTracker:[55]#011train-auc:0.712477#011validation-auc:0.703651\u001b[0m\n",
      "\u001b[34mINFO:RabitTracker:[56]#011train-auc:0.712911#011validation-auc:0.703874\u001b[0m\n",
      "\u001b[34mINFO:RabitTracker:[57]#011train-auc:0.713241#011validation-auc:0.704163\u001b[0m\n",
      "\u001b[34mINFO:RabitTracker:[58]#011train-auc:0.713885#011validation-auc:0.704574\u001b[0m\n",
      "\u001b[34mINFO:RabitTracker:[59]#011train-auc:0.713947#011validation-auc:0.704611\u001b[0m\n",
      "\u001b[34mINFO:RabitTracker:[60]#011train-auc:0.714108#011validation-auc:0.704676\u001b[0m\n",
      "\u001b[34mINFO:RabitTracker:[61]#011train-auc:0.714308#011validation-auc:0.704772\u001b[0m\n",
      "\u001b[34mINFO:RabitTracker:[62]#011train-auc:0.714647#011validation-auc:0.705021\u001b[0m\n",
      "\u001b[34mINFO:RabitTracker:[63]#011train-auc:0.715068#011validation-auc:0.705277\u001b[0m\n",
      "\u001b[34mINFO:RabitTracker:[64]#011train-auc:0.715371#011validation-auc:0.705372\u001b[0m\n",
      "\u001b[34mINFO:RabitTracker:[65]#011train-auc:0.715748#011validation-auc:0.705518\u001b[0m\n",
      "\u001b[34mINFO:RabitTracker:[66]#011train-auc:0.716087#011validation-auc:0.705687\u001b[0m\n",
      "\u001b[34mINFO:RabitTracker:[67]#011train-auc:0.716248#011validation-auc:0.705787\u001b[0m\n",
      "\u001b[34mINFO:RabitTracker:[68]#011train-auc:0.716321#011validation-auc:0.705809\u001b[0m\n",
      "\u001b[34mINFO:RabitTracker:[69]#011train-auc:0.716716#011validation-auc:0.706063\u001b[0m\n",
      "\u001b[34mINFO:RabitTracker:[70]#011train-auc:0.71689#011validation-auc:0.706121\u001b[0m\n",
      "\u001b[34mINFO:RabitTracker:[71]#011train-auc:0.717084#011validation-auc:0.706283\u001b[0m\n",
      "\u001b[34mINFO:RabitTracker:[72]#011train-auc:0.717615#011validation-auc:0.706552\u001b[0m\n",
      "\u001b[34mINFO:RabitTracker:[73]#011train-auc:0.717805#011validation-auc:0.706596\u001b[0m\n",
      "\u001b[34mINFO:RabitTracker:[74]#011train-auc:0.718113#011validation-auc:0.706773\u001b[0m\n",
      "\u001b[34mINFO:RabitTracker:[75]#011train-auc:0.718311#011validation-auc:0.706926\u001b[0m\n",
      "\u001b[34mINFO:RabitTracker:[76]#011train-auc:0.718526#011validation-auc:0.707007\u001b[0m\n",
      "\u001b[34mINFO:RabitTracker:[77]#011train-auc:0.718784#011validation-auc:0.707112\u001b[0m\n",
      "\u001b[34mINFO:RabitTracker:[78]#011train-auc:0.719042#011validation-auc:0.707224\u001b[0m\n",
      "\u001b[34mINFO:RabitTracker:[79]#011train-auc:0.719325#011validation-auc:0.707337\u001b[0m\n",
      "\u001b[34mINFO:RabitTracker:[80]#011train-auc:0.719677#011validation-auc:0.707514\u001b[0m\n",
      "\u001b[34mINFO:RabitTracker:[81]#011train-auc:0.720025#011validation-auc:0.707749\u001b[0m\n",
      "\u001b[34mINFO:RabitTracker:[82]#011train-auc:0.720109#011validation-auc:0.707733\u001b[0m\n",
      "\u001b[34mINFO:RabitTracker:[83]#011train-auc:0.720178#011validation-auc:0.707779\u001b[0m\n",
      "\u001b[34mINFO:RabitTracker:[84]#011train-auc:0.720484#011validation-auc:0.707987\u001b[0m\n",
      "\u001b[34mINFO:RabitTracker:[85]#011train-auc:0.720719#011validation-auc:0.708122\u001b[0m\n",
      "\u001b[34mINFO:RabitTracker:[86]#011train-auc:0.721048#011validation-auc:0.708297\u001b[0m\n",
      "\u001b[34mINFO:RabitTracker:[87]#011train-auc:0.721412#011validation-auc:0.708476\u001b[0m\n",
      "\u001b[34mINFO:RabitTracker:[88]#011train-auc:0.721599#011validation-auc:0.708603\u001b[0m\n",
      "\u001b[34mINFO:RabitTracker:[89]#011train-auc:0.721902#011validation-auc:0.708773\u001b[0m\n",
      "\u001b[34mINFO:RabitTracker:[90]#011train-auc:0.722208#011validation-auc:0.708917\u001b[0m\n",
      "\u001b[34mINFO:RabitTracker:[91]#011train-auc:0.722409#011validation-auc:0.708975\u001b[0m\n",
      "\u001b[34mINFO:RabitTracker:[92]#011train-auc:0.722616#011validation-auc:0.709013\u001b[0m\n",
      "\u001b[34mINFO:RabitTracker:[93]#011train-auc:0.722852#011validation-auc:0.709087\u001b[0m\n",
      "\u001b[34mINFO:RabitTracker:[94]#011train-auc:0.723199#011validation-auc:0.709289\u001b[0m\n",
      "\u001b[34mINFO:RabitTracker:[95]#011train-auc:0.723464#011validation-auc:0.709392\u001b[0m\n",
      "\u001b[34mINFO:RabitTracker:[96]#011train-auc:0.723572#011validation-auc:0.709484\u001b[0m\n",
      "\u001b[34mINFO:RabitTracker:[97]#011train-auc:0.723822#011validation-auc:0.709616\u001b[0m\n",
      "\u001b[34mINFO:RabitTracker:[98]#011train-auc:0.7241#011validation-auc:0.709795\u001b[0m\n",
      "\n",
      "2024-08-22 13:28:35 Uploading - Uploading generated training model\u001b[34mINFO:RabitTracker:[99]#011train-auc:0.724333#011validation-auc:0.70988\u001b[0m\n",
      "\u001b[34mINFO:RabitTracker:@tracker All nodes finishes job\u001b[0m\n",
      "\u001b[34mINFO:RabitTracker:@tracker 552.2488148212433 secs between node start and job finish\u001b[0m\n",
      "\n",
      "2024-08-22 13:28:48 Completed - Training job completed\n",
      "Training seconds: 1326\n",
      "Billable seconds: 1326\n"
     ]
    }
   ],
   "source": [
    "best_estimator.fit({'train': s3_input_train, 'validation': s3_input_validation})"
   ]
  },
  {
   "cell_type": "code",
   "execution_count": 117,
   "metadata": {
    "tags": []
   },
   "outputs": [
    {
     "name": "stderr",
     "output_type": "stream",
     "text": [
      "INFO:sagemaker:Creating model with name: sagemaker-xgboost-2024-08-22-13-32-06-484\n",
      "INFO:sagemaker:Creating endpoint-config with name sagemaker-xgboost-2024-08-22-13-32-06-484\n",
      "INFO:sagemaker:Creating endpoint with name sagemaker-xgboost-2024-08-22-13-32-06-484\n"
     ]
    },
    {
     "name": "stdout",
     "output_type": "stream",
     "text": [
      "------!"
     ]
    }
   ],
   "source": [
    "xgb_predictor_hpo = best_estimator.deploy(initial_instance_count = 1, \n",
    "                           instance_type = 'ml.m4.xlarge',\n",
    "                          serializer=CSVSerializer())# Enter your code here"
   ]
  },
  {
   "cell_type": "code",
   "execution_count": 118,
   "metadata": {
    "tags": []
   },
   "outputs": [
    {
     "name": "stdout",
     "output_type": "stream",
     "text": [
      "Accuracy: 0.8045659364510666\n",
      "AUC     : 0.710098670973311\n",
      "Precision: 0.6523647691871991\n",
      "Recall: 0.1350353196353724\n",
      "F1_score: 0.22375482648922995\n"
     ]
    },
    {
     "data": {
      "image/png": "[encoded data removed]",
      "text/plain": [
       "<Figure size 500x500 with 2 Axes>"
      ]
     },
     "metadata": {},
     "output_type": "display_data"
    }
   ],
   "source": [
    "predictions = predict(xgb_predictor_hpo, test_data.values[:, 1:] ,  test_data.iloc[:, 0:1].values, prob_threshold = 0.5)"
   ]
  },
  {
   "cell_type": "markdown",
   "metadata": {},
   "source": [
    "**Question**: Try different hyperparameters and hyperparameter ranges. Does this improve the model?"
   ]
  },
  {
   "cell_type": "markdown",
   "metadata": {},
   "source": [
    "### Feature importance\n",
    "\n",
    "The model files for all hyperparameter tuning jobs are saved by the training job name as in the table above in the folder: \"{bucket}/{prefix}/output/\". You can load the model and use it like a regular sklearn model object for interpretation.\n",
    "\n",
    "Replace **`<TrainingJobName>`** with the best training job name from the hyperparameter tuning jobs table."
   ]
  },
  {
   "cell_type": "code",
   "execution_count": 119,
   "metadata": {
    "tags": []
   },
   "outputs": [],
   "source": [
    "best_model_job_name = best_training_job_name"
   ]
  },
  {
   "cell_type": "code",
   "execution_count": 120,
   "metadata": {
    "tags": []
   },
   "outputs": [
    {
     "name": "stdout",
     "output_type": "stream",
     "text": [
      "download: s3://labstack-697a742e-bfe8-41c8-a9e7-860a69f-labbucket-gc239lhp4qws/sagemaker/xgboost/output/sagemaker-xgboost-240822-1215-004-301c6297/output/model.tar.gz to ./model.tar.gz\n"
     ]
    }
   ],
   "source": [
    "# best_hpo_model_path = \"s3://\" + bucket + \"/sagemaker/xgboost/output/<Best model TrainingJobName>/output/model.tar.gz\"\n",
    "best_hpo_model_path = \"s3://\" + bucket + \"/sagemaker/xgboost/output/\" + best_model_job_name + \"/output/model.tar.gz\"\n",
    "### Download best_hpo_model_path to local\n",
    "!aws s3 cp {best_hpo_model_path} ."
   ]
  },
  {
   "cell_type": "markdown",
   "metadata": {},
   "source": [
    "#### Load picked model file"
   ]
  },
  {
   "cell_type": "code",
   "execution_count": 121,
   "metadata": {
    "tags": []
   },
   "outputs": [],
   "source": [
    "import pickle\n",
    "import tarfile\n",
    "import xgboost\n",
    "\n",
    "with open('model.tar.gz', 'rb') as f:\n",
    "    with tarfile.open(fileobj=f, mode='r') as tar_f:\n",
    "        with tar_f.extractfile('xgboost-model') as extracted_f:\n",
    "            xgbooster = pickle.load(extracted_f)"
   ]
  },
  {
   "cell_type": "markdown",
   "metadata": {},
   "source": [
    "#### Map column names to XGBoost model"
   ]
  },
  {
   "cell_type": "code",
   "execution_count": 122,
   "metadata": {
    "tags": []
   },
   "outputs": [],
   "source": [
    "columns = list(data.columns)\n",
    "columns.remove('target')"
   ]
  },
  {
   "cell_type": "code",
   "execution_count": 131,
   "metadata": {
    "tags": []
   },
   "outputs": [
    {
     "data": {
      "text/plain": [
       "{'f3': 466,\n",
       " 'f1': 700,\n",
       " 'f6': 458,\n",
       " 'f7': 884,\n",
       " 'f4': 878,\n",
       " 'f0': 729,\n",
       " 'f9': 116,\n",
       " 'f5': 730,\n",
       " 'f8': 139,\n",
       " 'f2': 707}"
      ]
     },
     "execution_count": 131,
     "metadata": {},
     "output_type": "execute_result"
    }
   ],
   "source": [
    "xgbooster.get_fscore()"
   ]
  },
  {
   "cell_type": "code",
   "execution_count": 133,
   "metadata": {
    "tags": []
   },
   "outputs": [],
   "source": [
    "feature_importance = xgbooster.get_fscore() # this only return 10 columns, if we want all columns\n",
    "feature_importance_col = {}\n",
    "\n",
    "for column, fname in zip(columns, xgbooster.feature_names):\n",
    "    try:\n",
    "         feature_importance_col[column] = feature_importance[fname]\n",
    "    except Exception:\n",
    "        pass"
   ]
  },
  {
   "cell_type": "markdown",
   "metadata": {},
   "source": [
    "#### Sort by feature importance value"
   ]
  },
  {
   "cell_type": "code",
   "execution_count": 134,
   "metadata": {
    "tags": []
   },
   "outputs": [
    {
     "data": {
      "text/plain": [
       "[('TAVG_D', 884),\n",
       " ('TAVG_O', 878),\n",
       " ('AWND_D', 730),\n",
       " ('Distance', 729),\n",
       " ('AWND_O', 707),\n",
       " ('DepHourofDay', 700),\n",
       " ('PRCP_O', 466),\n",
       " ('PRCP_D', 458),\n",
       " ('SNOW_O', 139),\n",
       " ('SNOW_D', 116)]"
      ]
     },
     "execution_count": 134,
     "metadata": {},
     "output_type": "execute_result"
    }
   ],
   "source": [
    "sorted(feature_importance_col.items(), key=lambda kv: kv[1], reverse=True)"
   ]
  },
  {
   "cell_type": "markdown",
   "metadata": {},
   "source": [
    "### Sample output\n",
    "\n",
    "```\n",
    "[('AWND_O', 13851),\n",
    " ('AWND_D', 13452),\n",
    " ('DepHourofDay', 13344),\n",
    " ('TAVG_O', 13106),\n",
    " ('TAVG_D', 12800),\n",
    " ('Distance', 8478),\n",
    " ('PRCP_O', 4210),\n",
    " ('PRCP_D', 3916),\n",
    " ('Reporting_Airline_UA', 1791),\n",
    " ('Year_2016', 1290),\n",
    " ('Year_2015', 1285),\n",
    " ('Year_2018', 1157),\n",
    " ('Quarter_4', 1092),\n",
    " ('Year_2017', 1009),\n",
    " ('DayOfWeek_5', 838),\n",
    " ('DayOfWeek_4', 833),\n",
    " ('Quarter_2', 799),\n",
    " ('DayOfWeek_7', 783),\n",
    " ('Reporting_Airline_WN', 736),\n",
    " ('DayOfWeek_3', 718),\n",
    " ('Origin_ORD', 706),\n",
    " ('DayOfWeek_2', 685),\n",
    " ('Reporting_Airline_DL', 663),\n",
    " ('Dest_LAX', 627),\n",
    " ('DayOfWeek_6', 614),\n",
    " ('Reporting_Airline_OO', 596),\n",
    " ('Origin_LAX', 590),\n",
    " ('Month_11', 565),\n",
    " ('Month_5', 543),\n",
    " ('Dest_ORD', 539),\n",
    " ('SNOW_O', 506),\n",
    " ('Month_8', 497),\n",
    " ('Month_12', 495),\n",
    " ('Month_7', 484),\n",
    " ('Origin_DFW', 480),\n",
    " ('Quarter_3', 477),\n",
    " ('Dest_DFW', 462),\n",
    " ('Origin_DEN', 456),\n",
    " ('Origin_SFO', 438),\n",
    " ('Month_6', 437),\n",
    " ('Dest_SFO', 437),\n",
    " ('Month_10', 422),\n",
    " ('Month_9', 407),\n",
    " ('Month_4', 394),\n",
    " ('Dest_DEN', 379),\n",
    " ('SNOW_D', 375),\n",
    " ('Month_3', 369),\n",
    " ('Dest_IAH', 369),\n",
    " ('Origin_PHX', 347),\n",
    " ('Dest_PHX', 346),\n",
    " ('Origin_IAH', 342),\n",
    " ('DayofMonth_15', 324),\n",
    " ('DayofMonth_17', 322),\n",
    " ('DayofMonth_21', 322),\n",
    " ('Origin_CLT', 322),\n",
    " ('DayofMonth_20', 316),\n",
    " ('DayofMonth_9', 313),\n",
    " ('DayofMonth_19', 307),\n",
    " ('DayofMonth_26', 303),\n",
    " ('DayofMonth_7', 301),\n",
    " ('DayofMonth_4', 300),\n",
    " ('DayofMonth_2', 299),\n",
    " ('DayofMonth_27', 298),\n",
    " ('DayofMonth_3', 294),\n",
    " ('DayofMonth_28', 287),\n",
    " ('Month_2', 284),\n",
    " ('DayofMonth_5', 284),\n",
    " ('DayofMonth_12', 282),\n",
    " ('DayofMonth_11', 276),\n",
    " ('Dest_CLT', 276),\n",
    " ('DayofMonth_6', 275),\n",
    " ('DayofMonth_22', 274),\n",
    " ('DayofMonth_8', 273),\n",
    " ('DayofMonth_18', 273),\n",
    " ('DayofMonth_29', 267),\n",
    " ('DayofMonth_23', 266),\n",
    " ('DayofMonth_14', 263),\n",
    " ('DayofMonth_30', 260),\n",
    " ('DayofMonth_10', 259),\n",
    " ('DayofMonth_16', 257),\n",
    " ('DayofMonth_24', 255),\n",
    " ('DayofMonth_13', 245),\n",
    " ('DayofMonth_25', 237),\n",
    " ('is_holiday_1', 231),\n",
    " ('DayofMonth_31', 164)]\n",
    "```"
   ]
  },
  {
   "cell_type": "markdown",
   "metadata": {},
   "source": [
    "Based on the feature importance above, you can see that DepHourofDay, Airwind, and Temperature at both source and destination are the major influencers in deciding the flight delay.\n",
    "\n",
    "This is one way to validate what is intuitive in terms of features and what the model actually learns."
   ]
  },
  {
   "cell_type": "markdown",
   "metadata": {},
   "source": [
    "## Conclusion\n",
    "\n",
    "You've now gone through at least a couple iterations of training and evaluating your model. It's time to wrap up this project and reflect on what you've learned and what types of steps you might take moving forward (assuming you had more time). Use the cell below to answer some of these and other relevant questions:\n",
    "\n",
    "1. Does your model performance meet your business goal? If not, what are some things you'd like to do differently if you had more time for tuning?\n",
    "2. To what extent did your model improve as you made changes to your dataset, features, and hyperparameters? What types of techniques did you employ throughout this project that you felt yielded the greatest improvements in your model?\n",
    "3. What were some of the biggest challenges you encountered throughout this project?\n",
    "4. Are there outstanding questions you have about aspects of the pipeline that just didn't make sense to you?\n",
    "5. What were the three most important things you learned about machine learning while completing this project?\n",
    "\n",
    "#### <span style=\"color: blue;\">Project presentation: Summarize your answers to these questions in your project presentation as well. Pull together all of your notes for your project presentation at this point and prepare to present your findings to the class.</span>"
   ]
  },
  {
   "cell_type": "code",
   "execution_count": null,
   "metadata": {},
   "outputs": [],
   "source": []
  }
 ],
 "metadata": {
  "kernelspec": {
   "display_name": "conda_python3",
   "language": "python",
   "name": "conda_python3"
  },
  "language_info": {
   "codemirror_mode": {
    "name": "ipython",
    "version": 3
   },
   "file_extension": ".py",
   "mimetype": "text/x-python",
   "name": "python",
   "nbconvert_exporter": "python",
   "pygments_lexer": "ipython3",
   "version": "3.10.14"
  }
 },
 "nbformat": 4,
 "nbformat_minor": 4
}
